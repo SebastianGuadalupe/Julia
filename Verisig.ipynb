{
 "cells": [
  {
   "cell_type": "code",
   "execution_count": 7,
   "metadata": {},
   "outputs": [
    {
     "data": {
      "text/plain": [
       "IntervalArithmetic"
      ]
     },
     "execution_count": 7,
     "metadata": {},
     "output_type": "execute_result"
    }
   ],
   "source": [
    "using Revise, NeuralNetworkAnalysis, NeuralVerification\n",
    "const NV = NeuralVerification\n",
    "const RA = ReachabilityAnalysis\n",
    "const IA = IntervalArithmetic"
   ]
  },
  {
   "cell_type": "code",
   "execution_count": 6,
   "metadata": {},
   "outputs": [
    {
     "data": {
      "text/latex": [
       "\\begin{verbatim}\n",
       "Layer{F, N}\n",
       "\\end{verbatim}\n",
       "Consists of \\texttt{weights} and \\texttt{bias} for linear mapping, and \\texttt{activation} for nonlinear mapping.\n",
       "\n",
       "\\subsubsection{Fields}\n",
       "\\begin{itemize}\n",
       "\\item \\texttt{weights::Matrix\\{N\\}}\n",
       "\n",
       "\n",
       "\\item \\texttt{bias::Vector\\{N\\}}\n",
       "\n",
       "\n",
       "\\item \\texttt{activation::F}\n",
       "\n",
       "\\end{itemize}\n",
       "See also: \\href{@ref}{\\texttt{Network}}\n",
       "\n"
      ],
      "text/markdown": [
       "```\n",
       "Layer{F, N}\n",
       "```\n",
       "\n",
       "Consists of `weights` and `bias` for linear mapping, and `activation` for nonlinear mapping.\n",
       "\n",
       "### Fields\n",
       "\n",
       "  * `weights::Matrix{N}`\n",
       "  * `bias::Vector{N}`\n",
       "  * `activation::F`\n",
       "\n",
       "See also: [`Network`](@ref)\n"
      ],
      "text/plain": [
       "\u001b[36m  Layer{F, N}\u001b[39m\n",
       "\n",
       "  Consists of \u001b[36mweights\u001b[39m and \u001b[36mbias\u001b[39m for linear mapping, and \u001b[36mactivation\u001b[39m for\n",
       "  nonlinear mapping.\n",
       "\n",
       "\u001b[1m  Fields\u001b[22m\n",
       "\u001b[1m  ––––––––\u001b[22m\n",
       "\n",
       "    •    \u001b[36mweights::Matrix{N}\u001b[39m\n",
       "\n",
       "    •    \u001b[36mbias::Vector{N}\u001b[39m\n",
       "\n",
       "    •    \u001b[36mactivation::F\u001b[39m\n",
       "\n",
       "  See also: \u001b[36mNetwork\u001b[39m"
      ]
     },
     "execution_count": 6,
     "metadata": {},
     "output_type": "execute_result"
    }
   ],
   "source": [
    "?NV.Layer"
   ]
  },
  {
   "cell_type": "code",
   "execution_count": 95,
   "metadata": {},
   "outputs": [],
   "source": [
    "NN = Network([NV.Layer([0.3 0.2; 0.1 0.5], [0.1, 0.2], NV.Sigmoid()), NV.Layer(hcat(3, 5.), [0.], NV.Id())]);"
   ]
  },
  {
   "cell_type": "code",
   "execution_count": 106,
   "metadata": {},
   "outputs": [
    {
     "data": {
      "text/plain": [
       "dnn2hybrid (generic function with 4 methods)"
      ]
     },
     "execution_count": 106,
     "metadata": {},
     "output_type": "execute_result"
    }
   ],
   "source": [
    "@taylorize function scalar_quadratic!(du, u, p, t)\n",
    "    xᴶ, xᴾ = u\n",
    "    du[1] = zero(xᴶ)\n",
    "    du[2] = xᴶ *(xᴾ - xᴾ^2)\n",
    "end\n",
    "\n",
    "function dnn2hybrid(nn::Network, xᴾ₁₀ = IA.Interval(2., 3.),\n",
    "                                 xᴾ₂₀ = IA.Interval(1., 2.),\n",
    "                                 u₀ = IA.Interval(0., 0.))\n",
    "    I1 = IA.Interval(1., 1.)\n",
    "    xᴾ = [I1, I1] * 0.5\n",
    "    xᴶ = [xᴾ₁₀, xᴾ₂₀]\n",
    "    h = []\n",
    "    for layer in nn.layers\n",
    "        n = length(layer.bias)\n",
    "        xᴶm = layer.weights * xᴶ + layer.bias\n",
    "        if layer.activation == NV.Sigmoid()\n",
    "            for i=1:n\n",
    "                X0 = xᴾ[i] × xᴶm[i]\n",
    "                ivp = @ivp(x' = scalar_quadratic!(x), dim=2, x(0) ∈ X0)\n",
    "                sol = RA.solve(ivp, tspan=(0., 1.),\n",
    "                             alg=TMJets(abs_tol=1e-14, orderQ=2, orderT=6));\n",
    "                push!(h, sol.F.ext[:xv][end][2])\n",
    "            end\n",
    "        else\n",
    "            push!(h, xᴶm)\n",
    "        end\n",
    "        println(h)\n",
    "        xᴾ = h\n",
    "        h = []\n",
    "    end\n",
    "    return xᴾ\n",
    "end"
   ]
  },
  {
   "cell_type": "code",
   "execution_count": 107,
   "metadata": {},
   "outputs": [
    {
     "name": "stdout",
     "output_type": "stream",
     "text": [
      "Any[[0.938147, 1.22112], [0.938632, 1.26939]]\n",
      "Any[IntervalArithmetic.Interval{Float64}[[11, 19]]]\n"
     ]
    },
    {
     "data": {
      "text/plain": [
       "1-element Array{Any,1}:\n",
       " IntervalArithmetic.Interval{Float64}[[11, 19]]"
      ]
     },
     "execution_count": 107,
     "metadata": {},
     "output_type": "execute_result"
    }
   ],
   "source": [
    "dnn2hybrid(NN)"
   ]
  },
  {
   "cell_type": "code",
   "execution_count": 74,
   "metadata": {},
   "outputs": [],
   "source": [
    "using BenchmarkTools"
   ]
  },
  {
   "cell_type": "code",
   "execution_count": 75,
   "metadata": {},
   "outputs": [
    {
     "name": "stdout",
     "output_type": "stream",
     "text": [
      "  528.968 ms (6632207 allocations: 548.38 MiB)\n"
     ]
    },
    {
     "data": {
      "text/plain": [
       "1-element Array{Any,1}:\n",
       " [1.58778, 1.5886]"
      ]
     },
     "execution_count": 75,
     "metadata": {},
     "output_type": "execute_result"
    }
   ],
   "source": [
    "@btime dnn2hybrid(NN)"
   ]
  },
  {
   "cell_type": "code",
   "execution_count": null,
   "metadata": {},
   "outputs": [],
   "source": []
  }
 ],
 "metadata": {
  "kernelspec": {
   "display_name": "Julia 1.5.0-rc1",
   "language": "julia",
   "name": "julia-1.5"
  },
  "language_info": {
   "file_extension": ".jl",
   "mimetype": "application/julia",
   "name": "julia",
   "version": "1.5.0"
  }
 },
 "nbformat": 4,
 "nbformat_minor": 4
}
