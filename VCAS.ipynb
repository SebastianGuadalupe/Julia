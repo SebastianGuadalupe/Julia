{
 "cells": [
  {
   "cell_type": "code",
   "execution_count": 1,
   "metadata": {},
   "outputs": [],
   "source": [
    "using NeuralNetworkAnalysis, Plots\n",
    "using NeuralNetworkAnalysis: read_nnet_mat"
   ]
  },
  {
   "cell_type": "code",
   "execution_count": 2,
   "metadata": {},
   "outputs": [],
   "source": [
    "controller = []\n",
    "for i=1:9\n",
    "    path = \"/home/sguadalupe/Documents/Julia/VCASnnets/\"\n",
    "    file = \"VertCAS_noResp_pra0\" * string(i) * \"_v9_20HU_200.mat\"\n",
    "    push!(controller, read_nnet_mat(path * file, act_key=\"act_fcns\"))\n",
    "end"
   ]
  },
  {
   "cell_type": "code",
   "execution_count": 204,
   "metadata": {},
   "outputs": [
    {
     "data": {
      "text/plain": [
       "VCAS! (generic function with 1 method)"
      ]
     },
     "execution_count": 204,
     "metadata": {},
     "output_type": "execute_result"
    }
   ],
   "source": [
    "g = 32.2\n",
    "#=\n",
    "a = [[-g/8, 0, g/8],\n",
    "      [-g/3, -7g/24, g/4],\n",
    "      [g/4, 7g/24, g/3],\n",
    "      [-g/3, -7g/24, -g/4],\n",
    "      [g/4, 7g/24, g/3],\n",
    "      [-g/3],\n",
    "      [g/3],\n",
    "      [-g/3],\n",
    "      [g/3]]\n",
    "=#\n",
    "a = [0,\n",
    "     -7g/24,\n",
    "     7g/24,\n",
    "     -7g/24,\n",
    "     7g/24,\n",
    "     -g/3,\n",
    "     g/3,\n",
    "     -g/3,\n",
    "     g/3]\n",
    "\n",
    "A = [1  -1;\n",
    "     0  1.;]\n",
    "h0 = Interval(-133, -129)\n",
    "hdot0 = [-19.5,-22.5,-25.5, -28.5]\n",
    "\n",
    "function forward_adv(X::Vector, adv::Int)\n",
    "    u = forward(controller[adv], X)\n",
    "    return argmax(u)\n",
    "end\n",
    "\n",
    "function new_hddot(X, adv)\n",
    "    hdot = X[2]*60\n",
    "    \n",
    "    dict = Dict()\n",
    "    \n",
    "    dict[1] = x -> false # COC\n",
    "    \n",
    "    dict[2] = x -> x <= 0 # DNC\n",
    "    \n",
    "    dict[3] = x -> x >= 0 # DND\n",
    "    \n",
    "    dict[4] = x -> x <= -1500 # DES1500\n",
    "    \n",
    "    dict[5] = x -> x >= 1500 # CL1500\n",
    "    \n",
    "    dict[6] = x -> x <= -1500 # SDES1500\n",
    "    \n",
    "    dict[7] = x -> x >= 1500 # SCL1500\n",
    "    \n",
    "    dict[8] = x -> x >= -2500 # SDES2500\n",
    "    \n",
    "    dict[9] = x -> x >= 2500 # SCL2500\n",
    "    \n",
    "    comply = dict[adv](hdot)\n",
    "    comply ? 0.0 : a[adv]\n",
    "end\n",
    "\n",
    "function VCAS!(X0::Vector{Float64}, adv, t0, k)\n",
    "    X = X0\n",
    "    sol = Vector{Vector{Float64}}(undef, k[end])\n",
    "    hddot = a[adv]\n",
    "    for i=k\n",
    "        #println(hddot)\n",
    "        b = [-0.5hddot, hddot]\n",
    "        X = A * X + b\n",
    "        sol[i] = [X[1], X[2], adv]\n",
    "        adv′ = forward_adv(sol[i], adv)\n",
    "        adv = adv′\n",
    "        hddot = new_hddot(sol[i], adv)\n",
    "    end\n",
    "    return sol\n",
    "end"
   ]
  },
  {
   "cell_type": "code",
   "execution_count": 205,
   "metadata": {},
   "outputs": [
    {
     "data": {
      "text/plain": [
       "10-element Array{Array{Float64,1},1}:\n",
       " [-108.0154146002993, -22.5, 1.0]\n",
       " [-85.5154146002993, -22.5, 1.0]\n",
       " [-63.015414600299295, -22.5, 1.0]\n",
       " [-40.515414600299295, -22.5, 1.0]\n",
       " [-18.015414600299295, -22.5, 1.0]\n",
       " [-0.21124793363262828, -13.108333333333333, 5.0]\n",
       " [12.897085399700703, -13.108333333333333, 1.0]\n",
       " [26.005418733034034, -13.108333333333333, 1.0]\n",
       " [39.11375206636737, -13.108333333333333, 1.0]\n",
       " [52.2220853997007, -13.108333333333333, 1.0]"
      ]
     },
     "execution_count": 205,
     "metadata": {},
     "output_type": "execute_result"
    }
   ],
   "source": [
    "X0 = [sample(h0)[1], hdot0[rand(1:end)]]\n",
    "adv = 1\n",
    "k = 1:10\n",
    "t0 = 25\n",
    "\n",
    "sol = VCAS!(X0, adv, t0, k)"
   ]
  },
  {
   "cell_type": "code",
   "execution_count": null,
   "metadata": {},
   "outputs": [],
   "source": []
  }
 ],
 "metadata": {
  "kernelspec": {
   "display_name": "Julia 1.5.0-rc1",
   "language": "julia",
   "name": "julia-1.5"
  },
  "language_info": {
   "file_extension": ".jl",
   "mimetype": "application/julia",
   "name": "julia",
   "version": "1.5.0"
  }
 },
 "nbformat": 4,
 "nbformat_minor": 4
}
