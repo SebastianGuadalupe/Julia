{
 "cells": [
  {
   "cell_type": "code",
   "execution_count": 2,
   "metadata": {},
   "outputs": [
    {
     "data": {
      "text/plain": [
       "_overapproximate (generic function with 1 method)"
      ]
     },
     "execution_count": 2,
     "metadata": {},
     "output_type": "execute_result"
    }
   ],
   "source": [
    "using LazySets, BenchmarkTools\n",
    "using LazySets: set\n",
    "function _overapproximate(P::Poly, ::Type{<:Zonotope}) where {Poly<:AbstractPolytope}\n",
    "    n = dim(P)\n",
    "    j = 1\n",
    "    p = Vector{Poly}(undef, Int(floor(n/2)))\n",
    "    for i=1:2:n-1\n",
    "        p[j] = set(Projection(P, [i, i+1]))\n",
    "        j += 1\n",
    "    end\n",
    "    dirs = OctDirections(n)\n",
    "    if !iseven(n)\n",
    "        push!(p, set(Projection(P, [n])))\n",
    "    end\n",
    "    Z = [overapproximate(poly, Zonotope, dirs) for poly in p]\n",
    "    Z = reduce(×, Z)\n",
    "    return Z\n",
    "end"
   ]
  },
  {
   "cell_type": "code",
   "execution_count": 3,
   "metadata": {
    "scrolled": true
   },
   "outputs": [],
   "source": [
    "P = rand(VPolytope, dim=10);"
   ]
  },
  {
   "cell_type": "code",
   "execution_count": 4,
   "metadata": {},
   "outputs": [
    {
     "name": "stdout",
     "output_type": "stream",
     "text": [
      "  6.035627 seconds (12.22 M allocations: 585.952 MiB, 3.82% gc time)\n"
     ]
    }
   ],
   "source": [
    "@time _overapproximate(P, Zonotope);"
   ]
  },
  {
   "cell_type": "code",
   "execution_count": 5,
   "metadata": {},
   "outputs": [
    {
     "name": "stdout",
     "output_type": "stream",
     "text": [
      "  0.506309 seconds (115.47 k allocations: 4.027 MiB)\n"
     ]
    }
   ],
   "source": [
    "@time overapproximate(P, Zonotope, OctDirections(10));"
   ]
  },
  {
   "cell_type": "code",
   "execution_count": 12,
   "metadata": {},
   "outputs": [],
   "source": [
    "P = rand(Hyperrectangle, dim=10)\n",
    "P = convert(HPolytope, P);"
   ]
  },
  {
   "cell_type": "code",
   "execution_count": 13,
   "metadata": {},
   "outputs": [
    {
     "name": "stdout",
     "output_type": "stream",
     "text": [
      "glp_simplex: unable to recover undefined or non-optimal solution\n",
      "glp_simplex: unable to recover undefined or non-optimal solution\n"
     ]
    },
    {
     "ename": "InterruptException",
     "evalue": "InterruptException:",
     "output_type": "error",
     "traceback": [
      "InterruptException:",
      "",
      "Stacktrace:",
      " [1] status(::GLPKMathProgInterface.GLPKInterfaceLP.GLPKMathProgModelLP) at /home/sguadalupe/.julia/packages/GLPKMathProgInterface/1MitL/src/GLPKInterfaceLP.jl:148",
      " [2] solvelp(::GLPKMathProgInterface.GLPKInterfaceLP.GLPKMathProgModelLP) at /home/sguadalupe/.julia/packages/MathProgBase/rr4Xh/src/HighLevelInterface/linprog.jl:78",
      " [3] linprog(::Array{Float64,1}, ::SparseArrays.SparseMatrixCSC{Float64,Int64}, ::Array{Char,1}, ::Array{Float64,1}, ::Array{Float64,1}, ::Float64, ::GLPKMathProgInterface.GLPKInterfaceLP.GLPKSolverLP) at /home/sguadalupe/.julia/packages/MathProgBase/rr4Xh/src/HighLevelInterface/linprog.jl:107",
      " [4] overapproximate(::HPolytope{Float64,LazySets.Arrays.SingleEntryVector{Float64}}, ::Type{Zonotope}, ::OctDirections{Float64,SparseArrays.SparseVector{Float64,Int64}}; solver::GLPKMathProgInterface.GLPKInterfaceLP.GLPKSolverLP) at /home/sguadalupe/.julia/dev/LazySets/src/Approximations/overapproximate.jl:1625",
      " [5] overapproximate at /home/sguadalupe/.julia/dev/LazySets/src/Approximations/overapproximate.jl:1574 [inlined]",
      " [6] #3 at ./none:0 [inlined]",
      " [7] iterate at ./generator.jl:47 [inlined]",
      " [8] collect(::Base.Generator{Array{HPolytope{Float64,LazySets.Arrays.SingleEntryVector{Float64}},1},var\"#3#4\"{OctDirections{Float64,SparseArrays.SparseVector{Float64,Int64}}}}) at ./array.jl:665",
      " [9] _overapproximate(::HPolytope{Float64,LazySets.Arrays.SingleEntryVector{Float64}}, ::Type{Zonotope}) at ./In[2]:15",
      " [10] macro expansion at ./util.jl:175 [inlined]",
      " [11] top-level scope at ./In[13]:1"
     ]
    }
   ],
   "source": [
    "@time _overapproximate(P, Zonotope);"
   ]
  },
  {
   "cell_type": "code",
   "execution_count": null,
   "metadata": {},
   "outputs": [],
   "source": [
    "@time overapproximate(P, Zonotope, OctDirections(10));"
   ]
  },
  {
   "cell_type": "code",
   "execution_count": null,
   "metadata": {},
   "outputs": [],
   "source": []
  }
 ],
 "metadata": {
  "kernelspec": {
   "display_name": "Julia 1.4.0",
   "language": "julia",
   "name": "julia-1.4"
  },
  "language_info": {
   "file_extension": ".jl",
   "mimetype": "application/julia",
   "name": "julia",
   "version": "1.4.0"
  }
 },
 "nbformat": 4,
 "nbformat_minor": 4
}
