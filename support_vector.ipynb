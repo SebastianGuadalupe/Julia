{
 "cells": [
  {
   "cell_type": "code",
   "execution_count": 101,
   "metadata": {},
   "outputs": [
    {
     "data": {
      "text/plain": [
       "σ (generic function with 1 method)"
      ]
     },
     "execution_count": 101,
     "metadata": {},
     "output_type": "execute_result"
    }
   ],
   "source": [
    "function σ(d::AbstractVector{N}, P::VPolygon{N}) where {N <: Real}\n",
    "    function up(u, v)\n",
    "        return (dot(u, v) > 0)\n",
    "    end\n",
    "    function down(u, v)\n",
    "        return (dot(u, v) < 0)\n",
    "    end\n",
    "    function dr(u, Vi, Vj)\n",
    "        return (dot(u, (Vi) - (Vj))) # direction sign of (Vi-Vj)\n",
    "    end\n",
    "    function above(u, Vi, Vj)\n",
    "        return (dr(u, Vi, Vj) > 0)   # true if Vi is above Vj\n",
    "    end\n",
    "    function below(u, Vi, Vj)\n",
    "        return (dr(u, Vi, Vj) < 0)   # true if Vi is below Vj\n",
    "    end\n",
    "    \n",
    "    n = length(P.vertices)\n",
    "    a = 1; b = n # start chain = [0,n] with P.vertices[n]=P.vertices[0]\n",
    "    A = P.vertices[2] - P.vertices[1]\n",
    "    upA = up(d, A)\n",
    "    # test if P.vertices[0] is a local maximum\n",
    "    if (!upA && !above(d, P.vertices[n - 1], P.vertices[1]))    #  P.vertices[0] is the maximum\n",
    "        return P.vertices[1]\n",
    "    end\n",
    "    while true\n",
    "        c = round(Int, (a + b) / 2)        # midpoint of [a,b], and 0<c<n\n",
    "        C = P.vertices[c + 1] - P.vertices[c]\n",
    "        upC = up(d, C)\n",
    "        if (!upC && !above(d, P.vertices[c - 1], P.vertices[c])) # P.vertices[c] is a local maximum\n",
    "            return P.vertices[c]                        # thus it is the maximum\n",
    "        end\n",
    "        # no max yet, so continue with the  binary search\n",
    "        # pick one of the two subchains [a,c]  or [c,b]\n",
    "        if upA                        # A points up\n",
    "            if !upC                      # C points down\n",
    "                b = c                       # select [a,c]\n",
    "            else                            # C points up\n",
    "                if above(d, P.vertices[a], P.vertices[c])     # P.vertices[a] above P.vertices[c]\n",
    "                    b = c                       # select [a,c]\n",
    "                else                          # P.vertices[a] below P.vertices[c]\n",
    "                    a = c                       # select [c,b]\n",
    "                    A = C\n",
    "                    upA = upC\n",
    "                end\n",
    "            end\n",
    "        else                            # A points down\n",
    "            if upC                     # C points up\n",
    "                a = c                       # select [c,b]\n",
    "                A = C\n",
    "                upA = upC\n",
    "            else                            # C points down\n",
    "                if below(d, P.vertices[a], P.vertices[c])   # P.vertices[a] below P.vertices[c]\n",
    "                    b = c                       # select [a,c]\n",
    "                else                          # P.vertices[a] above P.vertices[c]\n",
    "                    a = c                       # select [c,b]\n",
    "                    A = C\n",
    "                    upA = upC\n",
    "                end\n",
    "            end\n",
    "        end\n",
    "        # have a new (reduced) chain [a,b]\n",
    "        if (b <= a+1)           # the chain is impossibly small\n",
    "            throw(ErrorException(\"something went wrong\"))        # return an error: something's wrong\n",
    "        end\n",
    "    end\n",
    "end"
   ]
  },
  {
   "cell_type": "code",
   "execution_count": 89,
   "metadata": {},
   "outputs": [
    {
     "data": {
      "text/plain": [
       "2-element Array{Float64,1}:\n",
       " 1.2226342038978828\n",
       " 2.8767815672462196"
      ]
     },
     "execution_count": 89,
     "metadata": {},
     "output_type": "execute_result"
    }
   ],
   "source": [
    "using Plots\n",
    "d = [1.0, 1.0]\n",
    "#P = VPolygon([[1/2,1/2], [1/2, 1/3], [1/3, 1/2], [0.0, 0.0], [1/4, 1/10], [1/10, 1/3]])\n",
    "P = rand(VPolygon)\n",
    "LazySets.σ(d, P)"
   ]
  },
  {
   "cell_type": "code",
   "execution_count": 102,
   "metadata": {},
   "outputs": [
    {
     "ename": "ErrorException",
     "evalue": "something went wrong",
     "output_type": "error",
     "traceback": [
      "something went wrong",
      "",
      "Stacktrace:",
      " [1] σ(::Array{Float64,1}, ::VPolygon{Float64}) at ./In[101]:64",
      " [2] top-level scope at In[102]:1"
     ]
    }
   ],
   "source": [
    "σ(d, P)"
   ]
  }
 ],
 "metadata": {
  "kernelspec": {
   "display_name": "Julia 1.1.0",
   "language": "julia",
   "name": "julia-1.1"
  },
  "language_info": {
   "file_extension": ".jl",
   "mimetype": "application/julia",
   "name": "julia",
   "version": "1.1.0"
  }
 },
 "nbformat": 4,
 "nbformat_minor": 2
}
