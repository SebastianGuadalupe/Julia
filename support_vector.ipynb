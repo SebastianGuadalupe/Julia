{
 "cells": [
  {
   "cell_type": "code",
   "execution_count": 176,
   "metadata": {},
   "outputs": [
    {
     "data": {
      "text/plain": [
       "σ (generic function with 1 method)"
      ]
     },
     "execution_count": 176,
     "metadata": {},
     "output_type": "execute_result"
    }
   ],
   "source": [
    "using LazySets\n",
    "using LazySets: dot\n",
    "function σ(d::AbstractVector{N}, P::VPolygon{N}) where {N <: Real}\n",
    "    function up(u, v)\n",
    "        return (dot(u, v) > 0)\n",
    "    end\n",
    "    function down(u, v)\n",
    "        return (dot(u, v) < 0)\n",
    "    end\n",
    "    function dr(u, Vi, Vj)\n",
    "        return (dot(u, (Vi) - (Vj))) # direction sign of (Vi-Vj)\n",
    "    end\n",
    "    function above(u, Vi, Vj)\n",
    "        return (dr(u, Vi, Vj) > 0) # true if Vi is above Vj\n",
    "    end\n",
    "    function below(u, Vi, Vj)\n",
    "        return (dr(u, Vi, Vj) < 0) # true if Vi is below Vj\n",
    "    end\n",
    "    \n",
    "    push!(P.vertices, P.vertices[1]) #add extra vertice on the end equal to the first\n",
    "    \n",
    "    n = length(P.vertices)\n",
    "    a = 1; b = n # start chain = [1,n] with P.vertices[n]=P.vertices[0]\n",
    "    A = P.vertices[2] - P.vertices[1]\n",
    "    upA = up(d, A)\n",
    "    # test if P.vertices[0] is a local maximum\n",
    "    if (!upA && !above(d, P.vertices[n - 1], P.vertices[1])) # P.vertices[0] is the maximum\n",
    "        return P.vertices[1]\n",
    "    end\n",
    "    while true\n",
    "        c = round(Int, (a + b) / 2) # midpoint of [a,b], and 0<c<n\n",
    "        C = P.vertices[c + 1] - P.vertices[c]\n",
    "        upC = up(d, C)\n",
    "        if (!upC && !above(d, P.vertices[c - 1], P.vertices[c])) # P.vertices[c] is a local maximum\n",
    "            pop!(P.vertices) # remove the extra point added\n",
    "            return P.vertices[c] # thus it is the maximum\n",
    "        end\n",
    "        # no max yet, so continue with the  binary search\n",
    "        # pick one of the two subchains [a,c]  or [c,b]\n",
    "        if upA # A points up\n",
    "            if !upC # C points down\n",
    "                b = c\n",
    "            else # C points up\n",
    "                if above(d, P.vertices[a], P.vertices[c]) # P.vertices[a] above P.vertices[c]\n",
    "                    b = c\n",
    "                else # P.vertices[a] below P.vertices[c]\n",
    "                    a = c\n",
    "                    A = C\n",
    "                    upA = upC\n",
    "                end\n",
    "            end\n",
    "            else # A points down\n",
    "            if upC # C points up\n",
    "                a = c\n",
    "                A = C\n",
    "                upA = upC\n",
    "            else # C points down\n",
    "                if below(d, P.vertices[a], P.vertices[c]) # P.vertices[a] below P.vertices[c]\n",
    "                    b = c\n",
    "                else # P.vertices[a] above P.vertices[c]\n",
    "                    a = c\n",
    "                    A = C\n",
    "                    upA = upC\n",
    "                end\n",
    "            end\n",
    "        end\n",
    "        if (b <= a+1) # the chain is impossibly small\n",
    "            pop!(P.vertices) # remove the extra point added\n",
    "            throw(ErrorException(\"something went wrong\")) # return an error\n",
    "        end\n",
    "    end\n",
    "end"
   ]
  },
  {
   "cell_type": "code",
   "execution_count": 181,
   "metadata": {},
   "outputs": [
    {
     "name": "stdout",
     "output_type": "stream",
     "text": [
      "  761.368 μs (9999 allocations: 937.41 KiB)\n"
     ]
    },
    {
     "data": {
      "text/plain": [
       "2-element Array{Float64,1}:\n",
       " 3.67620537160116  \n",
       " 6.1676861479660845"
      ]
     },
     "execution_count": 181,
     "metadata": {},
     "output_type": "execute_result"
    }
   ],
   "source": [
    "using BenchmarkTools\n",
    "d = [1.0, 1.0]\n",
    "P = rand(VPolygon, num_vertices=10000)\n",
    "@btime LazySets.σ($d, P)"
   ]
  },
  {
   "cell_type": "code",
   "execution_count": 182,
   "metadata": {},
   "outputs": [
    {
     "name": "stdout",
     "output_type": "stream",
     "text": [
      "  2.230 μs (27 allocations: 2.53 KiB)\n"
     ]
    },
    {
     "data": {
      "text/plain": [
       "2-element Array{Float64,1}:\n",
       " 3.67620537160116  \n",
       " 6.1676861479660845"
      ]
     },
     "execution_count": 182,
     "metadata": {},
     "output_type": "execute_result"
    }
   ],
   "source": [
    "@btime σ($d, $P)"
   ]
  }
 ],
 "metadata": {
  "kernelspec": {
   "display_name": "Julia 1.1.0",
   "language": "julia",
   "name": "julia-1.1"
  },
  "language_info": {
   "file_extension": ".jl",
   "mimetype": "application/julia",
   "name": "julia",
   "version": "1.1.0"
  }
 },
 "nbformat": 4,
 "nbformat_minor": 2
}
