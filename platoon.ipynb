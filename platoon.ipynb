{
 "cells": [
  {
   "cell_type": "markdown",
   "metadata": {},
   "source": [
    "# Platooning\n",
    "\n",
    "\n",
    "## Model description\n",
    "\n",
    "The platooning benchmark considers a platoon of three vehicles following each\n",
    "other. This benchmark considers loss of communication between vehicles. The\n",
    "initial discrete state is ``q_c``. Three scenarios are considered for the loss\n",
    "of communication:\n",
    "\n",
    "\n",
    "**PLAA01 (arbitrary loss)** The loss of communication can occur at any time. This\n",
    "      includes the possibility of no communication at all.\n",
    "\n",
    "**PLADxy (loss at deterministic times)** The loss of communication occurs at fixed\n",
    "      points in time, which are determined by clock constraints $c_1$ and $c_2$.\n",
    "      The clock t is reset when communication is lost and when it is re-established.\n",
    "      Note that the transitions have must-semantics, i.e., they take place as soon\n",
    "      as possible. We will consider $PLAD01: c_1 = c_2 = 5$.\n",
    "\n",
    "**PLANxy (loss at nondeterministic times)** The loss of communication occurs at\n",
    "      any time $t ∈ [t_b, t_c]$. The clock t is reset when communication is lost\n",
    "      and when it is reestablished. Communication is reestablished at any time\n",
    "      $t ∈ [0, t_r]$. This scenario covers loss of communication after an\n",
    "      arbitrarily long time $t ≥ t_c$ by reestablishing communication in zero time.\n",
    "      We will consider $PLAN01: t_b = 10, t_c = 20, t_r = 20$."
   ]
  },
  {
   "cell_type": "markdown",
   "metadata": {},
   "source": [
    "The Julia model is developed next. It's convenient to create two independent\n",
    "functions, `platoon_connected` and `platoon_disconnected`, which describe the\n",
    "dynamics of the connected (resp. disconnected) modes. These functions are\n",
    "connected in the `platoon` function using a hybrid automaton with two modes\n",
    "and two discrete transition, see figure below."
   ]
  },
  {
   "cell_type": "markdown",
   "metadata": {},
   "source": [
    "### Dynamics of the \"connected\" platoon"
   ]
  },
  {
   "cell_type": "code",
   "execution_count": 1,
   "metadata": {},
   "outputs": [
    {
     "name": "stderr",
     "output_type": "stream",
     "text": [
      "┌ Warning: Replacing docs for `LazySets.HPolyhedron :: Union{Tuple{Array{var\"#s49\",1} where var\"#s49\"<:Operation}, Tuple{Array{var\"#s48\",1} where var\"#s48\"<:Operation,Any}}` in module `LazySets`\n",
      "└ @ Base.Docs docs/Docs.jl:227\n",
      "┌ Warning: Replacing docs for `LazySets.HPolytope :: Union{Tuple{Array{var\"#s49\",1} where var\"#s49\"<:Operation}, Tuple{Array{var\"#s48\",1} where var\"#s48\"<:Operation,Any}}` in module `LazySets`\n",
      "└ @ Base.Docs docs/Docs.jl:227\n"
     ]
    },
    {
     "data": {
      "text/plain": [
       "platoon_connected (generic function with 1 method)"
      ]
     },
     "execution_count": 1,
     "metadata": {},
     "output_type": "execute_result"
    }
   ],
   "source": [
    "using Revise, ReachabilityAnalysis, SparseArrays, ModelingToolkit\n",
    "\n",
    "const var = @variables x₁, x₂, x₃, x₄, x₅, x₆, x₇, x₈, x₉, t\n",
    "\n",
    "function platoon_connected(; deterministic_switching::Bool=true,\n",
    "                             c1=5.0)  # clock constraints\n",
    "    n = 9 + 1\n",
    "\n",
    "    # x' = Ax + Bu + c\n",
    "    A = Matrix{Float64}(undef, n, n)\n",
    "    A[1, :] = [0, 1.0, 0, 0, 0, 0, 0, 0, 0, 0]\n",
    "    A[2, :] = [0, 0, -1.0, 0, 0, 0, 0, 0, 0, 0]\n",
    "    A[3, :] = [1.6050, 4.8680, -3.5754, -0.8198, 0.4270, -0.0450, -0.1942,  0.3626, -0.0946, 0.]\n",
    "    A[4, :] = [0, 0, 0, 0, 1.0, 0, 0, 0, 0, 0,]\n",
    "    A[5, :] = [0, 0, 1.0, 0, 0, -1.0, 0, 0, 0, 0]\n",
    "    A[6, :] = [0.8718, 3.8140, -0.0754,  1.1936, 3.6258, -3.2396, -0.5950,  0.1294, -0.0796, 0.]\n",
    "    A[7, :] = [0, 0, 0, 0, 0, 0, 0, 1.0, 0, 0]\n",
    "    A[8, :] = [0, 0, 0, 0, 0, 1.0, 0, 0, -1.0, 0]\n",
    "    A[9, :] = [0.7132, 3.5730, -0.0964,  0.8472, 3.2568, -0.0876,  1.2726,  3.0720, -3.1356, 0.]\n",
    "    A[10, :] = [0, 0, 0, 0, 0, 0, 0, 0, 0, 0.0]; # t' = 1\n",
    "\n",
    "    if deterministic_switching\n",
    "        invariant = HalfSpace(t <= c1, var)\n",
    "    else\n",
    "        invariant = Universe(n)\n",
    "    end\n",
    "\n",
    "    # acceleration of the lead vehicle + time\n",
    "    B = sparse([2], [1], [1.0], n, 1)\n",
    "    U = Hyperrectangle(low=[-9.], high=[1.])\n",
    "    c = [0, 0, 0, 0, 0, 0, 0, 0, 0, 1.0]\n",
    "    @system(x' = Ax + Bu + c, x ∈ invariant, u ∈ U)\n",
    "end"
   ]
  },
  {
   "cell_type": "markdown",
   "metadata": {},
   "source": [
    "### Dynamics of the \"disconnected\" platoon"
   ]
  },
  {
   "cell_type": "code",
   "execution_count": 2,
   "metadata": {},
   "outputs": [
    {
     "data": {
      "text/plain": [
       "platoon_disconnected (generic function with 1 method)"
      ]
     },
     "execution_count": 2,
     "metadata": {},
     "output_type": "execute_result"
    }
   ],
   "source": [
    "function platoon_disconnected(; deterministic_switching::Bool=true,\n",
    "                                c2=5.0)  # clock constraints\n",
    "    n = 10 # 9 dimensions + time\n",
    "\n",
    "    # x' = Ax + Bu + c\n",
    "    A = Matrix{Float64}(undef, n, n)\n",
    "    A[1, :] = [0, 1.0, 0, 0, 0, 0, 0, 0, 0, 0]\n",
    "    A[2, :] = [0, 0, -1.0, 0, 0, 0, 0, 0, 0, 0]\n",
    "    A[3, :] = [1.6050, 4.8680, -3.5754, 0, 0, 0, 0, 0, 0, 0]\n",
    "    A[4, :] = [0, 0, 0, 0, 1.0, 0, 0, 0, 0, 0,]\n",
    "    A[5, :] = [0, 0, 1.0, 0, 0, -1.0, 0, 0, 0, 0]\n",
    "    A[6, :] = [0, 0, 0,  1.1936, 3.6258, -3.2396, 0, 0, 0, 0.]\n",
    "    A[7, :] = [0, 0, 0, 0, 0, 0, 0, 1.0, 0, 0]\n",
    "    A[8, :] = [0, 0, 0, 0, 0, 1.0, 0, 0, -1.0, 0]\n",
    "    A[9, :] = [0.7132, 3.5730, -0.0964,  0.8472, 3.2568, -0.0876,  1.2726,  3.0720, -3.1356, 0.]\n",
    "    A[10, :] = [0, 0, 0, 0, 0, 0, 0, 0, 0, 0.0]; # t' = 1\n",
    "\n",
    "    if deterministic_switching\n",
    "        invariant = HalfSpace(t <= c2, var)\n",
    "    else\n",
    "        invariant = Universe(n)\n",
    "    end\n",
    "\n",
    "    #acceleration of the lead vehicle + time\n",
    "    B = sparse([2], [1], [1.0], n, 1)\n",
    "    U = Hyperrectangle(low=[-9.], high=[1.])\n",
    "    c = [0, 0, 0, 0, 0, 0, 0, 0, 0, 1.0]\n",
    "    @system(x' = Ax + Bu + c, x ∈ invariant, u ∈ U)\n",
    "end"
   ]
  },
  {
   "cell_type": "markdown",
   "metadata": {},
   "source": [
    "### Hybrid system"
   ]
  },
  {
   "cell_type": "code",
   "execution_count": 3,
   "metadata": {},
   "outputs": [
    {
     "data": {
      "text/plain": [
       "platoon (generic function with 1 method)"
      ]
     },
     "execution_count": 3,
     "metadata": {},
     "output_type": "execute_result"
    }
   ],
   "source": [
    "function platoon(; deterministic_switching::Bool=true,\n",
    "                   c1=5.0,  # clock constraints\n",
    "                   c2=5.0,  # clock constraints\n",
    "                   tb=10.0,  # lower bound for loss of communication\n",
    "                   tc=20.0, tr=20.0) # upper bound for loss of communication (tc) and reset time (tr)\n",
    "\n",
    "    #three variables for each vehicle, (ei, d(et)/dt, ai) for\n",
    "    #(spacing error, relative velocity, speed), and the last dimension is time\n",
    "    n = 9 + 1\n",
    "\n",
    "    #transition graph\n",
    "    automaton = LightAutomaton(2)\n",
    "    add_transition!(automaton, 1, 2, 1)\n",
    "    add_transition!(automaton, 2, 1, 2)\n",
    "\n",
    "    #modes\n",
    "    mode1 = platoon_connected(deterministic_switching=deterministic_switching, c1=c1)\n",
    "    mode2 = platoon_disconnected(deterministic_switching=deterministic_switching, c2=c2)\n",
    "    modes = [mode1, mode2]\n",
    "\n",
    "    #common reset\n",
    "    reset = Dict(n => 0.)\n",
    "\n",
    "    #transition l1 -> l2\n",
    "    if deterministic_switching\n",
    "        guard = Hyperplane(t == c1, var)\n",
    "    else\n",
    "        guard = HPolyhedron([tb <= t, t <= tc], var)\n",
    "    end\n",
    "    t1 = ConstrainedResetMap(n, guard, reset)\n",
    "\n",
    "    #transition l2 -> l1\n",
    "    if deterministic_switching\n",
    "        guard = Hyperplane(t == c2, var)\n",
    "    else\n",
    "        guard = HalfSpace(t <= tr, var)\n",
    "    end\n",
    "    t2 = ConstrainedResetMap(n, guard, reset)\n",
    "    resetmaps = [t1, t2]\n",
    "\n",
    "    H = HybridSystem(automaton, modes, resetmaps, [AutonomousSwitching()])\n",
    "\n",
    "    #initial condition is at the orgin in mode 1\n",
    "    X0 = BallInf(zeros(n), 0.0)\n",
    "    initial_condition = [(1, X0)]\n",
    "\n",
    "    return IVP(H, initial_condition)\n",
    "end"
   ]
  },
  {
   "cell_type": "markdown",
   "metadata": {},
   "source": [
    "## Safety specifications\n",
    "\n",
    "The verification goal is to check whether the minimum distance between\n",
    "vehicles is preserved. The choice of the coordinate system is such that the\n",
    "minimum distance is a negative value.\n",
    "\n",
    "BNDxy Bounded time (no explicit bound on the number of transitions):\n",
    "   For all ``t ∈ [0, 20] [s]``,\n",
    "   ``x_1(t) ≥ −d_{min} [m], x_4(t) ≥ −d_{min} [m], x_7(t) ≥ −d_{min} [m]``,\n",
    "   where ``d_min = xy [m]``.\n",
    "\n",
    "BND50: ``d_{min} = 50``.\n",
    "\n",
    "BND42: ``d_{min} = 42``.\n",
    "\n",
    "BND30: ``d_{min} = 30``.\n",
    "\n",
    "UNBxy Unbounded time and unbounded switching: For all ``t ≥ 0 [s], x_1(t) ≥ −d_{min} [m]``,\n",
    "``x_4(t) ≥ −d_{min} [m], x_7(t)``"
   ]
  },
  {
   "cell_type": "code",
   "execution_count": 4,
   "metadata": {},
   "outputs": [
    {
     "data": {
      "text/plain": [
       "dmin_specification (generic function with 1 method)"
      ]
     },
     "execution_count": 4,
     "metadata": {},
     "output_type": "execute_result"
    }
   ],
   "source": [
    "function dmin_specification(sol, dmin)\n",
    "    return (-ρ(sparsevec([1], [-1.0], 10), sol) > dmin) &&\n",
    "           (-ρ(sparsevec([4], [-1.0], 10), sol) > dmin) &&\n",
    "           (-ρ(sparsevec([7], [-1.0], 10), sol) > dmin)\n",
    "end"
   ]
  },
  {
   "cell_type": "markdown",
   "metadata": {},
   "source": [
    "## Results"
   ]
  },
  {
   "cell_type": "markdown",
   "metadata": {},
   "source": [
    "We will only consider the case of deterministic switching."
   ]
  },
  {
   "cell_type": "markdown",
   "metadata": {},
   "source": [
    "We use `LGG09` algorithm with ``δ=0.03`` and octagonal template directions."
   ]
  },
  {
   "cell_type": "code",
   "execution_count": 9,
   "metadata": {},
   "outputs": [],
   "source": [
    "octdirs = OctDirections(10);\n",
    "prob_PLAD01_BND30 = platoon(; deterministic_switching=true);"
   ]
  },
  {
   "cell_type": "markdown",
   "metadata": {},
   "source": [
    " ### PLAD01-BND30 (dense time)"
   ]
  },
  {
   "cell_type": "code",
   "execution_count": 36,
   "metadata": {
    "scrolled": true
   },
   "outputs": [
    {
     "name": "stdout",
     "output_type": "stream",
     "text": [
      " 31.151294 seconds (42.40 M allocations: 6.863 GiB, 1.60% gc time)\n"
     ]
    }
   ],
   "source": [
    "alg = LGG09(δ=0.03, template=octdirs, approx_model=Forward(setops=octdirs));\n",
    "@time sol_PLAD01_BND30 = solve(prob_PLAD01_BND30,\n",
    "                         alg=alg,\n",
    "                         clustering_method=LazyClustering(1),\n",
    "                         intersection_method=TemplateHullIntersection(octdirs),\n",
    "                         intersect_source_invariant=false,\n",
    "                         tspan = (0.0 .. 20.0));"
   ]
  },
  {
   "cell_type": "code",
   "execution_count": 10,
   "metadata": {
    "scrolled": false
   },
   "outputs": [
    {
     "name": "stdout",
     "output_type": "stream",
     "text": [
      " 24.192128 seconds (66.68 M allocations: 3.459 GiB, 5.37% gc time)\n"
     ]
    }
   ],
   "source": [
    "using Optim, Plots\n",
    "alg = GLGM06(δ=0.05, max_order=100);\n",
    "@time sol = solve(prob_PLAD01_BND30,\n",
    "                  alg=alg,\n",
    "                  clustering_method=ZonotopeClustering(),\n",
    "                  intersect_source_invariant=false,\n",
    "                  intersection_method=ReachabilityAnalysis.TemplateHullIntersectionZonotope(octdirs),\n",
    "                  tspan = (0.0 .. 20.0));"
   ]
  },
  {
   "cell_type": "code",
   "execution_count": 11,
   "metadata": {},
   "outputs": [
    {
     "data": {
      "image/png": "[encoded data removed]"
     },
     "execution_count": 11,
     "metadata": {},
     "output_type": "execute_result"
    }
   ],
   "source": [
    "vars = (1, 2)\n",
    "plot(Projection(set(sol[2][end]), vars), vars=vars, label=\"Antes del salto\", lw=0, fmt=:png)\n",
    "plot!(sol[3][1],vars=vars, label=\"Despues del salto\", lw=0)"
   ]
  },
  {
   "cell_type": "code",
   "execution_count": 17,
   "metadata": {},
   "outputs": [
    {
     "ename": "LoadError",
     "evalue": "OverflowError: binomial(1000, 9) overflows",
     "output_type": "error",
     "traceback": [
      "OverflowError: binomial(1000, 9) overflows",
      "",
      "Stacktrace:",
      " [1] binomial(::Int64, ::Int64) at ./intfuncs.jl:955",
      " [2] constraints_list(::Zonotope{Float64,Array{Float64,1},Array{Float64,2}}; check_full_rank::Bool) at /home/sguadalupe/.julia/dev/LazySets/src/Interfaces/AbstractZonotope.jl:527",
      " [3] constraints_list at /home/sguadalupe/.julia/dev/LazySets/src/Interfaces/AbstractZonotope.jl:508 [inlined]",
      " [4] _normal_Vector at /home/sguadalupe/.julia/dev/LazySets/src/Sets/HalfSpace.jl:520 [inlined]",
      " [5] intersection(::Zonotope{Float64,Array{Float64,1},Array{Float64,2}}, ::Hyperplane{Float64,Array{Float64,1}}; backend::GLPKMathProgInterface.GLPKInterfaceLP.GLPKSolverLP) at /home/sguadalupe/.julia/dev/LazySets/src/ConcreteOperations/intersection.jl:607",
      " [6] intersection(::Zonotope{Float64,Array{Float64,1},Array{Float64,2}}, ::Hyperplane{Float64,Array{Float64,1}}) at /home/sguadalupe/.julia/dev/LazySets/src/ConcreteOperations/intersection.jl:603",
      " [7] top-level scope at In[17]:3",
      " [8] include_string(::Function, ::Module, ::String, ::String) at ./loading.jl:1091"
     ]
    }
   ],
   "source": [
    "vars = (1, 2)\n",
    "plot(Projection(set(sol[2][end]), vars), vars=vars, label=\"Antes del salto\", lw=0, fmt=:png)\n",
    "plot!(Projection(intersection(set(sol[2][end]), Hyperplane(t == 5, var)), vars), vars=vars, lw=0)"
   ]
  },
  {
   "cell_type": "code",
   "execution_count": 29,
   "metadata": {},
   "outputs": [
    {
     "data": {
      "image/png": "[encoded data removed]"
     },
     "execution_count": 29,
     "metadata": {},
     "output_type": "execute_result"
    }
   ],
   "source": [
    "vars = (0, 1)\n",
    "plot(sol_PLAD01_BND30, vars=vars, xlab=\"t\", ylab=\"x1\", label=\"LGG09\", lw=0, legend=:bottomleft, fmt=:png)\n",
    "plot!(sol, vars=vars, xlab=\"t\", ylab=\"x1\", label=\"GLGM06\", lw=0)"
   ]
  },
  {
   "cell_type": "markdown",
   "metadata": {},
   "source": [
    "Here `approx_model=Forward(setops=octdirs)` passed to the `LGG09` solver\n",
    "makes it overapproximate the set *after* discretization with the template directions.\n",
    "Othewise, the set would be lazy by default. This option gives a gain in runtime,\n",
    "since evaluating the 200 dimensions of the template is quite expensive."
   ]
  },
  {
   "cell_type": "markdown",
   "metadata": {},
   "source": [
    "Verifying that the specification holds:"
   ]
  },
  {
   "cell_type": "code",
   "execution_count": 30,
   "metadata": {},
   "outputs": [
    {
     "data": {
      "text/plain": [
       "false"
      ]
     },
     "execution_count": 30,
     "metadata": {},
     "output_type": "execute_result"
    }
   ],
   "source": [
    "dmin_specification(sol_PLAD01_BND30, 30)"
   ]
  },
  {
   "cell_type": "markdown",
   "metadata": {},
   "source": [
    "Let's check in more detail how close is the flowpipe to the safety conditions:"
   ]
  },
  {
   "cell_type": "code",
   "execution_count": 31,
   "metadata": {},
   "outputs": [
    {
     "name": "stdout",
     "output_type": "stream",
     "text": [
      "-(ρ(sparsevec([1], [-1.0], 10), sol_PLAD01_BND30)) = -29.862721575258067\n",
      "-(ρ(sparsevec([4], [-1.0], 10), sol_PLAD01_BND30)) = -26.167902001889445\n",
      "-(ρ(sparsevec([7], [-1.0], 10), sol_PLAD01_BND30)) = -12.696657569596855\n"
     ]
    }
   ],
   "source": [
    "@show -ρ(sparsevec([1], [-1.0], 10), sol_PLAD01_BND30)\n",
    "@show -ρ(sparsevec([4], [-1.0], 10), sol_PLAD01_BND30)\n",
    "@show -ρ(sparsevec([7], [-1.0], 10), sol_PLAD01_BND30);"
   ]
  },
  {
   "cell_type": "code",
   "execution_count": 82,
   "metadata": {},
   "outputs": [
    {
     "name": "stdout",
     "output_type": "stream",
     "text": [
      "-(ρ(sparsevec([1], [-1.0], 10), sol)) = -42.33200047201423\n",
      "-(ρ(sparsevec([4], [-1.0], 10), sol)) = -45.91891349314337\n",
      "-(ρ(sparsevec([7], [-1.0], 10), sol)) = -34.197894196381384\n"
     ]
    }
   ],
   "source": [
    "@show -ρ(sparsevec([1], [-1.0], 10), sol)\n",
    "@show -ρ(sparsevec([4], [-1.0], 10), sol)\n",
    "@show -ρ(sparsevec([7], [-1.0], 10), sol);"
   ]
  },
  {
   "cell_type": "markdown",
   "metadata": {},
   "source": [
    "We plot variable ``x_1`` vs time."
   ]
  },
  {
   "cell_type": "code",
   "execution_count": 37,
   "metadata": {},
   "outputs": [
    {
     "data": {
      "image/png": "[encoded data removed]"
     },
     "execution_count": 37,
     "metadata": {},
     "output_type": "execute_result"
    }
   ],
   "source": [
    "using Plots\n",
    "\n",
    "plot(sol_PLAD01_BND30, vars=(0, 1), xlab=\"t\", ylab=\"x1\", title=\"PLAD01 - BND30\", fmt=:png)"
   ]
  },
  {
   "cell_type": "code",
   "execution_count": null,
   "metadata": {},
   "outputs": [],
   "source": []
  },
  {
   "cell_type": "code",
   "execution_count": 41,
   "metadata": {},
   "outputs": [
    {
     "name": "stdout",
     "output_type": "stream",
     "text": [
      "  0.144684 seconds (521.98 k allocations: 54.346 MiB)\n"
     ]
    }
   ],
   "source": [
    "prob_PLAD01_BND42 = platoon(; deterministic_switching=true)\n",
    "@time sol_PLAD01_BND42 = solve(prob_PLAD01_BND42, alg=BOX(δ=0.01),\n",
    "                         clustering_method=BoxClustering(1),\n",
    "                         intersection_method=TemplateHullIntersection(BoxDirections(10)),\n",
    "                         intersect_source_invariant=false,\n",
    "                         tspan = (0.0 .. 20.0));"
   ]
  },
  {
   "cell_type": "code",
   "execution_count": 43,
   "metadata": {},
   "outputs": [
    {
     "data": {
      "text/plain": [
       "-41.366377912095516"
      ]
     },
     "execution_count": 43,
     "metadata": {},
     "output_type": "execute_result"
    }
   ],
   "source": [
    "property = -ρ(sparsevec([1], [-1.0], 10), sol_PLAD01_BND42)"
   ]
  },
  {
   "cell_type": "code",
   "execution_count": 81,
   "metadata": {},
   "outputs": [
    {
     "name": "stdout",
     "output_type": "stream",
     "text": [
      "  0.608595 seconds (5.75 M allocations: 340.161 MiB)\n"
     ]
    }
   ],
   "source": [
    "alg = GLGM06(δ=0.05, max_order=5);\n",
    "@time sol42 = solve(prob_PLAD01_BND30,\n",
    "                  alg=alg,\n",
    "                  clustering_method=ZonotopeClustering(),\n",
    "                  intersect_source_invariant=false,\n",
    "                  intersection_method=ReachabilityAnalysis.TemplateHullIntersectionZonotope(octdirs),\n",
    "                  tspan = (0.0 .. 20.0));"
   ]
  },
  {
   "cell_type": "code",
   "execution_count": 78,
   "metadata": {},
   "outputs": [
    {
     "data": {
      "text/plain": [
       "-40.97677085190363"
      ]
     },
     "execution_count": 78,
     "metadata": {},
     "output_type": "execute_result"
    }
   ],
   "source": [
    "property = -ρ(sparsevec([1], [-1.0], 10), sol42)"
   ]
  },
  {
   "cell_type": "code",
   "execution_count": null,
   "metadata": {},
   "outputs": [],
   "source": []
  }
 ],
 "metadata": {
  "kernelspec": {
   "display_name": "Julia 1.5.0-rc1",
   "language": "julia",
   "name": "julia-1.5"
  },
  "language_info": {
   "file_extension": ".jl",
   "mimetype": "application/julia",
   "name": "julia",
   "version": "1.5.0"
  }
 },
 "nbformat": 4,
 "nbformat_minor": 3
}
