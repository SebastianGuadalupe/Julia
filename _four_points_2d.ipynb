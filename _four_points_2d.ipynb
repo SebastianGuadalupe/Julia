{
 "cells": [
  {
   "cell_type": "code",
   "execution_count": 21,
   "metadata": {},
   "outputs": [
    {
     "data": {
      "text/plain": [
       "_four_points_2d! (generic function with 1 method)"
      ]
     },
     "execution_count": 21,
     "metadata": {},
     "output_type": "execute_result"
    }
   ],
   "source": [
    "function _four_points_2d!(points::AbstractVector{<:AbstractVector{N}}) where {N<:Real}\n",
    "    A, B, C, D = points[1], points[2], points[3], points[4]\n",
    "    tri_ABC = right_turn(A, B, C)\n",
    "    tri_ABD = right_turn(A, B, D)\n",
    "    tri_BCD = right_turn(B, C, D)\n",
    "    tri_CAD = right_turn(C, A, D)\n",
    "    key = 0\n",
    "    if tri_ABC > zero(N)\n",
    "        key = key + 1000\n",
    "    end\n",
    "    if tri_ABD > zero(N)\n",
    "        key = key + 100\n",
    "    end\n",
    "    if tri_BCD > zero(N)\n",
    "        key = key + 10\n",
    "    end\n",
    "    if tri_CAD > zero(N)\n",
    "        key = key + 1\n",
    "    end\n",
    "    \n",
    "    function collinear_case(A, B, C, D)\n",
    "        # A, B and C collinear, D is the extra point\n",
    "        if isapprox(A[1], B[1]) && isapprox(B[1], C[1]) && isapprox(C[1], A[1])\n",
    "            # points are approximately equal in their first component\n",
    "            if isapprox(A[2], B[2]) && isapprox(B[2], C[2]) && isapprox(C[2], A[2])\n",
    "                # the three points are approximately equal\n",
    "                points[1], points[2] = A, D\n",
    "                pop!(points)\n",
    "                pop!(points)\n",
    "                return _two_points_2d!(points)\n",
    "            else\n",
    "                # assign the points with max and min value in their second component to the\n",
    "                # firsts points and the extra point to the third place, then pop the point that was in the middle\n",
    "                points[1], points[2], points[3] = points[argmin([A[2], B[2], C[2]])], points[argmax([A[2], B[2], C[2]])], D\n",
    "                pop!(points)\n",
    "            end\n",
    "        else\n",
    "            # assign the points with max and min value in their first component to the\n",
    "            # firsts points and the extra point to the third place, then pop the point that was in the middle\n",
    "            points[1], points[2], points[3] = points[argmin([A[1], B[1], C[1]])], points[argmax([A[1], B[1], C[1]])], D\n",
    "            pop!(points)\n",
    "        end\n",
    "        return _three_points_2d!(points)\n",
    "    end\n",
    "    \n",
    "    if isapproxzero(tri_ABC)\n",
    "        return collinear_case(A, B, C, D)\n",
    "    end\n",
    "    if isapproxzero(tri_ABD)\n",
    "        return collinear_case(A, B, D, C)\n",
    "    end\n",
    "    if isapproxzero(tri_BCD)\n",
    "        return collinear_case(B, C, D, A)\n",
    "    end\n",
    "    if isapproxzero(tri_CAD)\n",
    "        return collinear_case(C, A, D, B)\n",
    "    end\n",
    "    \n",
    "    # ABC  ABD  BCD  CAD  hull\n",
    "    # ------------------------\n",
    "    #  +    +    +    +   ABC\n",
    "    #  +    +    +    -   ABCD\n",
    "    #  +    +    -    +   ABDC\n",
    "    #  +    +    -    -   ABD\n",
    "    #  +    -    +    +   ADBC\n",
    "    #  +    -    +    -   BCD\n",
    "    #  +    -    -    +   CAD\n",
    "    #  +    -    -    -   [should not happen]\n",
    "    #  -    +    +    +   [should not happen]\n",
    "    #  -    +    +    -   ACD\n",
    "    #  -    +    -    +   DCB\n",
    "    #  -    +    -    -   DACB\n",
    "    #  -    -    +    +   ADB\n",
    "    #  -    -    +    -   ACDB\n",
    "    #  -    -    -    +   ADCB\n",
    "    #  -    -    -    -   ACB\n",
    "    if key == 1111\n",
    "        points[1], points[2], points[3] = A, B, C # +    +    +    +   ABC\n",
    "        pop!(points)\n",
    "    elseif key == 1110\n",
    "        points[1], points[2], points[3], points[4] = A, B, C, D # +    +    +    -   ABCD\n",
    "    elseif key == 1101\n",
    "        points[1], points[2], points[3], points[4] = A, B, D, C #  +    +    -    +   ABDC\n",
    "    elseif key == 1100\n",
    "        points[1], points[2], points[3] = A, B, D #  +    +    -    -   ABD\n",
    "        pop!(points)\n",
    "    elseif key == 1011\n",
    "        points[1], points[2], points[3], points[4] = A, D, B, C #  +    -    +    +   ADBC\n",
    "    elseif key == 1010\n",
    "        points[1], points[2], points[3] = B, C, D #  +    -    +    -   BCD\n",
    "        pop!(points)\n",
    "    elseif key == 1001\n",
    "        points[1], points[2], points[3] = C, A, D #  +    -    -    +    CAD\n",
    "        pop!(points)\n",
    "    elseif key == 0110\n",
    "        points[1], points[2], points[3] = A, C, D #  -    +    +    -   ACD\n",
    "        pop!(points)\n",
    "    elseif key == 0101\n",
    "        points[1], points[2], points[3] = D, C, B #  -    +    -    +   DCB\n",
    "        pop!(points)\n",
    "    elseif key == 0100\n",
    "        points[1], points[2], points[3], points[4] = D, A, C, B #  -    +    -    -   DACB\n",
    "    elseif key == 0011\n",
    "        points[1], points[2], points[3] = A, D, B #  -    -    +    +   ADB\n",
    "        pop!(points)\n",
    "    elseif key == 0010\n",
    "        points[1], points[2], points[3], points[4] = A, C, D, B #  -    -    +    -   ACDB\n",
    "    elseif key == 0001\n",
    "        points[1], points[2], points[3], points[4] = A, D, C, B #  -    -    -    +   ADCB\n",
    "    elseif key == 0000\n",
    "        points[1], points[2], points[3] = A, C, B #  -    -    -    -   ACB\n",
    "        pop!(points)\n",
    "    else\n",
    "        @assert false \"unexpected case in convex_hull\"\n",
    "    end\n",
    "    return points\n",
    "end"
   ]
  },
  {
   "cell_type": "code",
   "execution_count": 193,
   "metadata": {},
   "outputs": [
    {
     "ename": "ErrorException",
     "evalue": "cannot declare hull4_table constant; it already has a value",
     "output_type": "error",
     "traceback": [
      "cannot declare hull4_table constant; it already has a value",
      "",
      "Stacktrace:",
      " [1] top-level scope at In[193]:2"
     ]
    }
   ],
   "source": [
    "using LazySets: sign_cadlag, right_turn\n",
    "const hull4_table = [\n",
    "    1,2,3,0,1,2,3,0,1,2,4,3,1,2,3,0,1,2,3,0,1,2,4,0,1,2,3,4,1,2,4,0,1,2,4,0,\n",
    "    1,2,3,0,1,2,3,0,1,4,3,0,1,2,3,0,0,0,0,0,0,0,0,0,2,3,4,0,0,0,0,0,0,0,0,0,\n",
    "    1,4,2,3,1,4,3,0,1,4,3,0,2,3,4,0,0,0,0,0,0,0,0,0,2,3,4,0,0,0,0,0,0,0,0,0,\n",
    "    0,0,0,0,0,0,0,0,2,4,3,0,0,0,0,0,0,0,0,0,1,2,4,0,1,3,4,0,1,2,4,0,1,2,4,0,\n",
    "    0,0,0,0,0,0,0,0,1,4,3,0,0,0,0,0,0,0,0,0,0,0,0,0,1,3,4,0,0,0,0,0,0,0,0,0,\n",
    "    1,4,2,0,1,4,2,0,1,4,3,0,1,4,2,0,0,0,0,0,0,0,0,0,2,3,4,0,0,0,0,0,0,0,0,0,\n",
    "    0,0,0,0,0,0,0,0,2,4,3,0,0,0,0,0,0,0,0,0,2,4,3,0,1,3,4,0,1,3,4,0,1,3,2,4,\n",
    "    0,0,0,0,0,0,0,0,2,4,3,0,0,0,0,0,0,0,0,0,1,3,2,0,1,3,4,0,1,3,2,0,1,3,2,0,\n",
    "    1,4,2,0,1,4,2,0,1,4,3,2,1,4,2,0,1,3,2,0,1,3,2,0,1,3,4,2,1,3,2,0,1,3,2,0\n",
    "    ]\n",
    "\n",
    "function convex_hull4(points)\n",
    "    A, B, C, D = points[1], points[2], points[3], points[4]\n",
    "    p = copy(points)\n",
    "    abc = Int(1 - sign_cadlag(right_turn(A, B, C)))\n",
    "    abd = Int(1 - sign_cadlag(right_turn(A, B, D)))\n",
    "    cad = Int(1 - sign_cadlag(right_turn(C, A, D)))\n",
    "    bcd = Int(1 - sign_cadlag(right_turn(B, C, D)))\n",
    "\n",
    "    t = Int(4 * (bcd + 3*cad + 9*abd + 27*abc))\n",
    "    (hull4_table[t+1] == 0) ? pop!(points) : (points[1] = p[hull4_table[t+1]])\n",
    "    (hull4_table[t+2] == 0) ? pop!(points) : (points[2] = p[hull4_table[t+2]])\n",
    "    (hull4_table[t+3] == 0) ? pop!(points) : (points[3] = p[hull4_table[t+3]])\n",
    "    (hull4_table[t+4] == 0) ? pop!(points) : (points[4] = p[hull4_table[t+4]])\n",
    "    return points\n",
    "end"
   ]
  },
  {
   "cell_type": "code",
   "execution_count": 198,
   "metadata": {},
   "outputs": [
    {
     "name": "stdout",
     "output_type": "stream",
     "text": [
      "  693.196 ns (2 allocations: 224 bytes)\n"
     ]
    },
    {
     "data": {
      "text/plain": [
       "4-element Array{Array{Float64,1},1}:\n",
       " [1.0, 0.0] \n",
       " [1.0, 1.0] \n",
       " [-1.0, 1.0]\n",
       " [-1.0, 0.0]"
      ]
     },
     "execution_count": 198,
     "metadata": {},
     "output_type": "execute_result"
    }
   ],
   "source": [
    "N = Float64\n",
    "A = N[1, 0]\n",
    "B = N[1, 1]\n",
    "C = N[-1, 1]\n",
    "D = N[-1, 0]\n",
    "points = [A, B, C, D]\n",
    "@btime convex_hull4(copy($points))"
   ]
  },
  {
   "cell_type": "code",
   "execution_count": 189,
   "metadata": {},
   "outputs": [
    {
     "name": "stdout",
     "output_type": "stream",
     "text": [
      "  597.771 ns (2 allocations: 224 bytes)\n"
     ]
    },
    {
     "data": {
      "text/plain": [
       "3-element Array{Array{Float64,1},1}:\n",
       " [0.0, 1.0]  \n",
       " [-1.0, -1.0]\n",
       " [1.0, -1.0] "
      ]
     },
     "execution_count": 189,
     "metadata": {},
     "output_type": "execute_result"
    }
   ],
   "source": [
    "using BenchmarkTools\n",
    "using LazySets: convex_hull!\n",
    "N = Float64\n",
    "A = N[0, 1]\n",
    "B = N[-1, -1]\n",
    "C = N[1, -1]\n",
    "D = N[0, 0]\n",
    "expr = [A, B, C]\n",
    "points = [A, C, B, D]\n",
    "@btime convex_hull4(copy($points))"
   ]
  },
  {
   "cell_type": "code",
   "execution_count": 199,
   "metadata": {},
   "outputs": [
    {
     "name": "stdout",
     "output_type": "stream",
     "text": [
      "  485.359 ns (8 allocations: 544 bytes)\n"
     ]
    },
    {
     "data": {
      "text/plain": [
       "4-element Array{Array{Float64,1},1}:\n",
       " [-1.0, 0.0]\n",
       " [1.0, 0.0] \n",
       " [1.0, 1.0] \n",
       " [-1.0, 1.0]"
      ]
     },
     "execution_count": 199,
     "metadata": {},
     "output_type": "execute_result"
    }
   ],
   "source": [
    "@btime convex_hull!(copy($points))"
   ]
  }
 ],
 "metadata": {
  "kernelspec": {
   "display_name": "Julia 1.1.0",
   "language": "julia",
   "name": "julia-1.1"
  },
  "language_info": {
   "file_extension": ".jl",
   "mimetype": "application/julia",
   "name": "julia",
   "version": "1.1.0"
  }
 },
 "nbformat": 4,
 "nbformat_minor": 2
}
