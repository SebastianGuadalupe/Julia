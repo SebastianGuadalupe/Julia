{
 "cells": [
  {
   "cell_type": "code",
   "execution_count": 19,
   "metadata": {},
   "outputs": [
    {
     "data": {
      "text/plain": [
       "_four_points_2d! (generic function with 2 methods)"
      ]
     },
     "execution_count": 19,
     "metadata": {},
     "output_type": "execute_result"
    }
   ],
   "source": [
    "using LazySets\n",
    "\n",
    "function _four_points_2d!(points::AbstractVector{<:AbstractVector{N}}) where {N<:Real}\n",
    "    A, B, C, D = points[1], points[2], points[3], points[4]\n",
    "    tri_ABC = (A[2] - B[2]) * C[1] + (B[1] - A[1]) * C[2] + (A[1] * B[2] - B[1] * A[2])\n",
    "    tri_ABD = (A[2] - B[2]) * D[1] + (B[1] - A[1]) * D[2] + (A[1] * B[2] - B[1] * A[2])\n",
    "    tri_BCD = (B[2] - C[2]) * D[1] + (C[1] - B[1]) * D[2] + (B[1] * C[2] - C[1] * B[2])\n",
    "    tri_CAD = (C[2] - A[2]) * D[1] + (B[1] - C[1]) * D[2] + (C[1] * A[2] - A[1] * C[2])\n",
    "    \n",
    "    if tri_ABC > zero(N)\n",
    "        if tri_ABD > zero(N)\n",
    "            if tri_BCD > zero(N)\n",
    "                if tri_CAD > zero(N)\n",
    "                    points[1], points[2], points[3] = A, B, C\n",
    "                    pop!(points)\n",
    "                    return points\n",
    "                else\n",
    "                    points[1], points[2], points[3], points[4] = A, B, C, D\n",
    "                    return points\n",
    "                end\n",
    "            else\n",
    "                if tri_CAD > zero(N)\n",
    "                    points[1], points[2], points[3], points[4] = A, B, D, C\n",
    "                    return points\n",
    "                else\n",
    "                    points[1], points[2], points[3] = A, B, D\n",
    "                    pop!(points)\n",
    "                    return points\n",
    "                end\n",
    "            end\n",
    "        else\n",
    "            if tri_BCD > zero(N)\n",
    "                if tri_CAD > zero(N)\n",
    "                    points[1], points[2], points[3], points[4] = A, D, B, C\n",
    "                    return points\n",
    "                else\n",
    "                    points[1], points[2], points[3] = B, C, D\n",
    "                    pop!(points)\n",
    "                    return points\n",
    "                end\n",
    "            else\n",
    "                if tri_CAD > zero(N)\n",
    "                    points[1], points[2], points[3] = C, A, D\n",
    "                    pop!(points)\n",
    "                    return points\n",
    "                else\n",
    "                    # should not happen\n",
    "                end\n",
    "            end\n",
    "        end\n",
    "    else\n",
    "        # TODO\n",
    "    end\n",
    "end"
   ]
  },
  {
   "cell_type": "code",
   "execution_count": 27,
   "metadata": {},
   "outputs": [
    {
     "data": {
      "text/plain": [
       "4-element Array{Array{Int64,1},1}:\n",
       " [-1, 1] \n",
       " [-1, -1]\n",
       " [1, -1] \n",
       " [1, 1]  "
      ]
     },
     "execution_count": 27,
     "metadata": {},
     "output_type": "execute_result"
    }
   ],
   "source": [
    "points = [[-1, 1], [1, -1], [1, 1], [-1, -1]]\n",
    "h = _four_points_2d!(points)"
   ]
  }
 ],
 "metadata": {
  "kernelspec": {
   "display_name": "Julia 1.1.0",
   "language": "julia",
   "name": "julia-1.1"
  },
  "language_info": {
   "file_extension": ".jl",
   "mimetype": "application/julia",
   "name": "julia",
   "version": "1.1.0"
  }
 },
 "nbformat": 4,
 "nbformat_minor": 2
}
