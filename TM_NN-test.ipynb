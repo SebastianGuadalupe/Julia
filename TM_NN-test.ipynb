{
 "cells": [
  {
   "cell_type": "markdown",
   "metadata": {},
   "source": [
    "# Taylor models + NNs: Proof of concept"
   ]
  },
  {
   "cell_type": "code",
   "execution_count": 38,
   "metadata": {},
   "outputs": [],
   "source": [
    "using TaylorModels"
   ]
  },
  {
   "cell_type": "markdown",
   "metadata": {},
   "source": [
    "## Set-up"
   ]
  },
  {
   "cell_type": "code",
   "execution_count": 39,
   "metadata": {},
   "outputs": [
    {
     "data": {
      "text/plain": [
       "2-element Array{TaylorN{Float64},1}:\n",
       "  1.0 x + 𝒪(‖x‖⁹)\n",
       "  1.0 y + 𝒪(‖x‖⁹)"
      ]
     },
     "execution_count": 39,
     "metadata": {},
     "output_type": "execute_result"
    }
   ],
   "source": [
    "set_variables(\"x y\", order=8)"
   ]
  },
  {
   "cell_type": "code",
   "execution_count": 40,
   "metadata": {},
   "outputs": [
    {
     "data": {
      "text/plain": [
       "[0, 0] × [0, 0]"
      ]
     },
     "execution_count": 40,
     "metadata": {},
     "output_type": "execute_result"
    }
   ],
   "source": [
    "x0 = IntervalBox(0..0, 2)"
   ]
  },
  {
   "cell_type": "code",
   "execution_count": 41,
   "metadata": {},
   "outputs": [
    {
     "data": {
      "text/plain": [
       "[-0.25, 0.25] × [-0.25, 0.25]"
      ]
     },
     "execution_count": 41,
     "metadata": {},
     "output_type": "execute_result"
    }
   ],
   "source": [
    "dom = IntervalBox(-0.25 .. 0.25, 2)"
   ]
  },
  {
   "cell_type": "code",
   "execution_count": 42,
   "metadata": {},
   "outputs": [
    {
     "data": {
      "text/plain": [
       "( [1, 1] x + [0, 0],  [1, 1] y + [0, 0])"
      ]
     },
     "execution_count": 42,
     "metadata": {},
     "output_type": "execute_result"
    }
   ],
   "source": [
    "xm = TaylorModelN(1, 3, x0, dom)\n",
    "ym = TaylorModelN(2, 3, x0, dom)\n",
    "xm, ym"
   ]
  },
  {
   "cell_type": "markdown",
   "metadata": {},
   "source": [
    "## `relu`"
   ]
  },
  {
   "cell_type": "code",
   "execution_count": 43,
   "metadata": {},
   "outputs": [
    {
     "data": {
      "text/plain": [
       "relu (generic function with 1 method)"
      ]
     },
     "execution_count": 43,
     "metadata": {},
     "output_type": "execute_result"
    }
   ],
   "source": [
    "relu(x) = x ≤ 0 ? zero(x) : x"
   ]
  },
  {
   "cell_type": "code",
   "execution_count": 44,
   "metadata": {},
   "outputs": [
    {
     "data": {
      "text/plain": [
       "([1, 1], [0, 0], [-1, 1])"
      ]
     },
     "execution_count": 44,
     "metadata": {},
     "output_type": "execute_result"
    }
   ],
   "source": [
    "relu(1 .. 1), relu(-1 .. 0), relu(-1..1)"
   ]
  },
  {
   "cell_type": "code",
   "execution_count": 45,
   "metadata": {},
   "outputs": [
    {
     "data": {
      "text/plain": [
       "[-1, 0.300001] × [-1, 1]"
      ]
     },
     "execution_count": 45,
     "metadata": {},
     "output_type": "execute_result"
    }
   ],
   "source": [
    "relu.((-1 .. 0.3) × (-1 .. 1))"
   ]
  },
  {
   "cell_type": "markdown",
   "metadata": {},
   "source": [
    "##  Naive implementation of TMs+NN"
   ]
  },
  {
   "cell_type": "code",
   "execution_count": 46,
   "metadata": {},
   "outputs": [],
   "source": [
    "A = randn(6,2)\n",
    "b = randn(6);"
   ]
  },
  {
   "cell_type": "code",
   "execution_count": 47,
   "metadata": {},
   "outputs": [
    {
     "data": {
      "text/plain": [
       "6-element Array{TaylorModelN{2,IntervalArithmetic.Interval{Float64},Float64},1}:\n",
       "      [1.04049, 1.0405] + [-0.0638335, -0.0638334] x + [0.231514, 0.231515] y + [0, 0]\n",
       "     [-1.30876, -1.30875] + [-1.12945, -1.12944] x + [-0.285676, -0.285675] y + [0, 0]\n",
       "  [-0.599847, -0.599846] + [-0.418431, -0.41843] x + [0.0750894, 0.0750895] y + [0, 0]\n",
       "         [0.576357, 0.576358] + [0.296328, 0.296329] x + [1.42473, 1.42474] y + [0, 0]\n",
       "        [1.22081, 1.22082] + [0.256141, 0.256142] x + [-0.55272, -0.552719] y + [0, 0]\n",
       "     [0.875587, 0.875588] + [-0.334945, -0.334944] x + [0.489846, 0.489847] y + [0, 0]"
      ]
     },
     "execution_count": 47,
     "metadata": {},
     "output_type": "execute_result"
    }
   ],
   "source": [
    "nnm = A*[xm,ym]+b"
   ]
  },
  {
   "cell_type": "code",
   "execution_count": 48,
   "metadata": {},
   "outputs": [
    {
     "name": "stderr",
     "output_type": "stream",
     "text": [
      "WARNING: both TaylorModels and NeuralNetworkAnalysis export \"evaluate\"; uses of it in module Main must be qualified\n"
     ]
    },
    {
     "ename": "LoadError",
     "evalue": "\u001b[91mUndefVarError: evaluate not defined\u001b[39m",
     "output_type": "error",
     "traceback": [
      "\u001b[91mUndefVarError: evaluate not defined\u001b[39m",
      "",
      "Stacktrace:",
      " [1] top-level scope at In[48]:1",
      " [2] include_string(::Function, ::Module, ::String, ::String) at ./loading.jl:1091"
     ]
    }
   ],
   "source": [
    "range_nnm = evaluate(nnm, dom)"
   ]
  },
  {
   "cell_type": "code",
   "execution_count": 49,
   "metadata": {},
   "outputs": [
    {
     "ename": "LoadError",
     "evalue": "\u001b[91mUndefVarError: range_nnm not defined\u001b[39m",
     "output_type": "error",
     "traceback": [
      "\u001b[91mUndefVarError: range_nnm not defined\u001b[39m",
      "",
      "Stacktrace:",
      " [1] top-level scope at In[49]:1",
      " [2] include_string(::Function, ::Module, ::String, ::String) at ./loading.jl:1091"
     ]
    }
   ],
   "source": [
    "relu.(range_nnm)"
   ]
  },
  {
   "cell_type": "code",
   "execution_count": 50,
   "metadata": {},
   "outputs": [
    {
     "data": {
      "text/plain": [
       "relu (generic function with 2 methods)"
      ]
     },
     "execution_count": 50,
     "metadata": {},
     "output_type": "execute_result"
    }
   ],
   "source": [
    "function relu(x::TaylorModelN)\n",
    "    dom = domain(x)\n",
    "    range = evaluate(x, dom)\n",
    "    @show(range)  # Show computed range, to check consistency\n",
    "    relu(range) ≤ 0 && return (zero(x))\n",
    "    return x # <<\n",
    "end"
   ]
  },
  {
   "cell_type": "code",
   "execution_count": 51,
   "metadata": {},
   "outputs": [
    {
     "ename": "LoadError",
     "evalue": "\u001b[91mUndefVarError: evaluate not defined\u001b[39m",
     "output_type": "error",
     "traceback": [
      "\u001b[91mUndefVarError: evaluate not defined\u001b[39m",
      "",
      "Stacktrace:",
      " [1] relu(::TaylorModelN{2,IntervalArithmetic.Interval{Float64},Float64}) at ./In[50]:3",
      " [2] _broadcast_getindex_evalf at ./broadcast.jl:648 [inlined]",
      " [3] _broadcast_getindex at ./broadcast.jl:621 [inlined]",
      " [4] getindex at ./broadcast.jl:575 [inlined]",
      " [5] macro expansion at ./broadcast.jl:932 [inlined]",
      " [6] macro expansion at ./simdloop.jl:77 [inlined]",
      " [7] copyto! at ./broadcast.jl:931 [inlined]",
      " [8] copyto! at ./broadcast.jl:886 [inlined]",
      " [9] copy at ./broadcast.jl:862 [inlined]",
      " [10] materialize(::Base.Broadcast.Broadcasted{Base.Broadcast.DefaultArrayStyle{1},Nothing,typeof(relu),Tuple{Array{TaylorModelN{2,IntervalArithmetic.Interval{Float64},Float64},1}}}) at ./broadcast.jl:837",
      " [11] top-level scope at In[51]:1",
      " [12] include_string(::Function, ::Module, ::String, ::String) at ./loading.jl:1091"
     ]
    }
   ],
   "source": [
    "relu.(nnm)"
   ]
  },
  {
   "cell_type": "markdown",
   "metadata": {},
   "source": [
    "## Same thing, with nonlinearities"
   ]
  },
  {
   "cell_type": "code",
   "execution_count": 52,
   "metadata": {},
   "outputs": [
    {
     "data": {
      "text/plain": [
       "6-element Array{TaylorModelN{2,IntervalArithmetic.Interval{Float64},Float64},1}:\n",
       "  [0.976664, 0.976665] + [0.231514, 0.231515] y + [0.0319167, 0.0319168] x² + [-0.0385859, -0.0385858] y³ + [-1.96905e-05, 9.32255e-06]\n",
       "      [-2.4382, -2.43819] + [-0.285676, -0.285675] y + [0.564722, 0.564723] x² + [0.0476126, 0.0476127] y³ + [-0.00019495, 1.15035e-05]\n",
       "    [-1.01828, -1.01827] + [0.0750894, 0.0750895] y + [0.209215, 0.209216] x² + [-0.012515, -0.0125149] y³ + [-7.0986e-05, 3.02367e-06]\n",
       "      [0.872686, 0.872687] + [1.42473, 1.42474] y + [-0.148165, -0.148164] x² + [-0.237456, -0.237455] y³ + [-5.73706e-05, 0.000105501]\n",
       "      [1.47695, 1.47696] + [-0.55272, -0.552719] y + [-0.128071, -0.12807] x² + [0.0921198, 0.0921199] y³ + [-2.22567e-05, 6.38597e-05]\n",
       "     [0.540642, 0.540643] + [0.489846, 0.489847] y + [0.167472, 0.167473] x² + [-0.0816412, -0.0816411] y³ + [-7.41273e-05, 1.9725e-05]"
      ]
     },
     "execution_count": 52,
     "metadata": {},
     "output_type": "execute_result"
    }
   ],
   "source": [
    "nnm = A*[cos(xm),sin(ym)]+b"
   ]
  },
  {
   "cell_type": "code",
   "execution_count": 53,
   "metadata": {},
   "outputs": [
    {
     "ename": "LoadError",
     "evalue": "\u001b[91mUndefVarError: evaluate not defined\u001b[39m",
     "output_type": "error",
     "traceback": [
      "\u001b[91mUndefVarError: evaluate not defined\u001b[39m",
      "",
      "Stacktrace:",
      " [1] relu(::TaylorModelN{2,IntervalArithmetic.Interval{Float64},Float64}) at ./In[50]:3",
      " [2] _broadcast_getindex_evalf at ./broadcast.jl:648 [inlined]",
      " [3] _broadcast_getindex at ./broadcast.jl:621 [inlined]",
      " [4] getindex at ./broadcast.jl:575 [inlined]",
      " [5] macro expansion at ./broadcast.jl:932 [inlined]",
      " [6] macro expansion at ./simdloop.jl:77 [inlined]",
      " [7] copyto! at ./broadcast.jl:931 [inlined]",
      " [8] copyto! at ./broadcast.jl:886 [inlined]",
      " [9] copy at ./broadcast.jl:862 [inlined]",
      " [10] materialize(::Base.Broadcast.Broadcasted{Base.Broadcast.DefaultArrayStyle{1},Nothing,typeof(relu),Tuple{Array{TaylorModelN{2,IntervalArithmetic.Interval{Float64},Float64},1}}}) at ./broadcast.jl:837",
      " [11] top-level scope at In[53]:1",
      " [12] include_string(::Function, ::Module, ::String, ::String) at ./loading.jl:1091"
     ]
    }
   ],
   "source": [
    "relu.(nnm)"
   ]
  },
  {
   "cell_type": "code",
   "execution_count": 54,
   "metadata": {},
   "outputs": [],
   "source": [
    "using ReachabilityAnalysis, Plots"
   ]
  },
  {
   "cell_type": "code",
   "execution_count": 55,
   "metadata": {},
   "outputs": [
    {
     "data": {
      "text/plain": [
       "TaylorModelReachSet{Float64}(TaylorModel1{TaylorN{Float64},Float64}[  0.25644960976686537 + 1.8071791479853399 x₁ - 0.6980107202035731 x₂ + [0, 0],   1.6884435070916748 - 1.334814881168902 x₁ + 0.21321181789620283 x₂ + [0, 0]], [0, 0])"
      ]
     },
     "execution_count": 55,
     "metadata": {},
     "output_type": "execute_result"
    }
   ],
   "source": [
    "Z = rand(Zonotope)\n",
    "\n",
    "T = overapproximate(Z, TaylorModelReachSet)"
   ]
  },
  {
   "cell_type": "code",
   "execution_count": 56,
   "metadata": {},
   "outputs": [
    {
     "data": {
      "text/plain": [
       "2-element Array{Float64,1}:\n",
       " 0.25644960976686365\n",
       " 1.6884435070916755"
      ]
     },
     "execution_count": 56,
     "metadata": {},
     "output_type": "execute_result"
    }
   ],
   "source": [
    "Z.center"
   ]
  },
  {
   "cell_type": "code",
   "execution_count": 57,
   "metadata": {},
   "outputs": [
    {
     "data": {
      "text/plain": [
       "2×3 Array{Float64,2}:\n",
       "  0.508509  -0.690784   1.29144\n",
       " -0.375594   0.211004  -0.957014"
      ]
     },
     "execution_count": 57,
     "metadata": {},
     "output_type": "execute_result"
    }
   ],
   "source": [
    "Z.generators"
   ]
  },
  {
   "cell_type": "markdown",
   "metadata": {},
   "source": [
    "$F(x, t) = p_0(x) + p_1(x)t + p_2(x)t^2 +...+p_k(x)t^k$"
   ]
  },
  {
   "cell_type": "code",
   "execution_count": 58,
   "metadata": {},
   "outputs": [
    {
     "data": {
      "text/plain": [
       "2-element Array{TaylorModel1{TaylorN{Float64},Float64},1}:\n",
       "   0.25644960976686537 + 1.8071791479853399 x₁ - 0.6980107202035731 x₂ + [0, 0]\n",
       "    1.6884435070916748 - 1.334814881168902 x₁ + 0.21321181789620283 x₂ + [0, 0]"
      ]
     },
     "execution_count": 58,
     "metadata": {},
     "output_type": "execute_result"
    }
   ],
   "source": [
    "set(T)"
   ]
  },
  {
   "cell_type": "code",
   "execution_count": 59,
   "metadata": {},
   "outputs": [],
   "source": [
    "TZ = set(overapproximate(T, Zonotope));"
   ]
  },
  {
   "cell_type": "code",
   "execution_count": 60,
   "metadata": {},
   "outputs": [
    {
     "data": {
      "image/svg+xml": [
       "<?xml version=\"1.0\" encoding=\"utf-8\"?>\n",
       "<svg xmlns=\"http://www.w3.org/2000/svg\" xmlns:xlink=\"http://www.w3.org/1999/xlink\" width=\"600\" height=\"400\" viewBox=\"0 0 2400 1600\">\n",
       "<defs>\n",
       "  <clipPath id=\"clip810\">\n",
       "    <rect x=\"0\" y=\"0\" width=\"2400\" height=\"1600\"/>\n",
       "  </clipPath>\n",
       "</defs>\n",
       "<path clip-path=\"url(#clip810)\" d=\"\n",
       "M0 1600 L2400 1600 L2400 0 L0 0  Z\n",
       "  \" fill=\"#ffffff\" fill-rule=\"evenodd\" fill-opacity=\"1\"/>\n",
       "<defs>\n",
       "  <clipPath id=\"clip811\">\n",
       "    <rect x=\"480\" y=\"0\" width=\"1681\" height=\"1600\"/>\n",
       "  </clipPath>\n",
       "</defs>\n",
       "<path clip-path=\"url(#clip810)\" d=\"\n",
       "M146.853 1486.45 L2352.76 1486.45 L2352.76 47.2441 L146.853 47.2441  Z\n",
       "  \" fill=\"#ffffff\" fill-rule=\"evenodd\" fill-opacity=\"1\"/>\n",
       "<defs>\n",
       "  <clipPath id=\"clip812\">\n",
       "    <rect x=\"146\" y=\"47\" width=\"2207\" height=\"1440\"/>\n",
       "  </clipPath>\n",
       "</defs>\n",
       "<polyline clip-path=\"url(#clip812)\" style=\"stroke:#000000; stroke-width:2; stroke-opacity:0.1; fill:none\" points=\"\n",
       "  312.597,1486.45 312.597,47.2441 \n",
       "  \"/>\n",
       "<polyline clip-path=\"url(#clip812)\" style=\"stroke:#000000; stroke-width:2; stroke-opacity:0.1; fill:none\" points=\"\n",
       "  727.943,1486.45 727.943,47.2441 \n",
       "  \"/>\n",
       "<polyline clip-path=\"url(#clip812)\" style=\"stroke:#000000; stroke-width:2; stroke-opacity:0.1; fill:none\" points=\"\n",
       "  1143.29,1486.45 1143.29,47.2441 \n",
       "  \"/>\n",
       "<polyline clip-path=\"url(#clip812)\" style=\"stroke:#000000; stroke-width:2; stroke-opacity:0.1; fill:none\" points=\"\n",
       "  1558.63,1486.45 1558.63,47.2441 \n",
       "  \"/>\n",
       "<polyline clip-path=\"url(#clip812)\" style=\"stroke:#000000; stroke-width:2; stroke-opacity:0.1; fill:none\" points=\"\n",
       "  1973.98,1486.45 1973.98,47.2441 \n",
       "  \"/>\n",
       "<polyline clip-path=\"url(#clip810)\" style=\"stroke:#000000; stroke-width:4; stroke-opacity:1; fill:none\" points=\"\n",
       "  146.853,1486.45 2352.76,1486.45 \n",
       "  \"/>\n",
       "<polyline clip-path=\"url(#clip810)\" style=\"stroke:#000000; stroke-width:4; stroke-opacity:1; fill:none\" points=\"\n",
       "  312.597,1486.45 312.597,1469.18 \n",
       "  \"/>\n",
       "<polyline clip-path=\"url(#clip810)\" style=\"stroke:#000000; stroke-width:4; stroke-opacity:1; fill:none\" points=\"\n",
       "  727.943,1486.45 727.943,1469.18 \n",
       "  \"/>\n",
       "<polyline clip-path=\"url(#clip810)\" style=\"stroke:#000000; stroke-width:4; stroke-opacity:1; fill:none\" points=\"\n",
       "  1143.29,1486.45 1143.29,1469.18 \n",
       "  \"/>\n",
       "<polyline clip-path=\"url(#clip810)\" style=\"stroke:#000000; stroke-width:4; stroke-opacity:1; fill:none\" points=\"\n",
       "  1558.63,1486.45 1558.63,1469.18 \n",
       "  \"/>\n",
       "<polyline clip-path=\"url(#clip810)\" style=\"stroke:#000000; stroke-width:4; stroke-opacity:1; fill:none\" points=\"\n",
       "  1973.98,1486.45 1973.98,1469.18 \n",
       "  \"/>\n",
       "<path clip-path=\"url(#clip810)\" d=\"M 0 0 M285.051 1530.29 L314.727 1530.29 L314.727 1534.23 L285.051 1534.23 L285.051 1530.29 Z\" fill=\"#000000\" fill-rule=\"evenodd\" fill-opacity=\"1\" /><path clip-path=\"url(#clip810)\" d=\"M 0 0 M323.824 1543.18 L340.144 1543.18 L340.144 1547.12 L318.199 1547.12 L318.199 1543.18 Q320.861 1540.43 325.445 1535.8 Q330.051 1531.15 331.232 1529.81 Q333.477 1527.28 334.357 1525.55 Q335.259 1523.79 335.259 1522.1 Q335.259 1519.34 333.315 1517.61 Q331.394 1515.87 328.292 1515.87 Q326.093 1515.87 323.639 1516.63 Q321.208 1517.4 318.431 1518.95 L318.431 1514.23 Q321.255 1513.09 323.708 1512.51 Q326.162 1511.93 328.199 1511.93 Q333.569 1511.93 336.764 1514.62 Q339.958 1517.31 339.958 1521.8 Q339.958 1523.93 339.148 1525.85 Q338.361 1527.74 336.255 1530.34 Q335.676 1531.01 332.574 1534.23 Q329.472 1537.42 323.824 1543.18 Z\" fill=\"#000000\" fill-rule=\"evenodd\" fill-opacity=\"1\" /><path clip-path=\"url(#clip810)\" d=\"M 0 0 M700.212 1530.29 L729.888 1530.29 L729.888 1534.23 L700.212 1534.23 L700.212 1530.29 Z\" fill=\"#000000\" fill-rule=\"evenodd\" fill-opacity=\"1\" /><path clip-path=\"url(#clip810)\" d=\"M 0 0 M735.767 1543.18 L743.406 1543.18 L743.406 1516.82 L735.096 1518.49 L735.096 1514.23 L743.36 1512.56 L748.036 1512.56 L748.036 1543.18 L755.675 1543.18 L755.675 1547.12 L735.767 1547.12 L735.767 1543.18 Z\" fill=\"#000000\" fill-rule=\"evenodd\" fill-opacity=\"1\" /><path clip-path=\"url(#clip810)\" d=\"M 0 0 M1143.29 1515.64 Q1139.68 1515.64 1137.85 1519.2 Q1136.04 1522.75 1136.04 1529.87 Q1136.04 1536.98 1137.85 1540.55 Q1139.68 1544.09 1143.29 1544.09 Q1146.92 1544.09 1148.73 1540.55 Q1150.56 1536.98 1150.56 1529.87 Q1150.56 1522.75 1148.73 1519.2 Q1146.92 1515.64 1143.29 1515.64 M1143.29 1511.93 Q1149.1 1511.93 1152.15 1516.54 Q1155.23 1521.12 1155.23 1529.87 Q1155.23 1538.6 1152.15 1543.21 Q1149.1 1547.79 1143.29 1547.79 Q1137.48 1547.79 1134.4 1543.21 Q1131.34 1538.6 1131.34 1529.87 Q1131.34 1521.12 1134.4 1516.54 Q1137.48 1511.93 1143.29 1511.93 Z\" fill=\"#000000\" fill-rule=\"evenodd\" fill-opacity=\"1\" /><path clip-path=\"url(#clip810)\" d=\"M 0 0 M1549.02 1543.18 L1556.66 1543.18 L1556.66 1516.82 L1548.35 1518.49 L1548.35 1514.23 L1556.61 1512.56 L1561.29 1512.56 L1561.29 1543.18 L1568.92 1543.18 L1568.92 1547.12 L1549.02 1547.12 L1549.02 1543.18 Z\" fill=\"#000000\" fill-rule=\"evenodd\" fill-opacity=\"1\" /><path clip-path=\"url(#clip810)\" d=\"M 0 0 M1968.63 1543.18 L1984.95 1543.18 L1984.95 1547.12 L1963.01 1547.12 L1963.01 1543.18 Q1965.67 1540.43 1970.25 1535.8 Q1974.86 1531.15 1976.04 1529.81 Q1978.29 1527.28 1979.17 1525.55 Q1980.07 1523.79 1980.07 1522.1 Q1980.07 1519.34 1978.12 1517.61 Q1976.2 1515.87 1973.1 1515.87 Q1970.9 1515.87 1968.45 1516.63 Q1966.02 1517.4 1963.24 1518.95 L1963.24 1514.23 Q1966.06 1513.09 1968.52 1512.51 Q1970.97 1511.93 1973.01 1511.93 Q1978.38 1511.93 1981.57 1514.62 Q1984.77 1517.31 1984.77 1521.8 Q1984.77 1523.93 1983.96 1525.85 Q1983.17 1527.74 1981.06 1530.34 Q1980.49 1531.01 1977.38 1534.23 Q1974.28 1537.42 1968.63 1543.18 Z\" fill=\"#000000\" fill-rule=\"evenodd\" fill-opacity=\"1\" /><polyline clip-path=\"url(#clip812)\" style=\"stroke:#000000; stroke-width:2; stroke-opacity:0.1; fill:none\" points=\"\n",
       "  146.853,1288.02 2352.76,1288.02 \n",
       "  \"/>\n",
       "<polyline clip-path=\"url(#clip812)\" style=\"stroke:#000000; stroke-width:2; stroke-opacity:0.1; fill:none\" points=\"\n",
       "  146.853,1068.76 2352.76,1068.76 \n",
       "  \"/>\n",
       "<polyline clip-path=\"url(#clip812)\" style=\"stroke:#000000; stroke-width:2; stroke-opacity:0.1; fill:none\" points=\"\n",
       "  146.853,849.486 2352.76,849.486 \n",
       "  \"/>\n",
       "<polyline clip-path=\"url(#clip812)\" style=\"stroke:#000000; stroke-width:2; stroke-opacity:0.1; fill:none\" points=\"\n",
       "  146.853,630.216 2352.76,630.216 \n",
       "  \"/>\n",
       "<polyline clip-path=\"url(#clip812)\" style=\"stroke:#000000; stroke-width:2; stroke-opacity:0.1; fill:none\" points=\"\n",
       "  146.853,410.947 2352.76,410.947 \n",
       "  \"/>\n",
       "<polyline clip-path=\"url(#clip812)\" style=\"stroke:#000000; stroke-width:2; stroke-opacity:0.1; fill:none\" points=\"\n",
       "  146.853,191.678 2352.76,191.678 \n",
       "  \"/>\n",
       "<polyline clip-path=\"url(#clip810)\" style=\"stroke:#000000; stroke-width:4; stroke-opacity:1; fill:none\" points=\"\n",
       "  146.853,1486.45 146.853,47.2441 \n",
       "  \"/>\n",
       "<polyline clip-path=\"url(#clip810)\" style=\"stroke:#000000; stroke-width:4; stroke-opacity:1; fill:none\" points=\"\n",
       "  146.853,1288.02 173.324,1288.02 \n",
       "  \"/>\n",
       "<polyline clip-path=\"url(#clip810)\" style=\"stroke:#000000; stroke-width:4; stroke-opacity:1; fill:none\" points=\"\n",
       "  146.853,1068.76 173.324,1068.76 \n",
       "  \"/>\n",
       "<polyline clip-path=\"url(#clip810)\" style=\"stroke:#000000; stroke-width:4; stroke-opacity:1; fill:none\" points=\"\n",
       "  146.853,849.486 173.324,849.486 \n",
       "  \"/>\n",
       "<polyline clip-path=\"url(#clip810)\" style=\"stroke:#000000; stroke-width:4; stroke-opacity:1; fill:none\" points=\"\n",
       "  146.853,630.216 173.324,630.216 \n",
       "  \"/>\n",
       "<polyline clip-path=\"url(#clip810)\" style=\"stroke:#000000; stroke-width:4; stroke-opacity:1; fill:none\" points=\"\n",
       "  146.853,410.947 173.324,410.947 \n",
       "  \"/>\n",
       "<polyline clip-path=\"url(#clip810)\" style=\"stroke:#000000; stroke-width:4; stroke-opacity:1; fill:none\" points=\"\n",
       "  146.853,191.678 173.324,191.678 \n",
       "  \"/>\n",
       "<path clip-path=\"url(#clip810)\" d=\"M 0 0 M62.9365 1273.82 Q59.3254 1273.82 57.4967 1277.39 Q55.6912 1280.93 55.6912 1288.06 Q55.6912 1295.17 57.4967 1298.73 Q59.3254 1302.27 62.9365 1302.27 Q66.5707 1302.27 68.3763 1298.73 Q70.205 1295.17 70.205 1288.06 Q70.205 1280.93 68.3763 1277.39 Q66.5707 1273.82 62.9365 1273.82 M62.9365 1270.12 Q68.7467 1270.12 71.8022 1274.73 Q74.8809 1279.31 74.8809 1288.06 Q74.8809 1296.79 71.8022 1301.39 Q68.7467 1305.98 62.9365 1305.98 Q57.1264 1305.98 54.0477 1301.39 Q50.9921 1296.79 50.9921 1288.06 Q50.9921 1279.31 54.0477 1274.73 Q57.1264 1270.12 62.9365 1270.12 Z\" fill=\"#000000\" fill-rule=\"evenodd\" fill-opacity=\"1\" /><path clip-path=\"url(#clip810)\" d=\"M 0 0 M79.9503 1299.42 L84.8345 1299.42 L84.8345 1305.3 L79.9503 1305.3 L79.9503 1299.42 Z\" fill=\"#000000\" fill-rule=\"evenodd\" fill-opacity=\"1\" /><path clip-path=\"url(#clip810)\" d=\"M 0 0 M89.9503 1270.74 L108.307 1270.74 L108.307 1274.68 L94.2326 1274.68 L94.2326 1283.15 Q95.2511 1282.8 96.2697 1282.64 Q97.2882 1282.46 98.3067 1282.46 Q104.094 1282.46 107.473 1285.63 Q110.853 1288.8 110.853 1294.22 Q110.853 1299.8 107.381 1302.9 Q103.909 1305.98 97.5891 1305.98 Q95.4132 1305.98 93.1447 1305.61 Q90.8993 1305.24 88.4919 1304.49 L88.4919 1299.8 Q90.5752 1300.93 92.7975 1301.49 Q95.0197 1302.04 97.4965 1302.04 Q101.501 1302.04 103.839 1299.93 Q106.177 1297.83 106.177 1294.22 Q106.177 1290.61 103.839 1288.5 Q101.501 1286.39 97.4965 1286.39 Q95.6215 1286.39 93.7465 1286.81 Q91.8947 1287.23 89.9503 1288.11 L89.9503 1270.74 Z\" fill=\"#000000\" fill-rule=\"evenodd\" fill-opacity=\"1\" /><path clip-path=\"url(#clip810)\" d=\"M 0 0 M53.9782 1082.1 L61.6171 1082.1 L61.6171 1055.73 L53.3069 1057.4 L53.3069 1053.14 L61.5708 1051.48 L66.2467 1051.48 L66.2467 1082.1 L73.8855 1082.1 L73.8855 1086.04 L53.9782 1086.04 L53.9782 1082.1 Z\" fill=\"#000000\" fill-rule=\"evenodd\" fill-opacity=\"1\" /><path clip-path=\"url(#clip810)\" d=\"M 0 0 M78.9549 1080.16 L83.8392 1080.16 L83.8392 1086.04 L78.9549 1086.04 L78.9549 1080.16 Z\" fill=\"#000000\" fill-rule=\"evenodd\" fill-opacity=\"1\" /><path clip-path=\"url(#clip810)\" d=\"M 0 0 M98.9085 1054.55 Q95.2974 1054.55 93.4688 1058.12 Q91.6632 1061.66 91.6632 1068.79 Q91.6632 1075.9 93.4688 1079.46 Q95.2974 1083 98.9085 1083 Q102.543 1083 104.348 1079.46 Q106.177 1075.9 106.177 1068.79 Q106.177 1061.66 104.348 1058.12 Q102.543 1054.55 98.9085 1054.55 M98.9085 1050.85 Q104.719 1050.85 107.774 1055.46 Q110.853 1060.04 110.853 1068.79 Q110.853 1077.52 107.774 1082.12 Q104.719 1086.71 98.9085 1086.71 Q93.0984 1086.71 90.0197 1082.12 Q86.9642 1077.52 86.9642 1068.79 Q86.9642 1060.04 90.0197 1055.46 Q93.0984 1050.85 98.9085 1050.85 Z\" fill=\"#000000\" fill-rule=\"evenodd\" fill-opacity=\"1\" /><path clip-path=\"url(#clip810)\" d=\"M 0 0 M54.9736 862.831 L62.6124 862.831 L62.6124 836.465 L54.3023 838.132 L54.3023 833.872 L62.5661 832.206 L67.242 832.206 L67.242 862.831 L74.8809 862.831 L74.8809 866.766 L54.9736 866.766 L54.9736 862.831 Z\" fill=\"#000000\" fill-rule=\"evenodd\" fill-opacity=\"1\" /><path clip-path=\"url(#clip810)\" d=\"M 0 0 M79.9503 860.886 L84.8345 860.886 L84.8345 866.766 L79.9503 866.766 L79.9503 860.886 Z\" fill=\"#000000\" fill-rule=\"evenodd\" fill-opacity=\"1\" /><path clip-path=\"url(#clip810)\" d=\"M 0 0 M89.9503 832.206 L108.307 832.206 L108.307 836.141 L94.2326 836.141 L94.2326 844.613 Q95.2511 844.266 96.2697 844.104 Q97.2882 843.919 98.3067 843.919 Q104.094 843.919 107.473 847.09 Q110.853 850.261 110.853 855.678 Q110.853 861.257 107.381 864.358 Q103.909 867.437 97.5891 867.437 Q95.4132 867.437 93.1447 867.067 Q90.8993 866.696 88.4919 865.956 L88.4919 861.257 Q90.5752 862.391 92.7975 862.946 Q95.0197 863.502 97.4965 863.502 Q101.501 863.502 103.839 861.395 Q106.177 859.289 106.177 855.678 Q106.177 852.067 103.839 849.96 Q101.501 847.854 97.4965 847.854 Q95.6215 847.854 93.7465 848.27 Q91.8947 848.687 89.9503 849.567 L89.9503 832.206 Z\" fill=\"#000000\" fill-rule=\"evenodd\" fill-opacity=\"1\" /><path clip-path=\"url(#clip810)\" d=\"M 0 0 M57.5662 643.561 L73.8855 643.561 L73.8855 647.496 L51.9412 647.496 L51.9412 643.561 Q54.6032 640.807 59.1865 636.177 Q63.793 631.524 64.9735 630.182 Q67.2189 627.659 68.0985 625.922 Q69.0013 624.163 69.0013 622.473 Q69.0013 619.719 67.0569 617.983 Q65.1356 616.247 62.0337 616.247 Q59.8347 616.247 57.381 617.01 Q54.9504 617.774 52.1727 619.325 L52.1727 614.603 Q54.9967 613.469 57.4504 612.89 Q59.9041 612.311 61.9411 612.311 Q67.3115 612.311 70.5059 614.997 Q73.7003 617.682 73.7003 622.172 Q73.7003 624.302 72.8902 626.223 Q72.1031 628.121 69.9967 630.714 Q69.418 631.385 66.3161 634.603 Q63.2143 637.797 57.5662 643.561 Z\" fill=\"#000000\" fill-rule=\"evenodd\" fill-opacity=\"1\" /><path clip-path=\"url(#clip810)\" d=\"M 0 0 M78.9549 641.617 L83.8392 641.617 L83.8392 647.496 L78.9549 647.496 L78.9549 641.617 Z\" fill=\"#000000\" fill-rule=\"evenodd\" fill-opacity=\"1\" /><path clip-path=\"url(#clip810)\" d=\"M 0 0 M98.9085 616.015 Q95.2974 616.015 93.4688 619.58 Q91.6632 623.122 91.6632 630.251 Q91.6632 637.358 93.4688 640.922 Q95.2974 644.464 98.9085 644.464 Q102.543 644.464 104.348 640.922 Q106.177 637.358 106.177 630.251 Q106.177 623.122 104.348 619.58 Q102.543 616.015 98.9085 616.015 M98.9085 612.311 Q104.719 612.311 107.774 616.918 Q110.853 621.501 110.853 630.251 Q110.853 638.978 107.774 643.584 Q104.719 648.168 98.9085 648.168 Q93.0984 648.168 90.0197 643.584 Q86.9642 638.978 86.9642 630.251 Q86.9642 621.501 90.0197 616.918 Q93.0984 612.311 98.9085 612.311 Z\" fill=\"#000000\" fill-rule=\"evenodd\" fill-opacity=\"1\" /><path clip-path=\"url(#clip810)\" d=\"M 0 0 M58.5615 424.292 L74.8809 424.292 L74.8809 428.227 L52.9366 428.227 L52.9366 424.292 Q55.5986 421.537 60.1819 416.908 Q64.7883 412.255 65.9689 410.912 Q68.2143 408.389 69.0939 406.653 Q69.9967 404.894 69.9967 403.204 Q69.9967 400.449 68.0522 398.713 Q66.1309 396.977 63.0291 396.977 Q60.83 396.977 58.3763 397.741 Q55.9458 398.505 53.168 400.056 L53.168 395.334 Q55.9921 394.199 58.4458 393.621 Q60.8995 393.042 62.9365 393.042 Q68.3068 393.042 71.5013 395.727 Q74.6957 398.412 74.6957 402.903 Q74.6957 405.033 73.8855 406.954 Q73.0985 408.852 70.992 411.445 Q70.4133 412.116 67.3115 415.334 Q64.2096 418.528 58.5615 424.292 Z\" fill=\"#000000\" fill-rule=\"evenodd\" fill-opacity=\"1\" /><path clip-path=\"url(#clip810)\" d=\"M 0 0 M79.9503 422.347 L84.8345 422.347 L84.8345 428.227 L79.9503 428.227 L79.9503 422.347 Z\" fill=\"#000000\" fill-rule=\"evenodd\" fill-opacity=\"1\" /><path clip-path=\"url(#clip810)\" d=\"M 0 0 M89.9503 393.667 L108.307 393.667 L108.307 397.602 L94.2326 397.602 L94.2326 406.074 Q95.2511 405.727 96.2697 405.565 Q97.2882 405.38 98.3067 405.38 Q104.094 405.38 107.473 408.551 Q110.853 411.722 110.853 417.139 Q110.853 422.718 107.381 425.82 Q103.909 428.898 97.5891 428.898 Q95.4132 428.898 93.1447 428.528 Q90.8993 428.158 88.4919 427.417 L88.4919 422.718 Q90.5752 423.852 92.7975 424.408 Q95.0197 424.963 97.4965 424.963 Q101.501 424.963 103.839 422.857 Q106.177 420.75 106.177 417.139 Q106.177 413.528 103.839 411.422 Q101.501 409.315 97.4965 409.315 Q95.6215 409.315 93.7465 409.732 Q91.8947 410.148 89.9503 411.028 L89.9503 393.667 Z\" fill=\"#000000\" fill-rule=\"evenodd\" fill-opacity=\"1\" /><path clip-path=\"url(#clip810)\" d=\"M 0 0 M66.7559 190.323 Q70.1124 191.041 71.9874 193.31 Q73.8855 195.578 73.8855 198.911 Q73.8855 204.027 70.367 206.828 Q66.8485 209.629 60.3671 209.629 Q58.1912 209.629 55.8764 209.189 Q53.5847 208.772 51.131 207.916 L51.131 203.402 Q53.0754 204.536 55.3903 205.115 Q57.7051 205.694 60.2282 205.694 Q64.6263 205.694 66.918 203.958 Q69.2328 202.222 69.2328 198.911 Q69.2328 195.856 67.08 194.143 Q64.9504 192.407 61.131 192.407 L57.1032 192.407 L57.1032 188.564 L61.3161 188.564 Q64.7652 188.564 66.5939 187.198 Q68.4226 185.81 68.4226 183.217 Q68.4226 180.555 66.5245 179.143 Q64.6495 177.708 61.131 177.708 Q59.2097 177.708 57.0106 178.124 Q54.8115 178.541 52.1727 179.421 L52.1727 175.254 Q54.8347 174.513 57.1495 174.143 Q59.4875 173.773 61.5476 173.773 Q66.8717 173.773 69.9735 176.203 Q73.0753 178.611 73.0753 182.731 Q73.0753 185.601 71.4318 187.592 Q69.7883 189.56 66.7559 190.323 Z\" fill=\"#000000\" fill-rule=\"evenodd\" fill-opacity=\"1\" /><path clip-path=\"url(#clip810)\" d=\"M 0 0 M78.9549 203.078 L83.8392 203.078 L83.8392 208.958 L78.9549 208.958 L78.9549 203.078 Z\" fill=\"#000000\" fill-rule=\"evenodd\" fill-opacity=\"1\" /><path clip-path=\"url(#clip810)\" d=\"M 0 0 M98.9085 177.476 Q95.2974 177.476 93.4688 181.041 Q91.6632 184.583 91.6632 191.712 Q91.6632 198.819 93.4688 202.384 Q95.2974 205.925 98.9085 205.925 Q102.543 205.925 104.348 202.384 Q106.177 198.819 106.177 191.712 Q106.177 184.583 104.348 181.041 Q102.543 177.476 98.9085 177.476 M98.9085 173.773 Q104.719 173.773 107.774 178.379 Q110.853 182.962 110.853 191.712 Q110.853 200.439 107.774 205.046 Q104.719 209.629 98.9085 209.629 Q93.0984 209.629 90.0197 205.046 Q86.9642 200.439 86.9642 191.712 Q86.9642 182.962 90.0197 178.379 Q93.0984 173.773 98.9085 173.773 Z\" fill=\"#000000\" fill-rule=\"evenodd\" fill-opacity=\"1\" /><path clip-path=\"url(#clip812)\" d=\"\n",
       "M215.288 89.9125 L1288.08 929.288 L1710.49 1258.71 L2284.32 1443.78 L1211.53 604.404 L789.116 274.98 L215.288 89.9125 L215.288 89.9125  Z\n",
       "  \" fill=\"#009af9\" fill-rule=\"evenodd\" fill-opacity=\"0.5\"/>\n",
       "<polyline clip-path=\"url(#clip812)\" style=\"stroke:#000000; stroke-width:4; stroke-opacity:0.5; fill:none\" points=\"\n",
       "  215.288,89.9125 1288.08,929.288 1710.49,1258.71 2284.32,1443.78 1211.53,604.404 789.116,274.98 215.288,89.9125 \n",
       "  \"/>\n",
       "<path clip-path=\"url(#clip812)\" d=\"\n",
       "M2284.32 89.9125 L215.288 89.9125 L215.288 1443.78 L2284.32 1443.78 L2284.32 89.9125 L2284.32 89.9125  Z\n",
       "  \" fill=\"#e26f46\" fill-rule=\"evenodd\" fill-opacity=\"0.5\"/>\n",
       "<polyline clip-path=\"url(#clip812)\" style=\"stroke:#000000; stroke-width:4; stroke-opacity:0.5; fill:none\" points=\"\n",
       "  2284.32,89.9125 215.288,89.9125 215.288,1443.78 2284.32,1443.78 2284.32,89.9125 \n",
       "  \"/>\n",
       "<path clip-path=\"url(#clip812)\" d=\"\n",
       "M209.284 87.9763 L1710.49 1258.71 L2290.32 1445.72 L789.116 274.98 L209.284 87.9763 L209.284 87.9763  Z\n",
       "  \" fill=\"#3da44d\" fill-rule=\"evenodd\" fill-opacity=\"0.5\"/>\n",
       "<polyline clip-path=\"url(#clip812)\" style=\"stroke:#000000; stroke-width:4; stroke-opacity:0.5; fill:none\" points=\"\n",
       "  209.284,87.9763 1710.49,1258.71 2290.32,1445.72 789.116,274.98 209.284,87.9763 \n",
       "  \"/>\n",
       "</svg>\n"
      ]
     },
     "execution_count": 60,
     "metadata": {},
     "output_type": "execute_result"
    }
   ],
   "source": [
    "plot(Z)\n",
    "plot!(box_approximation(Z))\n",
    "plot!(TZ)"
   ]
  },
  {
   "cell_type": "code",
   "execution_count": 61,
   "metadata": {},
   "outputs": [
    {
     "data": {
      "text/plain": [
       "2-element Array{TaylorModel1{TaylorN{Float64},Float64},1}:\n",
       "   0.25644960976686537 + 1.8071791479853399 x₁ - 0.6980107202035731 x₂ + [0, 0]\n",
       "    1.6884435070916748 - 1.334814881168902 x₁ + 0.21321181789620283 x₂ + [0, 0]"
      ]
     },
     "execution_count": 61,
     "metadata": {},
     "output_type": "execute_result"
    }
   ],
   "source": [
    "set(T)"
   ]
  },
  {
   "cell_type": "code",
   "execution_count": 62,
   "metadata": {},
   "outputs": [
    {
     "data": {
      "text/plain": [
       "relu (generic function with 3 methods)"
      ]
     },
     "execution_count": 62,
     "metadata": {},
     "output_type": "execute_result"
    }
   ],
   "source": [
    "function relu(x::TaylorModel1{<:TaylorN{N}}) where N\n",
    "    t0 = 0.0 # dummy\n",
    "    y = TaylorModels.evaluate(x, t0)\n",
    "    n = get_numvars()\n",
    "    range = TaylorModels.evaluate(y, ReachabilityAnalysis.symBox(n))\n",
    "    \n",
    "    # completely contained in <= 0\n",
    "    relu(range) ≤ 0 && return interval(0.0)\n",
    "    \n",
    "    # otherwise intersect with > 0\n",
    "    return range ∩ (0 .. Inf)\n",
    "end"
   ]
  },
  {
   "cell_type": "code",
   "execution_count": 63,
   "metadata": {},
   "outputs": [
    {
     "data": {
      "text/plain": [
       "6-element Array{IntervalArithmetic.Interval{Float64},1}:\n",
       "    [0.896721, 1.93334]\n",
       " [0, 0.306496]\n",
       " [0, 0.584121]\n",
       "    [1.59476, 4.5211]\n",
       " [0, 1.85058]\n",
       "    [0.0193734, 3.21417]"
      ]
     },
     "execution_count": 63,
     "metadata": {},
     "output_type": "execute_result"
    }
   ],
   "source": [
    "nnm = A*set(T) + b\n",
    "relu.(nnm)"
   ]
  },
  {
   "cell_type": "code",
   "execution_count": 64,
   "metadata": {},
   "outputs": [
    {
     "name": "stdout",
     "output_type": "stream",
     "text": [
      "Trelu = convert(Hyperrectangle, IntervalBox(relu.(set(T)))) = Hyperrectangle{Float64,StaticArrays.SArray{Tuple{2},Float64,1,2},StaticArrays.SArray{Tuple{2},Float64,1,2}}([1.3808197389778893, 1.6884435070916748], [1.3808197389778893, 1.548026699065105])\n"
     ]
    },
    {
     "data": {
      "image/svg+xml": [
       "<?xml version=\"1.0\" encoding=\"utf-8\"?>\n",
       "<svg xmlns=\"http://www.w3.org/2000/svg\" xmlns:xlink=\"http://www.w3.org/1999/xlink\" width=\"600\" height=\"400\" viewBox=\"0 0 2400 1600\">\n",
       "<defs>\n",
       "  <clipPath id=\"clip850\">\n",
       "    <rect x=\"0\" y=\"0\" width=\"2400\" height=\"1600\"/>\n",
       "  </clipPath>\n",
       "</defs>\n",
       "<path clip-path=\"url(#clip850)\" d=\"\n",
       "M0 1600 L2400 1600 L2400 0 L0 0  Z\n",
       "  \" fill=\"#ffffff\" fill-rule=\"evenodd\" fill-opacity=\"1\"/>\n",
       "<defs>\n",
       "  <clipPath id=\"clip851\">\n",
       "    <rect x=\"480\" y=\"0\" width=\"1681\" height=\"1600\"/>\n",
       "  </clipPath>\n",
       "</defs>\n",
       "<path clip-path=\"url(#clip850)\" d=\"\n",
       "M146.853 1486.45 L2352.76 1486.45 L2352.76 47.2441 L146.853 47.2441  Z\n",
       "  \" fill=\"#ffffff\" fill-rule=\"evenodd\" fill-opacity=\"1\"/>\n",
       "<defs>\n",
       "  <clipPath id=\"clip852\">\n",
       "    <rect x=\"146\" y=\"47\" width=\"2207\" height=\"1440\"/>\n",
       "  </clipPath>\n",
       "</defs>\n",
       "<polyline clip-path=\"url(#clip852)\" style=\"stroke:#000000; stroke-width:2; stroke-opacity:0.1; fill:none\" points=\"\n",
       "  312.597,1486.45 312.597,47.2441 \n",
       "  \"/>\n",
       "<polyline clip-path=\"url(#clip852)\" style=\"stroke:#000000; stroke-width:2; stroke-opacity:0.1; fill:none\" points=\"\n",
       "  727.943,1486.45 727.943,47.2441 \n",
       "  \"/>\n",
       "<polyline clip-path=\"url(#clip852)\" style=\"stroke:#000000; stroke-width:2; stroke-opacity:0.1; fill:none\" points=\"\n",
       "  1143.29,1486.45 1143.29,47.2441 \n",
       "  \"/>\n",
       "<polyline clip-path=\"url(#clip852)\" style=\"stroke:#000000; stroke-width:2; stroke-opacity:0.1; fill:none\" points=\"\n",
       "  1558.63,1486.45 1558.63,47.2441 \n",
       "  \"/>\n",
       "<polyline clip-path=\"url(#clip852)\" style=\"stroke:#000000; stroke-width:2; stroke-opacity:0.1; fill:none\" points=\"\n",
       "  1973.98,1486.45 1973.98,47.2441 \n",
       "  \"/>\n",
       "<polyline clip-path=\"url(#clip850)\" style=\"stroke:#000000; stroke-width:4; stroke-opacity:1; fill:none\" points=\"\n",
       "  146.853,1486.45 2352.76,1486.45 \n",
       "  \"/>\n",
       "<polyline clip-path=\"url(#clip850)\" style=\"stroke:#000000; stroke-width:4; stroke-opacity:1; fill:none\" points=\"\n",
       "  312.597,1486.45 312.597,1469.18 \n",
       "  \"/>\n",
       "<polyline clip-path=\"url(#clip850)\" style=\"stroke:#000000; stroke-width:4; stroke-opacity:1; fill:none\" points=\"\n",
       "  727.943,1486.45 727.943,1469.18 \n",
       "  \"/>\n",
       "<polyline clip-path=\"url(#clip850)\" style=\"stroke:#000000; stroke-width:4; stroke-opacity:1; fill:none\" points=\"\n",
       "  1143.29,1486.45 1143.29,1469.18 \n",
       "  \"/>\n",
       "<polyline clip-path=\"url(#clip850)\" style=\"stroke:#000000; stroke-width:4; stroke-opacity:1; fill:none\" points=\"\n",
       "  1558.63,1486.45 1558.63,1469.18 \n",
       "  \"/>\n",
       "<polyline clip-path=\"url(#clip850)\" style=\"stroke:#000000; stroke-width:4; stroke-opacity:1; fill:none\" points=\"\n",
       "  1973.98,1486.45 1973.98,1469.18 \n",
       "  \"/>\n",
       "<path clip-path=\"url(#clip850)\" d=\"M 0 0 M285.051 1530.29 L314.727 1530.29 L314.727 1534.23 L285.051 1534.23 L285.051 1530.29 Z\" fill=\"#000000\" fill-rule=\"evenodd\" fill-opacity=\"1\" /><path clip-path=\"url(#clip850)\" d=\"M 0 0 M323.824 1543.18 L340.144 1543.18 L340.144 1547.12 L318.199 1547.12 L318.199 1543.18 Q320.861 1540.43 325.445 1535.8 Q330.051 1531.15 331.232 1529.81 Q333.477 1527.28 334.357 1525.55 Q335.259 1523.79 335.259 1522.1 Q335.259 1519.34 333.315 1517.61 Q331.394 1515.87 328.292 1515.87 Q326.093 1515.87 323.639 1516.63 Q321.208 1517.4 318.431 1518.95 L318.431 1514.23 Q321.255 1513.09 323.708 1512.51 Q326.162 1511.93 328.199 1511.93 Q333.569 1511.93 336.764 1514.62 Q339.958 1517.31 339.958 1521.8 Q339.958 1523.93 339.148 1525.85 Q338.361 1527.74 336.255 1530.34 Q335.676 1531.01 332.574 1534.23 Q329.472 1537.42 323.824 1543.18 Z\" fill=\"#000000\" fill-rule=\"evenodd\" fill-opacity=\"1\" /><path clip-path=\"url(#clip850)\" d=\"M 0 0 M700.212 1530.29 L729.888 1530.29 L729.888 1534.23 L700.212 1534.23 L700.212 1530.29 Z\" fill=\"#000000\" fill-rule=\"evenodd\" fill-opacity=\"1\" /><path clip-path=\"url(#clip850)\" d=\"M 0 0 M735.767 1543.18 L743.406 1543.18 L743.406 1516.82 L735.096 1518.49 L735.096 1514.23 L743.36 1512.56 L748.036 1512.56 L748.036 1543.18 L755.675 1543.18 L755.675 1547.12 L735.767 1547.12 L735.767 1543.18 Z\" fill=\"#000000\" fill-rule=\"evenodd\" fill-opacity=\"1\" /><path clip-path=\"url(#clip850)\" d=\"M 0 0 M1143.29 1515.64 Q1139.68 1515.64 1137.85 1519.2 Q1136.04 1522.75 1136.04 1529.87 Q1136.04 1536.98 1137.85 1540.55 Q1139.68 1544.09 1143.29 1544.09 Q1146.92 1544.09 1148.73 1540.55 Q1150.56 1536.98 1150.56 1529.87 Q1150.56 1522.75 1148.73 1519.2 Q1146.92 1515.64 1143.29 1515.64 M1143.29 1511.93 Q1149.1 1511.93 1152.15 1516.54 Q1155.23 1521.12 1155.23 1529.87 Q1155.23 1538.6 1152.15 1543.21 Q1149.1 1547.79 1143.29 1547.79 Q1137.48 1547.79 1134.4 1543.21 Q1131.34 1538.6 1131.34 1529.87 Q1131.34 1521.12 1134.4 1516.54 Q1137.48 1511.93 1143.29 1511.93 Z\" fill=\"#000000\" fill-rule=\"evenodd\" fill-opacity=\"1\" /><path clip-path=\"url(#clip850)\" d=\"M 0 0 M1549.02 1543.18 L1556.66 1543.18 L1556.66 1516.82 L1548.35 1518.49 L1548.35 1514.23 L1556.61 1512.56 L1561.29 1512.56 L1561.29 1543.18 L1568.92 1543.18 L1568.92 1547.12 L1549.02 1547.12 L1549.02 1543.18 Z\" fill=\"#000000\" fill-rule=\"evenodd\" fill-opacity=\"1\" /><path clip-path=\"url(#clip850)\" d=\"M 0 0 M1968.63 1543.18 L1984.95 1543.18 L1984.95 1547.12 L1963.01 1547.12 L1963.01 1543.18 Q1965.67 1540.43 1970.25 1535.8 Q1974.86 1531.15 1976.04 1529.81 Q1978.29 1527.28 1979.17 1525.55 Q1980.07 1523.79 1980.07 1522.1 Q1980.07 1519.34 1978.12 1517.61 Q1976.2 1515.87 1973.1 1515.87 Q1970.9 1515.87 1968.45 1516.63 Q1966.02 1517.4 1963.24 1518.95 L1963.24 1514.23 Q1966.06 1513.09 1968.52 1512.51 Q1970.97 1511.93 1973.01 1511.93 Q1978.38 1511.93 1981.57 1514.62 Q1984.77 1517.31 1984.77 1521.8 Q1984.77 1523.93 1983.96 1525.85 Q1983.17 1527.74 1981.06 1530.34 Q1980.49 1531.01 1977.38 1534.23 Q1974.28 1537.42 1968.63 1543.18 Z\" fill=\"#000000\" fill-rule=\"evenodd\" fill-opacity=\"1\" /><polyline clip-path=\"url(#clip852)\" style=\"stroke:#000000; stroke-width:2; stroke-opacity:0.1; fill:none\" points=\"\n",
       "  146.853,1288.02 2352.76,1288.02 \n",
       "  \"/>\n",
       "<polyline clip-path=\"url(#clip852)\" style=\"stroke:#000000; stroke-width:2; stroke-opacity:0.1; fill:none\" points=\"\n",
       "  146.853,1068.76 2352.76,1068.76 \n",
       "  \"/>\n",
       "<polyline clip-path=\"url(#clip852)\" style=\"stroke:#000000; stroke-width:2; stroke-opacity:0.1; fill:none\" points=\"\n",
       "  146.853,849.486 2352.76,849.486 \n",
       "  \"/>\n",
       "<polyline clip-path=\"url(#clip852)\" style=\"stroke:#000000; stroke-width:2; stroke-opacity:0.1; fill:none\" points=\"\n",
       "  146.853,630.216 2352.76,630.216 \n",
       "  \"/>\n",
       "<polyline clip-path=\"url(#clip852)\" style=\"stroke:#000000; stroke-width:2; stroke-opacity:0.1; fill:none\" points=\"\n",
       "  146.853,410.947 2352.76,410.947 \n",
       "  \"/>\n",
       "<polyline clip-path=\"url(#clip852)\" style=\"stroke:#000000; stroke-width:2; stroke-opacity:0.1; fill:none\" points=\"\n",
       "  146.853,191.678 2352.76,191.678 \n",
       "  \"/>\n",
       "<polyline clip-path=\"url(#clip850)\" style=\"stroke:#000000; stroke-width:4; stroke-opacity:1; fill:none\" points=\"\n",
       "  146.853,1486.45 146.853,47.2441 \n",
       "  \"/>\n",
       "<polyline clip-path=\"url(#clip850)\" style=\"stroke:#000000; stroke-width:4; stroke-opacity:1; fill:none\" points=\"\n",
       "  146.853,1288.02 173.324,1288.02 \n",
       "  \"/>\n",
       "<polyline clip-path=\"url(#clip850)\" style=\"stroke:#000000; stroke-width:4; stroke-opacity:1; fill:none\" points=\"\n",
       "  146.853,1068.76 173.324,1068.76 \n",
       "  \"/>\n",
       "<polyline clip-path=\"url(#clip850)\" style=\"stroke:#000000; stroke-width:4; stroke-opacity:1; fill:none\" points=\"\n",
       "  146.853,849.486 173.324,849.486 \n",
       "  \"/>\n",
       "<polyline clip-path=\"url(#clip850)\" style=\"stroke:#000000; stroke-width:4; stroke-opacity:1; fill:none\" points=\"\n",
       "  146.853,630.216 173.324,630.216 \n",
       "  \"/>\n",
       "<polyline clip-path=\"url(#clip850)\" style=\"stroke:#000000; stroke-width:4; stroke-opacity:1; fill:none\" points=\"\n",
       "  146.853,410.947 173.324,410.947 \n",
       "  \"/>\n",
       "<polyline clip-path=\"url(#clip850)\" style=\"stroke:#000000; stroke-width:4; stroke-opacity:1; fill:none\" points=\"\n",
       "  146.853,191.678 173.324,191.678 \n",
       "  \"/>\n",
       "<path clip-path=\"url(#clip850)\" d=\"M 0 0 M62.9365 1273.82 Q59.3254 1273.82 57.4967 1277.39 Q55.6912 1280.93 55.6912 1288.06 Q55.6912 1295.17 57.4967 1298.73 Q59.3254 1302.27 62.9365 1302.27 Q66.5707 1302.27 68.3763 1298.73 Q70.205 1295.17 70.205 1288.06 Q70.205 1280.93 68.3763 1277.39 Q66.5707 1273.82 62.9365 1273.82 M62.9365 1270.12 Q68.7467 1270.12 71.8022 1274.73 Q74.8809 1279.31 74.8809 1288.06 Q74.8809 1296.79 71.8022 1301.39 Q68.7467 1305.98 62.9365 1305.98 Q57.1264 1305.98 54.0477 1301.39 Q50.9921 1296.79 50.9921 1288.06 Q50.9921 1279.31 54.0477 1274.73 Q57.1264 1270.12 62.9365 1270.12 Z\" fill=\"#000000\" fill-rule=\"evenodd\" fill-opacity=\"1\" /><path clip-path=\"url(#clip850)\" d=\"M 0 0 M79.9503 1299.42 L84.8345 1299.42 L84.8345 1305.3 L79.9503 1305.3 L79.9503 1299.42 Z\" fill=\"#000000\" fill-rule=\"evenodd\" fill-opacity=\"1\" /><path clip-path=\"url(#clip850)\" d=\"M 0 0 M89.9503 1270.74 L108.307 1270.74 L108.307 1274.68 L94.2326 1274.68 L94.2326 1283.15 Q95.2511 1282.8 96.2697 1282.64 Q97.2882 1282.46 98.3067 1282.46 Q104.094 1282.46 107.473 1285.63 Q110.853 1288.8 110.853 1294.22 Q110.853 1299.8 107.381 1302.9 Q103.909 1305.98 97.5891 1305.98 Q95.4132 1305.98 93.1447 1305.61 Q90.8993 1305.24 88.4919 1304.49 L88.4919 1299.8 Q90.5752 1300.93 92.7975 1301.49 Q95.0197 1302.04 97.4965 1302.04 Q101.501 1302.04 103.839 1299.93 Q106.177 1297.83 106.177 1294.22 Q106.177 1290.61 103.839 1288.5 Q101.501 1286.39 97.4965 1286.39 Q95.6215 1286.39 93.7465 1286.81 Q91.8947 1287.23 89.9503 1288.11 L89.9503 1270.74 Z\" fill=\"#000000\" fill-rule=\"evenodd\" fill-opacity=\"1\" /><path clip-path=\"url(#clip850)\" d=\"M 0 0 M53.9782 1082.1 L61.6171 1082.1 L61.6171 1055.73 L53.3069 1057.4 L53.3069 1053.14 L61.5708 1051.48 L66.2467 1051.48 L66.2467 1082.1 L73.8855 1082.1 L73.8855 1086.04 L53.9782 1086.04 L53.9782 1082.1 Z\" fill=\"#000000\" fill-rule=\"evenodd\" fill-opacity=\"1\" /><path clip-path=\"url(#clip850)\" d=\"M 0 0 M78.9549 1080.16 L83.8392 1080.16 L83.8392 1086.04 L78.9549 1086.04 L78.9549 1080.16 Z\" fill=\"#000000\" fill-rule=\"evenodd\" fill-opacity=\"1\" /><path clip-path=\"url(#clip850)\" d=\"M 0 0 M98.9085 1054.55 Q95.2974 1054.55 93.4688 1058.12 Q91.6632 1061.66 91.6632 1068.79 Q91.6632 1075.9 93.4688 1079.46 Q95.2974 1083 98.9085 1083 Q102.543 1083 104.348 1079.46 Q106.177 1075.9 106.177 1068.79 Q106.177 1061.66 104.348 1058.12 Q102.543 1054.55 98.9085 1054.55 M98.9085 1050.85 Q104.719 1050.85 107.774 1055.46 Q110.853 1060.04 110.853 1068.79 Q110.853 1077.52 107.774 1082.12 Q104.719 1086.71 98.9085 1086.71 Q93.0984 1086.71 90.0197 1082.12 Q86.9642 1077.52 86.9642 1068.79 Q86.9642 1060.04 90.0197 1055.46 Q93.0984 1050.85 98.9085 1050.85 Z\" fill=\"#000000\" fill-rule=\"evenodd\" fill-opacity=\"1\" /><path clip-path=\"url(#clip850)\" d=\"M 0 0 M54.9736 862.831 L62.6124 862.831 L62.6124 836.465 L54.3023 838.132 L54.3023 833.872 L62.5661 832.206 L67.242 832.206 L67.242 862.831 L74.8809 862.831 L74.8809 866.766 L54.9736 866.766 L54.9736 862.831 Z\" fill=\"#000000\" fill-rule=\"evenodd\" fill-opacity=\"1\" /><path clip-path=\"url(#clip850)\" d=\"M 0 0 M79.9503 860.886 L84.8345 860.886 L84.8345 866.766 L79.9503 866.766 L79.9503 860.886 Z\" fill=\"#000000\" fill-rule=\"evenodd\" fill-opacity=\"1\" /><path clip-path=\"url(#clip850)\" d=\"M 0 0 M89.9503 832.206 L108.307 832.206 L108.307 836.141 L94.2326 836.141 L94.2326 844.613 Q95.2511 844.266 96.2697 844.104 Q97.2882 843.919 98.3067 843.919 Q104.094 843.919 107.473 847.09 Q110.853 850.261 110.853 855.678 Q110.853 861.257 107.381 864.358 Q103.909 867.437 97.5891 867.437 Q95.4132 867.437 93.1447 867.067 Q90.8993 866.696 88.4919 865.956 L88.4919 861.257 Q90.5752 862.391 92.7975 862.946 Q95.0197 863.502 97.4965 863.502 Q101.501 863.502 103.839 861.395 Q106.177 859.289 106.177 855.678 Q106.177 852.067 103.839 849.96 Q101.501 847.854 97.4965 847.854 Q95.6215 847.854 93.7465 848.27 Q91.8947 848.687 89.9503 849.567 L89.9503 832.206 Z\" fill=\"#000000\" fill-rule=\"evenodd\" fill-opacity=\"1\" /><path clip-path=\"url(#clip850)\" d=\"M 0 0 M57.5662 643.561 L73.8855 643.561 L73.8855 647.496 L51.9412 647.496 L51.9412 643.561 Q54.6032 640.807 59.1865 636.177 Q63.793 631.524 64.9735 630.182 Q67.2189 627.659 68.0985 625.922 Q69.0013 624.163 69.0013 622.473 Q69.0013 619.719 67.0569 617.983 Q65.1356 616.247 62.0337 616.247 Q59.8347 616.247 57.381 617.01 Q54.9504 617.774 52.1727 619.325 L52.1727 614.603 Q54.9967 613.469 57.4504 612.89 Q59.9041 612.311 61.9411 612.311 Q67.3115 612.311 70.5059 614.997 Q73.7003 617.682 73.7003 622.172 Q73.7003 624.302 72.8902 626.223 Q72.1031 628.121 69.9967 630.714 Q69.418 631.385 66.3161 634.603 Q63.2143 637.797 57.5662 643.561 Z\" fill=\"#000000\" fill-rule=\"evenodd\" fill-opacity=\"1\" /><path clip-path=\"url(#clip850)\" d=\"M 0 0 M78.9549 641.617 L83.8392 641.617 L83.8392 647.496 L78.9549 647.496 L78.9549 641.617 Z\" fill=\"#000000\" fill-rule=\"evenodd\" fill-opacity=\"1\" /><path clip-path=\"url(#clip850)\" d=\"M 0 0 M98.9085 616.015 Q95.2974 616.015 93.4688 619.58 Q91.6632 623.122 91.6632 630.251 Q91.6632 637.358 93.4688 640.922 Q95.2974 644.464 98.9085 644.464 Q102.543 644.464 104.348 640.922 Q106.177 637.358 106.177 630.251 Q106.177 623.122 104.348 619.58 Q102.543 616.015 98.9085 616.015 M98.9085 612.311 Q104.719 612.311 107.774 616.918 Q110.853 621.501 110.853 630.251 Q110.853 638.978 107.774 643.584 Q104.719 648.168 98.9085 648.168 Q93.0984 648.168 90.0197 643.584 Q86.9642 638.978 86.9642 630.251 Q86.9642 621.501 90.0197 616.918 Q93.0984 612.311 98.9085 612.311 Z\" fill=\"#000000\" fill-rule=\"evenodd\" fill-opacity=\"1\" /><path clip-path=\"url(#clip850)\" d=\"M 0 0 M58.5615 424.292 L74.8809 424.292 L74.8809 428.227 L52.9366 428.227 L52.9366 424.292 Q55.5986 421.537 60.1819 416.908 Q64.7883 412.255 65.9689 410.912 Q68.2143 408.389 69.0939 406.653 Q69.9967 404.894 69.9967 403.204 Q69.9967 400.449 68.0522 398.713 Q66.1309 396.977 63.0291 396.977 Q60.83 396.977 58.3763 397.741 Q55.9458 398.505 53.168 400.056 L53.168 395.334 Q55.9921 394.199 58.4458 393.621 Q60.8995 393.042 62.9365 393.042 Q68.3068 393.042 71.5013 395.727 Q74.6957 398.412 74.6957 402.903 Q74.6957 405.033 73.8855 406.954 Q73.0985 408.852 70.992 411.445 Q70.4133 412.116 67.3115 415.334 Q64.2096 418.528 58.5615 424.292 Z\" fill=\"#000000\" fill-rule=\"evenodd\" fill-opacity=\"1\" /><path clip-path=\"url(#clip850)\" d=\"M 0 0 M79.9503 422.347 L84.8345 422.347 L84.8345 428.227 L79.9503 428.227 L79.9503 422.347 Z\" fill=\"#000000\" fill-rule=\"evenodd\" fill-opacity=\"1\" /><path clip-path=\"url(#clip850)\" d=\"M 0 0 M89.9503 393.667 L108.307 393.667 L108.307 397.602 L94.2326 397.602 L94.2326 406.074 Q95.2511 405.727 96.2697 405.565 Q97.2882 405.38 98.3067 405.38 Q104.094 405.38 107.473 408.551 Q110.853 411.722 110.853 417.139 Q110.853 422.718 107.381 425.82 Q103.909 428.898 97.5891 428.898 Q95.4132 428.898 93.1447 428.528 Q90.8993 428.158 88.4919 427.417 L88.4919 422.718 Q90.5752 423.852 92.7975 424.408 Q95.0197 424.963 97.4965 424.963 Q101.501 424.963 103.839 422.857 Q106.177 420.75 106.177 417.139 Q106.177 413.528 103.839 411.422 Q101.501 409.315 97.4965 409.315 Q95.6215 409.315 93.7465 409.732 Q91.8947 410.148 89.9503 411.028 L89.9503 393.667 Z\" fill=\"#000000\" fill-rule=\"evenodd\" fill-opacity=\"1\" /><path clip-path=\"url(#clip850)\" d=\"M 0 0 M66.7559 190.323 Q70.1124 191.041 71.9874 193.31 Q73.8855 195.578 73.8855 198.911 Q73.8855 204.027 70.367 206.828 Q66.8485 209.629 60.3671 209.629 Q58.1912 209.629 55.8764 209.189 Q53.5847 208.772 51.131 207.916 L51.131 203.402 Q53.0754 204.536 55.3903 205.115 Q57.7051 205.694 60.2282 205.694 Q64.6263 205.694 66.918 203.958 Q69.2328 202.222 69.2328 198.911 Q69.2328 195.856 67.08 194.143 Q64.9504 192.407 61.131 192.407 L57.1032 192.407 L57.1032 188.564 L61.3161 188.564 Q64.7652 188.564 66.5939 187.198 Q68.4226 185.81 68.4226 183.217 Q68.4226 180.555 66.5245 179.143 Q64.6495 177.708 61.131 177.708 Q59.2097 177.708 57.0106 178.124 Q54.8115 178.541 52.1727 179.421 L52.1727 175.254 Q54.8347 174.513 57.1495 174.143 Q59.4875 173.773 61.5476 173.773 Q66.8717 173.773 69.9735 176.203 Q73.0753 178.611 73.0753 182.731 Q73.0753 185.601 71.4318 187.592 Q69.7883 189.56 66.7559 190.323 Z\" fill=\"#000000\" fill-rule=\"evenodd\" fill-opacity=\"1\" /><path clip-path=\"url(#clip850)\" d=\"M 0 0 M78.9549 203.078 L83.8392 203.078 L83.8392 208.958 L78.9549 208.958 L78.9549 203.078 Z\" fill=\"#000000\" fill-rule=\"evenodd\" fill-opacity=\"1\" /><path clip-path=\"url(#clip850)\" d=\"M 0 0 M98.9085 177.476 Q95.2974 177.476 93.4688 181.041 Q91.6632 184.583 91.6632 191.712 Q91.6632 198.819 93.4688 202.384 Q95.2974 205.925 98.9085 205.925 Q102.543 205.925 104.348 202.384 Q106.177 198.819 106.177 191.712 Q106.177 184.583 104.348 181.041 Q102.543 177.476 98.9085 177.476 M98.9085 173.773 Q104.719 173.773 107.774 178.379 Q110.853 182.962 110.853 191.712 Q110.853 200.439 107.774 205.046 Q104.719 209.629 98.9085 209.629 Q93.0984 209.629 90.0197 205.046 Q86.9642 200.439 86.9642 191.712 Q86.9642 182.962 90.0197 178.379 Q93.0984 173.773 98.9085 173.773 Z\" fill=\"#000000\" fill-rule=\"evenodd\" fill-opacity=\"1\" /><path clip-path=\"url(#clip852)\" d=\"\n",
       "M209.284 87.9763 L1710.49 1258.71 L2290.32 1445.72 L789.116 274.98 L209.284 87.9763 L209.284 87.9763  Z\n",
       "  \" fill=\"#009af9\" fill-rule=\"evenodd\" fill-opacity=\"0.5\"/>\n",
       "<polyline clip-path=\"url(#clip852)\" style=\"stroke:#000000; stroke-width:4; stroke-opacity:0.5; fill:none\" points=\"\n",
       "  209.284,87.9763 1710.49,1258.71 2290.32,1445.72 789.116,274.98 209.284,87.9763 \n",
       "  \"/>\n",
       "<path clip-path=\"url(#clip852)\" d=\"\n",
       "M2290.32 87.9763 L1143.29 87.9763 L1143.29 1445.72 L2290.32 1445.72 L2290.32 87.9763 L2290.32 87.9763  Z\n",
       "  \" fill=\"#e26f46\" fill-rule=\"evenodd\" fill-opacity=\"0.5\"/>\n",
       "<polyline clip-path=\"url(#clip852)\" style=\"stroke:#000000; stroke-width:4; stroke-opacity:0.5; fill:none\" points=\"\n",
       "  2290.32,87.9763 1143.29,87.9763 1143.29,1445.72 2290.32,1445.72 2290.32,87.9763 \n",
       "  \"/>\n",
       "<path clip-path=\"url(#clip852)\" d=\"\n",
       "M628.481 87.9763 L1455.92 1258.71 L1775.52 1445.72 L2290.32 1445.72 L1462.88 274.98 L1143.29 87.9763 L628.481 87.9763 L628.481 87.9763  Z\n",
       "  \" fill=\"#3da44d\" fill-rule=\"evenodd\" fill-opacity=\"0.5\"/>\n",
       "<polyline clip-path=\"url(#clip852)\" style=\"stroke:#000000; stroke-width:4; stroke-opacity:0.5; fill:none\" points=\"\n",
       "  628.481,87.9763 1455.92,1258.71 1775.52,1445.72 2290.32,1445.72 1462.88,274.98 1143.29,87.9763 628.481,87.9763 \n",
       "  \"/>\n",
       "<path clip-path=\"url(#clip850)\" d=\"\n",
       "M220.383 337.138 L597.126 337.138 L597.126 95.2176 L220.383 95.2176  Z\n",
       "  \" fill=\"#ffffff\" fill-rule=\"evenodd\" fill-opacity=\"1\"/>\n",
       "<polyline clip-path=\"url(#clip850)\" style=\"stroke:#000000; stroke-width:4; stroke-opacity:1; fill:none\" points=\"\n",
       "  220.383,337.138 597.126,337.138 597.126,95.2176 220.383,95.2176 220.383,337.138 \n",
       "  \"/>\n",
       "<path clip-path=\"url(#clip850)\" d=\"\n",
       "M244.893 179.89 L391.953 179.89 L391.953 131.506 L244.893 131.506 L244.893 179.89  Z\n",
       "  \" fill=\"#009af9\" fill-rule=\"evenodd\" fill-opacity=\"0.5\"/>\n",
       "<polyline clip-path=\"url(#clip850)\" style=\"stroke:#000000; stroke-width:4; stroke-opacity:1; fill:none\" points=\"\n",
       "  244.893,179.89 391.953,179.89 391.953,131.506 244.893,131.506 244.893,179.89 \n",
       "  \"/>\n",
       "<path clip-path=\"url(#clip850)\" d=\"M 0 0 M416.463 138.418 L445.699 138.418 L445.699 142.353 L433.431 142.353 L433.431 172.978 L428.732 172.978 L428.732 142.353 L416.463 142.353 L416.463 138.418 Z\" fill=\"#000000\" fill-rule=\"evenodd\" fill-opacity=\"1\" /><path clip-path=\"url(#clip850)\" d=\"M 0 0 M448.361 138.418 L475.514 138.418 L475.514 141.982 L453.662 169.042 L476.046 169.042 L476.046 172.978 L447.829 172.978 L447.829 169.413 L469.681 142.353 L448.361 142.353 L448.361 138.418 Z\" fill=\"#000000\" fill-rule=\"evenodd\" fill-opacity=\"1\" /><path clip-path=\"url(#clip850)\" d=\"\n",
       "M244.893 240.37 L391.953 240.37 L391.953 191.986 L244.893 191.986 L244.893 240.37  Z\n",
       "  \" fill=\"#e26f46\" fill-rule=\"evenodd\" fill-opacity=\"0.5\"/>\n",
       "<polyline clip-path=\"url(#clip850)\" style=\"stroke:#000000; stroke-width:4; stroke-opacity:1; fill:none\" points=\"\n",
       "  244.893,240.37 391.953,240.37 391.953,191.986 244.893,191.986 244.893,240.37 \n",
       "  \"/>\n",
       "<path clip-path=\"url(#clip850)\" d=\"M 0 0 M416.463 198.898 L445.699 198.898 L445.699 202.833 L433.431 202.833 L433.431 233.458 L428.732 233.458 L428.732 202.833 L416.463 202.833 L416.463 198.898 Z\" fill=\"#000000\" fill-rule=\"evenodd\" fill-opacity=\"1\" /><path clip-path=\"url(#clip850)\" d=\"M 0 0 M458.222 211.513 Q457.505 211.097 456.648 210.911 Q455.815 210.703 454.796 210.703 Q451.185 210.703 449.241 213.064 Q447.32 215.402 447.32 219.8 L447.32 233.458 L443.037 233.458 L443.037 207.532 L447.32 207.532 L447.32 211.56 Q448.662 209.198 450.815 208.064 Q452.968 206.907 456.046 206.907 Q456.486 206.907 457.019 206.976 Q457.551 207.023 458.199 207.138 L458.222 211.513 Z\" fill=\"#000000\" fill-rule=\"evenodd\" fill-opacity=\"1\" /><path clip-path=\"url(#clip850)\" d=\"M 0 0 M483.824 219.43 L483.824 221.513 L464.241 221.513 Q464.519 225.911 466.88 228.226 Q469.264 230.518 473.5 230.518 Q475.954 230.518 478.245 229.916 Q480.56 229.314 482.829 228.11 L482.829 232.138 Q480.537 233.11 478.13 233.62 Q475.722 234.129 473.245 234.129 Q467.042 234.129 463.407 230.518 Q459.796 226.907 459.796 220.749 Q459.796 214.384 463.222 210.657 Q466.671 206.907 472.505 206.907 Q477.736 206.907 480.768 210.286 Q483.824 213.643 483.824 219.43 M479.565 218.18 Q479.518 214.685 477.597 212.601 Q475.699 210.518 472.551 210.518 Q468.986 210.518 466.833 212.532 Q464.704 214.546 464.38 218.203 L479.565 218.18 Z\" fill=\"#000000\" fill-rule=\"evenodd\" fill-opacity=\"1\" /><path clip-path=\"url(#clip850)\" d=\"M 0 0 M488.292 197.439 L492.551 197.439 L492.551 233.458 L488.292 233.458 L488.292 197.439 Z\" fill=\"#000000\" fill-rule=\"evenodd\" fill-opacity=\"1\" /><path clip-path=\"url(#clip850)\" d=\"M 0 0 M496.579 223.226 L496.579 207.532 L500.838 207.532 L500.838 223.064 Q500.838 226.745 502.273 228.596 Q503.708 230.425 506.579 230.425 Q510.028 230.425 512.018 228.226 Q514.032 226.027 514.032 222.231 L514.032 207.532 L518.291 207.532 L518.291 233.458 L514.032 233.458 L514.032 229.476 Q512.481 231.837 510.421 232.995 Q508.384 234.129 505.676 234.129 Q501.208 234.129 498.893 231.351 Q496.579 228.573 496.579 223.226 M507.296 206.907 L507.296 206.907 Z\" fill=\"#000000\" fill-rule=\"evenodd\" fill-opacity=\"1\" /><path clip-path=\"url(#clip850)\" d=\"\n",
       "M244.893 300.85 L391.953 300.85 L391.953 252.466 L244.893 252.466 L244.893 300.85  Z\n",
       "  \" fill=\"#3da44d\" fill-rule=\"evenodd\" fill-opacity=\"0.5\"/>\n",
       "<polyline clip-path=\"url(#clip850)\" style=\"stroke:#000000; stroke-width:4; stroke-opacity:1; fill:none\" points=\"\n",
       "  244.893,300.85 391.953,300.85 391.953,252.466 244.893,252.466 244.893,300.85 \n",
       "  \"/>\n",
       "<path clip-path=\"url(#clip850)\" d=\"M 0 0 M416.463 259.378 L445.699 259.378 L445.699 263.313 L433.431 263.313 L433.431 293.938 L428.732 293.938 L428.732 263.313 L416.463 263.313 L416.463 259.378 Z\" fill=\"#000000\" fill-rule=\"evenodd\" fill-opacity=\"1\" /><path clip-path=\"url(#clip850)\" d=\"M 0 0 M448.315 268.012 L468.546 268.012 L468.546 271.901 L452.528 290.535 L468.546 290.535 L468.546 293.938 L447.736 293.938 L447.736 290.049 L463.755 271.415 L448.315 271.415 L448.315 268.012 Z\" fill=\"#000000\" fill-rule=\"evenodd\" fill-opacity=\"1\" /><path clip-path=\"url(#clip850)\" d=\"M 0 0 M488.037 271.993 Q487.319 271.577 486.463 271.391 Q485.63 271.183 484.611 271.183 Q481 271.183 479.056 273.544 Q477.134 275.882 477.134 280.28 L477.134 293.938 L472.852 293.938 L472.852 268.012 L477.134 268.012 L477.134 272.04 Q478.477 269.678 480.63 268.544 Q482.782 267.387 485.861 267.387 Q486.301 267.387 486.833 267.456 Q487.366 267.503 488.014 267.618 L488.037 271.993 Z\" fill=\"#000000\" fill-rule=\"evenodd\" fill-opacity=\"1\" /><path clip-path=\"url(#clip850)\" d=\"M 0 0 M513.639 279.91 L513.639 281.993 L494.055 281.993 Q494.333 286.391 496.694 288.706 Q499.079 290.998 503.315 290.998 Q505.768 290.998 508.06 290.396 Q510.375 289.794 512.643 288.59 L512.643 292.618 Q510.352 293.59 507.944 294.1 Q505.537 294.609 503.06 294.609 Q496.856 294.609 493.222 290.998 Q489.611 287.387 489.611 281.229 Q489.611 274.864 493.037 271.137 Q496.486 267.387 502.319 267.387 Q507.551 267.387 510.583 270.766 Q513.639 274.123 513.639 279.91 M509.379 278.66 Q509.333 275.165 507.412 273.081 Q505.514 270.998 502.366 270.998 Q498.801 270.998 496.648 273.012 Q494.518 275.026 494.194 278.683 L509.379 278.66 Z\" fill=\"#000000\" fill-rule=\"evenodd\" fill-opacity=\"1\" /><path clip-path=\"url(#clip850)\" d=\"M 0 0 M518.106 257.919 L522.365 257.919 L522.365 293.938 L518.106 293.938 L518.106 257.919 Z\" fill=\"#000000\" fill-rule=\"evenodd\" fill-opacity=\"1\" /><path clip-path=\"url(#clip850)\" d=\"M 0 0 M526.393 283.706 L526.393 268.012 L530.652 268.012 L530.652 283.544 Q530.652 287.225 532.088 289.076 Q533.523 290.905 536.393 290.905 Q539.842 290.905 541.833 288.706 Q543.847 286.507 543.847 282.711 L543.847 268.012 L548.106 268.012 L548.106 293.938 L543.847 293.938 L543.847 289.956 Q542.296 292.317 540.236 293.475 Q538.199 294.609 535.49 294.609 Q531.023 294.609 528.708 291.831 Q526.393 289.053 526.393 283.706 M537.111 267.387 L537.111 267.387 Z\" fill=\"#000000\" fill-rule=\"evenodd\" fill-opacity=\"1\" /></svg>\n"
      ]
     },
     "execution_count": 64,
     "metadata": {},
     "output_type": "execute_result"
    }
   ],
   "source": [
    "plot(TZ, lab=\"TZ\")\n",
    "\n",
    "@show Trelu = convert(Hyperrectangle, IntervalBox(relu.(set(T))))\n",
    "\n",
    "TZrelu = overapproximate(Rectification(TZ), Zonotope) # uses AI2\n",
    "\n",
    "plot!(Trelu, lab=\"Trelu\", legend=:topleft)\n",
    "\n",
    "plot!(TZrelu, lab=\"Tzrelu\")"
   ]
  },
  {
   "cell_type": "markdown",
   "metadata": {},
   "source": [
    "Another random example:"
   ]
  },
  {
   "cell_type": "code",
   "execution_count": 65,
   "metadata": {},
   "outputs": [
    {
     "name": "stdout",
     "output_type": "stream",
     "text": [
      "Trelu = convert(Hyperrectangle, IntervalBox(relu.(set(T)))) = Hyperrectangle{Float64,StaticArrays.SArray{Tuple{2},Float64,1,2},StaticArrays.SArray{Tuple{2},Float64,1,2}}([0.0, 0.0], [0.0, 0.0])\n"
     ]
    },
    {
     "data": {
      "image/svg+xml": [
       "<?xml version=\"1.0\" encoding=\"utf-8\"?>\n",
       "<svg xmlns=\"http://www.w3.org/2000/svg\" xmlns:xlink=\"http://www.w3.org/1999/xlink\" width=\"600\" height=\"400\" viewBox=\"0 0 2400 1600\">\n",
       "<defs>\n",
       "  <clipPath id=\"clip890\">\n",
       "    <rect x=\"0\" y=\"0\" width=\"2400\" height=\"1600\"/>\n",
       "  </clipPath>\n",
       "</defs>\n",
       "<path clip-path=\"url(#clip890)\" d=\"\n",
       "M0 1600 L2400 1600 L2400 0 L0 0  Z\n",
       "  \" fill=\"#ffffff\" fill-rule=\"evenodd\" fill-opacity=\"1\"/>\n",
       "<defs>\n",
       "  <clipPath id=\"clip891\">\n",
       "    <rect x=\"480\" y=\"0\" width=\"1681\" height=\"1600\"/>\n",
       "  </clipPath>\n",
       "</defs>\n",
       "<path clip-path=\"url(#clip890)\" d=\"\n",
       "M143.033 1486.45 L2352.76 1486.45 L2352.76 47.2441 L143.033 47.2441  Z\n",
       "  \" fill=\"#ffffff\" fill-rule=\"evenodd\" fill-opacity=\"1\"/>\n",
       "<defs>\n",
       "  <clipPath id=\"clip892\">\n",
       "    <rect x=\"143\" y=\"47\" width=\"2211\" height=\"1440\"/>\n",
       "  </clipPath>\n",
       "</defs>\n",
       "<polyline clip-path=\"url(#clip892)\" style=\"stroke:#000000; stroke-width:2; stroke-opacity:0.1; fill:none\" points=\"\n",
       "  248.958,1486.45 248.958,47.2441 \n",
       "  \"/>\n",
       "<polyline clip-path=\"url(#clip892)\" style=\"stroke:#000000; stroke-width:2; stroke-opacity:0.1; fill:none\" points=\"\n",
       "  759.273,1486.45 759.273,47.2441 \n",
       "  \"/>\n",
       "<polyline clip-path=\"url(#clip892)\" style=\"stroke:#000000; stroke-width:2; stroke-opacity:0.1; fill:none\" points=\"\n",
       "  1269.59,1486.45 1269.59,47.2441 \n",
       "  \"/>\n",
       "<polyline clip-path=\"url(#clip892)\" style=\"stroke:#000000; stroke-width:2; stroke-opacity:0.1; fill:none\" points=\"\n",
       "  1779.9,1486.45 1779.9,47.2441 \n",
       "  \"/>\n",
       "<polyline clip-path=\"url(#clip892)\" style=\"stroke:#000000; stroke-width:2; stroke-opacity:0.1; fill:none\" points=\"\n",
       "  2290.22,1486.45 2290.22,47.2441 \n",
       "  \"/>\n",
       "<polyline clip-path=\"url(#clip890)\" style=\"stroke:#000000; stroke-width:4; stroke-opacity:1; fill:none\" points=\"\n",
       "  143.033,1486.45 2352.76,1486.45 \n",
       "  \"/>\n",
       "<polyline clip-path=\"url(#clip890)\" style=\"stroke:#000000; stroke-width:4; stroke-opacity:1; fill:none\" points=\"\n",
       "  248.958,1486.45 248.958,1469.18 \n",
       "  \"/>\n",
       "<polyline clip-path=\"url(#clip890)\" style=\"stroke:#000000; stroke-width:4; stroke-opacity:1; fill:none\" points=\"\n",
       "  759.273,1486.45 759.273,1469.18 \n",
       "  \"/>\n",
       "<polyline clip-path=\"url(#clip890)\" style=\"stroke:#000000; stroke-width:4; stroke-opacity:1; fill:none\" points=\"\n",
       "  1269.59,1486.45 1269.59,1469.18 \n",
       "  \"/>\n",
       "<polyline clip-path=\"url(#clip890)\" style=\"stroke:#000000; stroke-width:4; stroke-opacity:1; fill:none\" points=\"\n",
       "  1779.9,1486.45 1779.9,1469.18 \n",
       "  \"/>\n",
       "<polyline clip-path=\"url(#clip890)\" style=\"stroke:#000000; stroke-width:4; stroke-opacity:1; fill:none\" points=\"\n",
       "  2290.22,1486.45 2290.22,1469.18 \n",
       "  \"/>\n",
       "<path clip-path=\"url(#clip890)\" d=\"M 0 0 M202.928 1530.29 L232.604 1530.29 L232.604 1534.23 L202.928 1534.23 L202.928 1530.29 Z\" fill=\"#000000\" fill-rule=\"evenodd\" fill-opacity=\"1\" /><path clip-path=\"url(#clip890)\" d=\"M 0 0 M241.701 1543.18 L258.021 1543.18 L258.021 1547.12 L236.076 1547.12 L236.076 1543.18 Q238.738 1540.43 243.322 1535.8 Q247.928 1531.15 249.109 1529.81 Q251.354 1527.28 252.234 1525.55 Q253.136 1523.79 253.136 1522.1 Q253.136 1519.34 251.192 1517.61 Q249.271 1515.87 246.169 1515.87 Q243.97 1515.87 241.516 1516.63 Q239.085 1517.4 236.308 1518.95 L236.308 1514.23 Q239.132 1513.09 241.585 1512.51 Q244.039 1511.93 246.076 1511.93 Q251.447 1511.93 254.641 1514.62 Q257.835 1517.31 257.835 1521.8 Q257.835 1523.93 257.025 1525.85 Q256.238 1527.74 254.132 1530.34 Q253.553 1531.01 250.451 1534.23 Q247.349 1537.42 241.701 1543.18 Z\" fill=\"#000000\" fill-rule=\"evenodd\" fill-opacity=\"1\" /><path clip-path=\"url(#clip890)\" d=\"M 0 0 M263.09 1541.24 L267.974 1541.24 L267.974 1547.12 L263.09 1547.12 L263.09 1541.24 Z\" fill=\"#000000\" fill-rule=\"evenodd\" fill-opacity=\"1\" /><path clip-path=\"url(#clip890)\" d=\"M 0 0 M283.044 1515.64 Q279.432 1515.64 277.604 1519.2 Q275.798 1522.75 275.798 1529.87 Q275.798 1536.98 277.604 1540.55 Q279.432 1544.09 283.044 1544.09 Q286.678 1544.09 288.483 1540.55 Q290.312 1536.98 290.312 1529.87 Q290.312 1522.75 288.483 1519.2 Q286.678 1515.64 283.044 1515.64 M283.044 1511.93 Q288.854 1511.93 291.909 1516.54 Q294.988 1521.12 294.988 1529.87 Q294.988 1538.6 291.909 1543.21 Q288.854 1547.79 283.044 1547.79 Q277.233 1547.79 274.155 1543.21 Q271.099 1538.6 271.099 1529.87 Q271.099 1521.12 274.155 1516.54 Q277.233 1511.93 283.044 1511.93 Z\" fill=\"#000000\" fill-rule=\"evenodd\" fill-opacity=\"1\" /><path clip-path=\"url(#clip890)\" d=\"M 0 0 M713.555 1530.29 L743.231 1530.29 L743.231 1534.23 L713.555 1534.23 L713.555 1530.29 Z\" fill=\"#000000\" fill-rule=\"evenodd\" fill-opacity=\"1\" /><path clip-path=\"url(#clip890)\" d=\"M 0 0 M749.111 1543.18 L756.75 1543.18 L756.75 1516.82 L748.439 1518.49 L748.439 1514.23 L756.703 1512.56 L761.379 1512.56 L761.379 1543.18 L769.018 1543.18 L769.018 1547.12 L749.111 1547.12 L749.111 1543.18 Z\" fill=\"#000000\" fill-rule=\"evenodd\" fill-opacity=\"1\" /><path clip-path=\"url(#clip890)\" d=\"M 0 0 M774.087 1541.24 L778.972 1541.24 L778.972 1547.12 L774.087 1547.12 L774.087 1541.24 Z\" fill=\"#000000\" fill-rule=\"evenodd\" fill-opacity=\"1\" /><path clip-path=\"url(#clip890)\" d=\"M 0 0 M784.087 1512.56 L802.444 1512.56 L802.444 1516.5 L788.37 1516.5 L788.37 1524.97 Q789.388 1524.62 790.407 1524.46 Q791.425 1524.27 792.444 1524.27 Q798.231 1524.27 801.61 1527.44 Q804.99 1530.62 804.99 1536.03 Q804.99 1541.61 801.518 1544.71 Q798.046 1547.79 791.726 1547.79 Q789.55 1547.79 787.282 1547.42 Q785.036 1547.05 782.629 1546.31 L782.629 1541.61 Q784.712 1542.74 786.935 1543.3 Q789.157 1543.86 791.634 1543.86 Q795.638 1543.86 797.976 1541.75 Q800.314 1539.64 800.314 1536.03 Q800.314 1532.42 797.976 1530.31 Q795.638 1528.21 791.634 1528.21 Q789.759 1528.21 787.884 1528.62 Q786.032 1529.04 784.087 1529.92 L784.087 1512.56 Z\" fill=\"#000000\" fill-rule=\"evenodd\" fill-opacity=\"1\" /><path clip-path=\"url(#clip890)\" d=\"M 0 0 M1223.37 1530.29 L1253.05 1530.29 L1253.05 1534.23 L1223.37 1534.23 L1223.37 1530.29 Z\" fill=\"#000000\" fill-rule=\"evenodd\" fill-opacity=\"1\" /><path clip-path=\"url(#clip890)\" d=\"M 0 0 M1258.93 1543.18 L1266.57 1543.18 L1266.57 1516.82 L1258.26 1518.49 L1258.26 1514.23 L1266.52 1512.56 L1271.2 1512.56 L1271.2 1543.18 L1278.83 1543.18 L1278.83 1547.12 L1258.93 1547.12 L1258.93 1543.18 Z\" fill=\"#000000\" fill-rule=\"evenodd\" fill-opacity=\"1\" /><path clip-path=\"url(#clip890)\" d=\"M 0 0 M1283.9 1541.24 L1288.79 1541.24 L1288.79 1547.12 L1283.9 1547.12 L1283.9 1541.24 Z\" fill=\"#000000\" fill-rule=\"evenodd\" fill-opacity=\"1\" /><path clip-path=\"url(#clip890)\" d=\"M 0 0 M1303.86 1515.64 Q1300.25 1515.64 1298.42 1519.2 Q1296.61 1522.75 1296.61 1529.87 Q1296.61 1536.98 1298.42 1540.55 Q1300.25 1544.09 1303.86 1544.09 Q1307.49 1544.09 1309.3 1540.55 Q1311.13 1536.98 1311.13 1529.87 Q1311.13 1522.75 1309.3 1519.2 Q1307.49 1515.64 1303.86 1515.64 M1303.86 1511.93 Q1309.67 1511.93 1312.72 1516.54 Q1315.8 1521.12 1315.8 1529.87 Q1315.8 1538.6 1312.72 1543.21 Q1309.67 1547.79 1303.86 1547.79 Q1298.05 1547.79 1294.97 1543.21 Q1291.91 1538.6 1291.91 1529.87 Q1291.91 1521.12 1294.97 1516.54 Q1298.05 1511.93 1303.86 1511.93 Z\" fill=\"#000000\" fill-rule=\"evenodd\" fill-opacity=\"1\" /><path clip-path=\"url(#clip890)\" d=\"M 0 0 M1733.57 1530.29 L1763.25 1530.29 L1763.25 1534.23 L1733.57 1534.23 L1733.57 1530.29 Z\" fill=\"#000000\" fill-rule=\"evenodd\" fill-opacity=\"1\" /><path clip-path=\"url(#clip890)\" d=\"M 0 0 M1778.32 1515.64 Q1774.71 1515.64 1772.88 1519.2 Q1771.07 1522.75 1771.07 1529.87 Q1771.07 1536.98 1772.88 1540.55 Q1774.71 1544.09 1778.32 1544.09 Q1781.95 1544.09 1783.76 1540.55 Q1785.58 1536.98 1785.58 1529.87 Q1785.58 1522.75 1783.76 1519.2 Q1781.95 1515.64 1778.32 1515.64 M1778.32 1511.93 Q1784.13 1511.93 1787.18 1516.54 Q1790.26 1521.12 1790.26 1529.87 Q1790.26 1538.6 1787.18 1543.21 Q1784.13 1547.79 1778.32 1547.79 Q1772.51 1547.79 1769.43 1543.21 Q1766.37 1538.6 1766.37 1529.87 Q1766.37 1521.12 1769.43 1516.54 Q1772.51 1511.93 1778.32 1511.93 Z\" fill=\"#000000\" fill-rule=\"evenodd\" fill-opacity=\"1\" /><path clip-path=\"url(#clip890)\" d=\"M 0 0 M1795.33 1541.24 L1800.21 1541.24 L1800.21 1547.12 L1795.33 1547.12 L1795.33 1541.24 Z\" fill=\"#000000\" fill-rule=\"evenodd\" fill-opacity=\"1\" /><path clip-path=\"url(#clip890)\" d=\"M 0 0 M1805.33 1512.56 L1823.69 1512.56 L1823.69 1516.5 L1809.61 1516.5 L1809.61 1524.97 Q1810.63 1524.62 1811.65 1524.46 Q1812.67 1524.27 1813.69 1524.27 Q1819.47 1524.27 1822.85 1527.44 Q1826.23 1530.62 1826.23 1536.03 Q1826.23 1541.61 1822.76 1544.71 Q1819.29 1547.79 1812.97 1547.79 Q1810.79 1547.79 1808.52 1547.42 Q1806.28 1547.05 1803.87 1546.31 L1803.87 1541.61 Q1805.96 1542.74 1808.18 1543.3 Q1810.4 1543.86 1812.88 1543.86 Q1816.88 1543.86 1819.22 1541.75 Q1821.56 1539.64 1821.56 1536.03 Q1821.56 1532.42 1819.22 1530.31 Q1816.88 1528.21 1812.88 1528.21 Q1811 1528.21 1809.13 1528.62 Q1807.27 1529.04 1805.33 1529.92 L1805.33 1512.56 Z\" fill=\"#000000\" fill-rule=\"evenodd\" fill-opacity=\"1\" /><path clip-path=\"url(#clip890)\" d=\"M 0 0 M2271.73 1515.64 Q2268.12 1515.64 2266.29 1519.2 Q2264.49 1522.75 2264.49 1529.87 Q2264.49 1536.98 2266.29 1540.55 Q2268.12 1544.09 2271.73 1544.09 Q2275.37 1544.09 2277.17 1540.55 Q2279 1536.98 2279 1529.87 Q2279 1522.75 2277.17 1519.2 Q2275.37 1515.64 2271.73 1515.64 M2271.73 1511.93 Q2277.54 1511.93 2280.6 1516.54 Q2283.68 1521.12 2283.68 1529.87 Q2283.68 1538.6 2280.6 1543.21 Q2277.54 1547.79 2271.73 1547.79 Q2265.92 1547.79 2262.84 1543.21 Q2259.79 1538.6 2259.79 1529.87 Q2259.79 1521.12 2262.84 1516.54 Q2265.92 1511.93 2271.73 1511.93 Z\" fill=\"#000000\" fill-rule=\"evenodd\" fill-opacity=\"1\" /><path clip-path=\"url(#clip890)\" d=\"M 0 0 M2288.75 1541.24 L2293.63 1541.24 L2293.63 1547.12 L2288.75 1547.12 L2288.75 1541.24 Z\" fill=\"#000000\" fill-rule=\"evenodd\" fill-opacity=\"1\" /><path clip-path=\"url(#clip890)\" d=\"M 0 0 M2308.7 1515.64 Q2305.09 1515.64 2303.26 1519.2 Q2301.45 1522.75 2301.45 1529.87 Q2301.45 1536.98 2303.26 1540.55 Q2305.09 1544.09 2308.7 1544.09 Q2312.33 1544.09 2314.14 1540.55 Q2315.97 1536.98 2315.97 1529.87 Q2315.97 1522.75 2314.14 1519.2 Q2312.33 1515.64 2308.7 1515.64 M2308.7 1511.93 Q2314.51 1511.93 2317.57 1516.54 Q2320.64 1521.12 2320.64 1529.87 Q2320.64 1538.6 2317.57 1543.21 Q2314.51 1547.79 2308.7 1547.79 Q2302.89 1547.79 2299.81 1543.21 Q2296.76 1538.6 2296.76 1529.87 Q2296.76 1521.12 2299.81 1516.54 Q2302.89 1511.93 2308.7 1511.93 Z\" fill=\"#000000\" fill-rule=\"evenodd\" fill-opacity=\"1\" /><polyline clip-path=\"url(#clip892)\" style=\"stroke:#000000; stroke-width:2; stroke-opacity:0.1; fill:none\" points=\"\n",
       "  143.033,1250.74 2352.76,1250.74 \n",
       "  \"/>\n",
       "<polyline clip-path=\"url(#clip892)\" style=\"stroke:#000000; stroke-width:2; stroke-opacity:0.1; fill:none\" points=\"\n",
       "  143.033,863.152 2352.76,863.152 \n",
       "  \"/>\n",
       "<polyline clip-path=\"url(#clip892)\" style=\"stroke:#000000; stroke-width:2; stroke-opacity:0.1; fill:none\" points=\"\n",
       "  143.033,475.564 2352.76,475.564 \n",
       "  \"/>\n",
       "<polyline clip-path=\"url(#clip892)\" style=\"stroke:#000000; stroke-width:2; stroke-opacity:0.1; fill:none\" points=\"\n",
       "  143.033,87.9763 2352.76,87.9763 \n",
       "  \"/>\n",
       "<polyline clip-path=\"url(#clip890)\" style=\"stroke:#000000; stroke-width:4; stroke-opacity:1; fill:none\" points=\"\n",
       "  143.033,1486.45 143.033,47.2441 \n",
       "  \"/>\n",
       "<polyline clip-path=\"url(#clip890)\" style=\"stroke:#000000; stroke-width:4; stroke-opacity:1; fill:none\" points=\"\n",
       "  143.033,1250.74 169.55,1250.74 \n",
       "  \"/>\n",
       "<polyline clip-path=\"url(#clip890)\" style=\"stroke:#000000; stroke-width:4; stroke-opacity:1; fill:none\" points=\"\n",
       "  143.033,863.152 169.55,863.152 \n",
       "  \"/>\n",
       "<polyline clip-path=\"url(#clip890)\" style=\"stroke:#000000; stroke-width:4; stroke-opacity:1; fill:none\" points=\"\n",
       "  143.033,475.564 169.55,475.564 \n",
       "  \"/>\n",
       "<polyline clip-path=\"url(#clip890)\" style=\"stroke:#000000; stroke-width:4; stroke-opacity:1; fill:none\" points=\"\n",
       "  143.033,87.9763 169.55,87.9763 \n",
       "  \"/>\n",
       "<path clip-path=\"url(#clip890)\" d=\"M 0 0 M50.9921 1251.19 L80.6679 1251.19 L80.6679 1255.13 L50.9921 1255.13 L50.9921 1251.19 Z\" fill=\"#000000\" fill-rule=\"evenodd\" fill-opacity=\"1\" /><path clip-path=\"url(#clip890)\" d=\"M 0 0 M99.9039 1249.39 Q103.26 1250.1 105.135 1252.37 Q107.033 1254.64 107.033 1257.97 Q107.033 1263.09 103.515 1265.89 Q99.9965 1268.69 93.515 1268.69 Q91.3391 1268.69 89.0243 1268.25 Q86.7327 1267.83 84.279 1266.98 L84.279 1262.46 Q86.2234 1263.6 88.5382 1264.18 Q90.853 1264.76 93.3762 1264.76 Q97.7743 1264.76 100.066 1263.02 Q102.381 1261.28 102.381 1257.97 Q102.381 1254.92 100.228 1253.2 Q98.0984 1251.47 94.2789 1251.47 L90.2512 1251.47 L90.2512 1247.63 L94.4641 1247.63 Q97.9132 1247.63 99.7419 1246.26 Q101.571 1244.87 101.571 1242.28 Q101.571 1239.62 99.6724 1238.2 Q97.7974 1236.77 94.2789 1236.77 Q92.3576 1236.77 90.1586 1237.19 Q87.9595 1237.6 85.3206 1238.48 L85.3206 1234.32 Q87.9827 1233.58 90.2975 1233.2 Q92.6354 1232.83 94.6956 1232.83 Q100.02 1232.83 103.121 1235.26 Q106.223 1237.67 106.223 1241.79 Q106.223 1244.66 104.58 1246.65 Q102.936 1248.62 99.9039 1249.39 Z\" fill=\"#000000\" fill-rule=\"evenodd\" fill-opacity=\"1\" /><path clip-path=\"url(#clip890)\" d=\"M 0 0 M51.9412 863.603 L81.617 863.603 L81.617 867.538 L51.9412 867.538 L51.9412 863.603 Z\" fill=\"#000000\" fill-rule=\"evenodd\" fill-opacity=\"1\" /><path clip-path=\"url(#clip890)\" d=\"M 0 0 M90.7141 876.497 L107.033 876.497 L107.033 880.432 L85.0892 880.432 L85.0892 876.497 Q87.7512 873.742 92.3345 869.112 Q96.941 864.46 98.1215 863.117 Q100.367 860.594 101.246 858.858 Q102.149 857.099 102.149 855.409 Q102.149 852.654 100.205 850.918 Q98.2835 849.182 95.1817 849.182 Q92.9826 849.182 90.529 849.946 Q88.0984 850.71 85.3206 852.261 L85.3206 847.538 Q88.1447 846.404 90.5984 845.825 Q93.0521 845.247 95.0891 845.247 Q100.459 845.247 103.654 847.932 Q106.848 850.617 106.848 855.108 Q106.848 857.237 106.038 859.159 Q105.251 861.057 103.145 863.649 Q102.566 864.321 99.4641 867.538 Q96.3623 870.733 90.7141 876.497 Z\" fill=\"#000000\" fill-rule=\"evenodd\" fill-opacity=\"1\" /><path clip-path=\"url(#clip890)\" d=\"M 0 0 M51.5708 476.015 L81.2466 476.015 L81.2466 479.951 L51.5708 479.951 L51.5708 476.015 Z\" fill=\"#000000\" fill-rule=\"evenodd\" fill-opacity=\"1\" /><path clip-path=\"url(#clip890)\" d=\"M 0 0 M87.1262 488.909 L94.765 488.909 L94.765 462.543 L86.4549 464.21 L86.4549 459.951 L94.7187 458.284 L99.3946 458.284 L99.3946 488.909 L107.033 488.909 L107.033 492.844 L87.1262 492.844 L87.1262 488.909 Z\" fill=\"#000000\" fill-rule=\"evenodd\" fill-opacity=\"1\" /><path clip-path=\"url(#clip890)\" d=\"M 0 0 M95.0891 73.775 Q91.478 73.775 89.6493 77.3398 Q87.8438 80.8814 87.8438 88.011 Q87.8438 95.1174 89.6493 98.6822 Q91.478 102.224 95.0891 102.224 Q98.7234 102.224 100.529 98.6822 Q102.358 95.1174 102.358 88.011 Q102.358 80.8814 100.529 77.3398 Q98.7234 73.775 95.0891 73.775 M95.0891 70.0713 Q100.899 70.0713 103.955 74.6777 Q107.033 79.261 107.033 88.011 Q107.033 96.7378 103.955 101.344 Q100.899 105.928 95.0891 105.928 Q89.279 105.928 86.2003 101.344 Q83.1447 96.7378 83.1447 88.011 Q83.1447 79.261 86.2003 74.6777 Q89.279 70.0713 95.0891 70.0713 Z\" fill=\"#000000\" fill-rule=\"evenodd\" fill-opacity=\"1\" /><path clip-path=\"url(#clip892)\" d=\"\n",
       "M205.573 1170.55 L467.231 1445.72 L1924.94 366.173 L1663.28 91.0106 L205.573 1170.55 L205.573 1170.55  Z\n",
       "  \" fill=\"#009af9\" fill-rule=\"evenodd\" fill-opacity=\"0.5\"/>\n",
       "<polyline clip-path=\"url(#clip892)\" style=\"stroke:#000000; stroke-width:4; stroke-opacity:0.5; fill:none\" points=\"\n",
       "  205.573,1170.55 467.231,1445.72 1924.94,366.173 1663.28,91.0106 205.573,1170.55 \n",
       "  \"/>\n",
       "<circle clip-path=\"url(#clip892)\" cx=\"2290.22\" cy=\"87.9763\" r=\"14\" fill=\"#e26f46\" fill-rule=\"evenodd\" fill-opacity=\"0.5\" stroke=\"#000000\" stroke-opacity=\"0.5\" stroke-width=\"3.2\"/>\n",
       "<circle clip-path=\"url(#clip892)\" cx=\"2290.22\" cy=\"87.9763\" r=\"14\" fill=\"#3da44d\" fill-rule=\"evenodd\" fill-opacity=\"0.5\" stroke=\"#000000\" stroke-opacity=\"0.5\" stroke-width=\"3.2\"/>\n",
       "<path clip-path=\"url(#clip890)\" d=\"\n",
       "M216.691 337.138 L593.858 337.138 L593.858 95.2176 L216.691 95.2176  Z\n",
       "  \" fill=\"#ffffff\" fill-rule=\"evenodd\" fill-opacity=\"1\"/>\n",
       "<polyline clip-path=\"url(#clip890)\" style=\"stroke:#000000; stroke-width:4; stroke-opacity:1; fill:none\" points=\"\n",
       "  216.691,337.138 593.858,337.138 593.858,95.2176 216.691,95.2176 216.691,337.138 \n",
       "  \"/>\n",
       "<path clip-path=\"url(#clip890)\" d=\"\n",
       "M241.243 179.89 L388.558 179.89 L388.558 131.506 L241.243 131.506 L241.243 179.89  Z\n",
       "  \" fill=\"#009af9\" fill-rule=\"evenodd\" fill-opacity=\"0.5\"/>\n",
       "<polyline clip-path=\"url(#clip890)\" style=\"stroke:#000000; stroke-width:4; stroke-opacity:1; fill:none\" points=\"\n",
       "  241.243,179.89 388.558,179.89 388.558,131.506 241.243,131.506 241.243,179.89 \n",
       "  \"/>\n",
       "<path clip-path=\"url(#clip890)\" d=\"M 0 0 M413.111 138.418 L442.347 138.418 L442.347 142.353 L430.078 142.353 L430.078 172.978 L425.379 172.978 L425.379 142.353 L413.111 142.353 L413.111 138.418 Z\" fill=\"#000000\" fill-rule=\"evenodd\" fill-opacity=\"1\" /><path clip-path=\"url(#clip890)\" d=\"M 0 0 M445.009 138.418 L472.161 138.418 L472.161 141.982 L450.31 169.042 L472.694 169.042 L472.694 172.978 L444.476 172.978 L444.476 169.413 L466.328 142.353 L445.009 142.353 L445.009 138.418 Z\" fill=\"#000000\" fill-rule=\"evenodd\" fill-opacity=\"1\" /><circle clip-path=\"url(#clip890)\" cx=\"314.901\" cy=\"216.178\" r=\"23\" fill=\"#e26f46\" fill-rule=\"evenodd\" fill-opacity=\"0.5\" stroke=\"#000000\" stroke-opacity=\"0.5\" stroke-width=\"5.12\"/>\n",
       "<path clip-path=\"url(#clip890)\" d=\"M 0 0 M413.111 198.898 L442.347 198.898 L442.347 202.833 L430.078 202.833 L430.078 233.458 L425.379 233.458 L425.379 202.833 L413.111 202.833 L413.111 198.898 Z\" fill=\"#000000\" fill-rule=\"evenodd\" fill-opacity=\"1\" /><path clip-path=\"url(#clip890)\" d=\"M 0 0 M454.87 211.513 Q454.152 211.097 453.296 210.911 Q452.462 210.703 451.444 210.703 Q447.833 210.703 445.888 213.064 Q443.967 215.402 443.967 219.8 L443.967 233.458 L439.685 233.458 L439.685 207.532 L443.967 207.532 L443.967 211.56 Q445.31 209.198 447.462 208.064 Q449.615 206.907 452.694 206.907 Q453.134 206.907 453.666 206.976 Q454.198 207.023 454.847 207.138 L454.87 211.513 Z\" fill=\"#000000\" fill-rule=\"evenodd\" fill-opacity=\"1\" /><path clip-path=\"url(#clip890)\" d=\"M 0 0 M480.471 219.43 L480.471 221.513 L460.888 221.513 Q461.166 225.911 463.527 228.226 Q465.911 230.518 470.147 230.518 Q472.601 230.518 474.893 229.916 Q477.208 229.314 479.476 228.11 L479.476 232.138 Q477.184 233.11 474.777 233.62 Q472.37 234.129 469.893 234.129 Q463.689 234.129 460.055 230.518 Q456.444 226.907 456.444 220.749 Q456.444 214.384 459.87 210.657 Q463.319 206.907 469.152 206.907 Q474.383 206.907 477.416 210.286 Q480.471 213.643 480.471 219.43 M476.212 218.18 Q476.166 214.685 474.245 212.601 Q472.346 210.518 469.198 210.518 Q465.634 210.518 463.481 212.532 Q461.351 214.546 461.027 218.203 L476.212 218.18 Z\" fill=\"#000000\" fill-rule=\"evenodd\" fill-opacity=\"1\" /><path clip-path=\"url(#clip890)\" d=\"M 0 0 M484.939 197.439 L489.198 197.439 L489.198 233.458 L484.939 233.458 L484.939 197.439 Z\" fill=\"#000000\" fill-rule=\"evenodd\" fill-opacity=\"1\" /><path clip-path=\"url(#clip890)\" d=\"M 0 0 M493.226 223.226 L493.226 207.532 L497.485 207.532 L497.485 223.064 Q497.485 226.745 498.92 228.596 Q500.356 230.425 503.226 230.425 Q506.675 230.425 508.666 228.226 Q510.68 226.027 510.68 222.231 L510.68 207.532 L514.939 207.532 L514.939 233.458 L510.68 233.458 L510.68 229.476 Q509.129 231.837 507.069 232.995 Q505.031 234.129 502.323 234.129 Q497.856 234.129 495.541 231.351 Q493.226 228.573 493.226 223.226 M503.944 206.907 L503.944 206.907 Z\" fill=\"#000000\" fill-rule=\"evenodd\" fill-opacity=\"1\" /><circle clip-path=\"url(#clip890)\" cx=\"314.901\" cy=\"276.658\" r=\"23\" fill=\"#3da44d\" fill-rule=\"evenodd\" fill-opacity=\"0.5\" stroke=\"#000000\" stroke-opacity=\"0.5\" stroke-width=\"5.12\"/>\n",
       "<path clip-path=\"url(#clip890)\" d=\"M 0 0 M413.111 259.378 L442.347 259.378 L442.347 263.313 L430.078 263.313 L430.078 293.938 L425.379 293.938 L425.379 263.313 L413.111 263.313 L413.111 259.378 Z\" fill=\"#000000\" fill-rule=\"evenodd\" fill-opacity=\"1\" /><path clip-path=\"url(#clip890)\" d=\"M 0 0 M444.962 268.012 L465.194 268.012 L465.194 271.901 L449.175 290.535 L465.194 290.535 L465.194 293.938 L444.384 293.938 L444.384 290.049 L460.402 271.415 L444.962 271.415 L444.962 268.012 Z\" fill=\"#000000\" fill-rule=\"evenodd\" fill-opacity=\"1\" /><path clip-path=\"url(#clip890)\" d=\"M 0 0 M484.684 271.993 Q483.967 271.577 483.11 271.391 Q482.277 271.183 481.258 271.183 Q477.647 271.183 475.703 273.544 Q473.782 275.882 473.782 280.28 L473.782 293.938 L469.499 293.938 L469.499 268.012 L473.782 268.012 L473.782 272.04 Q475.124 269.678 477.277 268.544 Q479.43 267.387 482.508 267.387 Q482.948 267.387 483.481 267.456 Q484.013 267.503 484.661 267.618 L484.684 271.993 Z\" fill=\"#000000\" fill-rule=\"evenodd\" fill-opacity=\"1\" /><path clip-path=\"url(#clip890)\" d=\"M 0 0 M510.286 279.91 L510.286 281.993 L490.703 281.993 Q490.981 286.391 493.342 288.706 Q495.726 290.998 499.962 290.998 Q502.416 290.998 504.707 290.396 Q507.022 289.794 509.291 288.59 L509.291 292.618 Q506.999 293.59 504.592 294.1 Q502.184 294.609 499.707 294.609 Q493.504 294.609 489.87 290.998 Q486.258 287.387 486.258 281.229 Q486.258 274.864 489.684 271.137 Q493.133 267.387 498.967 267.387 Q504.198 267.387 507.231 270.766 Q510.286 274.123 510.286 279.91 M506.027 278.66 Q505.981 275.165 504.059 273.081 Q502.161 270.998 499.013 270.998 Q495.448 270.998 493.295 273.012 Q491.166 275.026 490.842 278.683 L506.027 278.66 Z\" fill=\"#000000\" fill-rule=\"evenodd\" fill-opacity=\"1\" /><path clip-path=\"url(#clip890)\" d=\"M 0 0 M514.754 257.919 L519.013 257.919 L519.013 293.938 L514.754 293.938 L514.754 257.919 Z\" fill=\"#000000\" fill-rule=\"evenodd\" fill-opacity=\"1\" /><path clip-path=\"url(#clip890)\" d=\"M 0 0 M523.041 283.706 L523.041 268.012 L527.3 268.012 L527.3 283.544 Q527.3 287.225 528.735 289.076 Q530.17 290.905 533.041 290.905 Q536.49 290.905 538.48 288.706 Q540.494 286.507 540.494 282.711 L540.494 268.012 L544.753 268.012 L544.753 293.938 L540.494 293.938 L540.494 289.956 Q538.943 292.317 536.883 293.475 Q534.846 294.609 532.138 294.609 Q527.67 294.609 525.355 291.831 Q523.041 289.053 523.041 283.706 M533.758 267.387 L533.758 267.387 Z\" fill=\"#000000\" fill-rule=\"evenodd\" fill-opacity=\"1\" /></svg>\n"
      ]
     },
     "execution_count": 65,
     "metadata": {},
     "output_type": "execute_result"
    }
   ],
   "source": [
    "Z = rand(Zonotope, num_generators=2)\n",
    "\n",
    "T = overapproximate(Z, TaylorModelReachSet)\n",
    "\n",
    "TZ = set(overapproximate(T, Zonotope));\n",
    "\n",
    "plot(TZ, lab=\"TZ\")\n",
    "\n",
    "@show Trelu = convert(Hyperrectangle, IntervalBox(relu.(set(T))))\n",
    "\n",
    "TZrelu = overapproximate(Rectification(TZ), Zonotope) # uses AI2\n",
    "\n",
    "plot!(Trelu, lab=\"Trelu\", legend=:topleft)\n",
    "\n",
    "plot!(TZrelu, lab=\"Tzrelu\")"
   ]
  },
  {
   "cell_type": "markdown",
   "metadata": {},
   "source": [
    "## Example with the TORA network"
   ]
  },
  {
   "cell_type": "code",
   "execution_count": 121,
   "metadata": {},
   "outputs": [
    {
     "data": {
      "text/plain": [
       "TaylorModels"
      ]
     },
     "execution_count": 121,
     "metadata": {},
     "output_type": "execute_result"
    }
   ],
   "source": [
    "using NeuralNetworkAnalysis\n",
    "const NNA = NeuralNetworkAnalysis\n",
    "const TM = TaylorModels"
   ]
  },
  {
   "cell_type": "code",
   "execution_count": 67,
   "metadata": {},
   "outputs": [],
   "source": [
    "controller = NNA.read_nnet_mat(\"/home/sguadalupe/.julia/dev/NeuralNetworkAnalysis/models/Sherlock-Benchmark-9-TORA/controllerTora.mat\", act_key=\"act_fcns\");"
   ]
  },
  {
   "cell_type": "code",
   "execution_count": 171,
   "metadata": {},
   "outputs": [],
   "source": [
    "X₀ = Hyperrectangle(low=[0.6, -0.7, -0.4, 0.5], high=[0.7, -0.6, -0.3, 0.6]);"
   ]
  },
  {
   "cell_type": "markdown",
   "metadata": {},
   "source": [
    "### Ai2 Set"
   ]
  },
  {
   "cell_type": "code",
   "execution_count": 173,
   "metadata": {},
   "outputs": [
    {
     "data": {
      "text/plain": [
       "LazySets.Interval{Float64,IntervalArithmetic.Interval{Float64}}([9.79134, 10.2658])"
      ]
     },
     "execution_count": 173,
     "metadata": {},
     "output_type": "execute_result"
    }
   ],
   "source": [
    "u_1 = forward_network(Ai2(), controller, X₀)\n",
    "u_1 = overapproximate(u_1, NNA.Interval)"
   ]
  },
  {
   "cell_type": "markdown",
   "metadata": {},
   "source": [
    "### TM Set"
   ]
  },
  {
   "cell_type": "code",
   "execution_count": 129,
   "metadata": {},
   "outputs": [
    {
     "data": {
      "text/plain": [
       "TaylorModelReachSet{Float64}(TaylorModel1{TaylorN{Float64},Float64}[  0.6499999999999999 + 0.050000000000000044 x₁ + [0, 0],   - 0.6499999999999999 + 0.04999999999999993 x₂ + [0, 0],   - 0.35 + 0.04999999999999999 x₃ + [0, 0],   0.55 + 0.04999999999999993 x₄ + [0, 0]], [0, 0])"
      ]
     },
     "execution_count": 129,
     "metadata": {},
     "output_type": "execute_result"
    }
   ],
   "source": [
    "T = overapproximate(X₀, TaylorModelReachSet)"
   ]
  },
  {
   "cell_type": "code",
   "execution_count": 130,
   "metadata": {},
   "outputs": [],
   "source": [
    "layers = controller.layers\n",
    "weights = [layer.weights for layer in layers]\n",
    "bias = [layer.bias for layer in layers];"
   ]
  },
  {
   "cell_type": "code",
   "execution_count": 153,
   "metadata": {},
   "outputs": [],
   "source": [
    "u = set(T)\n",
    "for i=1:length(layers)\n",
    "    u = weights[i] * u + bias[i]\n",
    "    u = relu.(u)\n",
    "end"
   ]
  },
  {
   "cell_type": "code",
   "execution_count": 159,
   "metadata": {},
   "outputs": [
    {
     "data": {
      "text/plain": [
       "LazySets.Interval{Float64,IntervalArithmetic.Interval{Float64}}([-3.92238, 22.198])"
      ]
     },
     "execution_count": 159,
     "metadata": {},
     "output_type": "execute_result"
    }
   ],
   "source": [
    "u = convert(NNA.Interval, u[1])"
   ]
  },
  {
   "cell_type": "code",
   "execution_count": 168,
   "metadata": {},
   "outputs": [
    {
     "data": {
      "text/plain": [
       "LazySets.Interval{Float64,IntervalArithmetic.Interval{Float64}}([-3.92238, 22.198])"
      ]
     },
     "execution_count": 168,
     "metadata": {},
     "output_type": "execute_result"
    }
   ],
   "source": [
    "u_1"
   ]
  },
  {
   "cell_type": "code",
   "execution_count": 174,
   "metadata": {},
   "outputs": [
    {
     "data": {
      "image/svg+xml": [
       "<?xml version=\"1.0\" encoding=\"utf-8\"?>\n",
       "<svg xmlns=\"http://www.w3.org/2000/svg\" xmlns:xlink=\"http://www.w3.org/1999/xlink\" width=\"600\" height=\"400\" viewBox=\"0 0 2400 1600\">\n",
       "<defs>\n",
       "  <clipPath id=\"clip210\">\n",
       "    <rect x=\"0\" y=\"0\" width=\"2400\" height=\"1600\"/>\n",
       "  </clipPath>\n",
       "</defs>\n",
       "<path clip-path=\"url(#clip210)\" d=\"\n",
       "M0 1600 L2400 1600 L2400 0 L0 0  Z\n",
       "  \" fill=\"#ffffff\" fill-rule=\"evenodd\" fill-opacity=\"1\"/>\n",
       "<defs>\n",
       "  <clipPath id=\"clip211\">\n",
       "    <rect x=\"480\" y=\"0\" width=\"1681\" height=\"1600\"/>\n",
       "  </clipPath>\n",
       "</defs>\n",
       "<path clip-path=\"url(#clip210)\" d=\"\n",
       "M206.667 1486.45 L2352.76 1486.45 L2352.76 47.2441 L206.667 47.2441  Z\n",
       "  \" fill=\"#ffffff\" fill-rule=\"evenodd\" fill-opacity=\"1\"/>\n",
       "<defs>\n",
       "  <clipPath id=\"clip212\">\n",
       "    <rect x=\"206\" y=\"47\" width=\"2147\" height=\"1440\"/>\n",
       "  </clipPath>\n",
       "</defs>\n",
       "<polyline clip-path=\"url(#clip212)\" style=\"stroke:#000000; stroke-width:2; stroke-opacity:0.1; fill:none\" points=\"\n",
       "  571.433,1486.45 571.433,47.2441 \n",
       "  \"/>\n",
       "<polyline clip-path=\"url(#clip212)\" style=\"stroke:#000000; stroke-width:2; stroke-opacity:0.1; fill:none\" points=\"\n",
       "  958.988,1486.45 958.988,47.2441 \n",
       "  \"/>\n",
       "<polyline clip-path=\"url(#clip212)\" style=\"stroke:#000000; stroke-width:2; stroke-opacity:0.1; fill:none\" points=\"\n",
       "  1346.54,1486.45 1346.54,47.2441 \n",
       "  \"/>\n",
       "<polyline clip-path=\"url(#clip212)\" style=\"stroke:#000000; stroke-width:2; stroke-opacity:0.1; fill:none\" points=\"\n",
       "  1734.1,1486.45 1734.1,47.2441 \n",
       "  \"/>\n",
       "<polyline clip-path=\"url(#clip212)\" style=\"stroke:#000000; stroke-width:2; stroke-opacity:0.1; fill:none\" points=\"\n",
       "  2121.65,1486.45 2121.65,47.2441 \n",
       "  \"/>\n",
       "<polyline clip-path=\"url(#clip210)\" style=\"stroke:#000000; stroke-width:4; stroke-opacity:1; fill:none\" points=\"\n",
       "  206.667,1486.45 2352.76,1486.45 \n",
       "  \"/>\n",
       "<polyline clip-path=\"url(#clip210)\" style=\"stroke:#000000; stroke-width:4; stroke-opacity:1; fill:none\" points=\"\n",
       "  571.433,1486.45 571.433,1469.18 \n",
       "  \"/>\n",
       "<polyline clip-path=\"url(#clip210)\" style=\"stroke:#000000; stroke-width:4; stroke-opacity:1; fill:none\" points=\"\n",
       "  958.988,1486.45 958.988,1469.18 \n",
       "  \"/>\n",
       "<polyline clip-path=\"url(#clip210)\" style=\"stroke:#000000; stroke-width:4; stroke-opacity:1; fill:none\" points=\"\n",
       "  1346.54,1486.45 1346.54,1469.18 \n",
       "  \"/>\n",
       "<polyline clip-path=\"url(#clip210)\" style=\"stroke:#000000; stroke-width:4; stroke-opacity:1; fill:none\" points=\"\n",
       "  1734.1,1486.45 1734.1,1469.18 \n",
       "  \"/>\n",
       "<polyline clip-path=\"url(#clip210)\" style=\"stroke:#000000; stroke-width:4; stroke-opacity:1; fill:none\" points=\"\n",
       "  2121.65,1486.45 2121.65,1469.18 \n",
       "  \"/>\n",
       "<path clip-path=\"url(#clip210)\" d=\"M 0 0 M571.433 1515.64 Q567.822 1515.64 565.993 1519.2 Q564.188 1522.75 564.188 1529.87 Q564.188 1536.98 565.993 1540.55 Q567.822 1544.09 571.433 1544.09 Q575.068 1544.09 576.873 1540.55 Q578.702 1536.98 578.702 1529.87 Q578.702 1522.75 576.873 1519.2 Q575.068 1515.64 571.433 1515.64 M571.433 1511.93 Q577.243 1511.93 580.299 1516.54 Q583.378 1521.12 583.378 1529.87 Q583.378 1538.6 580.299 1543.21 Q577.243 1547.79 571.433 1547.79 Q565.623 1547.79 562.544 1543.21 Q559.489 1538.6 559.489 1529.87 Q559.489 1521.12 562.544 1516.54 Q565.623 1511.93 571.433 1511.93 Z\" fill=\"#000000\" fill-rule=\"evenodd\" fill-opacity=\"1\" /><path clip-path=\"url(#clip210)\" d=\"M 0 0 M949.266 1512.56 L967.623 1512.56 L967.623 1516.5 L953.549 1516.5 L953.549 1524.97 Q954.567 1524.62 955.586 1524.46 Q956.604 1524.27 957.623 1524.27 Q963.41 1524.27 966.789 1527.44 Q970.169 1530.62 970.169 1536.03 Q970.169 1541.61 966.697 1544.71 Q963.224 1547.79 956.905 1547.79 Q954.729 1547.79 952.461 1547.42 Q950.215 1547.05 947.808 1546.31 L947.808 1541.61 Q949.891 1542.74 952.113 1543.3 Q954.336 1543.86 956.812 1543.86 Q960.817 1543.86 963.155 1541.75 Q965.493 1539.64 965.493 1536.03 Q965.493 1532.42 963.155 1530.31 Q960.817 1528.21 956.812 1528.21 Q954.938 1528.21 953.063 1528.62 Q951.211 1529.04 949.266 1529.92 L949.266 1512.56 Z\" fill=\"#000000\" fill-rule=\"evenodd\" fill-opacity=\"1\" /><path clip-path=\"url(#clip210)\" d=\"M 0 0 M1323.42 1543.18 L1331.06 1543.18 L1331.06 1516.82 L1322.75 1518.49 L1322.75 1514.23 L1331.01 1512.56 L1335.69 1512.56 L1335.69 1543.18 L1343.33 1543.18 L1343.33 1547.12 L1323.42 1547.12 L1323.42 1543.18 Z\" fill=\"#000000\" fill-rule=\"evenodd\" fill-opacity=\"1\" /><path clip-path=\"url(#clip210)\" d=\"M 0 0 M1358.4 1515.64 Q1354.78 1515.64 1352.96 1519.2 Q1351.15 1522.75 1351.15 1529.87 Q1351.15 1536.98 1352.96 1540.55 Q1354.78 1544.09 1358.4 1544.09 Q1362.03 1544.09 1363.84 1540.55 Q1365.66 1536.98 1365.66 1529.87 Q1365.66 1522.75 1363.84 1519.2 Q1362.03 1515.64 1358.4 1515.64 M1358.4 1511.93 Q1364.21 1511.93 1367.26 1516.54 Q1370.34 1521.12 1370.34 1529.87 Q1370.34 1538.6 1367.26 1543.21 Q1364.21 1547.79 1358.4 1547.79 Q1352.59 1547.79 1349.51 1543.21 Q1346.45 1538.6 1346.45 1529.87 Q1346.45 1521.12 1349.51 1516.54 Q1352.59 1511.93 1358.4 1511.93 Z\" fill=\"#000000\" fill-rule=\"evenodd\" fill-opacity=\"1\" /><path clip-path=\"url(#clip210)\" d=\"M 0 0 M1711.47 1543.18 L1719.11 1543.18 L1719.11 1516.82 L1710.8 1518.49 L1710.8 1514.23 L1719.06 1512.56 L1723.74 1512.56 L1723.74 1543.18 L1731.38 1543.18 L1731.38 1547.12 L1711.47 1547.12 L1711.47 1543.18 Z\" fill=\"#000000\" fill-rule=\"evenodd\" fill-opacity=\"1\" /><path clip-path=\"url(#clip210)\" d=\"M 0 0 M1736.49 1512.56 L1754.85 1512.56 L1754.85 1516.5 L1740.78 1516.5 L1740.78 1524.97 Q1741.8 1524.62 1742.81 1524.46 Q1743.83 1524.27 1744.85 1524.27 Q1750.64 1524.27 1754.02 1527.44 Q1757.4 1530.62 1757.4 1536.03 Q1757.4 1541.61 1753.92 1544.71 Q1750.45 1547.79 1744.13 1547.79 Q1741.96 1547.79 1739.69 1547.42 Q1737.44 1547.05 1735.04 1546.31 L1735.04 1541.61 Q1737.12 1542.74 1739.34 1543.3 Q1741.56 1543.86 1744.04 1543.86 Q1748.05 1543.86 1750.38 1541.75 Q1752.72 1539.64 1752.72 1536.03 Q1752.72 1532.42 1750.38 1530.31 Q1748.05 1528.21 1744.04 1528.21 Q1742.17 1528.21 1740.29 1528.62 Q1738.44 1529.04 1736.49 1529.92 L1736.49 1512.56 Z\" fill=\"#000000\" fill-rule=\"evenodd\" fill-opacity=\"1\" /><path clip-path=\"url(#clip210)\" d=\"M 0 0 M2102.8 1543.18 L2119.12 1543.18 L2119.12 1547.12 L2097.17 1547.12 L2097.17 1543.18 Q2099.84 1540.43 2104.42 1535.8 Q2109.03 1531.15 2110.21 1529.81 Q2112.45 1527.28 2113.33 1525.55 Q2114.23 1523.79 2114.23 1522.1 Q2114.23 1519.34 2112.29 1517.61 Q2110.37 1515.87 2107.27 1515.87 Q2105.07 1515.87 2102.61 1516.63 Q2100.18 1517.4 2097.41 1518.95 L2097.41 1514.23 Q2100.23 1513.09 2102.68 1512.51 Q2105.14 1511.93 2107.17 1511.93 Q2112.55 1511.93 2115.74 1514.62 Q2118.93 1517.31 2118.93 1521.8 Q2118.93 1523.93 2118.12 1525.85 Q2117.34 1527.74 2115.23 1530.34 Q2114.65 1531.01 2111.55 1534.23 Q2108.45 1537.42 2102.8 1543.18 Z\" fill=\"#000000\" fill-rule=\"evenodd\" fill-opacity=\"1\" /><path clip-path=\"url(#clip210)\" d=\"M 0 0 M2134.19 1515.64 Q2130.58 1515.64 2128.75 1519.2 Q2126.94 1522.75 2126.94 1529.87 Q2126.94 1536.98 2128.75 1540.55 Q2130.58 1544.09 2134.19 1544.09 Q2137.82 1544.09 2139.63 1540.55 Q2141.46 1536.98 2141.46 1529.87 Q2141.46 1522.75 2139.63 1519.2 Q2137.82 1515.64 2134.19 1515.64 M2134.19 1511.93 Q2140 1511.93 2143.05 1516.54 Q2146.13 1521.12 2146.13 1529.87 Q2146.13 1538.6 2143.05 1543.21 Q2140 1547.79 2134.19 1547.79 Q2128.38 1547.79 2125.3 1543.21 Q2122.24 1538.6 2122.24 1529.87 Q2122.24 1521.12 2125.3 1516.54 Q2128.38 1511.93 2134.19 1511.93 Z\" fill=\"#000000\" fill-rule=\"evenodd\" fill-opacity=\"1\" /><polyline clip-path=\"url(#clip212)\" style=\"stroke:#000000; stroke-width:2; stroke-opacity:0.1; fill:none\" points=\"\n",
       "  206.667,1486.45 2352.76,1486.45 \n",
       "  \"/>\n",
       "<polyline clip-path=\"url(#clip212)\" style=\"stroke:#000000; stroke-width:2; stroke-opacity:0.1; fill:none\" points=\"\n",
       "  206.667,1126.65 2352.76,1126.65 \n",
       "  \"/>\n",
       "<polyline clip-path=\"url(#clip212)\" style=\"stroke:#000000; stroke-width:2; stroke-opacity:0.1; fill:none\" points=\"\n",
       "  206.667,766.846 2352.76,766.846 \n",
       "  \"/>\n",
       "<polyline clip-path=\"url(#clip212)\" style=\"stroke:#000000; stroke-width:2; stroke-opacity:0.1; fill:none\" points=\"\n",
       "  206.667,407.045 2352.76,407.045 \n",
       "  \"/>\n",
       "<polyline clip-path=\"url(#clip212)\" style=\"stroke:#000000; stroke-width:2; stroke-opacity:0.1; fill:none\" points=\"\n",
       "  206.667,47.2441 2352.76,47.2441 \n",
       "  \"/>\n",
       "<polyline clip-path=\"url(#clip210)\" style=\"stroke:#000000; stroke-width:4; stroke-opacity:1; fill:none\" points=\"\n",
       "  206.667,1486.45 206.667,47.2441 \n",
       "  \"/>\n",
       "<polyline clip-path=\"url(#clip210)\" style=\"stroke:#000000; stroke-width:4; stroke-opacity:1; fill:none\" points=\"\n",
       "  206.667,1486.45 232.42,1486.45 \n",
       "  \"/>\n",
       "<polyline clip-path=\"url(#clip210)\" style=\"stroke:#000000; stroke-width:4; stroke-opacity:1; fill:none\" points=\"\n",
       "  206.667,1126.65 232.42,1126.65 \n",
       "  \"/>\n",
       "<polyline clip-path=\"url(#clip210)\" style=\"stroke:#000000; stroke-width:4; stroke-opacity:1; fill:none\" points=\"\n",
       "  206.667,766.846 232.42,766.846 \n",
       "  \"/>\n",
       "<polyline clip-path=\"url(#clip210)\" style=\"stroke:#000000; stroke-width:4; stroke-opacity:1; fill:none\" points=\"\n",
       "  206.667,407.045 232.42,407.045 \n",
       "  \"/>\n",
       "<polyline clip-path=\"url(#clip210)\" style=\"stroke:#000000; stroke-width:4; stroke-opacity:1; fill:none\" points=\"\n",
       "  206.667,47.2441 232.42,47.2441 \n",
       "  \"/>\n",
       "<path clip-path=\"url(#clip210)\" d=\"M 0 0 M51.2236 1486.9 L80.8994 1486.9 L80.8994 1490.83 L51.2236 1490.83 L51.2236 1486.9 Z\" fill=\"#000000\" fill-rule=\"evenodd\" fill-opacity=\"1\" /><path clip-path=\"url(#clip210)\" d=\"M 0 0 M95.9687 1472.25 Q92.3576 1472.25 90.529 1475.81 Q88.7234 1479.35 88.7234 1486.48 Q88.7234 1493.59 90.529 1497.15 Q92.3576 1500.7 95.9687 1500.7 Q99.603 1500.7 101.409 1497.15 Q103.237 1493.59 103.237 1486.48 Q103.237 1479.35 101.409 1475.81 Q99.603 1472.25 95.9687 1472.25 M95.9687 1468.54 Q101.779 1468.54 104.834 1473.15 Q107.913 1477.73 107.913 1486.48 Q107.913 1495.21 104.834 1499.82 Q101.779 1504.4 95.9687 1504.4 Q90.1586 1504.4 87.0799 1499.82 Q84.0244 1495.21 84.0244 1486.48 Q84.0244 1477.73 87.0799 1473.15 Q90.1586 1468.54 95.9687 1468.54 Z\" fill=\"#000000\" fill-rule=\"evenodd\" fill-opacity=\"1\" /><path clip-path=\"url(#clip210)\" d=\"M 0 0 M112.983 1497.85 L117.867 1497.85 L117.867 1503.73 L112.983 1503.73 L112.983 1497.85 Z\" fill=\"#000000\" fill-rule=\"evenodd\" fill-opacity=\"1\" /><path clip-path=\"url(#clip210)\" d=\"M 0 0 M123.746 1499.79 L131.385 1499.79 L131.385 1473.43 L123.075 1475.09 L123.075 1470.83 L131.339 1469.17 L136.015 1469.17 L136.015 1499.79 L143.654 1499.79 L143.654 1503.73 L123.746 1503.73 L123.746 1499.79 Z\" fill=\"#000000\" fill-rule=\"evenodd\" fill-opacity=\"1\" /><path clip-path=\"url(#clip210)\" d=\"M 0 0 M158.723 1472.25 Q155.112 1472.25 153.283 1475.81 Q151.478 1479.35 151.478 1486.48 Q151.478 1493.59 153.283 1497.15 Q155.112 1500.7 158.723 1500.7 Q162.357 1500.7 164.163 1497.15 Q165.992 1493.59 165.992 1486.48 Q165.992 1479.35 164.163 1475.81 Q162.357 1472.25 158.723 1472.25 M158.723 1468.54 Q164.533 1468.54 167.589 1473.15 Q170.667 1477.73 170.667 1486.48 Q170.667 1495.21 167.589 1499.82 Q164.533 1504.4 158.723 1504.4 Q152.913 1504.4 149.834 1499.82 Q146.779 1495.21 146.779 1486.48 Q146.779 1477.73 149.834 1473.15 Q152.913 1468.54 158.723 1468.54 Z\" fill=\"#000000\" fill-rule=\"evenodd\" fill-opacity=\"1\" /><path clip-path=\"url(#clip210)\" d=\"M 0 0 M50.9921 1127.1 L80.6679 1127.1 L80.6679 1131.03 L50.9921 1131.03 L50.9921 1127.1 Z\" fill=\"#000000\" fill-rule=\"evenodd\" fill-opacity=\"1\" /><path clip-path=\"url(#clip210)\" d=\"M 0 0 M95.7373 1112.45 Q92.1262 1112.45 90.2975 1116.01 Q88.4919 1119.55 88.4919 1126.68 Q88.4919 1133.79 90.2975 1137.35 Q92.1262 1140.89 95.7373 1140.89 Q99.3715 1140.89 101.177 1137.35 Q103.006 1133.79 103.006 1126.68 Q103.006 1119.55 101.177 1116.01 Q99.3715 1112.45 95.7373 1112.45 M95.7373 1108.74 Q101.547 1108.74 104.603 1113.35 Q107.682 1117.93 107.682 1126.68 Q107.682 1135.41 104.603 1140.01 Q101.547 1144.6 95.7373 1144.6 Q89.9271 1144.6 86.8484 1140.01 Q83.7929 1135.41 83.7929 1126.68 Q83.7929 1117.93 86.8484 1113.35 Q89.9271 1108.74 95.7373 1108.74 Z\" fill=\"#000000\" fill-rule=\"evenodd\" fill-opacity=\"1\" /><path clip-path=\"url(#clip210)\" d=\"M 0 0 M112.751 1138.05 L117.635 1138.05 L117.635 1143.93 L112.751 1143.93 L112.751 1138.05 Z\" fill=\"#000000\" fill-rule=\"evenodd\" fill-opacity=\"1\" /><path clip-path=\"url(#clip210)\" d=\"M 0 0 M132.705 1112.45 Q129.094 1112.45 127.265 1116.01 Q125.459 1119.55 125.459 1126.68 Q125.459 1133.79 127.265 1137.35 Q129.094 1140.89 132.705 1140.89 Q136.339 1140.89 138.144 1137.35 Q139.973 1133.79 139.973 1126.68 Q139.973 1119.55 138.144 1116.01 Q136.339 1112.45 132.705 1112.45 M132.705 1108.74 Q138.515 1108.74 141.57 1113.35 Q144.649 1117.93 144.649 1126.68 Q144.649 1135.41 141.57 1140.01 Q138.515 1144.6 132.705 1144.6 Q126.894 1144.6 123.816 1140.01 Q120.76 1135.41 120.76 1126.68 Q120.76 1117.93 123.816 1113.35 Q126.894 1108.74 132.705 1108.74 Z\" fill=\"#000000\" fill-rule=\"evenodd\" fill-opacity=\"1\" /><path clip-path=\"url(#clip210)\" d=\"M 0 0 M149.765 1109.37 L168.121 1109.37 L168.121 1113.3 L154.047 1113.3 L154.047 1121.77 Q155.066 1121.43 156.084 1121.27 Q157.103 1121.08 158.121 1121.08 Q163.908 1121.08 167.288 1124.25 Q170.667 1127.42 170.667 1132.84 Q170.667 1138.42 167.195 1141.52 Q163.723 1144.6 157.404 1144.6 Q155.228 1144.6 152.959 1144.23 Q150.714 1143.86 148.306 1143.12 L148.306 1138.42 Q150.39 1139.55 152.612 1140.11 Q154.834 1140.66 157.311 1140.66 Q161.316 1140.66 163.654 1138.56 Q165.992 1136.45 165.992 1132.84 Q165.992 1129.23 163.654 1127.12 Q161.316 1125.01 157.311 1125.01 Q155.436 1125.01 153.561 1125.43 Q151.709 1125.85 149.765 1126.73 L149.765 1109.37 Z\" fill=\"#000000\" fill-rule=\"evenodd\" fill-opacity=\"1\" /><path clip-path=\"url(#clip210)\" d=\"M 0 0 M94.7419 752.645 Q91.1308 752.645 89.3021 756.209 Q87.4966 759.751 87.4966 766.881 Q87.4966 773.987 89.3021 777.552 Q91.1308 781.094 94.7419 781.094 Q98.3761 781.094 100.182 777.552 Q102.01 773.987 102.01 766.881 Q102.01 759.751 100.182 756.209 Q98.3761 752.645 94.7419 752.645 M94.7419 748.941 Q100.552 748.941 103.608 753.547 Q106.686 758.131 106.686 766.881 Q106.686 775.608 103.608 780.214 Q100.552 784.797 94.7419 784.797 Q88.9317 784.797 85.8531 780.214 Q82.7975 775.608 82.7975 766.881 Q82.7975 758.131 85.8531 753.547 Q88.9317 748.941 94.7419 748.941 Z\" fill=\"#000000\" fill-rule=\"evenodd\" fill-opacity=\"1\" /><path clip-path=\"url(#clip210)\" d=\"M 0 0 M111.756 778.246 L116.64 778.246 L116.64 784.126 L111.756 784.126 L111.756 778.246 Z\" fill=\"#000000\" fill-rule=\"evenodd\" fill-opacity=\"1\" /><path clip-path=\"url(#clip210)\" d=\"M 0 0 M131.709 752.645 Q128.098 752.645 126.27 756.209 Q124.464 759.751 124.464 766.881 Q124.464 773.987 126.27 777.552 Q128.098 781.094 131.709 781.094 Q135.344 781.094 137.149 777.552 Q138.978 773.987 138.978 766.881 Q138.978 759.751 137.149 756.209 Q135.344 752.645 131.709 752.645 M131.709 748.941 Q137.519 748.941 140.575 753.547 Q143.654 758.131 143.654 766.881 Q143.654 775.608 140.575 780.214 Q137.519 784.797 131.709 784.797 Q125.899 784.797 122.82 780.214 Q119.765 775.608 119.765 766.881 Q119.765 758.131 122.82 753.547 Q125.899 748.941 131.709 748.941 Z\" fill=\"#000000\" fill-rule=\"evenodd\" fill-opacity=\"1\" /><path clip-path=\"url(#clip210)\" d=\"M 0 0 M158.723 752.645 Q155.112 752.645 153.283 756.209 Q151.478 759.751 151.478 766.881 Q151.478 773.987 153.283 777.552 Q155.112 781.094 158.723 781.094 Q162.357 781.094 164.163 777.552 Q165.992 773.987 165.992 766.881 Q165.992 759.751 164.163 756.209 Q162.357 752.645 158.723 752.645 M158.723 748.941 Q164.533 748.941 167.589 753.547 Q170.667 758.131 170.667 766.881 Q170.667 775.608 167.589 780.214 Q164.533 784.797 158.723 784.797 Q152.913 784.797 149.834 780.214 Q146.779 775.608 146.779 766.881 Q146.779 758.131 149.834 753.547 Q152.913 748.941 158.723 748.941 Z\" fill=\"#000000\" fill-rule=\"evenodd\" fill-opacity=\"1\" /><path clip-path=\"url(#clip210)\" d=\"M 0 0 M95.7373 392.844 Q92.1262 392.844 90.2975 396.409 Q88.4919 399.95 88.4919 407.08 Q88.4919 414.186 90.2975 417.751 Q92.1262 421.293 95.7373 421.293 Q99.3715 421.293 101.177 417.751 Q103.006 414.186 103.006 407.08 Q103.006 399.95 101.177 396.409 Q99.3715 392.844 95.7373 392.844 M95.7373 389.14 Q101.547 389.14 104.603 393.746 Q107.682 398.33 107.682 407.08 Q107.682 415.807 104.603 420.413 Q101.547 424.996 95.7373 424.996 Q89.9271 424.996 86.8484 420.413 Q83.7929 415.807 83.7929 407.08 Q83.7929 398.33 86.8484 393.746 Q89.9271 389.14 95.7373 389.14 Z\" fill=\"#000000\" fill-rule=\"evenodd\" fill-opacity=\"1\" /><path clip-path=\"url(#clip210)\" d=\"M 0 0 M112.751 418.445 L117.635 418.445 L117.635 424.325 L112.751 424.325 L112.751 418.445 Z\" fill=\"#000000\" fill-rule=\"evenodd\" fill-opacity=\"1\" /><path clip-path=\"url(#clip210)\" d=\"M 0 0 M132.705 392.844 Q129.094 392.844 127.265 396.409 Q125.459 399.95 125.459 407.08 Q125.459 414.186 127.265 417.751 Q129.094 421.293 132.705 421.293 Q136.339 421.293 138.144 417.751 Q139.973 414.186 139.973 407.08 Q139.973 399.95 138.144 396.409 Q136.339 392.844 132.705 392.844 M132.705 389.14 Q138.515 389.14 141.57 393.746 Q144.649 398.33 144.649 407.08 Q144.649 415.807 141.57 420.413 Q138.515 424.996 132.705 424.996 Q126.894 424.996 123.816 420.413 Q120.76 415.807 120.76 407.08 Q120.76 398.33 123.816 393.746 Q126.894 389.14 132.705 389.14 Z\" fill=\"#000000\" fill-rule=\"evenodd\" fill-opacity=\"1\" /><path clip-path=\"url(#clip210)\" d=\"M 0 0 M149.765 389.765 L168.121 389.765 L168.121 393.7 L154.047 393.7 L154.047 402.172 Q155.066 401.825 156.084 401.663 Q157.103 401.478 158.121 401.478 Q163.908 401.478 167.288 404.649 Q170.667 407.82 170.667 413.237 Q170.667 418.816 167.195 421.918 Q163.723 424.996 157.404 424.996 Q155.228 424.996 152.959 424.626 Q150.714 424.256 148.306 423.515 L148.306 418.816 Q150.39 419.95 152.612 420.506 Q154.834 421.061 157.311 421.061 Q161.316 421.061 163.654 418.955 Q165.992 416.848 165.992 413.237 Q165.992 409.626 163.654 407.52 Q161.316 405.413 157.311 405.413 Q155.436 405.413 153.561 405.83 Q151.709 406.246 149.765 407.126 L149.765 389.765 Z\" fill=\"#000000\" fill-rule=\"evenodd\" fill-opacity=\"1\" /><path clip-path=\"url(#clip210)\" d=\"M 0 0 M95.9687 33.0428 Q92.3576 33.0428 90.529 36.6076 Q88.7234 40.1492 88.7234 47.2788 Q88.7234 54.3853 90.529 57.9501 Q92.3576 61.4917 95.9687 61.4917 Q99.603 61.4917 101.409 57.9501 Q103.237 54.3853 103.237 47.2788 Q103.237 40.1492 101.409 36.6076 Q99.603 33.0428 95.9687 33.0428 M95.9687 29.3391 Q101.779 29.3391 104.834 33.9456 Q107.913 38.5289 107.913 47.2788 Q107.913 56.0056 104.834 60.6121 Q101.779 65.1954 95.9687 65.1954 Q90.1586 65.1954 87.0799 60.6121 Q84.0244 56.0056 84.0244 47.2788 Q84.0244 38.5289 87.0799 33.9456 Q90.1586 29.3391 95.9687 29.3391 Z\" fill=\"#000000\" fill-rule=\"evenodd\" fill-opacity=\"1\" /><path clip-path=\"url(#clip210)\" d=\"M 0 0 M112.983 58.6445 L117.867 58.6445 L117.867 64.5241 L112.983 64.5241 L112.983 58.6445 Z\" fill=\"#000000\" fill-rule=\"evenodd\" fill-opacity=\"1\" /><path clip-path=\"url(#clip210)\" d=\"M 0 0 M123.746 60.5889 L131.385 60.5889 L131.385 34.2233 L123.075 35.89 L123.075 31.6308 L131.339 29.9641 L136.015 29.9641 L136.015 60.5889 L143.654 60.5889 L143.654 64.5241 L123.746 64.5241 L123.746 60.5889 Z\" fill=\"#000000\" fill-rule=\"evenodd\" fill-opacity=\"1\" /><path clip-path=\"url(#clip210)\" d=\"M 0 0 M158.723 33.0428 Q155.112 33.0428 153.283 36.6076 Q151.478 40.1492 151.478 47.2788 Q151.478 54.3853 153.283 57.9501 Q155.112 61.4917 158.723 61.4917 Q162.357 61.4917 164.163 57.9501 Q165.992 54.3853 165.992 47.2788 Q165.992 40.1492 164.163 36.6076 Q162.357 33.0428 158.723 33.0428 M158.723 29.3391 Q164.533 29.3391 167.589 33.9456 Q170.667 38.5289 170.667 47.2788 Q170.667 56.0056 167.589 60.6121 Q164.533 65.1954 158.723 65.1954 Q152.913 65.1954 149.834 60.6121 Q146.779 56.0056 146.779 47.2788 Q146.779 38.5289 149.834 33.9456 Q152.913 29.3391 158.723 29.3391 Z\" fill=\"#000000\" fill-rule=\"evenodd\" fill-opacity=\"1\" /><polyline clip-path=\"url(#clip212)\" style=\"stroke:#009af9; stroke-width:20; stroke-opacity:1; fill:none\" points=\"\n",
       "  267.406,766.846 2292.02,766.846 \n",
       "  \"/>\n",
       "<polyline clip-path=\"url(#clip212)\" style=\"stroke:#e26f46; stroke-width:20; stroke-opacity:1; fill:none\" points=\"\n",
       "  1330.37,766.846 1367.14,766.846 \n",
       "  \"/>\n",
       "<path clip-path=\"url(#clip210)\" d=\"\n",
       "M1821.59 276.658 L2281.22 276.658 L2281.22 95.2176 L1821.59 95.2176  Z\n",
       "  \" fill=\"#ffffff\" fill-rule=\"evenodd\" fill-opacity=\"1\"/>\n",
       "<polyline clip-path=\"url(#clip210)\" style=\"stroke:#000000; stroke-width:4; stroke-opacity:1; fill:none\" points=\"\n",
       "  1821.59,276.658 2281.22,276.658 2281.22,95.2176 1821.59,95.2176 1821.59,276.658 \n",
       "  \"/>\n",
       "<polyline clip-path=\"url(#clip210)\" style=\"stroke:#009af9; stroke-width:4; stroke-opacity:1; fill:none\" points=\"\n",
       "  1845.43,155.698 1988.5,155.698 \n",
       "  \"/>\n",
       "<path clip-path=\"url(#clip210)\" d=\"M 0 0 M2012.35 138.418 L2041.59 138.418 L2041.59 142.353 L2029.32 142.353 L2029.32 172.978 L2024.62 172.978 L2024.62 142.353 L2012.35 142.353 L2012.35 138.418 Z\" fill=\"#000000\" fill-rule=\"evenodd\" fill-opacity=\"1\" /><path clip-path=\"url(#clip210)\" d=\"M 0 0 M2046.24 138.418 L2053.21 138.418 L2062.03 161.936 L2070.89 138.418 L2077.86 138.418 L2077.86 172.978 L2073.3 172.978 L2073.3 142.63 L2064.39 166.334 L2059.69 166.334 L2050.78 142.63 L2050.78 172.978 L2046.24 172.978 L2046.24 138.418 Z\" fill=\"#000000\" fill-rule=\"evenodd\" fill-opacity=\"1\" /><path clip-path=\"url(#clip210)\" d=\"M 0 0 M2107.44 150.038 Q2104.02 150.038 2102.02 152.723 Q2100.03 155.385 2100.03 160.038 Q2100.03 164.691 2102 167.376 Q2103.99 170.038 2107.44 170.038 Q2110.84 170.038 2112.83 167.353 Q2114.83 164.667 2114.83 160.038 Q2114.83 155.431 2112.83 152.746 Q2110.84 150.038 2107.44 150.038 M2107.44 146.427 Q2113 146.427 2116.17 150.038 Q2119.34 153.649 2119.34 160.038 Q2119.34 166.404 2116.17 170.038 Q2113 173.649 2107.44 173.649 Q2101.86 173.649 2098.69 170.038 Q2095.54 166.404 2095.54 160.038 Q2095.54 153.649 2098.69 150.038 Q2101.86 146.427 2107.44 146.427 Z\" fill=\"#000000\" fill-rule=\"evenodd\" fill-opacity=\"1\" /><path clip-path=\"url(#clip210)\" d=\"M 0 0 M2123.37 162.746 L2123.37 147.052 L2127.63 147.052 L2127.63 162.584 Q2127.63 166.265 2129.06 168.116 Q2130.5 169.945 2133.37 169.945 Q2136.82 169.945 2138.81 167.746 Q2140.82 165.547 2140.82 161.751 L2140.82 147.052 L2145.08 147.052 L2145.08 172.978 L2140.82 172.978 L2140.82 168.996 Q2139.27 171.357 2137.21 172.515 Q2135.17 173.649 2132.46 173.649 Q2128 173.649 2125.68 170.871 Q2123.37 168.093 2123.37 162.746 M2134.08 146.427 L2134.08 146.427 Z\" fill=\"#000000\" fill-rule=\"evenodd\" fill-opacity=\"1\" /><path clip-path=\"url(#clip210)\" d=\"M 0 0 M2153.76 139.691 L2153.76 147.052 L2162.53 147.052 L2162.53 150.362 L2153.76 150.362 L2153.76 164.436 Q2153.76 167.607 2154.62 168.51 Q2155.5 169.413 2158.16 169.413 L2162.53 169.413 L2162.53 172.978 L2158.16 172.978 Q2153.23 172.978 2151.35 171.149 Q2149.48 169.297 2149.48 164.436 L2149.48 150.362 L2146.35 150.362 L2146.35 147.052 L2149.48 147.052 L2149.48 139.691 L2153.76 139.691 Z\" fill=\"#000000\" fill-rule=\"evenodd\" fill-opacity=\"1\" /><path clip-path=\"url(#clip210)\" d=\"M 0 0 M2171.12 169.089 L2171.12 182.839 L2166.84 182.839 L2166.84 147.052 L2171.12 147.052 L2171.12 150.987 Q2172.46 148.672 2174.5 147.561 Q2176.56 146.427 2179.41 146.427 Q2184.13 146.427 2187.07 150.177 Q2190.03 153.927 2190.03 160.038 Q2190.03 166.149 2187.07 169.899 Q2184.13 173.649 2179.41 173.649 Q2176.56 173.649 2174.5 172.538 Q2172.46 171.403 2171.12 169.089 M2185.61 160.038 Q2185.61 155.339 2183.67 152.677 Q2181.75 149.992 2178.37 149.992 Q2174.99 149.992 2173.04 152.677 Q2171.12 155.339 2171.12 160.038 Q2171.12 164.737 2173.04 167.422 Q2174.99 170.084 2178.37 170.084 Q2181.75 170.084 2183.67 167.422 Q2185.61 164.737 2185.61 160.038 Z\" fill=\"#000000\" fill-rule=\"evenodd\" fill-opacity=\"1\" /><path clip-path=\"url(#clip210)\" d=\"M 0 0 M2194.06 162.746 L2194.06 147.052 L2198.32 147.052 L2198.32 162.584 Q2198.32 166.265 2199.76 168.116 Q2201.19 169.945 2204.06 169.945 Q2207.51 169.945 2209.5 167.746 Q2211.51 165.547 2211.51 161.751 L2211.51 147.052 L2215.77 147.052 L2215.77 172.978 L2211.51 172.978 L2211.51 168.996 Q2209.96 171.357 2207.9 172.515 Q2205.87 173.649 2203.16 173.649 Q2198.69 173.649 2196.38 170.871 Q2194.06 168.093 2194.06 162.746 M2204.78 146.427 L2204.78 146.427 Z\" fill=\"#000000\" fill-rule=\"evenodd\" fill-opacity=\"1\" /><path clip-path=\"url(#clip210)\" d=\"M 0 0 M2224.45 139.691 L2224.45 147.052 L2233.23 147.052 L2233.23 150.362 L2224.45 150.362 L2224.45 164.436 Q2224.45 167.607 2225.31 168.51 Q2226.19 169.413 2228.85 169.413 L2233.23 169.413 L2233.23 172.978 L2228.85 172.978 Q2223.92 172.978 2222.05 171.149 Q2220.17 169.297 2220.17 164.436 L2220.17 150.362 L2217.05 150.362 L2217.05 147.052 L2220.17 147.052 L2220.17 139.691 L2224.45 139.691 Z\" fill=\"#000000\" fill-rule=\"evenodd\" fill-opacity=\"1\" /><polyline clip-path=\"url(#clip210)\" style=\"stroke:#e26f46; stroke-width:4; stroke-opacity:1; fill:none\" points=\"\n",
       "  1845.43,216.178 1988.5,216.178 \n",
       "  \"/>\n",
       "<path clip-path=\"url(#clip210)\" d=\"M 0 0 M2028.18 203.504 L2021.84 220.703 L2034.55 220.703 L2028.18 203.504 M2025.54 198.898 L2030.84 198.898 L2044.02 233.458 L2039.15 233.458 L2036.01 224.592 L2020.43 224.592 L2017.28 233.458 L2012.35 233.458 L2025.54 198.898 Z\" fill=\"#000000\" fill-rule=\"evenodd\" fill-opacity=\"1\" /><path clip-path=\"url(#clip210)\" d=\"M 0 0 M2048.48 207.532 L2052.74 207.532 L2052.74 233.458 L2048.48 233.458 L2048.48 207.532 M2048.48 197.439 L2052.74 197.439 L2052.74 202.833 L2048.48 202.833 L2048.48 197.439 Z\" fill=\"#000000\" fill-rule=\"evenodd\" fill-opacity=\"1\" /><path clip-path=\"url(#clip210)\" d=\"M 0 0 M2061.84 229.522 L2078.16 229.522 L2078.16 233.458 L2056.21 233.458 L2056.21 229.522 Q2058.88 226.768 2063.46 222.138 Q2068.07 217.485 2069.25 216.143 Q2071.49 213.62 2072.37 211.884 Q2073.27 210.124 2073.27 208.435 Q2073.27 205.68 2071.33 203.944 Q2069.41 202.208 2066.31 202.208 Q2064.11 202.208 2061.65 202.972 Q2059.22 203.735 2056.45 205.286 L2056.45 200.564 Q2059.27 199.43 2061.72 198.851 Q2064.18 198.273 2066.21 198.273 Q2071.59 198.273 2074.78 200.958 Q2077.97 203.643 2077.97 208.134 Q2077.97 210.263 2077.16 212.185 Q2076.38 214.083 2074.27 216.675 Q2073.69 217.347 2070.59 220.564 Q2067.49 223.759 2061.84 229.522 Z\" fill=\"#000000\" fill-rule=\"evenodd\" fill-opacity=\"1\" /><path clip-path=\"url(#clip210)\" d=\"M 0 0 M2107.74 210.518 Q2104.32 210.518 2102.33 213.203 Q2100.34 215.865 2100.34 220.518 Q2100.34 225.171 2102.3 227.856 Q2104.29 230.518 2107.74 230.518 Q2111.15 230.518 2113.14 227.833 Q2115.13 225.147 2115.13 220.518 Q2115.13 215.911 2113.14 213.226 Q2111.15 210.518 2107.74 210.518 M2107.74 206.907 Q2113.3 206.907 2116.47 210.518 Q2119.64 214.129 2119.64 220.518 Q2119.64 226.884 2116.47 230.518 Q2113.3 234.129 2107.74 234.129 Q2102.16 234.129 2098.99 230.518 Q2095.84 226.884 2095.84 220.518 Q2095.84 214.129 2098.99 210.518 Q2102.16 206.907 2107.74 206.907 Z\" fill=\"#000000\" fill-rule=\"evenodd\" fill-opacity=\"1\" /><path clip-path=\"url(#clip210)\" d=\"M 0 0 M2123.67 223.226 L2123.67 207.532 L2127.93 207.532 L2127.93 223.064 Q2127.93 226.745 2129.36 228.596 Q2130.8 230.425 2133.67 230.425 Q2137.12 230.425 2139.11 228.226 Q2141.12 226.027 2141.12 222.231 L2141.12 207.532 L2145.38 207.532 L2145.38 233.458 L2141.12 233.458 L2141.12 229.476 Q2139.57 231.837 2137.51 232.995 Q2135.47 234.129 2132.77 234.129 Q2128.3 234.129 2125.98 231.351 Q2123.67 228.573 2123.67 223.226 M2134.39 206.907 L2134.39 206.907 Z\" fill=\"#000000\" fill-rule=\"evenodd\" fill-opacity=\"1\" /><path clip-path=\"url(#clip210)\" d=\"M 0 0 M2154.06 200.171 L2154.06 207.532 L2162.83 207.532 L2162.83 210.842 L2154.06 210.842 L2154.06 224.916 Q2154.06 228.087 2154.92 228.99 Q2155.8 229.893 2158.46 229.893 L2162.83 229.893 L2162.83 233.458 L2158.46 233.458 Q2153.53 233.458 2151.65 231.629 Q2149.78 229.777 2149.78 224.916 L2149.78 210.842 L2146.65 210.842 L2146.65 207.532 L2149.78 207.532 L2149.78 200.171 L2154.06 200.171 Z\" fill=\"#000000\" fill-rule=\"evenodd\" fill-opacity=\"1\" /><path clip-path=\"url(#clip210)\" d=\"M 0 0 M2171.42 229.569 L2171.42 243.319 L2167.14 243.319 L2167.14 207.532 L2171.42 207.532 L2171.42 211.467 Q2172.77 209.152 2174.8 208.041 Q2176.86 206.907 2179.71 206.907 Q2184.43 206.907 2187.37 210.657 Q2190.33 214.407 2190.33 220.518 Q2190.33 226.629 2187.37 230.379 Q2184.43 234.129 2179.71 234.129 Q2176.86 234.129 2174.8 233.018 Q2172.77 231.883 2171.42 229.569 M2185.91 220.518 Q2185.91 215.819 2183.97 213.157 Q2182.05 210.472 2178.67 210.472 Q2175.29 210.472 2173.34 213.157 Q2171.42 215.819 2171.42 220.518 Q2171.42 225.217 2173.34 227.902 Q2175.29 230.564 2178.67 230.564 Q2182.05 230.564 2183.97 227.902 Q2185.91 225.217 2185.91 220.518 Z\" fill=\"#000000\" fill-rule=\"evenodd\" fill-opacity=\"1\" /><path clip-path=\"url(#clip210)\" d=\"M 0 0 M2194.36 223.226 L2194.36 207.532 L2198.62 207.532 L2198.62 223.064 Q2198.62 226.745 2200.06 228.596 Q2201.49 230.425 2204.36 230.425 Q2207.81 230.425 2209.8 228.226 Q2211.82 226.027 2211.82 222.231 L2211.82 207.532 L2216.08 207.532 L2216.08 233.458 L2211.82 233.458 L2211.82 229.476 Q2210.27 231.837 2208.2 232.995 Q2206.17 234.129 2203.46 234.129 Q2198.99 234.129 2196.68 231.351 Q2194.36 228.573 2194.36 223.226 M2205.08 206.907 L2205.08 206.907 Z\" fill=\"#000000\" fill-rule=\"evenodd\" fill-opacity=\"1\" /><path clip-path=\"url(#clip210)\" d=\"M 0 0 M2224.76 200.171 L2224.76 207.532 L2233.53 207.532 L2233.53 210.842 L2224.76 210.842 L2224.76 224.916 Q2224.76 228.087 2225.61 228.99 Q2226.49 229.893 2229.15 229.893 L2233.53 229.893 L2233.53 233.458 L2229.15 233.458 Q2224.22 233.458 2222.35 231.629 Q2220.47 229.777 2220.47 224.916 L2220.47 210.842 L2217.35 210.842 L2217.35 207.532 L2220.47 207.532 L2220.47 200.171 L2224.76 200.171 Z\" fill=\"#000000\" fill-rule=\"evenodd\" fill-opacity=\"1\" /></svg>\n"
      ]
     },
     "execution_count": 174,
     "metadata": {},
     "output_type": "execute_result"
    }
   ],
   "source": [
    "plot(u, lw=5, label=\"TM output\")\n",
    "plot!(u_1, lw=5, label=\"Ai2 output\")\n",
    "ylims!((-0.1, 0.1))"
   ]
  }
 ],
 "metadata": {
  "@webio": {
   "lastCommId": null,
   "lastKernelId": null
  },
  "kernelspec": {
   "display_name": "Julia 1.5.0-rc1",
   "language": "julia",
   "name": "julia-1.5"
  },
  "language_info": {
   "file_extension": ".jl",
   "mimetype": "application/julia",
   "name": "julia",
   "version": "1.5.0"
  }
 },
 "nbformat": 4,
 "nbformat_minor": 4
}
