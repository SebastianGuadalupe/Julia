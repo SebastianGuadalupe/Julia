{
 "cells": [
  {
   "cell_type": "code",
   "execution_count": 7,
   "metadata": {
    "scrolled": true
   },
   "outputs": [],
   "source": [
    "using JLD2, NeuralVerification, ReachabilityAnalysis, Plots, TaylorModels\n",
    "using ReachabilityAnalysis: solve, Interval"
   ]
  },
  {
   "cell_type": "code",
   "execution_count": 2,
   "metadata": {},
   "outputs": [],
   "source": [
    "@load \"/home/sguadalupe/Documents/Julia/AI/b7_2.jld2\" controller;"
   ]
  },
  {
   "cell_type": "code",
   "execution_count": 3,
   "metadata": {},
   "outputs": [
    {
     "name": "stderr",
     "output_type": "stream",
     "text": [
      "WARNING: both TaylorModels and ReachabilityAnalysis export \"Interval\"; uses of it in module Main must be qualified\n"
     ]
    },
    {
     "ename": "UndefVarError",
     "evalue": "UndefVarError: Interval not defined",
     "output_type": "error",
     "traceback": [
      "UndefVarError: Interval not defined",
      "",
      "Stacktrace:",
      " [1] top-level scope at In[3]:16"
     ]
    }
   ],
   "source": [
    "@taylorize function f!(dx, x, p, t)\n",
    "    x₁, x₂, x₃, w, u = x\n",
    "\n",
    "    dx[1] = x₃^3 - x₂ + w\n",
    "    dx[2] = x₃\n",
    "    dx[3] = u\n",
    "    dx[4] = zero(w) # w\n",
    "    dx[5] = zero(u) # u\n",
    "    return dx\n",
    "end\n",
    "\n",
    "\n",
    "solver = MaxSens(resolution=100.0, tight=true)\n",
    "\n",
    "X₀ = Hyperrectangle(low=[0.35, 0.45, 0.25], high=[0.45, 0.55, 0.35])\n",
    "W₀ = Interval(0, 0) # Interval(-0.01, 0.01)\n",
    "\n",
    "U₀ = Interval(0, 0)\n",
    "U₀ = forward_network(solver, controller, X₀)\n",
    "\n",
    "Q₀ = X₀ × W₀ × U₀\n",
    "#Q₀ = overapproximate(Q₀, Hyperrectangle)\n",
    "#Q₀ = split(Q₀, 4*ones(Int, 5))\n",
    "prob = @ivp(x' = f!(x), dim: 5, x(0) ∈ Q₀);\n",
    "\n",
    "Tsample = 0.5 # sect\n",
    "t0 = 0.0\n",
    "ti = t0\n",
    "k = 1\n",
    "\n",
    "sol1 = solve(prob, tspan=(ti, ti+k*Tsample), alg=TMJets(abs_tol=1e-16, orderT=8, orderQ=1));\n",
    "sol1z = overapproximate(sol1, Zonotope);"
   ]
  },
  {
   "cell_type": "code",
   "execution_count": 42,
   "metadata": {},
   "outputs": [
    {
     "data": {
      "text/plain": [
       "nsolve (generic function with 1 method)"
      ]
     },
     "execution_count": 42,
     "metadata": {},
     "output_type": "execute_result"
    }
   ],
   "source": [
    "function nsolve(func, X₀, vars, nn::Network, solver, tspan, sampling_time)\n",
    "    U₀ = forward_network(solver, nn, X₀)\n",
    "    Q₀ = X₀\n",
    "    for var in vars\n",
    "        Q₀ = Q₀ × var\n",
    "    end\n",
    "    t = 0.0\n",
    "    sol = Vector(undef, Int(tspan/sampling_time))\n",
    "    for i = 1:Int(tspan/sampling_time)\n",
    "        P₀ = Q₀ × U₀\n",
    "        prob = @ivp(func.s, x(0) ∈ P₀);\n",
    "        sol[i] = solve(prob, tspan=(t, t+sampling_time), alg=TMJets(abs_tol=1e-16, orderT=8, orderQ=1));\n",
    "        t += sampling_time\n",
    "        Q₀ = set(Projection(overapproximate(sol[i][end], Hyperrectangle).X, vars=[1:dim(Q₀)]))\n",
    "        U₀ = forward_network(solver, nn, Q₀)\n",
    "    end\n",
    "    return sol\n",
    "end"
   ]
  },
  {
   "cell_type": "code",
   "execution_count": 43,
   "metadata": {},
   "outputs": [],
   "source": [
    "prob = @ivp(x' = f!(x), dim: 5, x(0) ∈ X₀);"
   ]
  },
  {
   "cell_type": "code",
   "execution_count": 44,
   "metadata": {},
   "outputs": [
    {
     "ename": "MethodError",
     "evalue": "MethodError: no method matching Projection(::Hyperrectangle{Float64,StaticArrays.SArray{Tuple{5},Float64,1,5},StaticArrays.SArray{Tuple{5},Float64,1,5}}; vars=UnitRange{Int64}[1:4])\nClosest candidates are:\n  Projection(!Matched::ReachabilityAnalysis.AbstractLazyReachSet; vars) at /home/sguadalupe/.julia/dev/ReachabilityAnalysis/src/Flowpipes/reachsets.jl:516\n  Projection(!Matched::ReachabilityAnalysis.AbstractLazyReachSet, !Matched::Tuple{Vararg{M,D}}) where {D, M<:Integer} at /home/sguadalupe/.julia/dev/ReachabilityAnalysis/src/Flowpipes/reachsets.jl:491 got unsupported keyword argument \"vars\"\n  Projection(!Matched::ReachabilityAnalysis.AbstractLazyReachSet, !Matched::Tuple{Vararg{M,D}}, !Matched::Bool) where {D, M<:Integer} at /home/sguadalupe/.julia/dev/ReachabilityAnalysis/src/Flowpipes/reachsets.jl:491 got unsupported keyword argument \"vars\"\n  ...",
     "output_type": "error",
     "traceback": [
      "MethodError: no method matching Projection(::Hyperrectangle{Float64,StaticArrays.SArray{Tuple{5},Float64,1,5},StaticArrays.SArray{Tuple{5},Float64,1,5}}; vars=UnitRange{Int64}[1:4])\nClosest candidates are:\n  Projection(!Matched::ReachabilityAnalysis.AbstractLazyReachSet; vars) at /home/sguadalupe/.julia/dev/ReachabilityAnalysis/src/Flowpipes/reachsets.jl:516\n  Projection(!Matched::ReachabilityAnalysis.AbstractLazyReachSet, !Matched::Tuple{Vararg{M,D}}) where {D, M<:Integer} at /home/sguadalupe/.julia/dev/ReachabilityAnalysis/src/Flowpipes/reachsets.jl:491 got unsupported keyword argument \"vars\"\n  Projection(!Matched::ReachabilityAnalysis.AbstractLazyReachSet, !Matched::Tuple{Vararg{M,D}}, !Matched::Bool) where {D, M<:Integer} at /home/sguadalupe/.julia/dev/ReachabilityAnalysis/src/Flowpipes/reachsets.jl:491 got unsupported keyword argument \"vars\"\n  ...",
      "",
      "Stacktrace:",
      " [1] nsolve(::InitialValueProblem{BlackBoxContinuousSystem{typeof(f!)},Hyperrectangle{Float64,Array{Float64,1},Array{Float64,1}}}, ::Hyperrectangle{Float64,Array{Float64,1},Array{Float64,1}}, ::Array{Interval{Float64,IntervalArithmetic.Interval{Float64}},1}, ::Network, ::MaxSens, ::Int64, ::Float64) at ./In[42]:14",
      " [2] top-level scope at In[44]:3"
     ]
    }
   ],
   "source": [
    "X₀ = Hyperrectangle(low=[0.35, 0.45, 0.25], high=[0.45, 0.55, 0.35])\n",
    "W₀ = Interval(-0.01, 0.01)\n",
    "sol = nsolve(prob, X₀, [W₀], controller, MaxSens(), 2, 0.5);"
   ]
  },
  {
   "cell_type": "code",
   "execution_count": 55,
   "metadata": {},
   "outputs": [
    {
     "data": {
      "text/plain": [
       "Hyperrectangle{Float64,StaticArrays.SArray{Tuple{5},Float64,1,5},StaticArrays.SArray{Tuple{5},Float64,1,5}}([-5694.904363138294, -5.07631646165418, -22.605265846616717, 0.0, -91.62106338646686], [6341.020477666118, 5.892122961726759, 23.318491846907037, 0.01, 0.7264520005806361])"
      ]
     },
     "execution_count": 55,
     "metadata": {},
     "output_type": "execute_result"
    }
   ],
   "source": [
    "overapproximate(sol[1][end], Hyperrectangle).X"
   ]
  },
  {
   "cell_type": "code",
   "execution_count": 34,
   "metadata": {},
   "outputs": [
    {
     "name": "stdout",
     "output_type": "stream",
     "text": [
      "search: \u001b[0m\u001b[1mR\u001b[22m\u001b[0m\u001b[1me\u001b[22m\u001b[0m\u001b[1ma\u001b[22m\u001b[0m\u001b[1mc\u001b[22m\u001b[0m\u001b[1mh\u001b[22m\u001b[0m\u001b[1mS\u001b[22m\u001b[0m\u001b[1me\u001b[22m\u001b[0m\u001b[1mt\u001b[22m Shifted\u001b[0m\u001b[1mR\u001b[22m\u001b[0m\u001b[1me\u001b[22m\u001b[0m\u001b[1ma\u001b[22m\u001b[0m\u001b[1mc\u001b[22m\u001b[0m\u001b[1mh\u001b[22m\u001b[0m\u001b[1mS\u001b[22m\u001b[0m\u001b[1me\u001b[22m\u001b[0m\u001b[1mt\u001b[22m Template\u001b[0m\u001b[1mR\u001b[22m\u001b[0m\u001b[1me\u001b[22m\u001b[0m\u001b[1ma\u001b[22m\u001b[0m\u001b[1mc\u001b[22m\u001b[0m\u001b[1mh\u001b[22m\u001b[0m\u001b[1mS\u001b[22m\u001b[0m\u001b[1me\u001b[22m\u001b[0m\u001b[1mt\u001b[22m Spa\u001b[0m\u001b[1mr\u001b[22ms\u001b[0m\u001b[1me\u001b[22mRe\u001b[0m\u001b[1ma\u001b[22m\u001b[0m\u001b[1mc\u001b[22m\u001b[0m\u001b[1mh\u001b[22m\u001b[0m\u001b[1mS\u001b[22m\u001b[0m\u001b[1me\u001b[22m\u001b[0m\u001b[1mt\u001b[22m\n",
      "\n"
     ]
    },
    {
     "data": {
      "text/latex": [
       "\\begin{verbatim}\n",
       "ReachSet{N, ST<:LazySet{N}} <: AbstractLazyReachSet{N}\n",
       "\\end{verbatim}\n",
       "Type that wraps a reach-set using a \\texttt{LazySet} as underlying representation.\n",
       "\n",
       "\\subsubsection{Fields}\n",
       "\\begin{itemize}\n",
       "\\item \\texttt{X}  – set\n",
       "\n",
       "\n",
       "\\item \\texttt{Δt} – time interval\n",
       "\n",
       "\\end{itemize}\n",
       "\\subsubsection{Notes}\n",
       "A \\texttt{ReachSet} is a struct representing (an approximation of) the reachable states for a given time interval. The type of the representation is \\texttt{ST}, which may be any subtype LazySet. For efficiency reasons, \\texttt{ST} should be concretely typed.\n",
       "\n",
       "By assumption the coordinates in this reach-set are associated to the integers \\texttt{1, …, n}. The function \\texttt{vars} returns such tuple.\n",
       "\n"
      ],
      "text/markdown": [
       "```\n",
       "ReachSet{N, ST<:LazySet{N}} <: AbstractLazyReachSet{N}\n",
       "```\n",
       "\n",
       "Type that wraps a reach-set using a `LazySet` as underlying representation.\n",
       "\n",
       "### Fields\n",
       "\n",
       "  * `X`  – set\n",
       "  * `Δt` – time interval\n",
       "\n",
       "### Notes\n",
       "\n",
       "A `ReachSet` is a struct representing (an approximation of) the reachable states for a given time interval. The type of the representation is `ST`, which may be any subtype LazySet. For efficiency reasons, `ST` should be concretely typed.\n",
       "\n",
       "By assumption the coordinates in this reach-set are associated to the integers `1, …, n`. The function `vars` returns such tuple.\n"
      ],
      "text/plain": [
       "\u001b[36m  ReachSet{N, ST<:LazySet{N}} <: AbstractLazyReachSet{N}\u001b[39m\n",
       "\n",
       "  Type that wraps a reach-set using a \u001b[36mLazySet\u001b[39m as underlying representation.\n",
       "\n",
       "\u001b[1m  Fields\u001b[22m\n",
       "\u001b[1m  ––––––––\u001b[22m\n",
       "\n",
       "    •    \u001b[36mX\u001b[39m – set\n",
       "\n",
       "    •    \u001b[36mΔt\u001b[39m – time interval\n",
       "\n",
       "\u001b[1m  Notes\u001b[22m\n",
       "\u001b[1m  –––––––\u001b[22m\n",
       "\n",
       "  A \u001b[36mReachSet\u001b[39m is a struct representing (an approximation of) the reachable\n",
       "  states for a given time interval. The type of the representation is \u001b[36mST\u001b[39m,\n",
       "  which may be any subtype LazySet. For efficiency reasons, \u001b[36mST\u001b[39m should be\n",
       "  concretely typed.\n",
       "\n",
       "  By assumption the coordinates in this reach-set are associated to the\n",
       "  integers \u001b[36m1, …, n\u001b[39m. The function \u001b[36mvars\u001b[39m returns such tuple."
      ]
     },
     "execution_count": 34,
     "metadata": {},
     "output_type": "execute_result"
    }
   ],
   "source": [
    "?ReachSet"
   ]
  },
  {
   "cell_type": "code",
   "execution_count": null,
   "metadata": {},
   "outputs": [],
   "source": []
  }
 ],
 "metadata": {
  "kernelspec": {
   "display_name": "Julia 1.4.0",
   "language": "julia",
   "name": "julia-1.4"
  },
  "language_info": {
   "file_extension": ".jl",
   "mimetype": "application/julia",
   "name": "julia",
   "version": "1.4.0"
  }
 },
 "nbformat": 4,
 "nbformat_minor": 4
}
