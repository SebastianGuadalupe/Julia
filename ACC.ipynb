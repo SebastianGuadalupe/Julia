{
 "cells": [
  {
   "cell_type": "code",
   "execution_count": 3,
   "metadata": {},
   "outputs": [],
   "source": [
    "using Revise, NeuralNetworkAnalysis, JLD2, Plots\n",
    "const NNA = NeuralNetworkAnalysis\n",
    "\n",
    "using NeuralNetworkAnalysis: _forward_network"
   ]
  },
  {
   "cell_type": "code",
   "execution_count": 37,
   "metadata": {},
   "outputs": [
    {
     "data": {
      "text/plain": [
       "1-element Array{Symbol,1}:\n",
       " :controller"
      ]
     },
     "execution_count": 37,
     "metadata": {},
     "output_type": "execute_result"
    }
   ],
   "source": [
    "@load \"/home/sguadalupe/.julia/dev/NeuralNetworkAnalysis/models/ACC/acc3.jld2\" controller"
   ]
  },
  {
   "cell_type": "code",
   "execution_count": 49,
   "metadata": {},
   "outputs": [
    {
     "data": {
      "text/plain": [
       "1×20 Array{Float64,2}:\n",
       " 0.563364  0.0207789  -0.00882743  …  -0.00452622  0.00655114  -0.0147388"
      ]
     },
     "execution_count": 49,
     "metadata": {},
     "output_type": "execute_result"
    }
   ],
   "source": [
    "controller.layers[4].weights"
   ]
  },
  {
   "cell_type": "code",
   "execution_count": 138,
   "metadata": {},
   "outputs": [],
   "source": [
    "@taylorize function ACC!(dx, x, p, t)\n",
    "    local a_lead, u = -100., 0.0001\n",
    "    x_lead, v_lead, γ_lead, x_ego, v_ego, γ_ego, a_ego = x\n",
    "\n",
    "    dx[1] = v_lead\n",
    "    dx[2] = γ_lead\n",
    "    dx[3] = 2 * (a_lead - γ_lead) - u * v_lead^2\n",
    "    dx[4] = v_ego\n",
    "    dx[5] = γ_ego\n",
    "    dx[6] = 2 * (a_ego - γ_ego) - u * v_ego^2\n",
    "    dx[7] = zero(a_ego)\n",
    "end"
   ]
  },
  {
   "cell_type": "code",
   "execution_count": 66,
   "metadata": {},
   "outputs": [
    {
     "data": {
      "text/plain": [
       "Zonotope{Float64,Array{Float64,1},Array{Float64,2}}([-0.07012024020117164], [-0.038222979527168605 0.035003381119895975 -0.010008594957471152])"
      ]
     },
     "execution_count": 66,
     "metadata": {},
     "output_type": "execute_result"
    }
   ],
   "source": [
    "X₀ = Hyperrectangle(low=[90., 32, 0, 10, 30, 0], high=[110, 32.2, 0, 11, 30.2, 0])\n",
    "W₀ = Hyperrectangle(low=[30., 1.4, 30., 80., 2.], high=[30., 1.4, 30.2, 99., 2.])\n",
    "U₀ = _forward_network(solver, controller, W₀)"
   ]
  },
  {
   "cell_type": "code",
   "execution_count": 98,
   "metadata": {},
   "outputs": [
    {
     "data": {
      "text/plain": [
       "Hyperrectangle{Float64,Array{Float64,1},Array{Float64,1}}([-0.07012024020117164], [0.08323495560453574])"
      ]
     },
     "execution_count": 98,
     "metadata": {},
     "output_type": "execute_result"
    }
   ],
   "source": [
    "overapproximate(U₀, Hyperrectangle)"
   ]
  },
  {
   "cell_type": "code",
   "execution_count": 142,
   "metadata": {},
   "outputs": [],
   "source": [
    "prob = @ivp(x' = ACC!(x), dim: 7, x(0) ∈ X₀ × overapproximate(U₀, Hyperrectangle)*0);"
   ]
  },
  {
   "cell_type": "code",
   "execution_count": 143,
   "metadata": {
    "scrolled": false
   },
   "outputs": [
    {
     "name": "stdout",
     "output_type": "stream",
     "text": [
      "  0.322729 seconds (4.70 M allocations: 487.857 MiB, 29.53% gc time)\n"
     ]
    }
   ],
   "source": [
    "alg = TMJets(abs_tol=1e-9, orderT=8, orderQ=2)\n",
    "\n",
    "@time sol = solve(prob, T=1.4, alg=alg)\n",
    "solz = overapproximate(sol, Zonotope);"
   ]
  },
  {
   "cell_type": "code",
   "execution_count": 144,
   "metadata": {},
   "outputs": [
    {
     "data": {
      "image/svg+xml": [
       "<?xml version=\"1.0\" encoding=\"utf-8\"?>\n",
       "<svg xmlns=\"http://www.w3.org/2000/svg\" xmlns:xlink=\"http://www.w3.org/1999/xlink\" width=\"600\" height=\"400\" viewBox=\"0 0 2400 1600\">\n",
       "<defs>\n",
       "  <clipPath id=\"clip3900\">\n",
       "    <rect x=\"0\" y=\"0\" width=\"2400\" height=\"1600\"/>\n",
       "  </clipPath>\n",
       "</defs>\n",
       "<path clip-path=\"url(#clip3900)\" d=\"\n",
       "M0 1600 L2400 1600 L2400 0 L0 0  Z\n",
       "  \" fill=\"#ffffff\" fill-rule=\"evenodd\" fill-opacity=\"1\"/>\n",
       "<defs>\n",
       "  <clipPath id=\"clip3901\">\n",
       "    <rect x=\"480\" y=\"0\" width=\"1681\" height=\"1600\"/>\n",
       "  </clipPath>\n",
       "</defs>\n",
       "<path clip-path=\"url(#clip3900)\" d=\"\n",
       "M583.443 1487.47 L2352.76 1487.47 L2352.76 47.2441 L583.443 47.2441  Z\n",
       "  \" fill=\"#ffffff\" fill-rule=\"evenodd\" fill-opacity=\"1\"/>\n",
       "<defs>\n",
       "  <clipPath id=\"clip3902\">\n",
       "    <rect x=\"583\" y=\"47\" width=\"1770\" height=\"1441\"/>\n",
       "  </clipPath>\n",
       "</defs>\n",
       "<polyline clip-path=\"url(#clip3902)\" style=\"stroke:#000000; stroke-width:2; stroke-opacity:0.1; fill:none\" points=\"\n",
       "  681.922,1487.47 681.922,47.2441 \n",
       "  \"/>\n",
       "<polyline clip-path=\"url(#clip3902)\" style=\"stroke:#000000; stroke-width:2; stroke-opacity:0.1; fill:none\" points=\"\n",
       "  1006.07,1487.47 1006.07,47.2441 \n",
       "  \"/>\n",
       "<polyline clip-path=\"url(#clip3902)\" style=\"stroke:#000000; stroke-width:2; stroke-opacity:0.1; fill:none\" points=\"\n",
       "  1330.23,1487.47 1330.23,47.2441 \n",
       "  \"/>\n",
       "<polyline clip-path=\"url(#clip3902)\" style=\"stroke:#000000; stroke-width:2; stroke-opacity:0.1; fill:none\" points=\"\n",
       "  1654.38,1487.47 1654.38,47.2441 \n",
       "  \"/>\n",
       "<polyline clip-path=\"url(#clip3902)\" style=\"stroke:#000000; stroke-width:2; stroke-opacity:0.1; fill:none\" points=\"\n",
       "  1978.53,1487.47 1978.53,47.2441 \n",
       "  \"/>\n",
       "<polyline clip-path=\"url(#clip3902)\" style=\"stroke:#000000; stroke-width:2; stroke-opacity:0.1; fill:none\" points=\"\n",
       "  2302.68,1487.47 2302.68,47.2441 \n",
       "  \"/>\n",
       "<polyline clip-path=\"url(#clip3902)\" style=\"stroke:#000000; stroke-width:2; stroke-opacity:0.1; fill:none\" points=\"\n",
       "  583.443,1487.47 2352.76,1487.47 \n",
       "  \"/>\n",
       "<polyline clip-path=\"url(#clip3900)\" style=\"stroke:#000000; stroke-width:4; stroke-opacity:1; fill:none\" points=\"\n",
       "  583.443,1487.47 2352.76,1487.47 \n",
       "  \"/>\n",
       "<polyline clip-path=\"url(#clip3900)\" style=\"stroke:#000000; stroke-width:4; stroke-opacity:1; fill:none\" points=\"\n",
       "  583.443,1487.47 583.443,47.2441 \n",
       "  \"/>\n",
       "<polyline clip-path=\"url(#clip3900)\" style=\"stroke:#000000; stroke-width:4; stroke-opacity:1; fill:none\" points=\"\n",
       "  681.922,1487.47 681.922,1470.19 \n",
       "  \"/>\n",
       "<polyline clip-path=\"url(#clip3900)\" style=\"stroke:#000000; stroke-width:4; stroke-opacity:1; fill:none\" points=\"\n",
       "  1006.07,1487.47 1006.07,1470.19 \n",
       "  \"/>\n",
       "<polyline clip-path=\"url(#clip3900)\" style=\"stroke:#000000; stroke-width:4; stroke-opacity:1; fill:none\" points=\"\n",
       "  1330.23,1487.47 1330.23,1470.19 \n",
       "  \"/>\n",
       "<polyline clip-path=\"url(#clip3900)\" style=\"stroke:#000000; stroke-width:4; stroke-opacity:1; fill:none\" points=\"\n",
       "  1654.38,1487.47 1654.38,1470.19 \n",
       "  \"/>\n",
       "<polyline clip-path=\"url(#clip3900)\" style=\"stroke:#000000; stroke-width:4; stroke-opacity:1; fill:none\" points=\"\n",
       "  1978.53,1487.47 1978.53,1470.19 \n",
       "  \"/>\n",
       "<polyline clip-path=\"url(#clip3900)\" style=\"stroke:#000000; stroke-width:4; stroke-opacity:1; fill:none\" points=\"\n",
       "  2302.68,1487.47 2302.68,1470.19 \n",
       "  \"/>\n",
       "<polyline clip-path=\"url(#clip3900)\" style=\"stroke:#000000; stroke-width:4; stroke-opacity:1; fill:none\" points=\"\n",
       "  583.443,1487.47 604.675,1487.47 \n",
       "  \"/>\n",
       "<g clip-path=\"url(#clip3900)\">\n",
       "<text style=\"fill:#000000; fill-opacity:1; font-family:Arial,Helvetica Neue,Helvetica,sans-serif; font-size:48px; text-anchor:middle;\" transform=\"rotate(0, 681.922, 1541.47)\" x=\"681.922\" y=\"1541.47\">-50</text>\n",
       "</g>\n",
       "<g clip-path=\"url(#clip3900)\">\n",
       "<text style=\"fill:#000000; fill-opacity:1; font-family:Arial,Helvetica Neue,Helvetica,sans-serif; font-size:48px; text-anchor:middle;\" transform=\"rotate(0, 1006.07, 1541.47)\" x=\"1006.07\" y=\"1541.47\">-40</text>\n",
       "</g>\n",
       "<g clip-path=\"url(#clip3900)\">\n",
       "<text style=\"fill:#000000; fill-opacity:1; font-family:Arial,Helvetica Neue,Helvetica,sans-serif; font-size:48px; text-anchor:middle;\" transform=\"rotate(0, 1330.23, 1541.47)\" x=\"1330.23\" y=\"1541.47\">-30</text>\n",
       "</g>\n",
       "<g clip-path=\"url(#clip3900)\">\n",
       "<text style=\"fill:#000000; fill-opacity:1; font-family:Arial,Helvetica Neue,Helvetica,sans-serif; font-size:48px; text-anchor:middle;\" transform=\"rotate(0, 1654.38, 1541.47)\" x=\"1654.38\" y=\"1541.47\">-20</text>\n",
       "</g>\n",
       "<g clip-path=\"url(#clip3900)\">\n",
       "<text style=\"fill:#000000; fill-opacity:1; font-family:Arial,Helvetica Neue,Helvetica,sans-serif; font-size:48px; text-anchor:middle;\" transform=\"rotate(0, 1978.53, 1541.47)\" x=\"1978.53\" y=\"1541.47\">-10</text>\n",
       "</g>\n",
       "<g clip-path=\"url(#clip3900)\">\n",
       "<text style=\"fill:#000000; fill-opacity:1; font-family:Arial,Helvetica Neue,Helvetica,sans-serif; font-size:48px; text-anchor:middle;\" transform=\"rotate(0, 2302.68, 1541.47)\" x=\"2302.68\" y=\"1541.47\">0</text>\n",
       "</g>\n",
       "<g clip-path=\"url(#clip3900)\">\n",
       "<text style=\"fill:#000000; fill-opacity:1; font-family:Arial,Helvetica Neue,Helvetica,sans-serif; font-size:48px; text-anchor:end;\" transform=\"rotate(0, 559.443, 1504.97)\" x=\"559.443\" y=\"1504.97\">-0.0000000000000001</text>\n",
       "</g>\n",
       "<path clip-path=\"url(#clip3902)\" d=\"\n",
       "M2302.58 767.359 L2302.68 767.359 L2302.58 767.359 L2302.58 767.359  Z\n",
       "  \" fill=\"#009af9\" fill-rule=\"evenodd\" fill-opacity=\"0.5\"/>\n",
       "<polyline clip-path=\"url(#clip3902)\" style=\"stroke:#000000; stroke-width:4; stroke-opacity:0.5; fill:none\" points=\"\n",
       "  2302.58,767.359 2302.68,767.359 2302.58,767.359 \n",
       "  \"/>\n",
       "<path clip-path=\"url(#clip3902)\" d=\"\n",
       "M2301.92 767.359 L2302.59 767.359 L2301.92 767.359 L2301.92 767.359  Z\n",
       "  \" fill=\"#009af9\" fill-rule=\"evenodd\" fill-opacity=\"0.5\"/>\n",
       "<polyline clip-path=\"url(#clip3902)\" style=\"stroke:#000000; stroke-width:4; stroke-opacity:0.5; fill:none\" points=\"\n",
       "  2301.92,767.359 2302.59,767.359 2301.92,767.359 \n",
       "  \"/>\n",
       "<path clip-path=\"url(#clip3902)\" d=\"\n",
       "M2300.12 767.359 L2301.92 767.359 L2300.12 767.359 L2300.12 767.359  Z\n",
       "  \" fill=\"#009af9\" fill-rule=\"evenodd\" fill-opacity=\"0.5\"/>\n",
       "<polyline clip-path=\"url(#clip3902)\" style=\"stroke:#000000; stroke-width:4; stroke-opacity:0.5; fill:none\" points=\"\n",
       "  2300.12,767.359 2301.92,767.359 2300.12,767.359 \n",
       "  \"/>\n",
       "<path clip-path=\"url(#clip3902)\" d=\"\n",
       "M2296.63 767.359 L2300.13 767.359 L2296.63 767.359 L2296.63 767.359  Z\n",
       "  \" fill=\"#009af9\" fill-rule=\"evenodd\" fill-opacity=\"0.5\"/>\n",
       "<polyline clip-path=\"url(#clip3902)\" style=\"stroke:#000000; stroke-width:4; stroke-opacity:0.5; fill:none\" points=\"\n",
       "  2296.63,767.359 2300.13,767.359 2296.63,767.359 \n",
       "  \"/>\n",
       "<path clip-path=\"url(#clip3902)\" d=\"\n",
       "M2290.86 767.359 L2296.63 767.359 L2290.86 767.359 L2290.86 767.359  Z\n",
       "  \" fill=\"#009af9\" fill-rule=\"evenodd\" fill-opacity=\"0.5\"/>\n",
       "<polyline clip-path=\"url(#clip3902)\" style=\"stroke:#000000; stroke-width:4; stroke-opacity:0.5; fill:none\" points=\"\n",
       "  2290.86,767.359 2296.63,767.359 2290.86,767.359 \n",
       "  \"/>\n",
       "<path clip-path=\"url(#clip3902)\" d=\"\n",
       "M2282.26 767.359 L2290.86 767.359 L2282.26 767.359 L2282.26 767.359  Z\n",
       "  \" fill=\"#009af9\" fill-rule=\"evenodd\" fill-opacity=\"0.5\"/>\n",
       "<polyline clip-path=\"url(#clip3902)\" style=\"stroke:#000000; stroke-width:4; stroke-opacity:0.5; fill:none\" points=\"\n",
       "  2282.26,767.359 2290.86,767.359 2282.26,767.359 \n",
       "  \"/>\n",
       "<path clip-path=\"url(#clip3902)\" d=\"\n",
       "M2270.26 767.359 L2282.26 767.359 L2270.26 767.359 L2270.26 767.359  Z\n",
       "  \" fill=\"#009af9\" fill-rule=\"evenodd\" fill-opacity=\"0.5\"/>\n",
       "<polyline clip-path=\"url(#clip3902)\" style=\"stroke:#000000; stroke-width:4; stroke-opacity:0.5; fill:none\" points=\"\n",
       "  2270.26,767.359 2282.26,767.359 2270.26,767.359 \n",
       "  \"/>\n",
       "<path clip-path=\"url(#clip3902)\" d=\"\n",
       "M2254.28 767.359 L2270.26 767.359 L2254.28 767.359 L2254.28 767.359  Z\n",
       "  \" fill=\"#009af9\" fill-rule=\"evenodd\" fill-opacity=\"0.5\"/>\n",
       "<polyline clip-path=\"url(#clip3902)\" style=\"stroke:#000000; stroke-width:4; stroke-opacity:0.5; fill:none\" points=\"\n",
       "  2254.28,767.359 2270.26,767.359 2254.28,767.359 \n",
       "  \"/>\n",
       "<path clip-path=\"url(#clip3902)\" d=\"\n",
       "M2233.75 767.359 L2254.28 767.359 L2233.75 767.359 L2233.75 767.359  Z\n",
       "  \" fill=\"#009af9\" fill-rule=\"evenodd\" fill-opacity=\"0.5\"/>\n",
       "<polyline clip-path=\"url(#clip3902)\" style=\"stroke:#000000; stroke-width:4; stroke-opacity:0.5; fill:none\" points=\"\n",
       "  2233.75,767.359 2254.28,767.359 2233.75,767.359 \n",
       "  \"/>\n",
       "<path clip-path=\"url(#clip3902)\" d=\"\n",
       "M2208.08 767.359 L2233.75 767.359 L2208.08 767.359 L2208.08 767.359  Z\n",
       "  \" fill=\"#009af9\" fill-rule=\"evenodd\" fill-opacity=\"0.5\"/>\n",
       "<polyline clip-path=\"url(#clip3902)\" style=\"stroke:#000000; stroke-width:4; stroke-opacity:0.5; fill:none\" points=\"\n",
       "  2208.08,767.359 2233.75,767.359 2208.08,767.359 \n",
       "  \"/>\n",
       "<path clip-path=\"url(#clip3902)\" d=\"\n",
       "M2176.69 767.359 L2208.08 767.359 L2176.69 767.359 L2176.69 767.359  Z\n",
       "  \" fill=\"#009af9\" fill-rule=\"evenodd\" fill-opacity=\"0.5\"/>\n",
       "<polyline clip-path=\"url(#clip3902)\" style=\"stroke:#000000; stroke-width:4; stroke-opacity:0.5; fill:none\" points=\"\n",
       "  2176.69,767.359 2208.08,767.359 2176.69,767.359 \n",
       "  \"/>\n",
       "<path clip-path=\"url(#clip3902)\" d=\"\n",
       "M2138.97 767.359 L2176.69 767.359 L2138.97 767.359 L2138.97 767.359  Z\n",
       "  \" fill=\"#009af9\" fill-rule=\"evenodd\" fill-opacity=\"0.5\"/>\n",
       "<polyline clip-path=\"url(#clip3902)\" style=\"stroke:#000000; stroke-width:4; stroke-opacity:0.5; fill:none\" points=\"\n",
       "  2138.97,767.359 2176.69,767.359 2138.97,767.359 \n",
       "  \"/>\n",
       "<path clip-path=\"url(#clip3902)\" d=\"\n",
       "M2094.33 767.359 L2138.97 767.359 L2094.33 767.359 L2094.33 767.359  Z\n",
       "  \" fill=\"#009af9\" fill-rule=\"evenodd\" fill-opacity=\"0.5\"/>\n",
       "<polyline clip-path=\"url(#clip3902)\" style=\"stroke:#000000; stroke-width:4; stroke-opacity:0.5; fill:none\" points=\"\n",
       "  2094.33,767.359 2138.97,767.359 2094.33,767.359 \n",
       "  \"/>\n",
       "<path clip-path=\"url(#clip3902)\" d=\"\n",
       "M2042.14 767.359 L2094.33 767.359 L2042.14 767.359 L2042.14 767.359  Z\n",
       "  \" fill=\"#009af9\" fill-rule=\"evenodd\" fill-opacity=\"0.5\"/>\n",
       "<polyline clip-path=\"url(#clip3902)\" style=\"stroke:#000000; stroke-width:4; stroke-opacity:0.5; fill:none\" points=\"\n",
       "  2042.14,767.359 2094.33,767.359 2042.14,767.359 \n",
       "  \"/>\n",
       "<path clip-path=\"url(#clip3902)\" d=\"\n",
       "M1981.77 767.359 L2042.14 767.359 L1981.77 767.359 L1981.77 767.359  Z\n",
       "  \" fill=\"#009af9\" fill-rule=\"evenodd\" fill-opacity=\"0.5\"/>\n",
       "<polyline clip-path=\"url(#clip3902)\" style=\"stroke:#000000; stroke-width:4; stroke-opacity:0.5; fill:none\" points=\"\n",
       "  1981.77,767.359 2042.14,767.359 1981.77,767.359 \n",
       "  \"/>\n",
       "<path clip-path=\"url(#clip3902)\" d=\"\n",
       "M1912.57 767.359 L1981.77 767.359 L1912.57 767.359 L1912.57 767.359  Z\n",
       "  \" fill=\"#009af9\" fill-rule=\"evenodd\" fill-opacity=\"0.5\"/>\n",
       "<polyline clip-path=\"url(#clip3902)\" style=\"stroke:#000000; stroke-width:4; stroke-opacity:0.5; fill:none\" points=\"\n",
       "  1912.57,767.359 1981.77,767.359 1912.57,767.359 \n",
       "  \"/>\n",
       "<path clip-path=\"url(#clip3902)\" d=\"\n",
       "M1833.86 767.359 L1912.57 767.359 L1833.86 767.359 L1833.86 767.359  Z\n",
       "  \" fill=\"#009af9\" fill-rule=\"evenodd\" fill-opacity=\"0.5\"/>\n",
       "<polyline clip-path=\"url(#clip3902)\" style=\"stroke:#000000; stroke-width:4; stroke-opacity:0.5; fill:none\" points=\"\n",
       "  1833.86,767.359 1912.57,767.359 1833.86,767.359 \n",
       "  \"/>\n",
       "<path clip-path=\"url(#clip3902)\" d=\"\n",
       "M1744.97 767.359 L1833.86 767.359 L1744.97 767.359 L1744.97 767.359  Z\n",
       "  \" fill=\"#009af9\" fill-rule=\"evenodd\" fill-opacity=\"0.5\"/>\n",
       "<polyline clip-path=\"url(#clip3902)\" style=\"stroke:#000000; stroke-width:4; stroke-opacity:0.5; fill:none\" points=\"\n",
       "  1744.97,767.359 1833.86,767.359 1744.97,767.359 \n",
       "  \"/>\n",
       "<path clip-path=\"url(#clip3902)\" d=\"\n",
       "M1645.17 767.359 L1744.97 767.359 L1645.17 767.359 L1645.17 767.359  Z\n",
       "  \" fill=\"#009af9\" fill-rule=\"evenodd\" fill-opacity=\"0.5\"/>\n",
       "<polyline clip-path=\"url(#clip3902)\" style=\"stroke:#000000; stroke-width:4; stroke-opacity:0.5; fill:none\" points=\"\n",
       "  1645.17,767.359 1744.97,767.359 1645.17,767.359 \n",
       "  \"/>\n",
       "<path clip-path=\"url(#clip3902)\" d=\"\n",
       "M1533.74 767.359 L1645.17 767.359 L1533.74 767.359 L1533.74 767.359  Z\n",
       "  \" fill=\"#009af9\" fill-rule=\"evenodd\" fill-opacity=\"0.5\"/>\n",
       "<polyline clip-path=\"url(#clip3902)\" style=\"stroke:#000000; stroke-width:4; stroke-opacity:0.5; fill:none\" points=\"\n",
       "  1533.74,767.359 1645.17,767.359 1533.74,767.359 \n",
       "  \"/>\n",
       "<path clip-path=\"url(#clip3902)\" d=\"\n",
       "M1409.89 767.359 L1533.74 767.359 L1409.89 767.359 L1409.89 767.359  Z\n",
       "  \" fill=\"#009af9\" fill-rule=\"evenodd\" fill-opacity=\"0.5\"/>\n",
       "<polyline clip-path=\"url(#clip3902)\" style=\"stroke:#000000; stroke-width:4; stroke-opacity:0.5; fill:none\" points=\"\n",
       "  1409.89,767.359 1533.74,767.359 1409.89,767.359 \n",
       "  \"/>\n",
       "<path clip-path=\"url(#clip3902)\" d=\"\n",
       "M1272.83 767.359 L1409.89 767.359 L1272.83 767.359 L1272.83 767.359  Z\n",
       "  \" fill=\"#009af9\" fill-rule=\"evenodd\" fill-opacity=\"0.5\"/>\n",
       "<polyline clip-path=\"url(#clip3902)\" style=\"stroke:#000000; stroke-width:4; stroke-opacity:0.5; fill:none\" points=\"\n",
       "  1272.83,767.359 1409.89,767.359 1272.83,767.359 \n",
       "  \"/>\n",
       "<path clip-path=\"url(#clip3902)\" d=\"\n",
       "M1121.72 767.359 L1272.83 767.359 L1121.72 767.359 L1121.72 767.359  Z\n",
       "  \" fill=\"#009af9\" fill-rule=\"evenodd\" fill-opacity=\"0.5\"/>\n",
       "<polyline clip-path=\"url(#clip3902)\" style=\"stroke:#000000; stroke-width:4; stroke-opacity:0.5; fill:none\" points=\"\n",
       "  1121.72,767.359 1272.83,767.359 1121.72,767.359 \n",
       "  \"/>\n",
       "<path clip-path=\"url(#clip3902)\" d=\"\n",
       "M955.679 767.359 L1121.72 767.359 L955.679 767.359 L955.679 767.359  Z\n",
       "  \" fill=\"#009af9\" fill-rule=\"evenodd\" fill-opacity=\"0.5\"/>\n",
       "<polyline clip-path=\"url(#clip3902)\" style=\"stroke:#000000; stroke-width:4; stroke-opacity:0.5; fill:none\" points=\"\n",
       "  955.679,767.359 1121.72,767.359 955.679,767.359 \n",
       "  \"/>\n",
       "<path clip-path=\"url(#clip3902)\" d=\"\n",
       "M773.78 767.359 L955.68 767.359 L773.78 767.359 L773.78 767.359  Z\n",
       "  \" fill=\"#009af9\" fill-rule=\"evenodd\" fill-opacity=\"0.5\"/>\n",
       "<polyline clip-path=\"url(#clip3902)\" style=\"stroke:#000000; stroke-width:4; stroke-opacity:0.5; fill:none\" points=\"\n",
       "  773.78,767.359 955.68,767.359 773.78,767.359 \n",
       "  \"/>\n",
       "<path clip-path=\"url(#clip3902)\" d=\"\n",
       "M633.518 767.359 L773.781 767.359 L633.518 767.359 L633.518 767.359  Z\n",
       "  \" fill=\"#009af9\" fill-rule=\"evenodd\" fill-opacity=\"0.5\"/>\n",
       "<polyline clip-path=\"url(#clip3902)\" style=\"stroke:#000000; stroke-width:4; stroke-opacity:0.5; fill:none\" points=\"\n",
       "  633.518,767.359 773.781,767.359 633.518,767.359 \n",
       "  \"/>\n",
       "</svg>\n"
      ]
     },
     "execution_count": 144,
     "metadata": {},
     "output_type": "execute_result"
    }
   ],
   "source": [
    "plot(solz, vars=(1, 4))"
   ]
  },
  {
   "cell_type": "code",
   "execution_count": null,
   "metadata": {},
   "outputs": [],
   "source": []
  }
 ],
 "metadata": {
  "kernelspec": {
   "display_name": "Julia 1.4.0",
   "language": "julia",
   "name": "julia-1.4"
  },
  "language_info": {
   "file_extension": ".jl",
   "mimetype": "application/julia",
   "name": "julia",
   "version": "1.4.0"
  }
 },
 "nbformat": 4,
 "nbformat_minor": 4
}
