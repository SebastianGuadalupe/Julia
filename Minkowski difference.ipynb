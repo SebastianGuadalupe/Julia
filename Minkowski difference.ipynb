{
 "cells": [
  {
   "cell_type": "code",
   "execution_count": 1,
   "metadata": {},
   "outputs": [
    {
     "name": "stderr",
     "output_type": "stream",
     "text": [
      "┌ Info: Recompiling stale cache file C:\\Users\\dgsl\\.julia\\compiled\\v1.1\\LazySets\\NjrGc.ji for LazySets [b4f0291d-fe17-52bc-9479-3d1a343d9043]\n",
      "└ @ Base loading.jl:1184\n"
     ]
    }
   ],
   "source": [
    "using LazySets"
   ]
  },
  {
   "cell_type": "code",
   "execution_count": 20,
   "metadata": {},
   "outputs": [
    {
     "data": {
      "text/plain": [
       "minkowski_difference (generic function with 1 method)"
      ]
     },
     "execution_count": 20,
     "metadata": {},
     "output_type": "execute_result"
    }
   ],
   "source": [
    "using LazySets: to_negative_vector, center\n",
    "function minkowski_difference(P::Zonotope{N}, Q::Zonotope{N}) where {N<:Real}\n",
    "    @assert dim(P) == dim(Q)\n",
    "    Zint = Zonotope(center(P), genmat(P))\n",
    "    for i = 1:ngens(Q)\n",
    "        g = genmat(Q)[i, :]\n",
    "        if !isempty(Zint)\n",
    "            Zint = intersection(translate(Zint, g), translate(Zint, to_negative_vector(g)))\n",
    "        else\n",
    "            return Zint\n",
    "        end\n",
    "    end\n",
    "    return convert(Zonotope{N}, Zint)\n",
    "end"
   ]
  },
  {
   "cell_type": "code",
   "execution_count": 6,
   "metadata": {},
   "outputs": [
    {
     "data": {
      "text/plain": [
       "Zonotope{Float64}([1.0, 1.0], [0.5 0.0; 0.0 0.5])"
      ]
     },
     "execution_count": 6,
     "metadata": {},
     "output_type": "execute_result"
    }
   ],
   "source": [
    "P = Zonotope([1., 1], [[1. 1]; [0. 1]; [1. 0]; [1. 1]]')\n",
    "Q = Zonotope([1., 1], [[0. 0]; [0.5 0]; [0. 0.5]]')"
   ]
  },
  {
   "cell_type": "code",
   "execution_count": 21,
   "metadata": {},
   "outputs": [
    {
     "ename": "MethodError",
     "evalue": "MethodError: Cannot `convert` an object of type HPolytope{Float64} to an object of type Zonotope{Float64}\nClosest candidates are:\n  convert(::Type{T}, !Matched::T) where T at essentials.jl:154",
     "output_type": "error",
     "traceback": [
      "MethodError: Cannot `convert` an object of type HPolytope{Float64} to an object of type Zonotope{Float64}\nClosest candidates are:\n  convert(::Type{T}, !Matched::T) where T at essentials.jl:154",
      "",
      "Stacktrace:",
      " [1] minkowski_difference(::Zonotope{Float64}, ::Zonotope{Float64}) at .\\In[20]:13",
      " [2] top-level scope at In[21]:1"
     ]
    }
   ],
   "source": [
    "Z = minkowski_difference(P, Q)"
   ]
  },
  {
   "cell_type": "code",
   "execution_count": 8,
   "metadata": {},
   "outputs": [
    {
     "name": "stderr",
     "output_type": "stream",
     "text": [
      "WARNING: using Plots.center in module Main conflicts with an existing identifier.\n",
      "WARNING: using Plots.translate in module Main conflicts with an existing identifier.\n"
     ]
    },
    {
     "data": {
      "image/svg+xml": [
       "<?xml version=\"1.0\" encoding=\"utf-8\"?>\n",
       "<svg xmlns=\"http://www.w3.org/2000/svg\" xmlns:xlink=\"http://www.w3.org/1999/xlink\" width=\"600\" height=\"400\" viewBox=\"0 0 2400 1600\">\n",
       "<defs>\n",
       "  <clipPath id=\"clip6100\">\n",
       "    <rect x=\"0\" y=\"0\" width=\"2400\" height=\"1600\"/>\n",
       "  </clipPath>\n",
       "</defs>\n",
       "<polygon clip-path=\"url(#clip6100)\" points=\"\n",
       "0,1600 2400,1600 2400,0 0,0 \n",
       "  \" fill=\"#ffffff\" fill-rule=\"evenodd\" fill-opacity=\"1\"/>\n",
       "<defs>\n",
       "  <clipPath id=\"clip6101\">\n",
       "    <rect x=\"480\" y=\"0\" width=\"1681\" height=\"1600\"/>\n",
       "  </clipPath>\n",
       "</defs>\n",
       "<polygon clip-path=\"url(#clip6100)\" points=\"\n",
       "527.195,1487.47 1967.43,1487.47 1967.43,47.2441 527.195,47.2441 \n",
       "  \" fill=\"#ffffff\" fill-rule=\"evenodd\" fill-opacity=\"1\"/>\n",
       "<defs>\n",
       "  <clipPath id=\"clip6102\">\n",
       "    <rect x=\"527\" y=\"47\" width=\"1441\" height=\"1441\"/>\n",
       "  </clipPath>\n",
       "</defs>\n",
       "<polyline clip-path=\"url(#clip6102)\" style=\"stroke:#000000; stroke-width:2; stroke-opacity:0.1; fill:none\" points=\"\n",
       "  567.956,1487.47 567.956,47.2441 \n",
       "  \"/>\n",
       "<polyline clip-path=\"url(#clip6102)\" style=\"stroke:#000000; stroke-width:2; stroke-opacity:0.1; fill:none\" points=\"\n",
       "  794.408,1487.47 794.408,47.2441 \n",
       "  \"/>\n",
       "<polyline clip-path=\"url(#clip6102)\" style=\"stroke:#000000; stroke-width:2; stroke-opacity:0.1; fill:none\" points=\"\n",
       "  1020.86,1487.47 1020.86,47.2441 \n",
       "  \"/>\n",
       "<polyline clip-path=\"url(#clip6102)\" style=\"stroke:#000000; stroke-width:2; stroke-opacity:0.1; fill:none\" points=\"\n",
       "  1247.31,1487.47 1247.31,47.2441 \n",
       "  \"/>\n",
       "<polyline clip-path=\"url(#clip6102)\" style=\"stroke:#000000; stroke-width:2; stroke-opacity:0.1; fill:none\" points=\"\n",
       "  1473.76,1487.47 1473.76,47.2441 \n",
       "  \"/>\n",
       "<polyline clip-path=\"url(#clip6102)\" style=\"stroke:#000000; stroke-width:2; stroke-opacity:0.1; fill:none\" points=\"\n",
       "  1700.21,1487.47 1700.21,47.2441 \n",
       "  \"/>\n",
       "<polyline clip-path=\"url(#clip6102)\" style=\"stroke:#000000; stroke-width:2; stroke-opacity:0.1; fill:none\" points=\"\n",
       "  1926.66,1487.47 1926.66,47.2441 \n",
       "  \"/>\n",
       "<polyline clip-path=\"url(#clip6102)\" style=\"stroke:#000000; stroke-width:2; stroke-opacity:0.1; fill:none\" points=\"\n",
       "  527.195,1446.71 1967.43,1446.71 \n",
       "  \"/>\n",
       "<polyline clip-path=\"url(#clip6102)\" style=\"stroke:#000000; stroke-width:2; stroke-opacity:0.1; fill:none\" points=\"\n",
       "  527.195,1220.26 1967.43,1220.26 \n",
       "  \"/>\n",
       "<polyline clip-path=\"url(#clip6102)\" style=\"stroke:#000000; stroke-width:2; stroke-opacity:0.1; fill:none\" points=\"\n",
       "  527.195,993.811 1967.43,993.811 \n",
       "  \"/>\n",
       "<polyline clip-path=\"url(#clip6102)\" style=\"stroke:#000000; stroke-width:2; stroke-opacity:0.1; fill:none\" points=\"\n",
       "  527.195,767.359 1967.43,767.359 \n",
       "  \"/>\n",
       "<polyline clip-path=\"url(#clip6102)\" style=\"stroke:#000000; stroke-width:2; stroke-opacity:0.1; fill:none\" points=\"\n",
       "  527.195,540.908 1967.43,540.908 \n",
       "  \"/>\n",
       "<polyline clip-path=\"url(#clip6102)\" style=\"stroke:#000000; stroke-width:2; stroke-opacity:0.1; fill:none\" points=\"\n",
       "  527.195,314.457 1967.43,314.457 \n",
       "  \"/>\n",
       "<polyline clip-path=\"url(#clip6102)\" style=\"stroke:#000000; stroke-width:2; stroke-opacity:0.1; fill:none\" points=\"\n",
       "  527.195,88.0053 1967.43,88.0053 \n",
       "  \"/>\n",
       "<polyline clip-path=\"url(#clip6100)\" style=\"stroke:#000000; stroke-width:4; stroke-opacity:1; fill:none\" points=\"\n",
       "  527.195,1487.47 1967.43,1487.47 \n",
       "  \"/>\n",
       "<polyline clip-path=\"url(#clip6100)\" style=\"stroke:#000000; stroke-width:4; stroke-opacity:1; fill:none\" points=\"\n",
       "  527.195,1487.47 527.195,47.2441 \n",
       "  \"/>\n",
       "<polyline clip-path=\"url(#clip6100)\" style=\"stroke:#000000; stroke-width:4; stroke-opacity:1; fill:none\" points=\"\n",
       "  567.956,1487.47 567.956,1465.87 \n",
       "  \"/>\n",
       "<polyline clip-path=\"url(#clip6100)\" style=\"stroke:#000000; stroke-width:4; stroke-opacity:1; fill:none\" points=\"\n",
       "  794.408,1487.47 794.408,1465.87 \n",
       "  \"/>\n",
       "<polyline clip-path=\"url(#clip6100)\" style=\"stroke:#000000; stroke-width:4; stroke-opacity:1; fill:none\" points=\"\n",
       "  1020.86,1487.47 1020.86,1465.87 \n",
       "  \"/>\n",
       "<polyline clip-path=\"url(#clip6100)\" style=\"stroke:#000000; stroke-width:4; stroke-opacity:1; fill:none\" points=\"\n",
       "  1247.31,1487.47 1247.31,1465.87 \n",
       "  \"/>\n",
       "<polyline clip-path=\"url(#clip6100)\" style=\"stroke:#000000; stroke-width:4; stroke-opacity:1; fill:none\" points=\"\n",
       "  1473.76,1487.47 1473.76,1465.87 \n",
       "  \"/>\n",
       "<polyline clip-path=\"url(#clip6100)\" style=\"stroke:#000000; stroke-width:4; stroke-opacity:1; fill:none\" points=\"\n",
       "  1700.21,1487.47 1700.21,1465.87 \n",
       "  \"/>\n",
       "<polyline clip-path=\"url(#clip6100)\" style=\"stroke:#000000; stroke-width:4; stroke-opacity:1; fill:none\" points=\"\n",
       "  1926.66,1487.47 1926.66,1465.87 \n",
       "  \"/>\n",
       "<polyline clip-path=\"url(#clip6100)\" style=\"stroke:#000000; stroke-width:4; stroke-opacity:1; fill:none\" points=\"\n",
       "  527.195,1446.71 548.798,1446.71 \n",
       "  \"/>\n",
       "<polyline clip-path=\"url(#clip6100)\" style=\"stroke:#000000; stroke-width:4; stroke-opacity:1; fill:none\" points=\"\n",
       "  527.195,1220.26 548.798,1220.26 \n",
       "  \"/>\n",
       "<polyline clip-path=\"url(#clip6100)\" style=\"stroke:#000000; stroke-width:4; stroke-opacity:1; fill:none\" points=\"\n",
       "  527.195,993.811 548.798,993.811 \n",
       "  \"/>\n",
       "<polyline clip-path=\"url(#clip6100)\" style=\"stroke:#000000; stroke-width:4; stroke-opacity:1; fill:none\" points=\"\n",
       "  527.195,767.359 548.798,767.359 \n",
       "  \"/>\n",
       "<polyline clip-path=\"url(#clip6100)\" style=\"stroke:#000000; stroke-width:4; stroke-opacity:1; fill:none\" points=\"\n",
       "  527.195,540.908 548.798,540.908 \n",
       "  \"/>\n",
       "<polyline clip-path=\"url(#clip6100)\" style=\"stroke:#000000; stroke-width:4; stroke-opacity:1; fill:none\" points=\"\n",
       "  527.195,314.457 548.798,314.457 \n",
       "  \"/>\n",
       "<polyline clip-path=\"url(#clip6100)\" style=\"stroke:#000000; stroke-width:4; stroke-opacity:1; fill:none\" points=\"\n",
       "  527.195,88.0053 548.798,88.0053 \n",
       "  \"/>\n",
       "<g clip-path=\"url(#clip6100)\">\n",
       "<text style=\"fill:#000000; fill-opacity:1; font-family:Arial,Helvetica Neue,Helvetica,sans-serif; font-size:48px; text-anchor:middle;\" transform=\"rotate(0, 567.956, 1541.47)\" x=\"567.956\" y=\"1541.47\">-2</text>\n",
       "</g>\n",
       "<g clip-path=\"url(#clip6100)\">\n",
       "<text style=\"fill:#000000; fill-opacity:1; font-family:Arial,Helvetica Neue,Helvetica,sans-serif; font-size:48px; text-anchor:middle;\" transform=\"rotate(0, 794.408, 1541.47)\" x=\"794.408\" y=\"1541.47\">-1</text>\n",
       "</g>\n",
       "<g clip-path=\"url(#clip6100)\">\n",
       "<text style=\"fill:#000000; fill-opacity:1; font-family:Arial,Helvetica Neue,Helvetica,sans-serif; font-size:48px; text-anchor:middle;\" transform=\"rotate(0, 1020.86, 1541.47)\" x=\"1020.86\" y=\"1541.47\">0</text>\n",
       "</g>\n",
       "<g clip-path=\"url(#clip6100)\">\n",
       "<text style=\"fill:#000000; fill-opacity:1; font-family:Arial,Helvetica Neue,Helvetica,sans-serif; font-size:48px; text-anchor:middle;\" transform=\"rotate(0, 1247.31, 1541.47)\" x=\"1247.31\" y=\"1541.47\">1</text>\n",
       "</g>\n",
       "<g clip-path=\"url(#clip6100)\">\n",
       "<text style=\"fill:#000000; fill-opacity:1; font-family:Arial,Helvetica Neue,Helvetica,sans-serif; font-size:48px; text-anchor:middle;\" transform=\"rotate(0, 1473.76, 1541.47)\" x=\"1473.76\" y=\"1541.47\">2</text>\n",
       "</g>\n",
       "<g clip-path=\"url(#clip6100)\">\n",
       "<text style=\"fill:#000000; fill-opacity:1; font-family:Arial,Helvetica Neue,Helvetica,sans-serif; font-size:48px; text-anchor:middle;\" transform=\"rotate(0, 1700.21, 1541.47)\" x=\"1700.21\" y=\"1541.47\">3</text>\n",
       "</g>\n",
       "<g clip-path=\"url(#clip6100)\">\n",
       "<text style=\"fill:#000000; fill-opacity:1; font-family:Arial,Helvetica Neue,Helvetica,sans-serif; font-size:48px; text-anchor:middle;\" transform=\"rotate(0, 1926.66, 1541.47)\" x=\"1926.66\" y=\"1541.47\">4</text>\n",
       "</g>\n",
       "<g clip-path=\"url(#clip6100)\">\n",
       "<text style=\"fill:#000000; fill-opacity:1; font-family:Arial,Helvetica Neue,Helvetica,sans-serif; font-size:48px; text-anchor:end;\" transform=\"rotate(0, 503.195, 1464.21)\" x=\"503.195\" y=\"1464.21\">-2</text>\n",
       "</g>\n",
       "<g clip-path=\"url(#clip6100)\">\n",
       "<text style=\"fill:#000000; fill-opacity:1; font-family:Arial,Helvetica Neue,Helvetica,sans-serif; font-size:48px; text-anchor:end;\" transform=\"rotate(0, 503.195, 1237.76)\" x=\"503.195\" y=\"1237.76\">-1</text>\n",
       "</g>\n",
       "<g clip-path=\"url(#clip6100)\">\n",
       "<text style=\"fill:#000000; fill-opacity:1; font-family:Arial,Helvetica Neue,Helvetica,sans-serif; font-size:48px; text-anchor:end;\" transform=\"rotate(0, 503.195, 1011.31)\" x=\"503.195\" y=\"1011.31\">0</text>\n",
       "</g>\n",
       "<g clip-path=\"url(#clip6100)\">\n",
       "<text style=\"fill:#000000; fill-opacity:1; font-family:Arial,Helvetica Neue,Helvetica,sans-serif; font-size:48px; text-anchor:end;\" transform=\"rotate(0, 503.195, 784.859)\" x=\"503.195\" y=\"784.859\">1</text>\n",
       "</g>\n",
       "<g clip-path=\"url(#clip6100)\">\n",
       "<text style=\"fill:#000000; fill-opacity:1; font-family:Arial,Helvetica Neue,Helvetica,sans-serif; font-size:48px; text-anchor:end;\" transform=\"rotate(0, 503.195, 558.408)\" x=\"503.195\" y=\"558.408\">2</text>\n",
       "</g>\n",
       "<g clip-path=\"url(#clip6100)\">\n",
       "<text style=\"fill:#000000; fill-opacity:1; font-family:Arial,Helvetica Neue,Helvetica,sans-serif; font-size:48px; text-anchor:end;\" transform=\"rotate(0, 503.195, 331.957)\" x=\"503.195\" y=\"331.957\">3</text>\n",
       "</g>\n",
       "<g clip-path=\"url(#clip6100)\">\n",
       "<text style=\"fill:#000000; fill-opacity:1; font-family:Arial,Helvetica Neue,Helvetica,sans-serif; font-size:48px; text-anchor:end;\" transform=\"rotate(0, 503.195, 105.505)\" x=\"503.195\" y=\"105.505\">4</text>\n",
       "</g>\n",
       "<polygon clip-path=\"url(#clip6102)\" points=\"\n",
       "1360.54,654.134 1134.08,654.134 1134.08,880.585 1360.54,880.585 1360.54,654.134 1360.54,654.134 \n",
       "  \" fill=\"#009af9\" fill-rule=\"evenodd\" fill-opacity=\"0.5\"/>\n",
       "<polyline clip-path=\"url(#clip6102)\" style=\"stroke:#000000; stroke-width:4; stroke-opacity:0.5; fill:none\" points=\"\n",
       "  1360.54,654.134 1134.08,654.134 1134.08,880.585 1360.54,880.585 1360.54,654.134 \n",
       "  \"/>\n",
       "<polygon clip-path=\"url(#clip6102)\" points=\"\n",
       "567.956,1446.71 1020.86,1446.71 1926.66,540.908 1926.66,88.0053 1473.76,88.0053 567.956,993.811 567.956,1446.71 567.956,1446.71 \n",
       "  \" fill=\"#e26f46\" fill-rule=\"evenodd\" fill-opacity=\"0.5\"/>\n",
       "<polyline clip-path=\"url(#clip6102)\" style=\"stroke:#000000; stroke-width:4; stroke-opacity:0.5; fill:none\" points=\"\n",
       "  567.956,1446.71 1020.86,1446.71 1926.66,540.908 1926.66,88.0053 1473.76,88.0053 567.956,993.811 567.956,1446.71 \n",
       "  \"/>\n",
       "<polygon clip-path=\"url(#clip6102)\" points=\"\n",
       "681.182,1333.49 907.633,1333.49 1813.44,427.682 1813.44,201.231 1586.99,201.231 681.182,1107.04 681.182,1333.49 681.182,1333.49 \n",
       "  \" fill=\"#ff0000\" fill-rule=\"evenodd\" fill-opacity=\"0.5\"/>\n",
       "<polyline clip-path=\"url(#clip6102)\" style=\"stroke:#000000; stroke-width:4; stroke-opacity:0.5; fill:none\" points=\"\n",
       "  681.182,1333.49 907.633,1333.49 1813.44,427.682 1813.44,201.231 1586.99,201.231 681.182,1107.04 681.182,1333.49 \n",
       "  \"/>\n",
       "</svg>\n"
      ]
     },
     "execution_count": 8,
     "metadata": {},
     "output_type": "execute_result"
    }
   ],
   "source": [
    "using Plots\n",
    "plot(Q, ratio=1)\n",
    "plot!(P)\n",
    "plot!(Z, color=:red)"
   ]
  },
  {
   "cell_type": "code",
   "execution_count": null,
   "metadata": {},
   "outputs": [],
   "source": []
  }
 ],
 "metadata": {
  "kernelspec": {
   "display_name": "Julia 1.1.1",
   "language": "julia",
   "name": "julia-1.1"
  },
  "language_info": {
   "file_extension": ".jl",
   "mimetype": "application/julia",
   "name": "julia",
   "version": "1.1.1"
  }
 },
 "nbformat": 4,
 "nbformat_minor": 2
}
