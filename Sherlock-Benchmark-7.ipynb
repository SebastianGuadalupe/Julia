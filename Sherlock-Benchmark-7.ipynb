{
 "cells": [
  {
   "cell_type": "code",
   "execution_count": 1,
   "metadata": {},
   "outputs": [],
   "source": [
    "using Revise, ReachabilityAnalysis, Plots, LazySets\n",
    "\n",
    "@taylorize function benchmark7!(du, u, p, t)\n",
    "    local two = 2.0+zero(u[1])\n",
    "    du[1] = u[3]^3 - u[2] + u[4]\n",
    "    du[2] = u[3]\n",
    "    du[3] = two\n",
    "    du[4] = zero(u[4])\n",
    "    return du\n",
    "end\n",
    "\n",
    "# define the initial-value problem\n",
    "X₀ = Hyperrectangle(low=[0.35, 0.45, 0.25, -0.01], high=[0.45, 0.55, 0.35, 0.01])\n",
    "\n",
    "prob = @ivp(x' = benchmark7!(x), dim: 4, x(0) ∈ X₀)\n",
    "\n",
    "# solve it\n",
    "sol = solve(prob, T=0.5);"
   ]
  },
  {
   "cell_type": "code",
   "execution_count": 2,
   "metadata": {},
   "outputs": [],
   "source": [
    "sol = overapproximate(sol, Zonotope);"
   ]
  },
  {
   "cell_type": "code",
   "execution_count": 3,
   "metadata": {},
   "outputs": [
    {
     "data": {
      "image/svg+xml": [
       "<?xml version=\"1.0\" encoding=\"utf-8\"?>\n",
       "<svg xmlns=\"http://www.w3.org/2000/svg\" xmlns:xlink=\"http://www.w3.org/1999/xlink\" width=\"600\" height=\"400\" viewBox=\"0 0 2400 1600\">\n",
       "<defs>\n",
       "  <clipPath id=\"clip7000\">\n",
       "    <rect x=\"0\" y=\"0\" width=\"2400\" height=\"1600\"/>\n",
       "  </clipPath>\n",
       "</defs>\n",
       "<path clip-path=\"url(#clip7000)\" d=\"\n",
       "M0 1600 L2400 1600 L2400 0 L0 0  Z\n",
       "  \" fill=\"#ffffff\" fill-rule=\"evenodd\" fill-opacity=\"1\"/>\n",
       "<defs>\n",
       "  <clipPath id=\"clip7001\">\n",
       "    <rect x=\"480\" y=\"0\" width=\"1681\" height=\"1600\"/>\n",
       "  </clipPath>\n",
       "</defs>\n",
       "<path clip-path=\"url(#clip7000)\" d=\"\n",
       "M215.754 1425.62 L2352.76 1425.62 L2352.76 47.2441 L215.754 47.2441  Z\n",
       "  \" fill=\"#ffffff\" fill-rule=\"evenodd\" fill-opacity=\"1\"/>\n",
       "<defs>\n",
       "  <clipPath id=\"clip7002\">\n",
       "    <rect x=\"215\" y=\"47\" width=\"2138\" height=\"1379\"/>\n",
       "  </clipPath>\n",
       "</defs>\n",
       "<polyline clip-path=\"url(#clip7002)\" style=\"stroke:#000000; stroke-width:2; stroke-opacity:0.1; fill:none\" points=\"\n",
       "  276.235,1425.62 276.235,47.2441 \n",
       "  \"/>\n",
       "<polyline clip-path=\"url(#clip7002)\" style=\"stroke:#000000; stroke-width:2; stroke-opacity:0.1; fill:none\" points=\"\n",
       "  679.443,1425.62 679.443,47.2441 \n",
       "  \"/>\n",
       "<polyline clip-path=\"url(#clip7002)\" style=\"stroke:#000000; stroke-width:2; stroke-opacity:0.1; fill:none\" points=\"\n",
       "  1082.65,1425.62 1082.65,47.2441 \n",
       "  \"/>\n",
       "<polyline clip-path=\"url(#clip7002)\" style=\"stroke:#000000; stroke-width:2; stroke-opacity:0.1; fill:none\" points=\"\n",
       "  1485.86,1425.62 1485.86,47.2441 \n",
       "  \"/>\n",
       "<polyline clip-path=\"url(#clip7002)\" style=\"stroke:#000000; stroke-width:2; stroke-opacity:0.1; fill:none\" points=\"\n",
       "  1889.07,1425.62 1889.07,47.2441 \n",
       "  \"/>\n",
       "<polyline clip-path=\"url(#clip7002)\" style=\"stroke:#000000; stroke-width:2; stroke-opacity:0.1; fill:none\" points=\"\n",
       "  2292.27,1425.62 2292.27,47.2441 \n",
       "  \"/>\n",
       "<polyline clip-path=\"url(#clip7002)\" style=\"stroke:#000000; stroke-width:2; stroke-opacity:0.1; fill:none\" points=\"\n",
       "  215.754,1222.3 2352.76,1222.3 \n",
       "  \"/>\n",
       "<polyline clip-path=\"url(#clip7002)\" style=\"stroke:#000000; stroke-width:2; stroke-opacity:0.1; fill:none\" points=\"\n",
       "  215.754,973.35 2352.76,973.35 \n",
       "  \"/>\n",
       "<polyline clip-path=\"url(#clip7002)\" style=\"stroke:#000000; stroke-width:2; stroke-opacity:0.1; fill:none\" points=\"\n",
       "  215.754,724.399 2352.76,724.399 \n",
       "  \"/>\n",
       "<polyline clip-path=\"url(#clip7002)\" style=\"stroke:#000000; stroke-width:2; stroke-opacity:0.1; fill:none\" points=\"\n",
       "  215.754,475.448 2352.76,475.448 \n",
       "  \"/>\n",
       "<polyline clip-path=\"url(#clip7002)\" style=\"stroke:#000000; stroke-width:2; stroke-opacity:0.1; fill:none\" points=\"\n",
       "  215.754,226.497 2352.76,226.497 \n",
       "  \"/>\n",
       "<polyline clip-path=\"url(#clip7000)\" style=\"stroke:#000000; stroke-width:4; stroke-opacity:1; fill:none\" points=\"\n",
       "  215.754,1425.62 2352.76,1425.62 \n",
       "  \"/>\n",
       "<polyline clip-path=\"url(#clip7000)\" style=\"stroke:#000000; stroke-width:4; stroke-opacity:1; fill:none\" points=\"\n",
       "  215.754,1425.62 215.754,47.2441 \n",
       "  \"/>\n",
       "<polyline clip-path=\"url(#clip7000)\" style=\"stroke:#000000; stroke-width:4; stroke-opacity:1; fill:none\" points=\"\n",
       "  276.235,1425.62 276.235,1409.08 \n",
       "  \"/>\n",
       "<polyline clip-path=\"url(#clip7000)\" style=\"stroke:#000000; stroke-width:4; stroke-opacity:1; fill:none\" points=\"\n",
       "  679.443,1425.62 679.443,1409.08 \n",
       "  \"/>\n",
       "<polyline clip-path=\"url(#clip7000)\" style=\"stroke:#000000; stroke-width:4; stroke-opacity:1; fill:none\" points=\"\n",
       "  1082.65,1425.62 1082.65,1409.08 \n",
       "  \"/>\n",
       "<polyline clip-path=\"url(#clip7000)\" style=\"stroke:#000000; stroke-width:4; stroke-opacity:1; fill:none\" points=\"\n",
       "  1485.86,1425.62 1485.86,1409.08 \n",
       "  \"/>\n",
       "<polyline clip-path=\"url(#clip7000)\" style=\"stroke:#000000; stroke-width:4; stroke-opacity:1; fill:none\" points=\"\n",
       "  1889.07,1425.62 1889.07,1409.08 \n",
       "  \"/>\n",
       "<polyline clip-path=\"url(#clip7000)\" style=\"stroke:#000000; stroke-width:4; stroke-opacity:1; fill:none\" points=\"\n",
       "  2292.27,1425.62 2292.27,1409.08 \n",
       "  \"/>\n",
       "<polyline clip-path=\"url(#clip7000)\" style=\"stroke:#000000; stroke-width:4; stroke-opacity:1; fill:none\" points=\"\n",
       "  215.754,1222.3 241.398,1222.3 \n",
       "  \"/>\n",
       "<polyline clip-path=\"url(#clip7000)\" style=\"stroke:#000000; stroke-width:4; stroke-opacity:1; fill:none\" points=\"\n",
       "  215.754,973.35 241.398,973.35 \n",
       "  \"/>\n",
       "<polyline clip-path=\"url(#clip7000)\" style=\"stroke:#000000; stroke-width:4; stroke-opacity:1; fill:none\" points=\"\n",
       "  215.754,724.399 241.398,724.399 \n",
       "  \"/>\n",
       "<polyline clip-path=\"url(#clip7000)\" style=\"stroke:#000000; stroke-width:4; stroke-opacity:1; fill:none\" points=\"\n",
       "  215.754,475.448 241.398,475.448 \n",
       "  \"/>\n",
       "<polyline clip-path=\"url(#clip7000)\" style=\"stroke:#000000; stroke-width:4; stroke-opacity:1; fill:none\" points=\"\n",
       "  215.754,226.497 241.398,226.497 \n",
       "  \"/>\n",
       "<g clip-path=\"url(#clip7000)\">\n",
       "<text style=\"fill:#000000; fill-opacity:1; font-family:Arial,Helvetica Neue,Helvetica,sans-serif; font-size:48px; text-anchor:middle;\" transform=\"rotate(0, 276.235, 1479.62)\" x=\"276.235\" y=\"1479.62\">0.0</text>\n",
       "</g>\n",
       "<g clip-path=\"url(#clip7000)\">\n",
       "<text style=\"fill:#000000; fill-opacity:1; font-family:Arial,Helvetica Neue,Helvetica,sans-serif; font-size:48px; text-anchor:middle;\" transform=\"rotate(0, 679.443, 1479.62)\" x=\"679.443\" y=\"1479.62\">0.1</text>\n",
       "</g>\n",
       "<g clip-path=\"url(#clip7000)\">\n",
       "<text style=\"fill:#000000; fill-opacity:1; font-family:Arial,Helvetica Neue,Helvetica,sans-serif; font-size:48px; text-anchor:middle;\" transform=\"rotate(0, 1082.65, 1479.62)\" x=\"1082.65\" y=\"1479.62\">0.2</text>\n",
       "</g>\n",
       "<g clip-path=\"url(#clip7000)\">\n",
       "<text style=\"fill:#000000; fill-opacity:1; font-family:Arial,Helvetica Neue,Helvetica,sans-serif; font-size:48px; text-anchor:middle;\" transform=\"rotate(0, 1485.86, 1479.62)\" x=\"1485.86\" y=\"1479.62\">0.3</text>\n",
       "</g>\n",
       "<g clip-path=\"url(#clip7000)\">\n",
       "<text style=\"fill:#000000; fill-opacity:1; font-family:Arial,Helvetica Neue,Helvetica,sans-serif; font-size:48px; text-anchor:middle;\" transform=\"rotate(0, 1889.07, 1479.62)\" x=\"1889.07\" y=\"1479.62\">0.4</text>\n",
       "</g>\n",
       "<g clip-path=\"url(#clip7000)\">\n",
       "<text style=\"fill:#000000; fill-opacity:1; font-family:Arial,Helvetica Neue,Helvetica,sans-serif; font-size:48px; text-anchor:middle;\" transform=\"rotate(0, 2292.27, 1479.62)\" x=\"2292.27\" y=\"1479.62\">0.5</text>\n",
       "</g>\n",
       "<g clip-path=\"url(#clip7000)\">\n",
       "<text style=\"fill:#000000; fill-opacity:1; font-family:Arial,Helvetica Neue,Helvetica,sans-serif; font-size:48px; text-anchor:end;\" transform=\"rotate(0, 191.754, 1239.8)\" x=\"191.754\" y=\"1239.8\">0.1</text>\n",
       "</g>\n",
       "<g clip-path=\"url(#clip7000)\">\n",
       "<text style=\"fill:#000000; fill-opacity:1; font-family:Arial,Helvetica Neue,Helvetica,sans-serif; font-size:48px; text-anchor:end;\" transform=\"rotate(0, 191.754, 990.85)\" x=\"191.754\" y=\"990.85\">0.2</text>\n",
       "</g>\n",
       "<g clip-path=\"url(#clip7000)\">\n",
       "<text style=\"fill:#000000; fill-opacity:1; font-family:Arial,Helvetica Neue,Helvetica,sans-serif; font-size:48px; text-anchor:end;\" transform=\"rotate(0, 191.754, 741.899)\" x=\"191.754\" y=\"741.899\">0.3</text>\n",
       "</g>\n",
       "<g clip-path=\"url(#clip7000)\">\n",
       "<text style=\"fill:#000000; fill-opacity:1; font-family:Arial,Helvetica Neue,Helvetica,sans-serif; font-size:48px; text-anchor:end;\" transform=\"rotate(0, 191.754, 492.948)\" x=\"191.754\" y=\"492.948\">0.4</text>\n",
       "</g>\n",
       "<g clip-path=\"url(#clip7000)\">\n",
       "<text style=\"fill:#000000; fill-opacity:1; font-family:Arial,Helvetica Neue,Helvetica,sans-serif; font-size:48px; text-anchor:end;\" transform=\"rotate(0, 191.754, 243.997)\" x=\"191.754\" y=\"243.997\">0.5</text>\n",
       "</g>\n",
       "<g clip-path=\"url(#clip7000)\">\n",
       "<text style=\"fill:#000000; fill-opacity:1; font-family:Arial,Helvetica Neue,Helvetica,sans-serif; font-size:66px; text-anchor:middle;\" transform=\"rotate(0, 1284.25, 1559.48)\" x=\"1284.25\" y=\"1559.48\">t</text>\n",
       "</g>\n",
       "<g clip-path=\"url(#clip7000)\">\n",
       "<text style=\"fill:#000000; fill-opacity:1; font-family:Arial,Helvetica Neue,Helvetica,sans-serif; font-size:66px; text-anchor:middle;\" transform=\"rotate(-90, 89.2861, 736.431)\" x=\"89.2861\" y=\"736.431\">x1</text>\n",
       "</g>\n",
       "<path clip-path=\"url(#clip7002)\" d=\"\n",
       "M2292.27 86.2547 L276.235 86.2547 L276.235 1386.61 L2292.27 1386.61 L2292.27 86.2547 L2292.27 86.2547  Z\n",
       "  \" fill=\"#0000ff\" fill-rule=\"evenodd\" fill-opacity=\"0.5\"/>\n",
       "<polyline clip-path=\"url(#clip7002)\" style=\"stroke:#000000; stroke-width:0.8; stroke-opacity:0.5; fill:none\" points=\"\n",
       "  2292.27,86.2547 276.235,86.2547 276.235,1386.61 2292.27,1386.61 2292.27,86.2547 \n",
       "  \"/>\n",
       "<path clip-path=\"url(#clip7000)\" d=\"\n",
       "M1848.17 251.724 L2280.76 251.724 L2280.76 130.764 L1848.17 130.764  Z\n",
       "  \" fill=\"#ffffff\" fill-rule=\"evenodd\" fill-opacity=\"1\"/>\n",
       "<polyline clip-path=\"url(#clip7000)\" style=\"stroke:#000000; stroke-width:4; stroke-opacity:1; fill:none\" points=\"\n",
       "  1848.17,251.724 2280.76,251.724 2280.76,130.764 1848.17,130.764 1848.17,251.724 \n",
       "  \"/>\n",
       "<path clip-path=\"url(#clip7000)\" d=\"\n",
       "M1872.17 215.436 L2016.17 215.436 L2016.17 167.052 L1872.17 167.052 L1872.17 215.436  Z\n",
       "  \" fill=\"#0000ff\" fill-rule=\"evenodd\" fill-opacity=\"0.5\"/>\n",
       "<polyline clip-path=\"url(#clip7000)\" style=\"stroke:#000000; stroke-width:0.8; stroke-opacity:1; fill:none\" points=\"\n",
       "  1872.17,215.436 2016.17,215.436 2016.17,167.052 1872.17,167.052 1872.17,215.436 \n",
       "  \"/>\n",
       "<g clip-path=\"url(#clip7000)\">\n",
       "<text style=\"fill:#000000; fill-opacity:1; font-family:Arial,Helvetica Neue,Helvetica,sans-serif; font-size:48px; text-anchor:start;\" transform=\"rotate(0, 2040.17, 208.744)\" x=\"2040.17\" y=\"208.744\">Flowpipe</text>\n",
       "</g>\n",
       "</svg>\n"
      ]
     },
     "execution_count": 3,
     "metadata": {},
     "output_type": "execute_result"
    }
   ],
   "source": [
    "plot(sol, vars=(0, 1), xlab=\"t\", ylab=\"x1\", lw=0.2, color=:blue, lab=\"Flowpipe\")"
   ]
  },
  {
   "cell_type": "code",
   "execution_count": 4,
   "metadata": {},
   "outputs": [
    {
     "name": "stderr",
     "output_type": "stream",
     "text": [
      "┌ Info: Precompiling NeuralVerification [146f25fa-00e7-11e9-3ae5-fdbac6e12fa7]\n",
      "└ @ Base loading.jl:1260\n",
      "WARNING: using NeuralVerification.solve in module Main conflicts with an existing identifier.\n",
      "┌ Warning: Replacing docs for `LazySets.HPolytope :: Union{Tuple{Union{Polyhedra.HRepresentation{N}, Polyhedra.Polyhedron{N}}}, Tuple{N}} where N` in module `LazySets`\n",
      "└ @ Base.Docs docs/Docs.jl:229\n",
      "┌ Warning: Replacing docs for `LazySets.HPolyhedron :: Union{Tuple{Union{Polyhedra.HRepresentation{N}, Polyhedra.Polyhedron{N}}}, Tuple{N}} where N` in module `LazySets`\n",
      "└ @ Base.Docs docs/Docs.jl:229\n",
      "┌ Warning: Replacing docs for `Polyhedra.polyhedron :: Union{Tuple{Union{HPolyhedron{N,VN} where VN<:AbstractArray{N,1}, HPolytope{N,VN} where VN<:AbstractArray{N,1}}}, Tuple{N}} where N<:Real` in module `LazySets`\n",
      "└ @ Base.Docs docs/Docs.jl:229\n",
      "┌ Warning: Replacing docs for `Polyhedra.polyhedron :: Union{Tuple{VPolytope{N,VN} where VN<:AbstractArray{N,1}}, Tuple{N}} where N<:Real` in module `LazySets`\n",
      "└ @ Base.Docs docs/Docs.jl:229\n"
     ]
    }
   ],
   "source": [
    "using NeuralVerification, JLD2"
   ]
  },
  {
   "cell_type": "code",
   "execution_count": 5,
   "metadata": {},
   "outputs": [],
   "source": [
    "@load \"/home/sguadalupe/Documents/Julia/b7.jld2\" controller;"
   ]
  },
  {
   "cell_type": "code",
   "execution_count": 6,
   "metadata": {},
   "outputs": [],
   "source": [
    "X₀ = convert(HPolytope, Hyperrectangle(low=[0.35, 0.45, 0.25], high=[0.45, 0.55, 0.35]));"
   ]
  },
  {
   "cell_type": "code",
   "execution_count": 7,
   "metadata": {},
   "outputs": [],
   "source": [
    "problem = Problem(controller, X₀, rand(HPolytope, 3));"
   ]
  },
  {
   "cell_type": "code",
   "execution_count": 15,
   "metadata": {},
   "outputs": [],
   "source": [
    "solver = ExactReach();"
   ]
  },
  {
   "cell_type": "code",
   "execution_count": 16,
   "metadata": {},
   "outputs": [
    {
     "data": {
      "text/plain": [
       "ReachabilityResult(:holds, HPolytope[])"
      ]
     },
     "execution_count": 16,
     "metadata": {},
     "output_type": "execute_result"
    }
   ],
   "source": [
    "result = NeuralVerification.solve(solver, problem)"
   ]
  },
  {
   "cell_type": "code",
   "execution_count": 10,
   "metadata": {},
   "outputs": [
    {
     "data": {
      "text/plain": [
       "0-element Array{HPolytope,1}"
      ]
     },
     "execution_count": 10,
     "metadata": {},
     "output_type": "execute_result"
    }
   ],
   "source": [
    "result.reachable"
   ]
  },
  {
   "cell_type": "code",
   "execution_count": 197,
   "metadata": {},
   "outputs": [
    {
     "data": {
      "text/plain": [
       "Ai2"
      ]
     },
     "execution_count": 197,
     "metadata": {},
     "output_type": "execute_result"
    }
   ],
   "source": [
    "using LazySets: HPolytope, linear_map\n",
    "function slicematrix(A::AbstractMatrix)\n",
    "    return [A[:, i] for i in 1:size(A,2)]\n",
    "end\n",
    "function Ai2(input_set, W, b)\n",
    "    A = affine_map(W, input_set, b) # no se si aca se aplican los W y b\n",
    "    P = convert(HPolytope, A)\n",
    "    n = length(b)\n",
    "    H = fill(0.0, n) # matriz para direcciones de los halfspaces\n",
    "    In = [] # vector con las intersecciones\n",
    "    cd = CustomDirections(slicematrix(genmat(A)))\n",
    "    Id = (I + fill(0.0, n, n)) # matriz identidad\n",
    "    for i = 1:n\n",
    "        H[i] = 1.0 # cambio [i, i] por uno para calcular xi >= 0\n",
    "        int = intersection(P, HalfSpace(H, 0.)) # calculo la interseccion\n",
    "        if !isempty(int) # si la interseccion no es vacia la guardo en In\n",
    "            push!(In, overapproximate(int, Zonotope, cd))\n",
    "        end\n",
    "        H[i] = -1.0  # cambio [i, i] por menos uno para calcular xi < 0\n",
    "        int = intersection(P, HalfSpace(H, 0.)) # calculo la interseccion\n",
    "        if !isempty(int)\n",
    "            Id[i, i] = 0.0\n",
    "            push!(In, overapproximate(int, Zonotope, cd) * Id)\n",
    "            Id[i, i] = 1.0\n",
    "        end\n",
    "        H[i] = 0.0\n",
    "    end\n",
    "    CH = EmptySet\n",
    "    for i = 1:length(In)\n",
    "        CH = convex_hull(CH, In[i])\n",
    "    end\n",
    "    return overapproximate(CH, Zonotope, cd)\n",
    "end"
   ]
  },
  {
   "cell_type": "code",
   "execution_count": 198,
   "metadata": {},
   "outputs": [
    {
     "name": "stderr",
     "output_type": "stream",
     "text": [
      "┌ Warning: Cannot detect exact linearity as no solver was provided and the polyhedron is not affine.\n",
      "│ As fallback, we will only detect halfspaces from opposite hyperplanes but that may not detect all halfspaces.\n",
      "│ Set a solver if you believe that the polyhedron may have more linearity.\n",
      "│ To provide a solver to a polyhedron, first select a solver from https://www.juliaopt.org/JuMP.jl/stable/installation/#Getting-Solvers-1.\n",
      "│ If you choose for instance `GLPK`, do `using GLPK; solver = GLPK.Optimizer`.\n",
      "│ Then provide the solver to the library. For instance, with the default library, do `lib = DefaultLibrary{Float64}(solver)`\n",
      "│ or if you use an external library, say `QHull`, do `lib = QHull.Library(solver)`.\n",
      "│ Then when you create the polyhedron, say from a representation `rep`, do `polyhedron(rep, lib)`.\n",
      "└ @ Polyhedra /home/sguadalupe/.julia/packages/Polyhedra/Wu1SI/src/linearity.jl:208\n",
      "┌ Warning: Cannot detect exact linearity as no solver was provided and the polyhedron is not affine.\n",
      "│ As fallback, we will only detect halfspaces from opposite hyperplanes but that may not detect all halfspaces.\n",
      "│ Set a solver if you believe that the polyhedron may have more linearity.\n",
      "│ To provide a solver to a polyhedron, first select a solver from https://www.juliaopt.org/JuMP.jl/stable/installation/#Getting-Solvers-1.\n",
      "│ If you choose for instance `GLPK`, do `using GLPK; solver = GLPK.Optimizer`.\n",
      "│ Then provide the solver to the library. For instance, with the default library, do `lib = DefaultLibrary{Float64}(solver)`\n",
      "│ or if you use an external library, say `QHull`, do `lib = QHull.Library(solver)`.\n",
      "│ Then when you create the polyhedron, say from a representation `rep`, do `polyhedron(rep, lib)`.\n",
      "└ @ Polyhedra /home/sguadalupe/.julia/packages/Polyhedra/Wu1SI/src/linearity.jl:208\n"
     ]
    },
    {
     "ename": "MethodError",
     "evalue": "MethodError: no method matching *(::Zonotope{Float64,Array{Float64,1},Array{Float64,2}}, ::Array{Float64,2})\nClosest candidates are:\n  *(::Any, ::Any, !Matched::Any, !Matched::Any...) at operators.jl:529\n  *(!Matched::MutableArithmetics.Zero, ::Any) at /home/sguadalupe/.julia/packages/MutableArithmetics/ZGFsK/src/rewrite.jl:49\n  *(!Matched::LightGraphs.LinAlg.Noop, ::Any) at /home/sguadalupe/.julia/packages/LightGraphs/siFgP/src/linalg/graphmatrices.jl:226\n  ...",
     "output_type": "error",
     "traceback": [
      "MethodError: no method matching *(::Zonotope{Float64,Array{Float64,1},Array{Float64,2}}, ::Array{Float64,2})\nClosest candidates are:\n  *(::Any, ::Any, !Matched::Any, !Matched::Any...) at operators.jl:529\n  *(!Matched::MutableArithmetics.Zero, ::Any) at /home/sguadalupe/.julia/packages/MutableArithmetics/ZGFsK/src/rewrite.jl:49\n  *(!Matched::LightGraphs.LinAlg.Noop, ::Any) at /home/sguadalupe/.julia/packages/LightGraphs/siFgP/src/linalg/graphmatrices.jl:226\n  ...",
      "",
      "Stacktrace:",
      " [1] Ai2(::Zonotope{Float64,Array{Float64,1},Array{Float64,2}}, ::Array{Float64,2}, ::Array{Float64,1}) at ./In[197]:23",
      " [2] top-level scope at In[198]:1"
     ]
    }
   ],
   "source": [
    "Ai2(rand(Zonotope, dim=4), rand(4, 4), rand(4))"
   ]
  },
  {
   "cell_type": "code",
   "execution_count": null,
   "metadata": {},
   "outputs": [],
   "source": []
  }
 ],
 "metadata": {
  "kernelspec": {
   "display_name": "Julia 1.4.0",
   "language": "julia",
   "name": "julia-1.4"
  },
  "language_info": {
   "file_extension": ".jl",
   "mimetype": "application/julia",
   "name": "julia",
   "version": "1.4.0"
  }
 },
 "nbformat": 4,
 "nbformat_minor": 4
}
