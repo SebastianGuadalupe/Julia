{
 "cells": [
  {
   "cell_type": "code",
   "execution_count": 1,
   "metadata": {
    "collapsed": true
   },
   "outputs": [
    {
     "name": "stderr",
     "output_type": "stream",
     "text": [
      "┌ Info: Precompiling NeuralNetworkAnalysis [73c0b437-a350-4e9b-97ac-9adb151c271b]\n",
      "└ @ Base loading.jl:1278\n",
      "WARNING: using NeuralVerification.solve in module NeuralNetworkAnalysis conflicts with an existing identifier.\n",
      "┌ Warning: Replacing docs for `LazySets.HPolytope :: Union{Tuple{Union{Polyhedra.HRepresentation{N}, Polyhedra.Polyhedron{N}}}, Tuple{N}} where N` in module `LazySets`\n",
      "└ @ Base.Docs docs/Docs.jl:227\n",
      "┌ Warning: Replacing docs for `LazySets.HPolyhedron :: Union{Tuple{Union{Polyhedra.HRepresentation{N}, Polyhedra.Polyhedron{N}}}, Tuple{N}} where N` in module `LazySets`\n",
      "└ @ Base.Docs docs/Docs.jl:227\n",
      "┌ Warning: Replacing docs for `Polyhedra.polyhedron :: Union{Tuple{Union{HPolyhedron{N,VN} where VN<:AbstractArray{N,1}, HPolytope{N,VN} where VN<:AbstractArray{N,1}}}, Tuple{N}} where N<:Real` in module `LazySets`\n",
      "└ @ Base.Docs docs/Docs.jl:227\n",
      "┌ Warning: Replacing docs for `Polyhedra.polyhedron :: Union{Tuple{VPolytope{N,VN} where VN<:AbstractArray{N,1}}, Tuple{N}} where N<:Real` in module `LazySets`\n",
      "└ @ Base.Docs docs/Docs.jl:227\n"
     ]
    },
    {
     "data": {
      "text/plain": [
       "NeuralNetworkAnalysis"
      ]
     },
     "execution_count": 1,
     "metadata": {},
     "output_type": "execute_result"
    }
   ],
   "source": [
    "using Revise, NeuralNetworkAnalysis, NeuralVerification, YAML\n",
    "const NV = NeuralVerification\n",
    "const RA = ReachabilityAnalysis\n",
    "const IA = IntervalArithmetic\n",
    "const NNA = NeuralNetworkAnalysis"
   ]
  },
  {
   "cell_type": "code",
   "execution_count": 2,
   "metadata": {},
   "outputs": [],
   "source": [
    "d = YAML.load_file(\"sig16x16.yml\")\n",
    "nnet = NNA.read_yaml(d);"
   ]
  },
  {
   "cell_type": "code",
   "execution_count": 46,
   "metadata": {},
   "outputs": [],
   "source": [
    "X0 = Hyperrectangle(low=[-0.6, 0], high=[-0.4, 0])\n",
    "X0s = split(X0, [1, 1])\n",
    "sol = [NNA.forward(nnet, X0) for X0 in X0s];"
   ]
  },
  {
   "cell_type": "code",
   "execution_count": 43,
   "metadata": {},
   "outputs": [
    {
     "data": {
      "text/plain": [
       "Interval{Float64,IntervalArithmetic.Interval{Float64}}([-0.452969, -0.0564312])"
      ]
     },
     "execution_count": 43,
     "metadata": {},
     "output_type": "execute_result"
    }
   ],
   "source": [
    "overapproximate(UnionSetArray(sol), Interval) # 8"
   ]
  },
  {
   "cell_type": "code",
   "execution_count": 45,
   "metadata": {},
   "outputs": [
    {
     "data": {
      "text/plain": [
       "Interval{Float64,IntervalArithmetic.Interval{Float64}}([-0.467717, -0.0640337])"
      ]
     },
     "execution_count": 45,
     "metadata": {},
     "output_type": "execute_result"
    }
   ],
   "source": [
    "overapproximate(UnionSetArray(sol), Interval) # 4"
   ]
  },
  {
   "cell_type": "code",
   "execution_count": 47,
   "metadata": {},
   "outputs": [
    {
     "data": {
      "text/plain": [
       "Interval{Float64,IntervalArithmetic.Interval{Float64}}([-0.448458, -0.0581502])"
      ]
     },
     "execution_count": 47,
     "metadata": {},
     "output_type": "execute_result"
    }
   ],
   "source": [
    "overapproximate(UnionSetArray(sol), Interval) # 1"
   ]
  },
  {
   "cell_type": "code",
   "execution_count": 52,
   "metadata": {},
   "outputs": [
    {
     "data": {
      "text/plain": [
       "step (generic function with 1 method)"
      ]
     },
     "execution_count": 52,
     "metadata": {},
     "output_type": "execute_result"
    }
   ],
   "source": [
    "function step(p, v, u)\n",
    "    return (p + v, v + 0.0015u - 0.0025 * cos(3p))\n",
    "end"
   ]
  },
  {
   "cell_type": "code",
   "execution_count": 54,
   "metadata": {},
   "outputs": [
    {
     "data": {
      "text/plain": [
       "([-0.400001, 0.600001], [0, 0])"
      ]
     },
     "execution_count": 54,
     "metadata": {},
     "output_type": "execute_result"
    }
   ],
   "source": [
    "p, v = -0.4..0.6, 0. .. 0."
   ]
  },
  {
   "cell_type": "code",
   "execution_count": 61,
   "metadata": {},
   "outputs": [
    {
     "data": {
      "text/plain": [
       "mountain_car (generic function with 1 method)"
      ]
     },
     "execution_count": 61,
     "metadata": {},
     "output_type": "execute_result"
    }
   ],
   "source": [
    "function mountain_car(p, v, nnet; max_setps=150)\n",
    "    reward = 100.\n",
    "    n = 0\n",
    "    for i=1:max_setps\n",
    "        n += 1\n",
    "        u = forward(nnet, Interval(p) × Interval(v))\n",
    "        u = u.array[1].dat\n",
    "        reward = reward - 0.1 * u^2\n",
    "        p, v = step(p, v, u)\n",
    "        if p.lo >= 0.45\n",
    "            break\n",
    "        end\n",
    "    end\n",
    "    return p, v, reward, n\n",
    "end"
   ]
  },
  {
   "cell_type": "code",
   "execution_count": 62,
   "metadata": {},
   "outputs": [
    {
     "ename": "LoadError",
     "evalue": "KeyError: key :xv not found",
     "output_type": "error",
     "traceback": [
      "KeyError: key :xv not found",
      "",
      "Stacktrace:",
      " [1] getindex(::Dict{Symbol,Any}, ::Symbol) at ./dict.jl:467",
      " [2] forward(::Network, ::CartesianProduct{Float64,Interval{Float64,IntervalArithmetic.Interval{Float64}},Interval{Float64,IntervalArithmetic.Interval{Float64}}}; alg::TMJets{Float64,ZonotopeEnclosure}) at /home/sguadalupe/.julia/dev/NeuralNetworkAnalysis/src/utils.jl:103",
      " [3] forward(::Network, ::CartesianProduct{Float64,Interval{Float64,IntervalArithmetic.Interval{Float64}},Interval{Float64,IntervalArithmetic.Interval{Float64}}}) at /home/sguadalupe/.julia/dev/NeuralNetworkAnalysis/src/utils.jl:78",
      " [4] mountain_car(::IntervalArithmetic.Interval{Float64}, ::IntervalArithmetic.Interval{Float64}, ::Network; max_setps::Int64) at ./In[61]:6",
      " [5] mountain_car(::IntervalArithmetic.Interval{Float64}, ::IntervalArithmetic.Interval{Float64}, ::Network) at ./In[61]:2",
      " [6] top-level scope at In[62]:1",
      " [7] include_string(::Function, ::Module, ::String, ::String) at ./loading.jl:1091"
     ]
    }
   ],
   "source": [
    "@time mountain_car(p, v, nnet)"
   ]
  },
  {
   "cell_type": "code",
   "execution_count": 23,
   "metadata": {},
   "outputs": [],
   "source": [
    "@taylorize function car!(dx, x, p, t)\n",
    "    p, v, u = x\n",
    "    dx[1] = p + v\n",
    "    dx[2] = v + 0.0015u - 0.0025 * cos(3p)\n",
    "    dx[3] = zero(u)\n",
    "\n",
    "    return dx\n",
    "end\n",
    "\n",
    "X₀ = Hyperrectangle(low=[-0.41, 0], high=[-0.4, 0])\n",
    "U₀ = Universe(1)\n",
    "prob = @ivp(x' = car!(x), dim: 3, x(0) ∈ X₀ × U₀)\n",
    "vars_idx = Dict(:state_vars=>1:2, :input_vars=>[], :control_vars=>[3]);"
   ]
  },
  {
   "cell_type": "code",
   "execution_count": 27,
   "metadata": {},
   "outputs": [
    {
     "name": "stdout",
     "output_type": "stream",
     "text": [
      "  6.679532 seconds (76.88 M allocations: 6.025 GiB, 28.19% gc time)\n"
     ]
    }
   ],
   "source": [
    "plant = ControlledPlant(prob, nnet, vars_idx);\n",
    "alg = TMJets(abs_tol=1e-9, orderT=8, orderQ=1)\n",
    "solver = \"hybrid\"\n",
    "\n",
    "@time sol = NNA.solve(plant, T=0.6, Tsample=0.2, alg_nn=solver, alg=alg)\n",
    "#solz = overapproximate(sol, Zonotope);"
   ]
  },
  {
   "cell_type": "code",
   "execution_count": 28,
   "metadata": {},
   "outputs": [
    {
     "ename": "BoundsError",
     "evalue": "BoundsError: attempt to access String\n  at index [2]",
     "output_type": "error",
     "traceback": [
      "BoundsError: attempt to access String\n  at index [2]",
      "",
      "Stacktrace:",
      " [1] checkbounds at ./strings/basic.jl:214 [inlined]",
      " [2] codeunit at ./strings/string.jl:89 [inlined]",
      " [3] getindex at ./strings/string.jl:210 [inlined]",
      " [4] pretty_print(::TaylorN{Float64}) at /home/sguadalupe/.julia/packages/TaylorSeries/JoTvC/src/printing.jl:115",
      " [5] show(::Base.GenericIOBuffer{Array{UInt8,1}}, ::TaylorN{Float64}) at /home/sguadalupe/.julia/packages/TaylorSeries/JoTvC/src/printing.jl:253",
      " [6] print(::Base.GenericIOBuffer{Array{UInt8,1}}, ::TaylorN{Float64}) at ./strings/io.jl:35",
      " [7] print_to_string(::String, ::Vararg{Any,N} where N) at ./strings/io.jl:135",
      " [8] string at ./strings/io.jl:174 [inlined]",
      " [9] numbr2str at /home/sguadalupe/.julia/packages/TaylorSeries/JoTvC/src/printing.jl:186 [inlined]",
      " [10] pretty_print(::Taylor1{TaylorN{Float64}}) at /home/sguadalupe/.julia/packages/TaylorSeries/JoTvC/src/printing.jl:84",
      " [11] show(::Base.GenericIOBuffer{Array{UInt8,1}}, ::Taylor1{TaylorN{Float64}}) at /home/sguadalupe/.julia/packages/TaylorSeries/JoTvC/src/printing.jl:253",
      " [12] print(::Base.GenericIOBuffer{Array{UInt8,1}}, ::Taylor1{TaylorN{Float64}}) at ./strings/io.jl:35",
      " [13] print_to_string(::Taylor1{TaylorN{Float64}}, ::Vararg{Any,N} where N) at ./strings/io.jl:135",
      " [14] string at ./strings/io.jl:174 [inlined]",
      " [15] pretty_print at /home/sguadalupe/.julia/packages/TaylorModels/zUqmn/src/show.jl:27 [inlined]",
      " [16] show(::IOContext{Base.GenericIOBuffer{Array{UInt8,1}}}, ::TaylorModels.TaylorModel1{TaylorN{Float64},Float64}) at /home/sguadalupe/.julia/packages/TaylorModels/zUqmn/src/show.jl:19",
      " [17] show_delim_array(::IOContext{Base.GenericIOBuffer{Array{UInt8,1}}}, ::Array{TaylorModels.TaylorModel1{TaylorN{Float64},Float64},1}, ::Char, ::String, ::Char, ::Bool, ::Int64, ::Int64) at ./show.jl:744",
      " [18] show_delim_array at ./show.jl:733 [inlined]",
      " [19] show_vector(::IOContext{Base.GenericIOBuffer{Array{UInt8,1}}}, ::Array{TaylorModels.TaylorModel1{TaylorN{Float64},Float64},1}, ::Char, ::Char) at ./arrayshow.jl:476",
      " [20] show_vector at ./arrayshow.jl:461 [inlined]",
      " [21] show(::IOContext{Base.GenericIOBuffer{Array{UInt8,1}}}, ::Array{TaylorModels.TaylorModel1{TaylorN{Float64},Float64},1}) at ./arrayshow.jl:432",
      " [22] _show_default(::IOContext{Base.GenericIOBuffer{Array{UInt8,1}}}, ::Any) at ./show.jl:406",
      " [23] show_default at ./show.jl:389 [inlined]",
      " [24] show at ./show.jl:384 [inlined]",
      " [25] show_delim_array(::IOContext{Base.GenericIOBuffer{Array{UInt8,1}}}, ::Array{TaylorModelReachSet{Float64},1}, ::Char, ::String, ::Char, ::Bool, ::Int64, ::Int64) at ./show.jl:744",
      " [26] show_delim_array at ./show.jl:733 [inlined]",
      " [27] show_vector(::IOContext{Base.GenericIOBuffer{Array{UInt8,1}}}, ::Array{TaylorModelReachSet{Float64},1}, ::Char, ::Char) at ./arrayshow.jl:476",
      " [28] show_vector at ./arrayshow.jl:461 [inlined]",
      " [29] show(::IOContext{Base.GenericIOBuffer{Array{UInt8,1}}}, ::Array{TaylorModelReachSet{Float64},1}) at ./arrayshow.jl:432",
      " [30] _show_default(::IOContext{Base.GenericIOBuffer{Array{UInt8,1}}}, ::Any) at ./show.jl:406",
      " [31] show_default at ./show.jl:389 [inlined]",
      " [32] show(::IOContext{Base.GenericIOBuffer{Array{UInt8,1}}}, ::Any) at ./show.jl:384",
      " [33] sprint(::Function, ::Flowpipe{Float64,TaylorModelReachSet{Float64},Array{TaylorModelReachSet{Float64},1}}; context::IOContext{Base.GenericIOBuffer{Array{UInt8,1}}}, sizehint::Int64) at ./strings/io.jl:103",
      " [34] alignment at ./show.jl:2082 [inlined]",
      " [35] alignment(::IOContext{Base.GenericIOBuffer{Array{UInt8,1}}}, ::Array{Flowpipe{Float64,TaylorModelReachSet{Float64},Array{TaylorModelReachSet{Float64},1}},1}, ::UnitRange{Int64}, ::UnitRange{Int64}, ::Int64, ::Int64, ::Int64) at ./arrayshow.jl:68",
      " [36] print_matrix(::IOContext{Base.GenericIOBuffer{Array{UInt8,1}}}, ::Array{Flowpipe{Float64,TaylorModelReachSet{Float64},Array{TaylorModelReachSet{Float64},1}},1}, ::String, ::String, ::String, ::String, ::String, ::String, ::Int64, ::Int64) at ./arrayshow.jl:196",
      " [37] print_matrix at ./arrayshow.jl:169 [inlined]",
      " [38] print_array at ./arrayshow.jl:317 [inlined]",
      " [39] show(::IOContext{Base.GenericIOBuffer{Array{UInt8,1}}}, ::RecursiveArrayTools.VectorOfArray{TaylorModelReachSet{Float64},2,Array{Flowpipe{Float64,TaylorModelReachSet{Float64},Array{TaylorModelReachSet{Float64},1}},1}}) at /home/sguadalupe/.julia/packages/RecursiveArrayTools/Wte2p/src/vector_of_array.jl:136",
      " [40] _show_default(::IOContext{Base.GenericIOBuffer{Array{UInt8,1}}}, ::Any) at ./show.jl:406",
      " [41] show_default at ./show.jl:389 [inlined]",
      " [42] show(::IOContext{Base.GenericIOBuffer{Array{UInt8,1}}}, ::Any) at ./show.jl:384",
      " [43] _show_default(::IOContext{Base.GenericIOBuffer{Array{UInt8,1}}}, ::Any) at ./show.jl:406",
      " [44] show_default at ./show.jl:389 [inlined]",
      " [45] show at ./show.jl:384 [inlined]",
      " [46] show at ./multimedia.jl:47 [inlined]",
      " [47] limitstringmime(::MIME{Symbol(\"text/plain\")}, ::ReachabilityAnalysis.ReachSolution{MixedFlowpipe{Float64,TaylorModelReachSet{Float64},Flowpipe{Float64,TaylorModelReachSet{Float64},Array{TaylorModelReachSet{Float64},1}}},TMJets{Float64,ZonotopeEnclosure}}) at /home/sguadalupe/.julia/packages/IJulia/DrVMH/src/inline.jl:43",
      " [48] display_mimestring(::MIME{Symbol(\"text/plain\")}, ::ReachabilityAnalysis.ReachSolution{MixedFlowpipe{Float64,TaylorModelReachSet{Float64},Flowpipe{Float64,TaylorModelReachSet{Float64},Array{TaylorModelReachSet{Float64},1}}},TMJets{Float64,ZonotopeEnclosure}}) at /home/sguadalupe/.julia/packages/IJulia/DrVMH/src/display.jl:67",
      " [49] display_dict(::ReachabilityAnalysis.ReachSolution{MixedFlowpipe{Float64,TaylorModelReachSet{Float64},Flowpipe{Float64,TaylorModelReachSet{Float64},Array{TaylorModelReachSet{Float64},1}}},TMJets{Float64,ZonotopeEnclosure}}) at /home/sguadalupe/.julia/packages/IJulia/DrVMH/src/display.jl:96",
      " [50] #invokelatest#1 at ./essentials.jl:710 [inlined]",
      " [51] invokelatest at ./essentials.jl:709 [inlined]",
      " [52] execute_request(::ZMQ.Socket, ::IJulia.Msg) at /home/sguadalupe/.julia/packages/IJulia/DrVMH/src/execute_request.jl:112",
      " [53] #invokelatest#1 at ./essentials.jl:710 [inlined]",
      " [54] invokelatest at ./essentials.jl:709 [inlined]",
      " [55] eventloop(::ZMQ.Socket) at /home/sguadalupe/.julia/packages/IJulia/DrVMH/src/eventloop.jl:8"
     ]
    }
   ],
   "source": [
    "sol"
   ]
  }
 ],
 "metadata": {
  "kernelspec": {
   "display_name": "Julia 1.5.0-rc1",
   "language": "julia",
   "name": "julia-1.5"
  },
  "language_info": {
   "file_extension": ".jl",
   "mimetype": "application/julia",
   "name": "julia",
   "version": "1.5.0"
  }
 },
 "nbformat": 4,
 "nbformat_minor": 4
}
