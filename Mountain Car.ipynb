{
 "cells": [
  {
   "cell_type": "code",
   "execution_count": 1,
   "metadata": {},
   "outputs": [
    {
     "name": "stderr",
     "output_type": "stream",
     "text": [
      "┌ Warning: Replacing docs for `LazySets.HPolytope :: Union{Tuple{Union{Polyhedra.HRepresentation{N}, Polyhedra.Polyhedron{N}}}, Tuple{N}} where N` in module `LazySets`\n",
      "└ @ Base.Docs docs/Docs.jl:227\n",
      "┌ Warning: Replacing docs for `LazySets.HPolyhedron :: Union{Tuple{Union{Polyhedra.HRepresentation{N}, Polyhedra.Polyhedron{N}}}, Tuple{N}} where N` in module `LazySets`\n",
      "└ @ Base.Docs docs/Docs.jl:227\n",
      "┌ Warning: Replacing docs for `Polyhedra.polyhedron :: Union{Tuple{Union{HPolyhedron{N,VN} where VN<:AbstractArray{N,1}, HPolytope{N,VN} where VN<:AbstractArray{N,1}}}, Tuple{N}} where N<:Real` in module `LazySets`\n",
      "└ @ Base.Docs docs/Docs.jl:227\n",
      "┌ Warning: Replacing docs for `Polyhedra.polyhedron :: Union{Tuple{VPolytope{N,VN} where VN<:AbstractArray{N,1}}, Tuple{N}} where N<:Real` in module `LazySets`\n",
      "└ @ Base.Docs docs/Docs.jl:227\n"
     ]
    },
    {
     "data": {
      "text/plain": [
       "NeuralNetworkAnalysis"
      ]
     },
     "execution_count": 1,
     "metadata": {},
     "output_type": "execute_result"
    }
   ],
   "source": [
    "using Revise, NeuralNetworkAnalysis, NeuralVerification, YAML\n",
    "const NV = NeuralVerification\n",
    "const RA = ReachabilityAnalysis\n",
    "const IA = IntervalArithmetic\n",
    "const NNA = NeuralNetworkAnalysis"
   ]
  },
  {
   "cell_type": "code",
   "execution_count": 2,
   "metadata": {},
   "outputs": [],
   "source": [
    "d = YAML.load_file(\"sig16x16.yml\")\n",
    "nnet = NNA.read_yaml(d);"
   ]
  },
  {
   "cell_type": "code",
   "execution_count": 3,
   "metadata": {},
   "outputs": [],
   "source": [
    "X0 = Hyperrectangle(low=[-0.6, 0], high=[-0.4, 0])\n",
    "X0s = split(X0, [1, 1])\n",
    "sol = [NNA.forward(nnet, X0) for X0 in X0s];"
   ]
  },
  {
   "cell_type": "code",
   "execution_count": 4,
   "metadata": {},
   "outputs": [
    {
     "data": {
      "text/plain": [
       "Interval{Float64,IntervalArithmetic.Interval{Float64}}([-0.783394, -0.544671])"
      ]
     },
     "execution_count": 4,
     "metadata": {},
     "output_type": "execute_result"
    }
   ],
   "source": [
    "overapproximate(UnionSetArray(sol), Interval) # 8"
   ]
  },
  {
   "cell_type": "code",
   "execution_count": 5,
   "metadata": {},
   "outputs": [
    {
     "data": {
      "text/plain": [
       "Interval{Float64,IntervalArithmetic.Interval{Float64}}([-0.783394, -0.544671])"
      ]
     },
     "execution_count": 5,
     "metadata": {},
     "output_type": "execute_result"
    }
   ],
   "source": [
    "overapproximate(UnionSetArray(sol), Interval) # 4"
   ]
  },
  {
   "cell_type": "code",
   "execution_count": 6,
   "metadata": {},
   "outputs": [
    {
     "data": {
      "text/plain": [
       "Interval{Float64,IntervalArithmetic.Interval{Float64}}([-0.783394, -0.544671])"
      ]
     },
     "execution_count": 6,
     "metadata": {},
     "output_type": "execute_result"
    }
   ],
   "source": [
    "overapproximate(UnionSetArray(sol), Interval) # 1"
   ]
  },
  {
   "cell_type": "code",
   "execution_count": 7,
   "metadata": {},
   "outputs": [
    {
     "data": {
      "text/plain": [
       "step (generic function with 1 method)"
      ]
     },
     "execution_count": 7,
     "metadata": {},
     "output_type": "execute_result"
    }
   ],
   "source": [
    "function step(p, v, u)\n",
    "    return (p + v, v + 0.0015u - 0.0025 * cos(3p))\n",
    "end"
   ]
  },
  {
   "cell_type": "code",
   "execution_count": 76,
   "metadata": {},
   "outputs": [
    {
     "data": {
      "text/plain": [
       "([-0.5, 0.501001], [0, 0])"
      ]
     },
     "execution_count": 76,
     "metadata": {},
     "output_type": "execute_result"
    }
   ],
   "source": [
    "p, v = -0.5..0.501, 0. .. 0."
   ]
  },
  {
   "cell_type": "code",
   "execution_count": 83,
   "metadata": {},
   "outputs": [
    {
     "data": {
      "text/plain": [
       "mountain_car (generic function with 1 method)"
      ]
     },
     "execution_count": 83,
     "metadata": {},
     "output_type": "execute_result"
    }
   ],
   "source": [
    "function mountain_car(p, v, nnet; max_setps=150)\n",
    "    reward = 100.\n",
    "    n = 0\n",
    "    for i=1:max_setps\n",
    "        n += 1\n",
    "        u = forward(nnet, Interval(p) × Interval(v))\n",
    "        u = u.array[1].dat\n",
    "        reward = reward - 0.1 * u^2\n",
    "        p, v = step(p, v, u)\n",
    "        if p.lo >= 0.45\n",
    "            break\n",
    "        end\n",
    "        IJulia.clear_output(true)\n",
    "        println(\"reward: \" * string(reward))\n",
    "        println(\"step: \" * string(i))\n",
    "        println(\"p.hi:\" * string(p.hi))\n",
    "        println(\"p.lo:\" * string(p.lo))\n",
    "    end\n",
    "    return p, v, reward, n\n",
    "end"
   ]
  },
  {
   "cell_type": "code",
   "execution_count": 84,
   "metadata": {
    "scrolled": true
   },
   "outputs": [
    {
     "name": "stdout",
     "output_type": "stream",
     "text": [
      "reward: [90.2169, 100]\n",
      "step: 10\n",
      "p.hi:0.6001062069187053\n",
      "p.lo:-0.7090946036460517\n"
     ]
    },
    {
     "ename": "LoadError",
     "evalue": "InterruptException:",
     "output_type": "error",
     "traceback": [
      "InterruptException:",
      "",
      "Stacktrace:",
      " [1] post(::TMJets{Float64,ZonotopeEnclosure}, ::InitialValueProblem{BlackBoxContinuousSystem{typeof(NeuralNetworkAnalysis.sigmoid!)},IntervalBox{2,Float64}}, ::IntervalArithmetic.Interval{Float64}; Δt0::IntervalArithmetic.Interval{Float64}, external::Bool, kwargs::Base.Iterators.Pairs{Symbol,Any,Tuple{Symbol,Symbol},NamedTuple{(:tspan, :alg),Tuple{Tuple{Float64,Float64},TMJets{Float64,ZonotopeEnclosure}}}}) at /home/sguadalupe/.julia/dev/ReachabilityAnalysis/src/Algorithms/TMJets/post.jl:54",
      " [2] solve(::InitialValueProblem{BlackBoxContinuousSystem{typeof(NeuralNetworkAnalysis.sigmoid!)},IntervalBox{2,Float64}}; kwargs::Base.Iterators.Pairs{Symbol,Any,Tuple{Symbol,Symbol},NamedTuple{(:tspan, :alg),Tuple{Tuple{Float64,Float64},TMJets{Float64,ZonotopeEnclosure}}}}) at /home/sguadalupe/.julia/dev/ReachabilityAnalysis/src/Continuous/solve.jl:61",
      " [3] forward(::Network, ::CartesianProduct{Float64,Interval{Float64,IntervalArithmetic.Interval{Float64}},Interval{Float64,IntervalArithmetic.Interval{Float64}}}; alg::TMJets{Float64,ZonotopeEnclosure}) at /home/sguadalupe/.julia/dev/NeuralNetworkAnalysis/src/utils.jl:102",
      " [4] forward(::Network, ::CartesianProduct{Float64,Interval{Float64,IntervalArithmetic.Interval{Float64}},Interval{Float64,IntervalArithmetic.Interval{Float64}}}) at /home/sguadalupe/.julia/dev/NeuralNetworkAnalysis/src/utils.jl:79",
      " [5] mountain_car(::IntervalArithmetic.Interval{Float64}, ::IntervalArithmetic.Interval{Float64}, ::Network; max_setps::Int64) at ./In[83]:6",
      " [6] mountain_car(::IntervalArithmetic.Interval{Float64}, ::IntervalArithmetic.Interval{Float64}, ::Network) at ./In[83]:2",
      " [7] top-level scope at ./timing.jl:174 [inlined]",
      " [8] top-level scope at ./In[84]:0",
      " [9] include_string(::Function, ::Module, ::String, ::String) at ./loading.jl:1091"
     ]
    }
   ],
   "source": [
    "@time sol = mountain_car(p, v, nnet);"
   ]
  },
  {
   "cell_type": "code",
   "execution_count": null,
   "metadata": {},
   "outputs": [],
   "source": []
  },
  {
   "cell_type": "code",
   "execution_count": null,
   "metadata": {},
   "outputs": [],
   "source": []
  },
  {
   "cell_type": "code",
   "execution_count": null,
   "metadata": {},
   "outputs": [],
   "source": []
  },
  {
   "cell_type": "code",
   "execution_count": 11,
   "metadata": {},
   "outputs": [],
   "source": [
    "@taylorize function car!(dx, x, p, t)\n",
    "    p, v, u = x\n",
    "    dx[1] = p + v\n",
    "    dx[2] = v + 0.0015u - 0.0025 * cos(3p)\n",
    "    dx[3] = zero(u)\n",
    "\n",
    "    return dx\n",
    "end\n",
    "\n",
    "X₀ = Hyperrectangle(low=[-0.41, 0], high=[-0.4, 0])\n",
    "U₀ = Universe(1)\n",
    "prob = @ivp(x' = car!(x), dim: 3, x(0) ∈ X₀ × U₀)\n",
    "vars_idx = Dict(:state_vars=>1:2, :input_vars=>[], :control_vars=>[3]);"
   ]
  },
  {
   "cell_type": "code",
   "execution_count": 12,
   "metadata": {},
   "outputs": [
    {
     "ename": "LoadError",
     "evalue": "MethodError: no method matching _solve(::ControlledPlant{BlackBoxContinuousSystem{typeof(car!)},CartesianProduct{Float64,Hyperrectangle{Float64,Array{Float64,1},Array{Float64,1}},Universe{Float64}},InitialValueProblem{BlackBoxContinuousSystem{typeof(car!)},CartesianProduct{Float64,Hyperrectangle{Float64,Array{Float64,1},Array{Float64,1}},Universe{Float64}}},AbstractArray{T,1} where T}, ::TMJets{Float64,ZonotopeEnclosure}, ::String, ::IntervalArithmetic.Interval{Float64}, ::Float64, ::Bool, ::NeuralNetworkAnalysis.var\"#6#7\")\nClosest candidates are:\n  _solve(::ControlledPlant, ::ReachabilityAnalysis.AbstractContinuousPost, !Matched::Solver, ::IntervalArithmetic.Interval{Float64}, ::N, ::Bool, ::Function) where N at /home/sguadalupe/.julia/dev/NeuralNetworkAnalysis/src/solve.jl:137",
     "output_type": "error",
     "traceback": [
      "MethodError: no method matching _solve(::ControlledPlant{BlackBoxContinuousSystem{typeof(car!)},CartesianProduct{Float64,Hyperrectangle{Float64,Array{Float64,1},Array{Float64,1}},Universe{Float64}},InitialValueProblem{BlackBoxContinuousSystem{typeof(car!)},CartesianProduct{Float64,Hyperrectangle{Float64,Array{Float64,1},Array{Float64,1}},Universe{Float64}}},AbstractArray{T,1} where T}, ::TMJets{Float64,ZonotopeEnclosure}, ::String, ::IntervalArithmetic.Interval{Float64}, ::Float64, ::Bool, ::NeuralNetworkAnalysis.var\"#6#7\")\nClosest candidates are:\n  _solve(::ControlledPlant, ::ReachabilityAnalysis.AbstractContinuousPost, !Matched::Solver, ::IntervalArithmetic.Interval{Float64}, ::N, ::Bool, ::Function) where N at /home/sguadalupe/.julia/dev/NeuralNetworkAnalysis/src/solve.jl:137",
      "",
      "Stacktrace:",
      " [1] solve(::ControlledPlant{BlackBoxContinuousSystem{typeof(car!)},CartesianProduct{Float64,Hyperrectangle{Float64,Array{Float64,1},Array{Float64,1}},Universe{Float64}},InitialValueProblem{BlackBoxContinuousSystem{typeof(car!)},CartesianProduct{Float64,Hyperrectangle{Float64,Array{Float64,1},Array{Float64,1}},Universe{Float64}}},AbstractArray{T,1} where T}; kwargs::Base.Iterators.Pairs{Symbol,Any,NTuple{4,Symbol},NamedTuple{(:T, :Tsample, :alg_nn, :alg),Tuple{Float64,Float64,String,TMJets{Float64,ZonotopeEnclosure}}}}) at /home/sguadalupe/.julia/dev/NeuralNetworkAnalysis/src/solve.jl:111",
      " [2] top-level scope at ./timing.jl:174 [inlined]",
      " [3] top-level scope at ./In[12]:0",
      " [4] include_string(::Function, ::Module, ::String, ::String) at ./loading.jl:1091"
     ]
    }
   ],
   "source": [
    "plant = ControlledPlant(prob, nnet, vars_idx);\n",
    "alg = TMJets(abs_tol=1e-9, orderT=8, orderQ=1)\n",
    "solver = \"hybrid\"\n",
    "\n",
    "@time sol = NNA.solve(plant, T=0.6, Tsample=0.2, alg_nn=solver, alg=alg)\n",
    "#solz = overapproximate(sol, Zonotope);"
   ]
  },
  {
   "cell_type": "code",
   "execution_count": 13,
   "metadata": {},
   "outputs": [
    {
     "data": {
      "text/plain": [
       "1-element Array{CartesianProductArray{Float64,Interval{Float64,IntervalArithmetic.Interval{Float64}}},1}:\n",
       " CartesianProductArray{Float64,Interval{Float64,IntervalArithmetic.Interval{Float64}}}(Interval{Float64,IntervalArithmetic.Interval{Float64}}[Interval{Float64,IntervalArithmetic.Interval{Float64}}([-0.783394, -0.544671])])"
      ]
     },
     "execution_count": 13,
     "metadata": {},
     "output_type": "execute_result"
    }
   ],
   "source": [
    "sol"
   ]
  },
  {
   "cell_type": "code",
   "execution_count": null,
   "metadata": {},
   "outputs": [],
   "source": []
  }
 ],
 "metadata": {
  "kernelspec": {
   "display_name": "Julia 1.5.0-rc1",
   "language": "julia",
   "name": "julia-1.5"
  },
  "language_info": {
   "file_extension": ".jl",
   "mimetype": "application/julia",
   "name": "julia",
   "version": "1.5.0"
  }
 },
 "nbformat": 4,
 "nbformat_minor": 4
}
