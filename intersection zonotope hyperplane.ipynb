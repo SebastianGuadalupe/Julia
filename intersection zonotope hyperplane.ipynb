{
 "cells": [
  {
   "cell_type": "markdown",
   "metadata": {},
   "source": [
    "## Reference: https://tel.archives-ouvertes.fr/tel-00422569v2/document p.115"
   ]
  },
  {
   "cell_type": "code",
   "execution_count": null,
   "metadata": {},
   "outputs": [],
   "source": [
    "using Revise, LazySets, Plots#, ReachabilityAnalysis"
   ]
  },
  {
   "cell_type": "code",
   "execution_count": null,
   "metadata": {},
   "outputs": [],
   "source": [
    "using LazySets: center, _above, normalize\n",
    "function BOUND_INTERSECT_2D(Z::AbstractZonotope, L::Line2D) # 8.2\n",
    "    c = center(Z)\n",
    "    P = copy(c)\n",
    "    gens = genmat(Z)\n",
    "    r = ngens(Z)\n",
    "    for gi in [gens[:, x] for x in 1:r]\n",
    "        if(gi[2] > 0 || (gi[2] == 0 && gi[1] > 0))\n",
    "            gi = -gi\n",
    "        end\n",
    "        P = P - gi\n",
    "    end\n",
    "    gens = sortslices(gens, dims=2, by=x->atan(x[2], x[1])) # sort gens\n",
    "    if P[1] > L.b\n",
    "        gens = gens[:,end:-1:1]\n",
    "    end\n",
    "    j = 1\n",
    "    while isempty(intersection(Line2D(P, P.+2gens[:, j]), L))\n",
    "        P = P + gens[:, j]\n",
    "        j += 1\n",
    "    end\n",
    "    vec = intersection(Line2D(P, P.+2gens[:, j]), L)\n",
    "    return vec\n",
    "end"
   ]
  },
  {
   "cell_type": "code",
   "execution_count": null,
   "metadata": {},
   "outputs": [],
   "source": [
    "Z = rand(Zonotope, num_generators=5)\n",
    "L = Line2D([0, 0.], [0, 1.])\n",
    "i = BOUND_INTERSECT_2D(Z, L)\n",
    "plot(Z)\n",
    "plot!(L)\n",
    "plot!(i)"
   ]
  },
  {
   "cell_type": "code",
   "execution_count": null,
   "metadata": {},
   "outputs": [],
   "source": [
    "function intersec(Z::AbstractZonotope{N}, L::Line2D) where {N} # 8.3\n",
    "    c = center(Z)\n",
    "    P = copy(c)\n",
    "    gens = genmat(Z)\n",
    "    r = ngens(Z)\n",
    "    for gi in [gens[:, x] for x in 1:r]\n",
    "        if(gi[2] > 0 || (gi[2] == 0 && gi[1] > 0))\n",
    "            gi = -gi\n",
    "        end\n",
    "        P = P - gi\n",
    "    end\n",
    "    G = Vector{Vector{N}}(undef, 0)\n",
    "    if(P[1] < L.b)\n",
    "        for gi in [gens[:, x] for x in 1:r]\n",
    "            if(gi[1] >= 0)\n",
    "                push!(G, gi)\n",
    "            end\n",
    "        end\n",
    "    else\n",
    "        for gi in [gens[:, x] for x in 1:r]\n",
    "            if(gi[1] <= 0)\n",
    "                push!(G, gi)\n",
    "            end\n",
    "        end\n",
    "    end\n",
    "    s = sum(G)\n",
    "    \n",
    "    while length(G) > 1\n",
    "        G1 = Vector{Vector{N}}(undef, 0)\n",
    "        G2 = copy(G1)\n",
    "        for gi in G\n",
    "            if _above(gi, s, [0, 1])\n",
    "                push!(G1, gi)\n",
    "            else\n",
    "                push!(G2, gi)\n",
    "            end\n",
    "        end\n",
    "        s1 = 2 * sum(G1)\n",
    "        if !isempty(intersection(Line2D(P, P.+s1), L))\n",
    "            G = G1\n",
    "            s = s1\n",
    "        else\n",
    "            G = G2\n",
    "            s = s - s1\n",
    "            P = P + s1\n",
    "        end\n",
    "        break\n",
    "    end\n",
    "    vec = intersection(Line2D(P, P.+s), L)\n",
    "end"
   ]
  },
  {
   "cell_type": "code",
   "execution_count": null,
   "metadata": {},
   "outputs": [],
   "source": [
    "i2 = intersec(Z, L)"
   ]
  },
  {
   "cell_type": "code",
   "execution_count": null,
   "metadata": {
    "scrolled": false
   },
   "outputs": [],
   "source": [
    "plot(Z)\n",
    "plot!(L)\n",
    "plot!(i2)"
   ]
  },
  {
   "cell_type": "code",
   "execution_count": null,
   "metadata": {},
   "outputs": [],
   "source": []
  },
  {
   "cell_type": "code",
   "execution_count": null,
   "metadata": {},
   "outputs": [],
   "source": []
  },
  {
   "cell_type": "code",
   "execution_count": null,
   "metadata": {},
   "outputs": [],
   "source": []
  },
  {
   "cell_type": "code",
   "execution_count": null,
   "metadata": {},
   "outputs": [],
   "source": []
  },
  {
   "cell_type": "code",
   "execution_count": null,
   "metadata": {},
   "outputs": [],
   "source": []
  },
  {
   "cell_type": "code",
   "execution_count": null,
   "metadata": {},
   "outputs": [],
   "source": []
  },
  {
   "cell_type": "code",
   "execution_count": null,
   "metadata": {},
   "outputs": [],
   "source": [
    "using ModelingToolkit"
   ]
  },
  {
   "cell_type": "code",
   "execution_count": null,
   "metadata": {},
   "outputs": [],
   "source": [
    "Z = rand(Zonotope)"
   ]
  },
  {
   "cell_type": "code",
   "execution_count": null,
   "metadata": {},
   "outputs": [],
   "source": [
    "ρ([0, 1.], Z)"
   ]
  },
  {
   "cell_type": "code",
   "execution_count": null,
   "metadata": {},
   "outputs": [],
   "source": [
    "σ([0, 1.], Z)"
   ]
  },
  {
   "cell_type": "code",
   "execution_count": null,
   "metadata": {},
   "outputs": [],
   "source": [
    "vars = @variables x y"
   ]
  },
  {
   "cell_type": "code",
   "execution_count": null,
   "metadata": {
    "scrolled": true
   },
   "outputs": [],
   "source": [
    "H = HalfSpace(x >= y, vars)"
   ]
  },
  {
   "cell_type": "code",
   "execution_count": null,
   "metadata": {},
   "outputs": [],
   "source": [
    "plot(Z, ratio=1)\n",
    "plot!(H)\n",
    "plot!(LineSegment([0, 0.], -H.a))"
   ]
  },
  {
   "cell_type": "code",
   "execution_count": null,
   "metadata": {},
   "outputs": [],
   "source": [
    "dirs = collect(BoxDirections(2))"
   ]
  },
  {
   "cell_type": "code",
   "execution_count": null,
   "metadata": {},
   "outputs": [],
   "source": []
  },
  {
   "cell_type": "code",
   "execution_count": null,
   "metadata": {},
   "outputs": [],
   "source": []
  },
  {
   "cell_type": "code",
   "execution_count": null,
   "metadata": {},
   "outputs": [],
   "source": [
    "function inter(Z::Zonotope{N}, H::HalfSpace{N}) where {N}\n",
    "    n = dim(Z)\n",
    "    if ρ(-H.a, Z) < H.b\n",
    "        return false\n",
    "    end\n",
    "    gens = Vector{Vector{N}}(undef, 2n)#Matrix{N}(undef, n, 2n)\n",
    "    dirs = [H.a, -H.a, [-1 0; 0 1.] * H.a, [1 0; 0 -1.] * -H.a]\n",
    "    for i=1:2n\n",
    "        gens[i] = σ(dirs[i], Z)\n",
    "    end\n",
    "    return gens\n",
    "end"
   ]
  },
  {
   "cell_type": "code",
   "execution_count": null,
   "metadata": {},
   "outputs": [],
   "source": [
    "inter(Z, H)"
   ]
  },
  {
   "cell_type": "code",
   "execution_count": null,
   "metadata": {},
   "outputs": [],
   "source": [
    "plot(Z, ratio=1)\n",
    "plot!(H)\n",
    "plot!(LineSegment([0, 0.], -H.a))\n",
    "plot!([Singleton(inter(Z, H)[i]) for i in 1:4])"
   ]
  },
  {
   "cell_type": "code",
   "execution_count": null,
   "metadata": {},
   "outputs": [],
   "source": [
    "Z = rand(Zonotope)"
   ]
  },
  {
   "cell_type": "code",
   "execution_count": null,
   "metadata": {},
   "outputs": [],
   "source": [
    "constraints_list(Z)"
   ]
  },
  {
   "cell_type": "code",
   "execution_count": null,
   "metadata": {},
   "outputs": [],
   "source": [
    "function inters(Z, H)\n",
    "    constraints = constraints_list(Z)\n",
    "    push!(constraints, H)\n",
    "    return overapproximate(HPolyhedron(constraints), Zonotope, BoxDirections(dim(Z)))\n",
    "end\n",
    "\n",
    "function inters_v2(Z, H)\n",
    "    n = dim(Z)\n",
    "    for i = 1:n\n",
    "        high = max(intersection())\n",
    "    end\n",
    "    return \n",
    "end"
   ]
  },
  {
   "cell_type": "code",
   "execution_count": null,
   "metadata": {},
   "outputs": [],
   "source": [
    "plot(Z, ratio=1)\n",
    "plot!(H)\n",
    "plot!(inters(Z, H), label=\"intersection\")"
   ]
  },
  {
   "cell_type": "code",
   "execution_count": null,
   "metadata": {},
   "outputs": [],
   "source": [
    "using BenchmarkTools\n",
    "@btime constraints_list(Z)\n",
    "@btime inters($Z, $H)"
   ]
  },
  {
   "cell_type": "code",
   "execution_count": null,
   "metadata": {},
   "outputs": [],
   "source": [
    "using LazySets: set\n",
    "function _overapproximate(P::Poly, ::Type{<:Zonotope}) where {Poly<:AbstractPolytope}\n",
    "    n = dim(P)\n",
    "    j = 1\n",
    "    p = Vector{Poly}(undef, Int(floor(n/2)))\n",
    "    for i=1:2:n-1\n",
    "        p[j] = set(Projection(P, [i, i+1]))\n",
    "        j += 1\n",
    "    end\n",
    "    dirs = OctDirections(n)\n",
    "    if !iseven(n)\n",
    "        push!(p, set(Projection(P, [n])))\n",
    "    end\n",
    "    Z = [overapproximate(poly, Zonotope, dirs) for poly in p]\n",
    "    Z = reduce(×, Z)\n",
    "    return Z\n",
    "end"
   ]
  },
  {
   "cell_type": "code",
   "execution_count": null,
   "metadata": {},
   "outputs": [],
   "source": [
    "P = rand(VPolytope, dim=10);"
   ]
  },
  {
   "cell_type": "code",
   "execution_count": null,
   "metadata": {},
   "outputs": [],
   "source": [
    "Z = _overapproximate(P, Zonotope);"
   ]
  },
  {
   "cell_type": "code",
   "execution_count": null,
   "metadata": {},
   "outputs": [],
   "source": [
    "plot(Projection(P, vars=(1, 2)))\n",
    "plot!(Projection(_overapproximate(P, Zonotope), vars=(1, 2)))"
   ]
  },
  {
   "cell_type": "code",
   "execution_count": null,
   "metadata": {},
   "outputs": [],
   "source": [
    "using BenchmarkTools"
   ]
  },
  {
   "cell_type": "code",
   "execution_count": null,
   "metadata": {},
   "outputs": [],
   "source": [
    "@btime _overapproximate($P, Zonotope);"
   ]
  },
  {
   "cell_type": "code",
   "execution_count": null,
   "metadata": {},
   "outputs": [],
   "source": [
    "@btime overapproximate($P, Zonotope, $OctDirections(10));"
   ]
  },
  {
   "cell_type": "code",
   "execution_count": null,
   "metadata": {},
   "outputs": [],
   "source": []
  }
 ],
 "metadata": {
  "kernelspec": {
   "display_name": "Julia 1.4.0",
   "language": "julia",
   "name": "julia-1.4"
  },
  "language_info": {
   "file_extension": ".jl",
   "mimetype": "application/julia",
   "name": "julia",
   "version": "1.4.0"
  }
 },
 "nbformat": 4,
 "nbformat_minor": 4
}
