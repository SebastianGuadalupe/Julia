{
 "cells": [
  {
   "cell_type": "code",
   "execution_count": 1,
   "metadata": {
    "collapsed": true
   },
   "outputs": [
    {
     "name": "stderr",
     "output_type": "stream",
     "text": [
      "┌ Info: Precompiling LazySets [b4f0291d-fe17-52bc-9479-3d1a343d9043]\n",
      "└ @ Base loading.jl:1260\n",
      "┌ Info: Precompiling ReachabilityAnalysis [1e97bd63-91d1-579d-8e8d-501d2b57c93f]\n",
      "└ @ Base loading.jl:1260\n",
      "┌ Warning: Replacing docs for `LazySets.Hyperplane :: Union{Tuple{Operation}, Tuple{Operation,Any}}` in module `LazySets`\n",
      "└ @ Base.Docs docs/Docs.jl:229\n",
      "┌ Warning: Replacing docs for `LazySets.HalfSpace :: Union{Tuple{Operation}, Tuple{Operation,Any}}` in module `LazySets`\n",
      "└ @ Base.Docs docs/Docs.jl:229\n",
      "┌ Warning: Replacing docs for `LazySets.Approximations.overapproximate :: Union{Tuple{S}, Tuple{T}, Tuple{Array{TaylorModels.TaylorModel1{T,S},1},Type{#s50} where #s50<:Zonotope}} where S where T` in module `LazySets.Approximations`\n",
      "└ @ Base.Docs docs/Docs.jl:229\n",
      "┌ Warning: Replacing docs for `LazySets.Approximations.overapproximate :: Union{Tuple{S}, Tuple{T}, Tuple{N}, Tuple{Array{TaylorModels.TaylorModelN{N,T,S},1},Type{#s48} where #s48<:Zonotope}} where S where T where N` in module `LazySets.Approximations`\n",
      "└ @ Base.Docs docs/Docs.jl:229\n",
      "┌ Warning: Replacing docs for `LazySets.Approximations.overapproximate :: Union{Tuple{NM}, Tuple{N}, Tuple{LinearMap{N,#s44,NM,#s43} where #s43<:AbstractIntervalMatrix{NM} where #s44<:AbstractZonotope{N},Type{#s42} where #s42<:Zonotope}} where NM where N<:Real` in module `LazySets.Approximations`\n",
      "└ @ Base.Docs docs/Docs.jl:229\n",
      "┌ Warning: Replacing docs for `LazySets.Hyperplane :: Union{Tuple{Operation}, Tuple{Operation,Any}}` in module `ReachabilityAnalysis`\n",
      "└ @ Base.Docs docs/Docs.jl:229\n",
      "┌ Warning: Replacing docs for `LazySets.HalfSpace :: Union{Tuple{Operation}, Tuple{Operation,Any}}` in module `ReachabilityAnalysis`\n",
      "└ @ Base.Docs docs/Docs.jl:229\n"
     ]
    }
   ],
   "source": [
    "using Revise, LazySets, Plots, ReachabilityAnalysis"
   ]
  },
  {
   "cell_type": "code",
   "execution_count": 39,
   "metadata": {},
   "outputs": [
    {
     "data": {
      "text/plain": [
       "BOUND_INTERSECT_2D (generic function with 1 method)"
      ]
     },
     "execution_count": 39,
     "metadata": {},
     "output_type": "execute_result"
    }
   ],
   "source": [
    "using LazySets: center, _above, normalize\n",
    "function BOUND_INTERSECT_2D(Z::AbstractZonotope, L::Line2D)\n",
    "    c = center(Z)\n",
    "    P = copy(c)\n",
    "    gens = genmat(Z)\n",
    "    r = ngens(Z)\n",
    "    for gi in [gens[:, x] for x in 1:r]\n",
    "        if(gi[2] > 0 || (gi[2] == 0 && gi[1] > 0))\n",
    "            gi = -gi\n",
    "        end\n",
    "        P = P - gi\n",
    "    end\n",
    "    # SORT?\n",
    "    j = 1\n",
    "    while isempty(intersection(Line2D(P, P.+2gens[:, j]), L))\n",
    "        P = P + gens[:, j]\n",
    "        j += 1\n",
    "    end\n",
    "    vec = intersection(Line2D(P, P.+2gens[:, j]), L)\n",
    "    return vec\n",
    "end"
   ]
  },
  {
   "cell_type": "code",
   "execution_count": 40,
   "metadata": {},
   "outputs": [
    {
     "data": {
      "text/plain": [
       "Line2D{Float64,Array{Float64,1}}([-3.0, 1.0], 0.0)"
      ]
     },
     "execution_count": 40,
     "metadata": {},
     "output_type": "execute_result"
    }
   ],
   "source": [
    "Z = rand(Zonotope, num_generators=20)\n",
    "L = Line2D([0, 0.], [1, 3.])"
   ]
  },
  {
   "cell_type": "code",
   "execution_count": 41,
   "metadata": {},
   "outputs": [
    {
     "data": {
      "text/plain": [
       "Singleton{Float64,Array{Float64,1}}([8.207173520357923, 24.621520561073773])"
      ]
     },
     "execution_count": 41,
     "metadata": {},
     "output_type": "execute_result"
    }
   ],
   "source": [
    "i = BOUND_INTERSECT_2D(Z, L)"
   ]
  },
  {
   "cell_type": "code",
   "execution_count": 42,
   "metadata": {},
   "outputs": [
    {
     "data": {
      "image/svg+xml": [
       "<?xml version=\"1.0\" encoding=\"utf-8\"?>\n",
       "<svg xmlns=\"http://www.w3.org/2000/svg\" xmlns:xlink=\"http://www.w3.org/1999/xlink\" width=\"600\" height=\"400\" viewBox=\"0 0 2400 1600\">\n",
       "<defs>\n",
       "  <clipPath id=\"clip060\">\n",
       "    <rect x=\"0\" y=\"0\" width=\"2400\" height=\"1600\"/>\n",
       "  </clipPath>\n",
       "</defs>\n",
       "<path clip-path=\"url(#clip060)\" d=\"\n",
       "M0 1600 L2400 1600 L2400 0 L0 0  Z\n",
       "  \" fill=\"#ffffff\" fill-rule=\"evenodd\" fill-opacity=\"1\"/>\n",
       "<defs>\n",
       "  <clipPath id=\"clip061\">\n",
       "    <rect x=\"480\" y=\"0\" width=\"1681\" height=\"1600\"/>\n",
       "  </clipPath>\n",
       "</defs>\n",
       "<path clip-path=\"url(#clip060)\" d=\"\n",
       "M152.27 1486.45 L2352.76 1486.45 L2352.76 47.2441 L152.27 47.2441  Z\n",
       "  \" fill=\"#ffffff\" fill-rule=\"evenodd\" fill-opacity=\"1\"/>\n",
       "<defs>\n",
       "  <clipPath id=\"clip062\">\n",
       "    <rect x=\"152\" y=\"47\" width=\"2201\" height=\"1440\"/>\n",
       "  </clipPath>\n",
       "</defs>\n",
       "<polyline clip-path=\"url(#clip062)\" style=\"stroke:#000000; stroke-width:2; stroke-opacity:0.1; fill:none\" points=\"\n",
       "  414.021,1486.45 414.021,47.2441 \n",
       "  \"/>\n",
       "<polyline clip-path=\"url(#clip062)\" style=\"stroke:#000000; stroke-width:2; stroke-opacity:0.1; fill:none\" points=\"\n",
       "  718.343,1486.45 718.343,47.2441 \n",
       "  \"/>\n",
       "<polyline clip-path=\"url(#clip062)\" style=\"stroke:#000000; stroke-width:2; stroke-opacity:0.1; fill:none\" points=\"\n",
       "  1022.66,1486.45 1022.66,47.2441 \n",
       "  \"/>\n",
       "<polyline clip-path=\"url(#clip062)\" style=\"stroke:#000000; stroke-width:2; stroke-opacity:0.1; fill:none\" points=\"\n",
       "  1326.99,1486.45 1326.99,47.2441 \n",
       "  \"/>\n",
       "<polyline clip-path=\"url(#clip062)\" style=\"stroke:#000000; stroke-width:2; stroke-opacity:0.1; fill:none\" points=\"\n",
       "  1631.31,1486.45 1631.31,47.2441 \n",
       "  \"/>\n",
       "<polyline clip-path=\"url(#clip062)\" style=\"stroke:#000000; stroke-width:2; stroke-opacity:0.1; fill:none\" points=\"\n",
       "  1935.63,1486.45 1935.63,47.2441 \n",
       "  \"/>\n",
       "<polyline clip-path=\"url(#clip062)\" style=\"stroke:#000000; stroke-width:2; stroke-opacity:0.1; fill:none\" points=\"\n",
       "  2239.95,1486.45 2239.95,47.2441 \n",
       "  \"/>\n",
       "<polyline clip-path=\"url(#clip062)\" style=\"stroke:#000000; stroke-width:2; stroke-opacity:0.1; fill:none\" points=\"\n",
       "  152.27,1179.81 2352.76,1179.81 \n",
       "  \"/>\n",
       "<polyline clip-path=\"url(#clip062)\" style=\"stroke:#000000; stroke-width:2; stroke-opacity:0.1; fill:none\" points=\"\n",
       "  152.27,872.477 2352.76,872.477 \n",
       "  \"/>\n",
       "<polyline clip-path=\"url(#clip062)\" style=\"stroke:#000000; stroke-width:2; stroke-opacity:0.1; fill:none\" points=\"\n",
       "  152.27,565.145 2352.76,565.145 \n",
       "  \"/>\n",
       "<polyline clip-path=\"url(#clip062)\" style=\"stroke:#000000; stroke-width:2; stroke-opacity:0.1; fill:none\" points=\"\n",
       "  152.27,257.812 2352.76,257.812 \n",
       "  \"/>\n",
       "<polyline clip-path=\"url(#clip060)\" style=\"stroke:#000000; stroke-width:4; stroke-opacity:1; fill:none\" points=\"\n",
       "  152.27,1486.45 2352.76,1486.45 \n",
       "  \"/>\n",
       "<polyline clip-path=\"url(#clip060)\" style=\"stroke:#000000; stroke-width:4; stroke-opacity:1; fill:none\" points=\"\n",
       "  152.27,1486.45 152.27,47.2441 \n",
       "  \"/>\n",
       "<polyline clip-path=\"url(#clip060)\" style=\"stroke:#000000; stroke-width:4; stroke-opacity:1; fill:none\" points=\"\n",
       "  414.021,1486.45 414.021,1469.18 \n",
       "  \"/>\n",
       "<polyline clip-path=\"url(#clip060)\" style=\"stroke:#000000; stroke-width:4; stroke-opacity:1; fill:none\" points=\"\n",
       "  718.343,1486.45 718.343,1469.18 \n",
       "  \"/>\n",
       "<polyline clip-path=\"url(#clip060)\" style=\"stroke:#000000; stroke-width:4; stroke-opacity:1; fill:none\" points=\"\n",
       "  1022.66,1486.45 1022.66,1469.18 \n",
       "  \"/>\n",
       "<polyline clip-path=\"url(#clip060)\" style=\"stroke:#000000; stroke-width:4; stroke-opacity:1; fill:none\" points=\"\n",
       "  1326.99,1486.45 1326.99,1469.18 \n",
       "  \"/>\n",
       "<polyline clip-path=\"url(#clip060)\" style=\"stroke:#000000; stroke-width:4; stroke-opacity:1; fill:none\" points=\"\n",
       "  1631.31,1486.45 1631.31,1469.18 \n",
       "  \"/>\n",
       "<polyline clip-path=\"url(#clip060)\" style=\"stroke:#000000; stroke-width:4; stroke-opacity:1; fill:none\" points=\"\n",
       "  1935.63,1486.45 1935.63,1469.18 \n",
       "  \"/>\n",
       "<polyline clip-path=\"url(#clip060)\" style=\"stroke:#000000; stroke-width:4; stroke-opacity:1; fill:none\" points=\"\n",
       "  2239.95,1486.45 2239.95,1469.18 \n",
       "  \"/>\n",
       "<polyline clip-path=\"url(#clip060)\" style=\"stroke:#000000; stroke-width:4; stroke-opacity:1; fill:none\" points=\"\n",
       "  152.27,1179.81 178.675,1179.81 \n",
       "  \"/>\n",
       "<polyline clip-path=\"url(#clip060)\" style=\"stroke:#000000; stroke-width:4; stroke-opacity:1; fill:none\" points=\"\n",
       "  152.27,872.477 178.675,872.477 \n",
       "  \"/>\n",
       "<polyline clip-path=\"url(#clip060)\" style=\"stroke:#000000; stroke-width:4; stroke-opacity:1; fill:none\" points=\"\n",
       "  152.27,565.145 178.675,565.145 \n",
       "  \"/>\n",
       "<polyline clip-path=\"url(#clip060)\" style=\"stroke:#000000; stroke-width:4; stroke-opacity:1; fill:none\" points=\"\n",
       "  152.27,257.812 178.675,257.812 \n",
       "  \"/>\n",
       "<path clip-path=\"url(#clip060)\" d=\"M 0 0 M381.879 1525.04 L394.356 1525.04 L394.356 1528.83 L381.879 1528.83 L381.879 1525.04 Z\" fill=\"#000000\" fill-rule=\"evenodd\" fill-opacity=\"1\" /><path clip-path=\"url(#clip060)\" d=\"M 0 0 M400.236 1535.98 L407.875 1535.98 L407.875 1509.62 L399.565 1511.29 L399.565 1507.03 L407.828 1505.36 L412.504 1505.36 L412.504 1535.98 L420.143 1535.98 L420.143 1539.92 L400.236 1539.92 L400.236 1535.98 Z\" fill=\"#000000\" fill-rule=\"evenodd\" fill-opacity=\"1\" /><path clip-path=\"url(#clip060)\" d=\"M 0 0 M425.259 1505.36 L443.615 1505.36 L443.615 1509.3 L429.541 1509.3 L429.541 1517.77 Q430.56 1517.42 431.578 1517.26 Q432.597 1517.07 433.615 1517.07 Q439.402 1517.07 442.782 1520.24 Q446.162 1523.42 446.162 1528.83 Q446.162 1534.41 442.689 1537.51 Q439.217 1540.59 432.898 1540.59 Q430.722 1540.59 428.453 1540.22 Q426.208 1539.85 423.801 1539.11 L423.801 1534.41 Q425.884 1535.54 428.106 1536.1 Q430.328 1536.66 432.805 1536.66 Q436.81 1536.66 439.148 1534.55 Q441.486 1532.44 441.486 1528.83 Q441.486 1525.22 439.148 1523.11 Q436.81 1521.01 432.805 1521.01 Q430.93 1521.01 429.055 1521.42 Q427.203 1521.84 425.259 1522.72 L425.259 1505.36 Z\" fill=\"#000000\" fill-rule=\"evenodd\" fill-opacity=\"1\" /><path clip-path=\"url(#clip060)\" d=\"M 0 0 M685.704 1525.04 L698.181 1525.04 L698.181 1528.83 L685.704 1528.83 L685.704 1525.04 Z\" fill=\"#000000\" fill-rule=\"evenodd\" fill-opacity=\"1\" /><path clip-path=\"url(#clip060)\" d=\"M 0 0 M704.06 1535.98 L711.699 1535.98 L711.699 1509.62 L703.389 1511.29 L703.389 1507.03 L711.653 1505.36 L716.329 1505.36 L716.329 1535.98 L723.968 1535.98 L723.968 1539.92 L704.06 1539.92 L704.06 1535.98 Z\" fill=\"#000000\" fill-rule=\"evenodd\" fill-opacity=\"1\" /><path clip-path=\"url(#clip060)\" d=\"M 0 0 M739.037 1508.44 Q735.426 1508.44 733.597 1512 Q731.792 1515.55 731.792 1522.67 Q731.792 1529.78 733.597 1533.35 Q735.426 1536.89 739.037 1536.89 Q742.671 1536.89 744.477 1533.35 Q746.305 1529.78 746.305 1522.67 Q746.305 1515.55 744.477 1512 Q742.671 1508.44 739.037 1508.44 M739.037 1504.73 Q744.847 1504.73 747.903 1509.34 Q750.981 1513.92 750.981 1522.67 Q750.981 1531.4 747.903 1536.01 Q744.847 1540.59 739.037 1540.59 Q733.227 1540.59 730.148 1536.01 Q727.093 1531.4 727.093 1522.67 Q727.093 1513.92 730.148 1509.34 Q733.227 1504.73 739.037 1504.73 Z\" fill=\"#000000\" fill-rule=\"evenodd\" fill-opacity=\"1\" /><path clip-path=\"url(#clip060)\" d=\"M 0 0 M1003.42 1525.04 L1015.89 1525.04 L1015.89 1528.83 L1003.42 1528.83 L1003.42 1525.04 Z\" fill=\"#000000\" fill-rule=\"evenodd\" fill-opacity=\"1\" /><path clip-path=\"url(#clip060)\" d=\"M 0 0 M1021.01 1505.36 L1039.37 1505.36 L1039.37 1509.3 L1025.29 1509.3 L1025.29 1517.77 Q1026.31 1517.42 1027.33 1517.26 Q1028.35 1517.07 1029.37 1517.07 Q1035.15 1517.07 1038.53 1520.24 Q1041.91 1523.42 1041.91 1528.83 Q1041.91 1534.41 1038.44 1537.51 Q1034.97 1540.59 1028.65 1540.59 Q1026.47 1540.59 1024.2 1540.22 Q1021.96 1539.85 1019.55 1539.11 L1019.55 1534.41 Q1021.63 1535.54 1023.86 1536.1 Q1026.08 1536.66 1028.56 1536.66 Q1032.56 1536.66 1034.9 1534.55 Q1037.24 1532.44 1037.24 1528.83 Q1037.24 1525.22 1034.9 1523.11 Q1032.56 1521.01 1028.56 1521.01 Q1026.68 1521.01 1024.81 1521.42 Q1022.95 1521.84 1021.01 1522.72 L1021.01 1505.36 Z\" fill=\"#000000\" fill-rule=\"evenodd\" fill-opacity=\"1\" /><path clip-path=\"url(#clip060)\" d=\"M 0 0 M1326.99 1508.44 Q1323.38 1508.44 1321.55 1512 Q1319.74 1515.55 1319.74 1522.67 Q1319.74 1529.78 1321.55 1533.35 Q1323.38 1536.89 1326.99 1536.89 Q1330.62 1536.89 1332.43 1533.35 Q1334.26 1529.78 1334.26 1522.67 Q1334.26 1515.55 1332.43 1512 Q1330.62 1508.44 1326.99 1508.44 M1326.99 1504.73 Q1332.8 1504.73 1335.85 1509.34 Q1338.93 1513.92 1338.93 1522.67 Q1338.93 1531.4 1335.85 1536.01 Q1332.8 1540.59 1326.99 1540.59 Q1321.18 1540.59 1318.1 1536.01 Q1315.04 1531.4 1315.04 1522.67 Q1315.04 1513.92 1318.1 1509.34 Q1321.18 1504.73 1326.99 1504.73 Z\" fill=\"#000000\" fill-rule=\"evenodd\" fill-opacity=\"1\" /><path clip-path=\"url(#clip060)\" d=\"M 0 0 M1621.59 1505.36 L1639.94 1505.36 L1639.94 1509.3 L1625.87 1509.3 L1625.87 1517.77 Q1626.89 1517.42 1627.91 1517.26 Q1628.92 1517.07 1629.94 1517.07 Q1635.73 1517.07 1639.11 1520.24 Q1642.49 1523.42 1642.49 1528.83 Q1642.49 1534.41 1639.02 1537.51 Q1635.54 1540.59 1629.23 1540.59 Q1627.05 1540.59 1624.78 1540.22 Q1622.54 1539.85 1620.13 1539.11 L1620.13 1534.41 Q1622.21 1535.54 1624.43 1536.1 Q1626.66 1536.66 1629.13 1536.66 Q1633.14 1536.66 1635.48 1534.55 Q1637.81 1532.44 1637.81 1528.83 Q1637.81 1525.22 1635.48 1523.11 Q1633.14 1521.01 1629.13 1521.01 Q1627.26 1521.01 1625.38 1521.42 Q1623.53 1521.84 1621.59 1522.72 L1621.59 1505.36 Z\" fill=\"#000000\" fill-rule=\"evenodd\" fill-opacity=\"1\" /><path clip-path=\"url(#clip060)\" d=\"M 0 0 M1912.51 1535.98 L1920.14 1535.98 L1920.14 1509.62 L1911.83 1511.29 L1911.83 1507.03 L1920.1 1505.36 L1924.77 1505.36 L1924.77 1535.98 L1932.41 1535.98 L1932.41 1539.92 L1912.51 1539.92 L1912.51 1535.98 Z\" fill=\"#000000\" fill-rule=\"evenodd\" fill-opacity=\"1\" /><path clip-path=\"url(#clip060)\" d=\"M 0 0 M1947.48 1508.44 Q1943.87 1508.44 1942.04 1512 Q1940.24 1515.55 1940.24 1522.67 Q1940.24 1529.78 1942.04 1533.35 Q1943.87 1536.89 1947.48 1536.89 Q1951.12 1536.89 1952.92 1533.35 Q1954.75 1529.78 1954.75 1522.67 Q1954.75 1515.55 1952.92 1512 Q1951.12 1508.44 1947.48 1508.44 M1947.48 1504.73 Q1953.29 1504.73 1956.35 1509.34 Q1959.43 1513.92 1959.43 1522.67 Q1959.43 1531.4 1956.35 1536.01 Q1953.29 1540.59 1947.48 1540.59 Q1941.67 1540.59 1938.59 1536.01 Q1935.54 1531.4 1935.54 1522.67 Q1935.54 1513.92 1938.59 1509.34 Q1941.67 1504.73 1947.48 1504.73 Z\" fill=\"#000000\" fill-rule=\"evenodd\" fill-opacity=\"1\" /><path clip-path=\"url(#clip060)\" d=\"M 0 0 M2217.33 1535.98 L2224.96 1535.98 L2224.96 1509.62 L2216.65 1511.29 L2216.65 1507.03 L2224.92 1505.36 L2229.59 1505.36 L2229.59 1535.98 L2237.23 1535.98 L2237.23 1539.92 L2217.33 1539.92 L2217.33 1535.98 Z\" fill=\"#000000\" fill-rule=\"evenodd\" fill-opacity=\"1\" /><path clip-path=\"url(#clip060)\" d=\"M 0 0 M2242.35 1505.36 L2260.71 1505.36 L2260.71 1509.3 L2246.63 1509.3 L2246.63 1517.77 Q2247.65 1517.42 2248.67 1517.26 Q2249.69 1517.07 2250.71 1517.07 Q2256.49 1517.07 2259.87 1520.24 Q2263.25 1523.42 2263.25 1528.83 Q2263.25 1534.41 2259.78 1537.51 Q2256.31 1540.59 2249.99 1540.59 Q2247.81 1540.59 2245.54 1540.22 Q2243.3 1539.85 2240.89 1539.11 L2240.89 1534.41 Q2242.97 1535.54 2245.2 1536.1 Q2247.42 1536.66 2249.89 1536.66 Q2253.9 1536.66 2256.24 1534.55 Q2258.58 1532.44 2258.58 1528.83 Q2258.58 1525.22 2256.24 1523.11 Q2253.9 1521.01 2249.89 1521.01 Q2248.02 1521.01 2246.14 1521.42 Q2244.29 1521.84 2242.35 1522.72 L2242.35 1505.36 Z\" fill=\"#000000\" fill-rule=\"evenodd\" fill-opacity=\"1\" /><path clip-path=\"url(#clip060)\" d=\"M 0 0 M62.9921 1182.21 L75.4689 1182.21 L75.4689 1186 L62.9921 1186 L62.9921 1182.21 Z\" fill=\"#000000\" fill-rule=\"evenodd\" fill-opacity=\"1\" /><path clip-path=\"url(#clip060)\" d=\"M 0 0 M81.3485 1193.15 L88.9874 1193.15 L88.9874 1166.79 L80.6772 1168.46 L80.6772 1164.2 L88.9411 1162.53 L93.617 1162.53 L93.617 1193.15 L101.256 1193.15 L101.256 1197.09 L81.3485 1197.09 L81.3485 1193.15 Z\" fill=\"#000000\" fill-rule=\"evenodd\" fill-opacity=\"1\" /><path clip-path=\"url(#clip060)\" d=\"M 0 0 M116.325 1165.61 Q112.714 1165.61 110.885 1169.17 Q109.08 1172.72 109.08 1179.84 Q109.08 1186.95 110.885 1190.52 Q112.714 1194.06 116.325 1194.06 Q119.959 1194.06 121.765 1190.52 Q123.594 1186.95 123.594 1179.84 Q123.594 1172.72 121.765 1169.17 Q119.959 1165.61 116.325 1165.61 M116.325 1161.91 Q122.135 1161.91 125.191 1166.51 Q128.27 1171.09 128.27 1179.84 Q128.27 1188.57 125.191 1193.18 Q122.135 1197.76 116.325 1197.76 Q110.515 1197.76 107.436 1193.18 Q104.381 1188.57 104.381 1179.84 Q104.381 1171.09 107.436 1166.51 Q110.515 1161.91 116.325 1161.91 Z\" fill=\"#000000\" fill-rule=\"evenodd\" fill-opacity=\"1\" /><path clip-path=\"url(#clip060)\" d=\"M 0 0 M116.325 858.276 Q112.714 858.276 110.885 861.841 Q109.08 865.383 109.08 872.512 Q109.08 879.619 110.885 883.183 Q112.714 886.725 116.325 886.725 Q119.959 886.725 121.765 883.183 Q123.594 879.619 123.594 872.512 Q123.594 865.383 121.765 861.841 Q119.959 858.276 116.325 858.276 M116.325 854.572 Q122.135 854.572 125.191 859.179 Q128.27 863.762 128.27 872.512 Q128.27 881.239 125.191 885.845 Q122.135 890.429 116.325 890.429 Q110.515 890.429 107.436 885.845 Q104.381 881.239 104.381 872.512 Q104.381 863.762 107.436 859.179 Q110.515 854.572 116.325 854.572 Z\" fill=\"#000000\" fill-rule=\"evenodd\" fill-opacity=\"1\" /><path clip-path=\"url(#clip060)\" d=\"M 0 0 M81.3485 578.49 L88.9874 578.49 L88.9874 552.124 L80.6772 553.791 L80.6772 549.531 L88.9411 547.865 L93.617 547.865 L93.617 578.49 L101.256 578.49 L101.256 582.425 L81.3485 582.425 L81.3485 578.49 Z\" fill=\"#000000\" fill-rule=\"evenodd\" fill-opacity=\"1\" /><path clip-path=\"url(#clip060)\" d=\"M 0 0 M116.325 550.943 Q112.714 550.943 110.885 554.508 Q109.08 558.05 109.08 565.179 Q109.08 572.286 110.885 575.851 Q112.714 579.392 116.325 579.392 Q119.959 579.392 121.765 575.851 Q123.594 572.286 123.594 565.179 Q123.594 558.05 121.765 554.508 Q119.959 550.943 116.325 550.943 M116.325 547.24 Q122.135 547.24 125.191 551.846 Q128.27 556.429 128.27 565.179 Q128.27 573.906 125.191 578.513 Q122.135 583.096 116.325 583.096 Q110.515 583.096 107.436 578.513 Q104.381 573.906 104.381 565.179 Q104.381 556.429 107.436 551.846 Q110.515 547.24 116.325 547.24 Z\" fill=\"#000000\" fill-rule=\"evenodd\" fill-opacity=\"1\" /><path clip-path=\"url(#clip060)\" d=\"M 0 0 M84.9365 271.157 L101.256 271.157 L101.256 275.092 L79.3115 275.092 L79.3115 271.157 Q81.9735 268.402 86.5568 263.773 Q91.1633 259.12 92.3438 257.777 Q94.5892 255.254 95.4688 253.518 Q96.3716 251.759 96.3716 250.069 Q96.3716 247.314 94.4271 245.578 Q92.5059 243.842 89.404 243.842 Q87.205 243.842 84.7513 244.606 Q82.3207 245.37 79.543 246.921 L79.543 242.199 Q82.367 241.064 84.8207 240.486 Q87.2744 239.907 89.3114 239.907 Q94.6818 239.907 97.8762 242.592 Q101.071 245.277 101.071 249.768 Q101.071 251.898 100.26 253.819 Q99.4734 255.717 97.3669 258.31 Q96.7882 258.981 93.6864 262.199 Q90.5846 265.393 84.9365 271.157 Z\" fill=\"#000000\" fill-rule=\"evenodd\" fill-opacity=\"1\" /><path clip-path=\"url(#clip060)\" d=\"M 0 0 M116.325 243.611 Q112.714 243.611 110.885 247.176 Q109.08 250.717 109.08 257.847 Q109.08 264.953 110.885 268.518 Q112.714 272.06 116.325 272.06 Q119.959 272.06 121.765 268.518 Q123.594 264.953 123.594 257.847 Q123.594 250.717 121.765 247.176 Q119.959 243.611 116.325 243.611 M116.325 239.907 Q122.135 239.907 125.191 244.514 Q128.27 249.097 128.27 257.847 Q128.27 266.574 125.191 271.18 Q122.135 275.763 116.325 275.763 Q110.515 275.763 107.436 271.18 Q104.381 266.574 104.381 257.847 Q104.381 249.097 107.436 244.514 Q110.515 239.907 116.325 239.907 Z\" fill=\"#000000\" fill-rule=\"evenodd\" fill-opacity=\"1\" /><path clip-path=\"url(#clip062)\" d=\"\n",
       "M152.27 1143.23 L158.298 1294.48 L195.475 1398.19 L197.364 1401.14 L216.926 1417.51 L315.875 1447.31 L522.238 1482.77 L669.204 1486.45 L970.049 1472.05 L1350.93 1439.16 \n",
       "  L1546.13 1410.32 L1766.15 1342.82 L1885.71 1280.58 L2053.19 1191.79 L2126.84 1144.36 L2196.72 1076.63 L2235.37 1025.88 L2272.74 962.538 L2297.66 914.121 L2328.72 812.48 \n",
       "  L2352.76 692.547 L2346.73 541.303 L2309.55 437.594 L2307.66 434.64 L2288.1 418.27 L2189.15 388.474 L1982.79 353.016 L1835.82 349.334 L1534.98 363.731 L1154.1 396.619 \n",
       "  L958.896 425.464 L738.876 492.962 L619.312 555.201 L451.834 643.995 L378.182 691.422 L308.306 759.156 L269.656 809.899 L232.289 873.243 L207.368 921.66 L176.306 1023.3 \n",
       "  L152.27 1143.23 L152.27 1143.23  Z\n",
       "  \" fill=\"#009af9\" fill-rule=\"evenodd\" fill-opacity=\"0.5\"/>\n",
       "<polyline clip-path=\"url(#clip062)\" style=\"stroke:#000000; stroke-width:4; stroke-opacity:0.5; fill:none\" points=\"\n",
       "  152.27,1143.23 158.298,1294.48 195.475,1398.19 197.364,1401.14 216.926,1417.51 315.875,1447.31 522.238,1482.77 669.204,1486.45 970.049,1472.05 1350.93,1439.16 \n",
       "  1546.13,1410.32 1766.15,1342.82 1885.71,1280.58 2053.19,1191.79 2126.84,1144.36 2196.72,1076.63 2235.37,1025.88 2272.74,962.538 2297.66,914.121 2328.72,812.48 \n",
       "  2352.76,692.547 2346.73,541.303 2309.55,437.594 2307.66,434.64 2288.1,418.27 2189.15,388.474 1982.79,353.016 1835.82,349.334 1534.98,363.731 1154.1,396.619 \n",
       "  958.896,425.464 738.876,492.962 619.312,555.201 451.834,643.995 378.182,691.422 308.306,759.156 269.656,809.899 232.289,873.243 207.368,921.66 176.306,1023.3 \n",
       "  152.27,1143.23 \n",
       "  \"/>\n",
       "<path clip-path=\"url(#clip062)\" d=\"\n",
       "M-19366.5 32219.7 L21960.5 -30383.9 L-19366.5 32219.7 L-19366.5 32219.7  Z\n",
       "  \" fill=\"#e26f46\" fill-rule=\"evenodd\" fill-opacity=\"0.5\"/>\n",
       "<polyline clip-path=\"url(#clip062)\" style=\"stroke:#000000; stroke-width:4; stroke-opacity:0.5; fill:none\" points=\"\n",
       "  -19366.5,32219.7 21960.5,-30383.9 -19366.5,32219.7 \n",
       "  \"/>\n",
       "<circle clip-path=\"url(#clip062)\" cx=\"1826.51\" cy=\"115.778\" r=\"14\" fill=\"#3da44d\" fill-rule=\"evenodd\" fill-opacity=\"0.5\" stroke=\"#000000\" stroke-opacity=\"0.5\" stroke-width=\"3.2\"/>\n",
       "</svg>\n"
      ]
     },
     "execution_count": 42,
     "metadata": {},
     "output_type": "execute_result"
    }
   ],
   "source": [
    "plot(Z)\n",
    "plot!(L)\n",
    "plot!(i)"
   ]
  },
  {
   "cell_type": "code",
   "execution_count": 21,
   "metadata": {},
   "outputs": [
    {
     "data": {
      "text/plain": [
       "intersec (generic function with 1 method)"
      ]
     },
     "execution_count": 21,
     "metadata": {},
     "output_type": "execute_result"
    }
   ],
   "source": [
    "function intersec(Z::AbstractZonotope{N}, L::Line2D) where {N}\n",
    "    c = center(Z)\n",
    "    P = copy(c)\n",
    "    gens = genmat(Z)\n",
    "    r = ngens(Z)\n",
    "    for gi in [gens[:, x] for x in 1:r]\n",
    "        if(gi[2] > 0 || (gi[2] == 0 && gi[1] > 0))\n",
    "            gi = -gi\n",
    "        end\n",
    "        P = P - gi\n",
    "    end\n",
    "    G = Vector{Vector{N}}(undef, 0)\n",
    "    if(P[1] < L.b)\n",
    "        for gi in [gens[:, x] for x in 1:r]\n",
    "            if(gi[1] >= 0)\n",
    "                push!(G, gi)\n",
    "            end\n",
    "        end\n",
    "    else\n",
    "        for gi in [gens[:, x] for x in 1:r]\n",
    "            if(gi[1] <= 0)\n",
    "                push!(G, gi)\n",
    "            end\n",
    "        end\n",
    "    end\n",
    "    s = sum(G)\n",
    "    \n",
    "    while length(G) > 1\n",
    "        G1 = Vector{Vector{N}}(undef, 0)\n",
    "        G2 = copy(G1)\n",
    "        for gi in G\n",
    "            if _above(gi, s, [0, 1])\n",
    "                push!(G1, gi)\n",
    "            else\n",
    "                push!(G2, gi)\n",
    "            end\n",
    "        end\n",
    "        s1 = 2 * sum(G1)\n",
    "        if !isempty(intersection(Line2D(P, P.+s1), L))\n",
    "            G = G1\n",
    "            s = s1\n",
    "        else\n",
    "            G = G2\n",
    "            s = s - s1\n",
    "            P = P + s1\n",
    "        end\n",
    "        break\n",
    "    end\n",
    "    vec = intersection(Line2D(P, P.+s), L)\n",
    "end"
   ]
  },
  {
   "cell_type": "code",
   "execution_count": 27,
   "metadata": {},
   "outputs": [
    {
     "data": {
      "text/plain": [
       "Singleton{Float64,Array{Float64,1}}([-46.886560712129, -46.886560712129])"
      ]
     },
     "execution_count": 27,
     "metadata": {},
     "output_type": "execute_result"
    }
   ],
   "source": [
    "i2 = intersec(Z, L)"
   ]
  },
  {
   "cell_type": "code",
   "execution_count": 28,
   "metadata": {},
   "outputs": [
    {
     "data": {
      "image/svg+xml": [
       "<?xml version=\"1.0\" encoding=\"utf-8\"?>\n",
       "<svg xmlns=\"http://www.w3.org/2000/svg\" xmlns:xlink=\"http://www.w3.org/1999/xlink\" width=\"600\" height=\"400\" viewBox=\"0 0 2400 1600\">\n",
       "<defs>\n",
       "  <clipPath id=\"clip900\">\n",
       "    <rect x=\"0\" y=\"0\" width=\"2400\" height=\"1600\"/>\n",
       "  </clipPath>\n",
       "</defs>\n",
       "<path clip-path=\"url(#clip900)\" d=\"\n",
       "M0 1600 L2400 1600 L2400 0 L0 0  Z\n",
       "  \" fill=\"#ffffff\" fill-rule=\"evenodd\" fill-opacity=\"1\"/>\n",
       "<defs>\n",
       "  <clipPath id=\"clip901\">\n",
       "    <rect x=\"480\" y=\"0\" width=\"1681\" height=\"1600\"/>\n",
       "  </clipPath>\n",
       "</defs>\n",
       "<path clip-path=\"url(#clip900)\" d=\"\n",
       "M153.983 1486.45 L2352.76 1486.45 L2352.76 47.2441 L153.983 47.2441  Z\n",
       "  \" fill=\"#ffffff\" fill-rule=\"evenodd\" fill-opacity=\"1\"/>\n",
       "<defs>\n",
       "  <clipPath id=\"clip902\">\n",
       "    <rect x=\"153\" y=\"47\" width=\"2200\" height=\"1440\"/>\n",
       "  </clipPath>\n",
       "</defs>\n",
       "<polyline clip-path=\"url(#clip902)\" style=\"stroke:#000000; stroke-width:2; stroke-opacity:0.1; fill:none\" points=\"\n",
       "  156.299,1486.45 156.299,47.2441 \n",
       "  \"/>\n",
       "<polyline clip-path=\"url(#clip902)\" style=\"stroke:#000000; stroke-width:2; stroke-opacity:0.1; fill:none\" points=\"\n",
       "  485.153,1486.45 485.153,47.2441 \n",
       "  \"/>\n",
       "<polyline clip-path=\"url(#clip902)\" style=\"stroke:#000000; stroke-width:2; stroke-opacity:0.1; fill:none\" points=\"\n",
       "  814.008,1486.45 814.008,47.2441 \n",
       "  \"/>\n",
       "<polyline clip-path=\"url(#clip902)\" style=\"stroke:#000000; stroke-width:2; stroke-opacity:0.1; fill:none\" points=\"\n",
       "  1142.86,1486.45 1142.86,47.2441 \n",
       "  \"/>\n",
       "<polyline clip-path=\"url(#clip902)\" style=\"stroke:#000000; stroke-width:2; stroke-opacity:0.1; fill:none\" points=\"\n",
       "  1471.72,1486.45 1471.72,47.2441 \n",
       "  \"/>\n",
       "<polyline clip-path=\"url(#clip902)\" style=\"stroke:#000000; stroke-width:2; stroke-opacity:0.1; fill:none\" points=\"\n",
       "  1800.57,1486.45 1800.57,47.2441 \n",
       "  \"/>\n",
       "<polyline clip-path=\"url(#clip902)\" style=\"stroke:#000000; stroke-width:2; stroke-opacity:0.1; fill:none\" points=\"\n",
       "  2129.42,1486.45 2129.42,47.2441 \n",
       "  \"/>\n",
       "<polyline clip-path=\"url(#clip902)\" style=\"stroke:#000000; stroke-width:2; stroke-opacity:0.1; fill:none\" points=\"\n",
       "  153.983,1265.45 2352.76,1265.45 \n",
       "  \"/>\n",
       "<polyline clip-path=\"url(#clip902)\" style=\"stroke:#000000; stroke-width:2; stroke-opacity:0.1; fill:none\" points=\"\n",
       "  153.983,1044.06 2352.76,1044.06 \n",
       "  \"/>\n",
       "<polyline clip-path=\"url(#clip902)\" style=\"stroke:#000000; stroke-width:2; stroke-opacity:0.1; fill:none\" points=\"\n",
       "  153.983,822.662 2352.76,822.662 \n",
       "  \"/>\n",
       "<polyline clip-path=\"url(#clip902)\" style=\"stroke:#000000; stroke-width:2; stroke-opacity:0.1; fill:none\" points=\"\n",
       "  153.983,601.267 2352.76,601.267 \n",
       "  \"/>\n",
       "<polyline clip-path=\"url(#clip902)\" style=\"stroke:#000000; stroke-width:2; stroke-opacity:0.1; fill:none\" points=\"\n",
       "  153.983,379.873 2352.76,379.873 \n",
       "  \"/>\n",
       "<polyline clip-path=\"url(#clip902)\" style=\"stroke:#000000; stroke-width:2; stroke-opacity:0.1; fill:none\" points=\"\n",
       "  153.983,158.479 2352.76,158.479 \n",
       "  \"/>\n",
       "<polyline clip-path=\"url(#clip900)\" style=\"stroke:#000000; stroke-width:4; stroke-opacity:1; fill:none\" points=\"\n",
       "  153.983,1486.45 2352.76,1486.45 \n",
       "  \"/>\n",
       "<polyline clip-path=\"url(#clip900)\" style=\"stroke:#000000; stroke-width:4; stroke-opacity:1; fill:none\" points=\"\n",
       "  153.983,1486.45 153.983,47.2441 \n",
       "  \"/>\n",
       "<polyline clip-path=\"url(#clip900)\" style=\"stroke:#000000; stroke-width:4; stroke-opacity:1; fill:none\" points=\"\n",
       "  156.299,1486.45 156.299,1469.18 \n",
       "  \"/>\n",
       "<polyline clip-path=\"url(#clip900)\" style=\"stroke:#000000; stroke-width:4; stroke-opacity:1; fill:none\" points=\"\n",
       "  485.153,1486.45 485.153,1469.18 \n",
       "  \"/>\n",
       "<polyline clip-path=\"url(#clip900)\" style=\"stroke:#000000; stroke-width:4; stroke-opacity:1; fill:none\" points=\"\n",
       "  814.008,1486.45 814.008,1469.18 \n",
       "  \"/>\n",
       "<polyline clip-path=\"url(#clip900)\" style=\"stroke:#000000; stroke-width:4; stroke-opacity:1; fill:none\" points=\"\n",
       "  1142.86,1486.45 1142.86,1469.18 \n",
       "  \"/>\n",
       "<polyline clip-path=\"url(#clip900)\" style=\"stroke:#000000; stroke-width:4; stroke-opacity:1; fill:none\" points=\"\n",
       "  1471.72,1486.45 1471.72,1469.18 \n",
       "  \"/>\n",
       "<polyline clip-path=\"url(#clip900)\" style=\"stroke:#000000; stroke-width:4; stroke-opacity:1; fill:none\" points=\"\n",
       "  1800.57,1486.45 1800.57,1469.18 \n",
       "  \"/>\n",
       "<polyline clip-path=\"url(#clip900)\" style=\"stroke:#000000; stroke-width:4; stroke-opacity:1; fill:none\" points=\"\n",
       "  2129.42,1486.45 2129.42,1469.18 \n",
       "  \"/>\n",
       "<polyline clip-path=\"url(#clip900)\" style=\"stroke:#000000; stroke-width:4; stroke-opacity:1; fill:none\" points=\"\n",
       "  153.983,1265.45 180.368,1265.45 \n",
       "  \"/>\n",
       "<polyline clip-path=\"url(#clip900)\" style=\"stroke:#000000; stroke-width:4; stroke-opacity:1; fill:none\" points=\"\n",
       "  153.983,1044.06 180.368,1044.06 \n",
       "  \"/>\n",
       "<polyline clip-path=\"url(#clip900)\" style=\"stroke:#000000; stroke-width:4; stroke-opacity:1; fill:none\" points=\"\n",
       "  153.983,822.662 180.368,822.662 \n",
       "  \"/>\n",
       "<polyline clip-path=\"url(#clip900)\" style=\"stroke:#000000; stroke-width:4; stroke-opacity:1; fill:none\" points=\"\n",
       "  153.983,601.267 180.368,601.267 \n",
       "  \"/>\n",
       "<polyline clip-path=\"url(#clip900)\" style=\"stroke:#000000; stroke-width:4; stroke-opacity:1; fill:none\" points=\"\n",
       "  153.983,379.873 180.368,379.873 \n",
       "  \"/>\n",
       "<polyline clip-path=\"url(#clip900)\" style=\"stroke:#000000; stroke-width:4; stroke-opacity:1; fill:none\" points=\"\n",
       "  153.983,158.479 180.368,158.479 \n",
       "  \"/>\n",
       "<path clip-path=\"url(#clip900)\" d=\"M 0 0 M123.545 1525.04 L136.022 1525.04 L136.022 1528.83 L123.545 1528.83 L123.545 1525.04 Z\" fill=\"#000000\" fill-rule=\"evenodd\" fill-opacity=\"1\" /><path clip-path=\"url(#clip900)\" d=\"M 0 0 M141.137 1505.36 L159.494 1505.36 L159.494 1509.3 L145.42 1509.3 L145.42 1517.77 Q146.438 1517.42 147.457 1517.26 Q148.475 1517.07 149.494 1517.07 Q155.281 1517.07 158.66 1520.24 Q162.04 1523.42 162.04 1528.83 Q162.04 1534.41 158.568 1537.51 Q155.096 1540.59 148.776 1540.59 Q146.6 1540.59 144.332 1540.22 Q142.086 1539.85 139.679 1539.11 L139.679 1534.41 Q141.762 1535.54 143.984 1536.1 Q146.207 1536.66 148.684 1536.66 Q152.688 1536.66 155.026 1534.55 Q157.364 1532.44 157.364 1528.83 Q157.364 1525.22 155.026 1523.11 Q152.688 1521.01 148.684 1521.01 Q146.809 1521.01 144.934 1521.42 Q143.082 1521.84 141.137 1522.72 L141.137 1505.36 Z\" fill=\"#000000\" fill-rule=\"evenodd\" fill-opacity=\"1\" /><path clip-path=\"url(#clip900)\" d=\"M 0 0 M177.109 1508.44 Q173.498 1508.44 171.67 1512 Q169.864 1515.55 169.864 1522.67 Q169.864 1529.78 171.67 1533.35 Q173.498 1536.89 177.109 1536.89 Q180.744 1536.89 182.549 1533.35 Q184.378 1529.78 184.378 1522.67 Q184.378 1515.55 182.549 1512 Q180.744 1508.44 177.109 1508.44 M177.109 1504.73 Q182.919 1504.73 185.975 1509.34 Q189.054 1513.92 189.054 1522.67 Q189.054 1531.4 185.975 1536.01 Q182.919 1540.59 177.109 1540.59 Q171.299 1540.59 168.22 1536.01 Q165.165 1531.4 165.165 1522.67 Q165.165 1513.92 168.22 1509.34 Q171.299 1504.73 177.109 1504.73 Z\" fill=\"#000000\" fill-rule=\"evenodd\" fill-opacity=\"1\" /><path clip-path=\"url(#clip900)\" d=\"M 0 0 M451.658 1525.04 L464.135 1525.04 L464.135 1528.83 L451.658 1528.83 L451.658 1525.04 Z\" fill=\"#000000\" fill-rule=\"evenodd\" fill-opacity=\"1\" /><path clip-path=\"url(#clip900)\" d=\"M 0 0 M482.052 1509.43 L470.246 1527.88 L482.052 1527.88 L482.052 1509.43 M480.825 1505.36 L486.704 1505.36 L486.704 1527.88 L491.635 1527.88 L491.635 1531.77 L486.704 1531.77 L486.704 1539.92 L482.052 1539.92 L482.052 1531.77 L466.45 1531.77 L466.45 1527.26 L480.825 1505.36 Z\" fill=\"#000000\" fill-rule=\"evenodd\" fill-opacity=\"1\" /><path clip-path=\"url(#clip900)\" d=\"M 0 0 M506.704 1508.44 Q503.093 1508.44 501.264 1512 Q499.459 1515.55 499.459 1522.67 Q499.459 1529.78 501.264 1533.35 Q503.093 1536.89 506.704 1536.89 Q510.339 1536.89 512.144 1533.35 Q513.973 1529.78 513.973 1522.67 Q513.973 1515.55 512.144 1512 Q510.339 1508.44 506.704 1508.44 M506.704 1504.73 Q512.514 1504.73 515.57 1509.34 Q518.649 1513.92 518.649 1522.67 Q518.649 1531.4 515.57 1536.01 Q512.514 1540.59 506.704 1540.59 Q500.894 1540.59 497.815 1536.01 Q494.76 1531.4 494.76 1522.67 Q494.76 1513.92 497.815 1509.34 Q500.894 1504.73 506.704 1504.73 Z\" fill=\"#000000\" fill-rule=\"evenodd\" fill-opacity=\"1\" /><path clip-path=\"url(#clip900)\" d=\"M 0 0 M781.08 1525.04 L793.556 1525.04 L793.556 1528.83 L781.08 1528.83 L781.08 1525.04 Z\" fill=\"#000000\" fill-rule=\"evenodd\" fill-opacity=\"1\" /><path clip-path=\"url(#clip900)\" d=\"M 0 0 M812.792 1521.29 Q816.149 1522 818.024 1524.27 Q819.922 1526.54 819.922 1529.87 Q819.922 1534.99 816.404 1537.79 Q812.885 1540.59 806.404 1540.59 Q804.228 1540.59 801.913 1540.15 Q799.621 1539.73 797.168 1538.88 L797.168 1534.36 Q799.112 1535.5 801.427 1536.08 Q803.742 1536.66 806.265 1536.66 Q810.663 1536.66 812.954 1534.92 Q815.269 1533.18 815.269 1529.87 Q815.269 1526.82 813.116 1525.11 Q810.987 1523.37 807.167 1523.37 L803.14 1523.37 L803.14 1519.53 L807.353 1519.53 Q810.802 1519.53 812.63 1518.16 Q814.459 1516.77 814.459 1514.18 Q814.459 1511.52 812.561 1510.11 Q810.686 1508.67 807.167 1508.67 Q805.246 1508.67 803.047 1509.09 Q800.848 1509.5 798.209 1510.38 L798.209 1506.22 Q800.871 1505.48 803.186 1505.11 Q805.524 1504.73 807.584 1504.73 Q812.908 1504.73 816.01 1507.17 Q819.112 1509.57 819.112 1513.69 Q819.112 1516.56 817.468 1518.55 Q815.825 1520.52 812.792 1521.29 Z\" fill=\"#000000\" fill-rule=\"evenodd\" fill-opacity=\"1\" /><path clip-path=\"url(#clip900)\" d=\"M 0 0 M834.991 1508.44 Q831.38 1508.44 829.552 1512 Q827.746 1515.55 827.746 1522.67 Q827.746 1529.78 829.552 1533.35 Q831.38 1536.89 834.991 1536.89 Q838.626 1536.89 840.431 1533.35 Q842.26 1529.78 842.26 1522.67 Q842.26 1515.55 840.431 1512 Q838.626 1508.44 834.991 1508.44 M834.991 1504.73 Q840.802 1504.73 843.857 1509.34 Q846.936 1513.92 846.936 1522.67 Q846.936 1531.4 843.857 1536.01 Q840.802 1540.59 834.991 1540.59 Q829.181 1540.59 826.103 1536.01 Q823.047 1531.4 823.047 1522.67 Q823.047 1513.92 826.103 1509.34 Q829.181 1504.73 834.991 1504.73 Z\" fill=\"#000000\" fill-rule=\"evenodd\" fill-opacity=\"1\" /><path clip-path=\"url(#clip900)\" d=\"M 0 0 M1110.41 1525.04 L1122.89 1525.04 L1122.89 1528.83 L1110.41 1528.83 L1110.41 1525.04 Z\" fill=\"#000000\" fill-rule=\"evenodd\" fill-opacity=\"1\" /><path clip-path=\"url(#clip900)\" d=\"M 0 0 M1131.98 1535.98 L1148.3 1535.98 L1148.3 1539.92 L1126.36 1539.92 L1126.36 1535.98 Q1129.02 1533.23 1133.6 1528.6 Q1138.21 1523.95 1139.39 1522.61 Q1141.64 1520.08 1142.51 1518.35 Q1143.42 1516.59 1143.42 1514.9 Q1143.42 1512.14 1141.47 1510.41 Q1139.55 1508.67 1136.45 1508.67 Q1134.25 1508.67 1131.8 1509.43 Q1129.37 1510.2 1126.59 1511.75 L1126.59 1507.03 Q1129.41 1505.89 1131.87 1505.31 Q1134.32 1504.73 1136.36 1504.73 Q1141.73 1504.73 1144.92 1507.42 Q1148.12 1510.11 1148.12 1514.6 Q1148.12 1516.73 1147.31 1518.65 Q1146.52 1520.54 1144.41 1523.14 Q1143.83 1523.81 1140.73 1527.03 Q1137.63 1530.22 1131.98 1535.98 Z\" fill=\"#000000\" fill-rule=\"evenodd\" fill-opacity=\"1\" /><path clip-path=\"url(#clip900)\" d=\"M 0 0 M1163.37 1508.44 Q1159.76 1508.44 1157.93 1512 Q1156.13 1515.55 1156.13 1522.67 Q1156.13 1529.78 1157.93 1533.35 Q1159.76 1536.89 1163.37 1536.89 Q1167.01 1536.89 1168.81 1533.35 Q1170.64 1529.78 1170.64 1522.67 Q1170.64 1515.55 1168.81 1512 Q1167.01 1508.44 1163.37 1508.44 M1163.37 1504.73 Q1169.18 1504.73 1172.24 1509.34 Q1175.32 1513.92 1175.32 1522.67 Q1175.32 1531.4 1172.24 1536.01 Q1169.18 1540.59 1163.37 1540.59 Q1157.56 1540.59 1154.48 1536.01 Q1151.43 1531.4 1151.43 1522.67 Q1151.43 1513.92 1154.48 1509.34 Q1157.56 1504.73 1163.37 1504.73 Z\" fill=\"#000000\" fill-rule=\"evenodd\" fill-opacity=\"1\" /><path clip-path=\"url(#clip900)\" d=\"M 0 0 M1439.08 1525.04 L1451.55 1525.04 L1451.55 1528.83 L1439.08 1528.83 L1439.08 1525.04 Z\" fill=\"#000000\" fill-rule=\"evenodd\" fill-opacity=\"1\" /><path clip-path=\"url(#clip900)\" d=\"M 0 0 M1457.43 1535.98 L1465.07 1535.98 L1465.07 1509.62 L1456.76 1511.29 L1456.76 1507.03 L1465.03 1505.36 L1469.7 1505.36 L1469.7 1535.98 L1477.34 1535.98 L1477.34 1539.92 L1457.43 1539.92 L1457.43 1535.98 Z\" fill=\"#000000\" fill-rule=\"evenodd\" fill-opacity=\"1\" /><path clip-path=\"url(#clip900)\" d=\"M 0 0 M1492.41 1508.44 Q1488.8 1508.44 1486.97 1512 Q1485.17 1515.55 1485.17 1522.67 Q1485.17 1529.78 1486.97 1533.35 Q1488.8 1536.89 1492.41 1536.89 Q1496.04 1536.89 1497.85 1533.35 Q1499.68 1529.78 1499.68 1522.67 Q1499.68 1515.55 1497.85 1512 Q1496.04 1508.44 1492.41 1508.44 M1492.41 1504.73 Q1498.22 1504.73 1501.28 1509.34 Q1504.35 1513.92 1504.35 1522.67 Q1504.35 1531.4 1501.28 1536.01 Q1498.22 1540.59 1492.41 1540.59 Q1486.6 1540.59 1483.52 1536.01 Q1480.47 1531.4 1480.47 1522.67 Q1480.47 1513.92 1483.52 1509.34 Q1486.6 1504.73 1492.41 1504.73 Z\" fill=\"#000000\" fill-rule=\"evenodd\" fill-opacity=\"1\" /><path clip-path=\"url(#clip900)\" d=\"M 0 0 M1800.57 1508.44 Q1796.96 1508.44 1795.13 1512 Q1793.33 1515.55 1793.33 1522.67 Q1793.33 1529.78 1795.13 1533.35 Q1796.96 1536.89 1800.57 1536.89 Q1804.2 1536.89 1806.01 1533.35 Q1807.84 1529.78 1807.84 1522.67 Q1807.84 1515.55 1806.01 1512 Q1804.2 1508.44 1800.57 1508.44 M1800.57 1504.73 Q1806.38 1504.73 1809.44 1509.34 Q1812.51 1513.92 1812.51 1522.67 Q1812.51 1531.4 1809.44 1536.01 Q1806.38 1540.59 1800.57 1540.59 Q1794.76 1540.59 1791.68 1536.01 Q1788.63 1531.4 1788.63 1522.67 Q1788.63 1513.92 1791.68 1509.34 Q1794.76 1504.73 1800.57 1504.73 Z\" fill=\"#000000\" fill-rule=\"evenodd\" fill-opacity=\"1\" /><path clip-path=\"url(#clip900)\" d=\"M 0 0 M2106.3 1535.98 L2113.94 1535.98 L2113.94 1509.62 L2105.63 1511.29 L2105.63 1507.03 L2113.89 1505.36 L2118.57 1505.36 L2118.57 1535.98 L2126.21 1535.98 L2126.21 1539.92 L2106.3 1539.92 L2106.3 1535.98 Z\" fill=\"#000000\" fill-rule=\"evenodd\" fill-opacity=\"1\" /><path clip-path=\"url(#clip900)\" d=\"M 0 0 M2141.28 1508.44 Q2137.67 1508.44 2135.84 1512 Q2134.03 1515.55 2134.03 1522.67 Q2134.03 1529.78 2135.84 1533.35 Q2137.67 1536.89 2141.28 1536.89 Q2144.91 1536.89 2146.72 1533.35 Q2148.54 1529.78 2148.54 1522.67 Q2148.54 1515.55 2146.72 1512 Q2144.91 1508.44 2141.28 1508.44 M2141.28 1504.73 Q2147.09 1504.73 2150.14 1509.34 Q2153.22 1513.92 2153.22 1522.67 Q2153.22 1531.4 2150.14 1536.01 Q2147.09 1540.59 2141.28 1540.59 Q2135.47 1540.59 2132.39 1536.01 Q2129.33 1531.4 2129.33 1522.67 Q2129.33 1513.92 2132.39 1509.34 Q2135.47 1504.73 2141.28 1504.73 Z\" fill=\"#000000\" fill-rule=\"evenodd\" fill-opacity=\"1\" /><path clip-path=\"url(#clip900)\" d=\"M 0 0 M62.9921 1267.85 L75.4689 1267.85 L75.4689 1271.64 L62.9921 1271.64 L62.9921 1267.85 Z\" fill=\"#000000\" fill-rule=\"evenodd\" fill-opacity=\"1\" /><path clip-path=\"url(#clip900)\" d=\"M 0 0 M93.3855 1252.24 L81.58 1270.69 L93.3855 1270.69 L93.3855 1252.24 M92.1586 1248.17 L98.0382 1248.17 L98.0382 1270.69 L102.969 1270.69 L102.969 1274.58 L98.0382 1274.58 L98.0382 1282.73 L93.3855 1282.73 L93.3855 1274.58 L77.7837 1274.58 L77.7837 1270.07 L92.1586 1248.17 Z\" fill=\"#000000\" fill-rule=\"evenodd\" fill-opacity=\"1\" /><path clip-path=\"url(#clip900)\" d=\"M 0 0 M118.038 1251.25 Q114.427 1251.25 112.598 1254.81 Q110.793 1258.36 110.793 1265.48 Q110.793 1272.59 112.598 1276.16 Q114.427 1279.7 118.038 1279.7 Q121.672 1279.7 123.478 1276.16 Q125.307 1272.59 125.307 1265.48 Q125.307 1258.36 123.478 1254.81 Q121.672 1251.25 118.038 1251.25 M118.038 1247.54 Q123.848 1247.54 126.904 1252.15 Q129.983 1256.73 129.983 1265.48 Q129.983 1274.21 126.904 1278.82 Q123.848 1283.4 118.038 1283.4 Q112.228 1283.4 109.149 1278.82 Q106.094 1274.21 106.094 1265.48 Q106.094 1256.73 109.149 1252.15 Q112.228 1247.54 118.038 1247.54 Z\" fill=\"#000000\" fill-rule=\"evenodd\" fill-opacity=\"1\" /><path clip-path=\"url(#clip900)\" d=\"M 0 0 M64.1264 1046.45 L76.6032 1046.45 L76.6032 1050.25 L64.1264 1050.25 L64.1264 1046.45 Z\" fill=\"#000000\" fill-rule=\"evenodd\" fill-opacity=\"1\" /><path clip-path=\"url(#clip900)\" d=\"M 0 0 M95.8392 1042.7 Q99.1956 1043.42 101.071 1045.69 Q102.969 1047.96 102.969 1051.29 Q102.969 1056.41 99.4503 1059.21 Q95.9318 1062.01 89.4503 1062.01 Q87.2744 1062.01 84.9596 1061.57 Q82.6679 1061.15 80.2143 1060.29 L80.2143 1055.78 Q82.1587 1056.91 84.4735 1057.49 Q86.7883 1058.07 89.3114 1058.07 Q93.7096 1058.07 96.0012 1056.34 Q98.316 1054.6 98.316 1051.29 Q98.316 1048.23 96.1632 1046.52 Q94.0336 1044.78 90.2142 1044.78 L86.1864 1044.78 L86.1864 1040.94 L90.3994 1040.94 Q93.8484 1040.94 95.6771 1039.58 Q97.5058 1038.19 97.5058 1035.6 Q97.5058 1032.93 95.6077 1031.52 Q93.7327 1030.09 90.2142 1030.09 Q88.2929 1030.09 86.0939 1030.5 Q83.8948 1030.92 81.2559 1031.8 L81.2559 1027.63 Q83.9179 1026.89 86.2327 1026.52 Q88.5707 1026.15 90.6309 1026.15 Q95.9549 1026.15 99.0567 1028.58 Q102.159 1030.99 102.159 1035.11 Q102.159 1037.98 100.515 1039.97 Q98.8716 1041.94 95.8392 1042.7 Z\" fill=\"#000000\" fill-rule=\"evenodd\" fill-opacity=\"1\" /><path clip-path=\"url(#clip900)\" d=\"M 0 0 M118.038 1029.85 Q114.427 1029.85 112.598 1033.42 Q110.793 1036.96 110.793 1044.09 Q110.793 1051.2 112.598 1054.76 Q114.427 1058.3 118.038 1058.3 Q121.672 1058.3 123.478 1054.76 Q125.307 1051.2 125.307 1044.09 Q125.307 1036.96 123.478 1033.42 Q121.672 1029.85 118.038 1029.85 M118.038 1026.15 Q123.848 1026.15 126.904 1030.76 Q129.983 1035.34 129.983 1044.09 Q129.983 1052.82 126.904 1057.42 Q123.848 1062.01 118.038 1062.01 Q112.228 1062.01 109.149 1057.42 Q106.094 1052.82 106.094 1044.09 Q106.094 1035.34 109.149 1030.76 Q112.228 1026.15 118.038 1026.15 Z\" fill=\"#000000\" fill-rule=\"evenodd\" fill-opacity=\"1\" /><path clip-path=\"url(#clip900)\" d=\"M 0 0 M65.0754 825.057 L77.5522 825.057 L77.5522 828.854 L65.0754 828.854 L65.0754 825.057 Z\" fill=\"#000000\" fill-rule=\"evenodd\" fill-opacity=\"1\" /><path clip-path=\"url(#clip900)\" d=\"M 0 0 M86.6494 836.006 L102.969 836.006 L102.969 839.942 L81.0244 839.942 L81.0244 836.006 Q83.6865 833.252 88.2698 828.622 Q92.8762 823.969 94.0568 822.627 Q96.3021 820.104 97.1818 818.368 Q98.0845 816.608 98.0845 814.919 Q98.0845 812.164 96.1401 810.428 Q94.2188 808.692 91.117 808.692 Q88.9179 808.692 86.4642 809.456 Q84.0337 810.22 81.2559 811.77 L81.2559 807.048 Q84.08 805.914 86.5337 805.335 Q88.9874 804.757 91.0244 804.757 Q96.3947 804.757 99.5892 807.442 Q102.784 810.127 102.784 814.618 Q102.784 816.747 101.973 818.669 Q101.186 820.567 99.0799 823.159 Q98.5012 823.831 95.3994 827.048 Q92.2975 830.243 86.6494 836.006 Z\" fill=\"#000000\" fill-rule=\"evenodd\" fill-opacity=\"1\" /><path clip-path=\"url(#clip900)\" d=\"M 0 0 M118.038 808.46 Q114.427 808.46 112.598 812.025 Q110.793 815.567 110.793 822.696 Q110.793 829.803 112.598 833.368 Q114.427 836.909 118.038 836.909 Q121.672 836.909 123.478 833.368 Q125.307 829.803 125.307 822.696 Q125.307 815.567 123.478 812.025 Q121.672 808.46 118.038 808.46 M118.038 804.757 Q123.848 804.757 126.904 809.363 Q129.983 813.946 129.983 822.696 Q129.983 831.423 126.904 836.03 Q123.848 840.613 118.038 840.613 Q112.228 840.613 109.149 836.03 Q106.094 831.423 106.094 822.696 Q106.094 813.946 109.149 809.363 Q112.228 804.757 118.038 804.757 Z\" fill=\"#000000\" fill-rule=\"evenodd\" fill-opacity=\"1\" /><path clip-path=\"url(#clip900)\" d=\"M 0 0 M64.7051 603.663 L77.1819 603.663 L77.1819 607.46 L64.7051 607.46 L64.7051 603.663 Z\" fill=\"#000000\" fill-rule=\"evenodd\" fill-opacity=\"1\" /><path clip-path=\"url(#clip900)\" d=\"M 0 0 M83.0615 614.612 L90.7003 614.612 L90.7003 588.247 L82.3902 589.913 L82.3902 585.654 L90.654 583.987 L95.3299 583.987 L95.3299 614.612 L102.969 614.612 L102.969 618.547 L83.0615 618.547 L83.0615 614.612 Z\" fill=\"#000000\" fill-rule=\"evenodd\" fill-opacity=\"1\" /><path clip-path=\"url(#clip900)\" d=\"M 0 0 M118.038 587.066 Q114.427 587.066 112.598 590.631 Q110.793 594.173 110.793 601.302 Q110.793 608.409 112.598 611.973 Q114.427 615.515 118.038 615.515 Q121.672 615.515 123.478 611.973 Q125.307 608.409 125.307 601.302 Q125.307 594.173 123.478 590.631 Q121.672 587.066 118.038 587.066 M118.038 583.362 Q123.848 583.362 126.904 587.969 Q129.983 592.552 129.983 601.302 Q129.983 610.029 126.904 614.635 Q123.848 619.219 118.038 619.219 Q112.228 619.219 109.149 614.635 Q106.094 610.029 106.094 601.302 Q106.094 592.552 109.149 587.969 Q112.228 583.362 118.038 583.362 Z\" fill=\"#000000\" fill-rule=\"evenodd\" fill-opacity=\"1\" /><path clip-path=\"url(#clip900)\" d=\"M 0 0 M118.038 365.672 Q114.427 365.672 112.598 369.237 Q110.793 372.778 110.793 379.908 Q110.793 387.014 112.598 390.579 Q114.427 394.121 118.038 394.121 Q121.672 394.121 123.478 390.579 Q125.307 387.014 125.307 379.908 Q125.307 372.778 123.478 369.237 Q121.672 365.672 118.038 365.672 M118.038 361.968 Q123.848 361.968 126.904 366.575 Q129.983 371.158 129.983 379.908 Q129.983 388.635 126.904 393.241 Q123.848 397.825 118.038 397.825 Q112.228 397.825 109.149 393.241 Q106.094 388.635 106.094 379.908 Q106.094 371.158 109.149 366.575 Q112.228 361.968 118.038 361.968 Z\" fill=\"#000000\" fill-rule=\"evenodd\" fill-opacity=\"1\" /><path clip-path=\"url(#clip900)\" d=\"M 0 0 M83.0615 171.824 L90.7003 171.824 L90.7003 145.458 L82.3902 147.125 L82.3902 142.866 L90.654 141.199 L95.3299 141.199 L95.3299 171.824 L102.969 171.824 L102.969 175.759 L83.0615 175.759 L83.0615 171.824 Z\" fill=\"#000000\" fill-rule=\"evenodd\" fill-opacity=\"1\" /><path clip-path=\"url(#clip900)\" d=\"M 0 0 M118.038 144.278 Q114.427 144.278 112.598 147.843 Q110.793 151.384 110.793 158.514 Q110.793 165.62 112.598 169.185 Q114.427 172.727 118.038 172.727 Q121.672 172.727 123.478 169.185 Q125.307 165.62 125.307 158.514 Q125.307 151.384 123.478 147.843 Q121.672 144.278 118.038 144.278 M118.038 140.574 Q123.848 140.574 126.904 145.181 Q129.983 149.764 129.983 158.514 Q129.983 167.241 126.904 171.847 Q123.848 176.43 118.038 176.43 Q112.228 176.43 109.149 171.847 Q106.094 167.241 106.094 158.514 Q106.094 149.764 109.149 145.181 Q112.228 140.574 118.038 140.574 Z\" fill=\"#000000\" fill-rule=\"evenodd\" fill-opacity=\"1\" /><path clip-path=\"url(#clip902)\" d=\"\n",
       "M1278.3 568.066 L1289.2 647.113 L1376.17 688.67 L1415.62 705.737 L1605.66 732.874 L1632.51 733.041 L1650.27 730.7 L1684.32 724.42 L1815.41 695.381 L1857.6 683.561 \n",
       "  L1951.96 653.071 L1995.18 637.107 L2050.19 602.313 L2129.03 545.688 L2157.05 525.467 L2221.57 464.36 L2270.6 413.631 L2323.92 346.405 L2336.01 323.991 L2351.82 268.854 \n",
       "  L2352.76 212.219 L2341.86 133.172 L2254.89 91.6155 L2215.43 74.5484 L2025.4 47.4108 L1998.54 47.2441 L1980.79 49.5856 L1946.74 55.8656 L1815.65 84.9039 L1773.46 96.7245 \n",
       "  L1679.1 127.215 L1635.87 143.178 L1580.87 177.972 L1502.02 234.597 L1474 254.818 L1409.48 315.925 L1360.45 366.654 L1307.14 433.881 L1295.04 456.294 L1279.24 511.432 \n",
       "  L1278.3 568.066 L1278.3 568.066  Z\n",
       "  \" fill=\"#009af9\" fill-rule=\"evenodd\" fill-opacity=\"0.5\"/>\n",
       "<polyline clip-path=\"url(#clip902)\" style=\"stroke:#000000; stroke-width:4; stroke-opacity:0.5; fill:none\" points=\"\n",
       "  1278.3,568.066 1289.2,647.113 1376.17,688.67 1415.62,705.737 1605.66,732.874 1632.51,733.041 1650.27,730.7 1684.32,724.42 1815.41,695.381 1857.6,683.561 \n",
       "  1951.96,653.071 1995.18,637.107 2050.19,602.313 2129.03,545.688 2157.05,525.467 2221.57,464.36 2270.6,413.631 2323.92,346.405 2336.01,323.991 2351.82,268.854 \n",
       "  2352.76,212.219 2341.86,133.172 2254.89,91.6155 2215.43,74.5484 2025.4,47.4108 1998.54,47.2441 1980.79,49.5856 1946.74,55.8656 1815.65,84.9039 1773.46,96.7245 \n",
       "  1679.1,127.215 1635.87,143.178 1580.87,177.972 1502.02,234.597 1474,254.818 1409.48,315.925 1360.45,366.654 1307.14,433.881 1295.04,456.294 1279.24,511.432 \n",
       "  1278.3,568.066 \n",
       "  \"/>\n",
       "<path clip-path=\"url(#clip902)\" d=\"\n",
       "M-31607.1 22870.9 L35180.1 -22092.2 L-31607.1 22870.9 L-31607.1 22870.9  Z\n",
       "  \" fill=\"#e26f46\" fill-rule=\"evenodd\" fill-opacity=\"0.5\"/>\n",
       "<polyline clip-path=\"url(#clip902)\" style=\"stroke:#000000; stroke-width:4; stroke-opacity:0.5; fill:none\" points=\"\n",
       "  -31607.1,22870.9 35180.1,-22092.2 -31607.1,22870.9 \n",
       "  \"/>\n",
       "<circle clip-path=\"url(#clip902)\" cx=\"258.686\" cy=\"1417.91\" r=\"14\" fill=\"#3da44d\" fill-rule=\"evenodd\" fill-opacity=\"0.5\" stroke=\"#000000\" stroke-opacity=\"0.5\" stroke-width=\"3.2\"/>\n",
       "</svg>\n"
      ]
     },
     "execution_count": 28,
     "metadata": {},
     "output_type": "execute_result"
    }
   ],
   "source": [
    "plot(Z)\n",
    "plot!(L)\n",
    "plot!(i2)"
   ]
  },
  {
   "cell_type": "code",
   "execution_count": null,
   "metadata": {},
   "outputs": [],
   "source": []
  },
  {
   "cell_type": "code",
   "execution_count": null,
   "metadata": {},
   "outputs": [],
   "source": []
  },
  {
   "cell_type": "code",
   "execution_count": null,
   "metadata": {},
   "outputs": [],
   "source": []
  }
 ],
 "metadata": {
  "kernelspec": {
   "display_name": "Julia 1.4.0",
   "language": "julia",
   "name": "julia-1.4"
  },
  "language_info": {
   "file_extension": ".jl",
   "mimetype": "application/julia",
   "name": "julia",
   "version": "1.4.0"
  }
 },
 "nbformat": 4,
 "nbformat_minor": 4
}
