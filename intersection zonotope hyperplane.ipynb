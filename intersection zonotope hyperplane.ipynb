{
 "cells": [
  {
   "cell_type": "markdown",
   "metadata": {},
   "source": [
    "## Reference: https://tel.archives-ouvertes.fr/tel-00422569v2/document p.115"
   ]
  },
  {
   "cell_type": "code",
   "execution_count": 1,
   "metadata": {},
   "outputs": [
    {
     "name": "stderr",
     "output_type": "stream",
     "text": [
      "┌ Info: Precompiling LazySets [b4f0291d-fe17-52bc-9479-3d1a343d9043]\n",
      "└ @ Base loading.jl:1260\n"
     ]
    }
   ],
   "source": [
    "using Revise, LazySets, Plots#, ReachabilityAnalysis"
   ]
  },
  {
   "cell_type": "code",
   "execution_count": 9,
   "metadata": {},
   "outputs": [
    {
     "data": {
      "text/plain": [
       "BOUND_INTERSECT_2D (generic function with 1 method)"
      ]
     },
     "execution_count": 9,
     "metadata": {},
     "output_type": "execute_result"
    }
   ],
   "source": [
    "using LazySets: center, _above, normalize\n",
    "function BOUND_INTERSECT_2D(Z::AbstractZonotope, L::Line2D) # 8.2\n",
    "    c = center(Z)\n",
    "    P = copy(c)\n",
    "    G = genmat(Z)\n",
    "    r = ngens(Z)\n",
    "    for i = 1:r\n",
    "        gi = view(G, :, i)\n",
    "        if(gi[2] > 0 || (gi[2] == 0 && gi[1] > 0))\n",
    "            gi .= -gi\n",
    "        end\n",
    "        P = P - gi\n",
    "    end\n",
    "    G = sortslices(G, dims=2, by=x->atan(x[2], x[1])) # sort gens\n",
    "    if P[1] > L.b\n",
    "        G .= G[:,end:-1:1]\n",
    "    end\n",
    "    j = 1\n",
    "    while isempty(intersection(Line2D(P, P.+G[:, j]), L))\n",
    "        P = P + G[:, j]\n",
    "        j += 1\n",
    "    end\n",
    "    vec = intersection(Line2D(P, P.+G[:, j]), L)\n",
    "    return vec\n",
    "end"
   ]
  },
  {
   "cell_type": "code",
   "execution_count": 10,
   "metadata": {},
   "outputs": [
    {
     "data": {
      "image/svg+xml": [
       "<?xml version=\"1.0\" encoding=\"utf-8\"?>\n",
       "<svg xmlns=\"http://www.w3.org/2000/svg\" xmlns:xlink=\"http://www.w3.org/1999/xlink\" width=\"600\" height=\"400\" viewBox=\"0 0 2400 1600\">\n",
       "<defs>\n",
       "  <clipPath id=\"clip060\">\n",
       "    <rect x=\"0\" y=\"0\" width=\"2400\" height=\"1600\"/>\n",
       "  </clipPath>\n",
       "</defs>\n",
       "<path clip-path=\"url(#clip060)\" d=\"\n",
       "M0 1600 L2400 1600 L2400 0 L0 0  Z\n",
       "  \" fill=\"#ffffff\" fill-rule=\"evenodd\" fill-opacity=\"1\"/>\n",
       "<defs>\n",
       "  <clipPath id=\"clip061\">\n",
       "    <rect x=\"480\" y=\"0\" width=\"1681\" height=\"1600\"/>\n",
       "  </clipPath>\n",
       "</defs>\n",
       "<path clip-path=\"url(#clip060)\" d=\"\n",
       "M126.969 1486.45 L2352.76 1486.45 L2352.76 47.2441 L126.969 47.2441  Z\n",
       "  \" fill=\"#ffffff\" fill-rule=\"evenodd\" fill-opacity=\"1\"/>\n",
       "<defs>\n",
       "  <clipPath id=\"clip062\">\n",
       "    <rect x=\"126\" y=\"47\" width=\"2227\" height=\"1440\"/>\n",
       "  </clipPath>\n",
       "</defs>\n",
       "<polyline clip-path=\"url(#clip062)\" style=\"stroke:#000000; stroke-width:2; stroke-opacity:0.1; fill:none\" points=\"\n",
       "  261.054,1486.45 261.054,47.2441 \n",
       "  \"/>\n",
       "<polyline clip-path=\"url(#clip062)\" style=\"stroke:#000000; stroke-width:2; stroke-opacity:0.1; fill:none\" points=\"\n",
       "  561.348,1486.45 561.348,47.2441 \n",
       "  \"/>\n",
       "<polyline clip-path=\"url(#clip062)\" style=\"stroke:#000000; stroke-width:2; stroke-opacity:0.1; fill:none\" points=\"\n",
       "  861.642,1486.45 861.642,47.2441 \n",
       "  \"/>\n",
       "<polyline clip-path=\"url(#clip062)\" style=\"stroke:#000000; stroke-width:2; stroke-opacity:0.1; fill:none\" points=\"\n",
       "  1161.94,1486.45 1161.94,47.2441 \n",
       "  \"/>\n",
       "<polyline clip-path=\"url(#clip062)\" style=\"stroke:#000000; stroke-width:2; stroke-opacity:0.1; fill:none\" points=\"\n",
       "  1462.23,1486.45 1462.23,47.2441 \n",
       "  \"/>\n",
       "<polyline clip-path=\"url(#clip062)\" style=\"stroke:#000000; stroke-width:2; stroke-opacity:0.1; fill:none\" points=\"\n",
       "  1762.52,1486.45 1762.52,47.2441 \n",
       "  \"/>\n",
       "<polyline clip-path=\"url(#clip062)\" style=\"stroke:#000000; stroke-width:2; stroke-opacity:0.1; fill:none\" points=\"\n",
       "  2062.82,1486.45 2062.82,47.2441 \n",
       "  \"/>\n",
       "<polyline clip-path=\"url(#clip062)\" style=\"stroke:#000000; stroke-width:2; stroke-opacity:0.1; fill:none\" points=\"\n",
       "  126.969,1441.09 2352.76,1441.09 \n",
       "  \"/>\n",
       "<polyline clip-path=\"url(#clip062)\" style=\"stroke:#000000; stroke-width:2; stroke-opacity:0.1; fill:none\" points=\"\n",
       "  126.969,1132.3 2352.76,1132.3 \n",
       "  \"/>\n",
       "<polyline clip-path=\"url(#clip062)\" style=\"stroke:#000000; stroke-width:2; stroke-opacity:0.1; fill:none\" points=\"\n",
       "  126.969,823.518 2352.76,823.518 \n",
       "  \"/>\n",
       "<polyline clip-path=\"url(#clip062)\" style=\"stroke:#000000; stroke-width:2; stroke-opacity:0.1; fill:none\" points=\"\n",
       "  126.969,514.734 2352.76,514.734 \n",
       "  \"/>\n",
       "<polyline clip-path=\"url(#clip062)\" style=\"stroke:#000000; stroke-width:2; stroke-opacity:0.1; fill:none\" points=\"\n",
       "  126.969,205.95 2352.76,205.95 \n",
       "  \"/>\n",
       "<polyline clip-path=\"url(#clip060)\" style=\"stroke:#000000; stroke-width:4; stroke-opacity:1; fill:none\" points=\"\n",
       "  126.969,1486.45 2352.76,1486.45 \n",
       "  \"/>\n",
       "<polyline clip-path=\"url(#clip060)\" style=\"stroke:#000000; stroke-width:4; stroke-opacity:1; fill:none\" points=\"\n",
       "  126.969,1486.45 126.969,47.2441 \n",
       "  \"/>\n",
       "<polyline clip-path=\"url(#clip060)\" style=\"stroke:#000000; stroke-width:4; stroke-opacity:1; fill:none\" points=\"\n",
       "  261.054,1486.45 261.054,1469.18 \n",
       "  \"/>\n",
       "<polyline clip-path=\"url(#clip060)\" style=\"stroke:#000000; stroke-width:4; stroke-opacity:1; fill:none\" points=\"\n",
       "  561.348,1486.45 561.348,1469.18 \n",
       "  \"/>\n",
       "<polyline clip-path=\"url(#clip060)\" style=\"stroke:#000000; stroke-width:4; stroke-opacity:1; fill:none\" points=\"\n",
       "  861.642,1486.45 861.642,1469.18 \n",
       "  \"/>\n",
       "<polyline clip-path=\"url(#clip060)\" style=\"stroke:#000000; stroke-width:4; stroke-opacity:1; fill:none\" points=\"\n",
       "  1161.94,1486.45 1161.94,1469.18 \n",
       "  \"/>\n",
       "<polyline clip-path=\"url(#clip060)\" style=\"stroke:#000000; stroke-width:4; stroke-opacity:1; fill:none\" points=\"\n",
       "  1462.23,1486.45 1462.23,1469.18 \n",
       "  \"/>\n",
       "<polyline clip-path=\"url(#clip060)\" style=\"stroke:#000000; stroke-width:4; stroke-opacity:1; fill:none\" points=\"\n",
       "  1762.52,1486.45 1762.52,1469.18 \n",
       "  \"/>\n",
       "<polyline clip-path=\"url(#clip060)\" style=\"stroke:#000000; stroke-width:4; stroke-opacity:1; fill:none\" points=\"\n",
       "  2062.82,1486.45 2062.82,1469.18 \n",
       "  \"/>\n",
       "<polyline clip-path=\"url(#clip060)\" style=\"stroke:#000000; stroke-width:4; stroke-opacity:1; fill:none\" points=\"\n",
       "  126.969,1441.09 153.678,1441.09 \n",
       "  \"/>\n",
       "<polyline clip-path=\"url(#clip060)\" style=\"stroke:#000000; stroke-width:4; stroke-opacity:1; fill:none\" points=\"\n",
       "  126.969,1132.3 153.678,1132.3 \n",
       "  \"/>\n",
       "<polyline clip-path=\"url(#clip060)\" style=\"stroke:#000000; stroke-width:4; stroke-opacity:1; fill:none\" points=\"\n",
       "  126.969,823.518 153.678,823.518 \n",
       "  \"/>\n",
       "<polyline clip-path=\"url(#clip060)\" style=\"stroke:#000000; stroke-width:4; stroke-opacity:1; fill:none\" points=\"\n",
       "  126.969,514.734 153.678,514.734 \n",
       "  \"/>\n",
       "<polyline clip-path=\"url(#clip060)\" style=\"stroke:#000000; stroke-width:4; stroke-opacity:1; fill:none\" points=\"\n",
       "  126.969,205.95 153.678,205.95 \n",
       "  \"/>\n",
       "<path clip-path=\"url(#clip060)\" d=\"M 0 0 M242.108 1525.04 L254.585 1525.04 L254.585 1528.83 L242.108 1528.83 L242.108 1525.04 Z\" fill=\"#000000\" fill-rule=\"evenodd\" fill-opacity=\"1\" /><path clip-path=\"url(#clip060)\" d=\"M 0 0 M263.682 1535.98 L280.001 1535.98 L280.001 1539.92 L258.057 1539.92 L258.057 1535.98 Q260.719 1533.23 265.302 1528.6 Q269.909 1523.95 271.089 1522.61 Q273.334 1520.08 274.214 1518.35 Q275.117 1516.59 275.117 1514.9 Q275.117 1512.14 273.172 1510.41 Q271.251 1508.67 268.149 1508.67 Q265.95 1508.67 263.497 1509.43 Q261.066 1510.2 258.288 1511.75 L258.288 1507.03 Q261.112 1505.89 263.566 1505.31 Q266.02 1504.73 268.057 1504.73 Q273.427 1504.73 276.621 1507.42 Q279.816 1510.11 279.816 1514.6 Q279.816 1516.73 279.006 1518.65 Q278.219 1520.54 276.112 1523.14 Q275.533 1523.81 272.432 1527.03 Q269.33 1530.22 263.682 1535.98 Z\" fill=\"#000000\" fill-rule=\"evenodd\" fill-opacity=\"1\" /><path clip-path=\"url(#clip060)\" d=\"M 0 0 M542.217 1525.04 L554.693 1525.04 L554.693 1528.83 L542.217 1528.83 L542.217 1525.04 Z\" fill=\"#000000\" fill-rule=\"evenodd\" fill-opacity=\"1\" /><path clip-path=\"url(#clip060)\" d=\"M 0 0 M560.573 1535.98 L568.212 1535.98 L568.212 1509.62 L559.902 1511.29 L559.902 1507.03 L568.166 1505.36 L572.841 1505.36 L572.841 1535.98 L580.48 1535.98 L580.48 1539.92 L560.573 1539.92 L560.573 1535.98 Z\" fill=\"#000000\" fill-rule=\"evenodd\" fill-opacity=\"1\" /><path clip-path=\"url(#clip060)\" d=\"M 0 0 M861.642 1508.44 Q858.031 1508.44 856.203 1512 Q854.397 1515.55 854.397 1522.67 Q854.397 1529.78 856.203 1533.35 Q858.031 1536.89 861.642 1536.89 Q865.277 1536.89 867.082 1533.35 Q868.911 1529.78 868.911 1522.67 Q868.911 1515.55 867.082 1512 Q865.277 1508.44 861.642 1508.44 M861.642 1504.73 Q867.453 1504.73 870.508 1509.34 Q873.587 1513.92 873.587 1522.67 Q873.587 1531.4 870.508 1536.01 Q867.453 1540.59 861.642 1540.59 Q855.832 1540.59 852.754 1536.01 Q849.698 1531.4 849.698 1522.67 Q849.698 1513.92 852.754 1509.34 Q855.832 1504.73 861.642 1504.73 Z\" fill=\"#000000\" fill-rule=\"evenodd\" fill-opacity=\"1\" /><path clip-path=\"url(#clip060)\" d=\"M 0 0 M1152.32 1535.98 L1159.96 1535.98 L1159.96 1509.62 L1151.65 1511.29 L1151.65 1507.03 L1159.91 1505.36 L1164.59 1505.36 L1164.59 1535.98 L1172.23 1535.98 L1172.23 1539.92 L1152.32 1539.92 L1152.32 1535.98 Z\" fill=\"#000000\" fill-rule=\"evenodd\" fill-opacity=\"1\" /><path clip-path=\"url(#clip060)\" d=\"M 0 0 M1456.88 1535.98 L1473.2 1535.98 L1473.2 1539.92 L1451.26 1539.92 L1451.26 1535.98 Q1453.92 1533.23 1458.5 1528.6 Q1463.11 1523.95 1464.29 1522.61 Q1466.54 1520.08 1467.42 1518.35 Q1468.32 1516.59 1468.32 1514.9 Q1468.32 1512.14 1466.37 1510.41 Q1464.45 1508.67 1461.35 1508.67 Q1459.15 1508.67 1456.7 1509.43 Q1454.27 1510.2 1451.49 1511.75 L1451.49 1507.03 Q1454.31 1505.89 1456.77 1505.31 Q1459.22 1504.73 1461.26 1504.73 Q1466.63 1504.73 1469.82 1507.42 Q1473.02 1510.11 1473.02 1514.6 Q1473.02 1516.73 1472.21 1518.65 Q1471.42 1520.54 1469.31 1523.14 Q1468.74 1523.81 1465.63 1527.03 Q1462.53 1530.22 1456.88 1535.98 Z\" fill=\"#000000\" fill-rule=\"evenodd\" fill-opacity=\"1\" /><path clip-path=\"url(#clip060)\" d=\"M 0 0 M1766.77 1521.29 Q1770.13 1522 1772 1524.27 Q1773.9 1526.54 1773.9 1529.87 Q1773.9 1534.99 1770.38 1537.79 Q1766.86 1540.59 1760.38 1540.59 Q1758.21 1540.59 1755.89 1540.15 Q1753.6 1539.73 1751.15 1538.88 L1751.15 1534.36 Q1753.09 1535.5 1755.41 1536.08 Q1757.72 1536.66 1760.24 1536.66 Q1764.64 1536.66 1766.93 1534.92 Q1769.25 1533.18 1769.25 1529.87 Q1769.25 1526.82 1767.1 1525.11 Q1764.97 1523.37 1761.15 1523.37 L1757.12 1523.37 L1757.12 1519.53 L1761.33 1519.53 Q1764.78 1519.53 1766.61 1518.16 Q1768.44 1516.77 1768.44 1514.18 Q1768.44 1511.52 1766.54 1510.11 Q1764.67 1508.67 1761.15 1508.67 Q1759.23 1508.67 1757.03 1509.09 Q1754.83 1509.5 1752.19 1510.38 L1752.19 1506.22 Q1754.85 1505.48 1757.17 1505.11 Q1759.5 1504.73 1761.56 1504.73 Q1766.89 1504.73 1769.99 1507.17 Q1773.09 1509.57 1773.09 1513.69 Q1773.09 1516.56 1771.45 1518.55 Q1769.8 1520.52 1766.77 1521.29 Z\" fill=\"#000000\" fill-rule=\"evenodd\" fill-opacity=\"1\" /><path clip-path=\"url(#clip060)\" d=\"M 0 0 M2065.83 1509.43 L2054.02 1527.88 L2065.83 1527.88 L2065.83 1509.43 M2064.6 1505.36 L2070.48 1505.36 L2070.48 1527.88 L2075.41 1527.88 L2075.41 1531.77 L2070.48 1531.77 L2070.48 1539.92 L2065.83 1539.92 L2065.83 1531.77 L2050.23 1531.77 L2050.23 1527.26 L2064.6 1505.36 Z\" fill=\"#000000\" fill-rule=\"evenodd\" fill-opacity=\"1\" /><path clip-path=\"url(#clip060)\" d=\"M 0 0 M62.9921 1443.48 L75.4689 1443.48 L75.4689 1447.28 L62.9921 1447.28 L62.9921 1443.48 Z\" fill=\"#000000\" fill-rule=\"evenodd\" fill-opacity=\"1\" /><path clip-path=\"url(#clip060)\" d=\"M 0 0 M93.3855 1427.88 L81.58 1446.33 L93.3855 1446.33 L93.3855 1427.88 M92.1586 1423.81 L98.0382 1423.81 L98.0382 1446.33 L102.969 1446.33 L102.969 1450.22 L98.0382 1450.22 L98.0382 1458.37 L93.3855 1458.37 L93.3855 1450.22 L77.7837 1450.22 L77.7837 1445.7 L92.1586 1423.81 Z\" fill=\"#000000\" fill-rule=\"evenodd\" fill-opacity=\"1\" /><path clip-path=\"url(#clip060)\" d=\"M 0 0 M65.0754 1134.7 L77.5522 1134.7 L77.5522 1138.49 L65.0754 1138.49 L65.0754 1134.7 Z\" fill=\"#000000\" fill-rule=\"evenodd\" fill-opacity=\"1\" /><path clip-path=\"url(#clip060)\" d=\"M 0 0 M86.6494 1145.65 L102.969 1145.65 L102.969 1149.58 L81.0244 1149.58 L81.0244 1145.65 Q83.6865 1142.89 88.2698 1138.26 Q92.8762 1133.61 94.0568 1132.27 Q96.3021 1129.74 97.1818 1128.01 Q98.0845 1126.25 98.0845 1124.56 Q98.0845 1121.8 96.1401 1120.07 Q94.2188 1118.33 91.117 1118.33 Q88.9179 1118.33 86.4642 1119.1 Q84.0337 1119.86 81.2559 1121.41 L81.2559 1116.69 Q84.08 1115.55 86.5337 1114.98 Q88.9874 1114.4 91.0244 1114.4 Q96.3947 1114.4 99.5892 1117.08 Q102.784 1119.77 102.784 1124.26 Q102.784 1126.39 101.973 1128.31 Q101.186 1130.21 99.0799 1132.8 Q98.5012 1133.47 95.3994 1136.69 Q92.2975 1139.88 86.6494 1145.65 Z\" fill=\"#000000\" fill-rule=\"evenodd\" fill-opacity=\"1\" /><path clip-path=\"url(#clip060)\" d=\"M 0 0 M91.0244 809.317 Q87.4133 809.317 85.5846 812.882 Q83.7791 816.423 83.7791 823.553 Q83.7791 830.659 85.5846 834.224 Q87.4133 837.766 91.0244 837.766 Q94.6586 837.766 96.4642 834.224 Q98.2929 830.659 98.2929 823.553 Q98.2929 816.423 96.4642 812.882 Q94.6586 809.317 91.0244 809.317 M91.0244 805.613 Q96.8345 805.613 99.8901 810.22 Q102.969 814.803 102.969 823.553 Q102.969 832.28 99.8901 836.886 Q96.8345 841.47 91.0244 841.47 Q85.2142 841.47 82.1355 836.886 Q79.08 832.28 79.08 823.553 Q79.08 814.803 82.1355 810.22 Q85.2142 805.613 91.0244 805.613 Z\" fill=\"#000000\" fill-rule=\"evenodd\" fill-opacity=\"1\" /><path clip-path=\"url(#clip060)\" d=\"M 0 0 M86.6494 528.079 L102.969 528.079 L102.969 532.014 L81.0244 532.014 L81.0244 528.079 Q83.6865 525.324 88.2698 520.695 Q92.8762 516.042 94.0568 514.699 Q96.3021 512.176 97.1818 510.44 Q98.0845 508.681 98.0845 506.991 Q98.0845 504.236 96.1401 502.5 Q94.2188 500.764 91.117 500.764 Q88.9179 500.764 86.4642 501.528 Q84.0337 502.292 81.2559 503.843 L81.2559 499.121 Q84.08 497.986 86.5337 497.408 Q88.9874 496.829 91.0244 496.829 Q96.3947 496.829 99.5892 499.514 Q102.784 502.199 102.784 506.69 Q102.784 508.82 101.973 510.741 Q101.186 512.639 99.0799 515.232 Q98.5012 515.903 95.3994 519.121 Q92.2975 522.315 86.6494 528.079 Z\" fill=\"#000000\" fill-rule=\"evenodd\" fill-opacity=\"1\" /><path clip-path=\"url(#clip060)\" d=\"M 0 0 M93.3855 192.744 L81.58 211.193 L93.3855 211.193 L93.3855 192.744 M92.1586 188.67 L98.0382 188.67 L98.0382 211.193 L102.969 211.193 L102.969 215.082 L98.0382 215.082 L98.0382 223.23 L93.3855 223.23 L93.3855 215.082 L77.7837 215.082 L77.7837 210.568 L92.1586 188.67 Z\" fill=\"#000000\" fill-rule=\"evenodd\" fill-opacity=\"1\" /><path clip-path=\"url(#clip062)\" d=\"\n",
       "M126.969 623.147 L409.686 1411.88 L1049.75 1486.45 L2266.15 1189.02 L2301.3 1154.25 L2352.76 1045.29 L2070.04 256.557 L1429.97 181.988 L213.572 479.415 L178.425 514.185 \n",
       "  L126.969 623.147 L126.969 623.147  Z\n",
       "  \" fill=\"#009af9\" fill-rule=\"evenodd\" fill-opacity=\"0.5\"/>\n",
       "<polyline clip-path=\"url(#clip062)\" style=\"stroke:#000000; stroke-width:4; stroke-opacity:0.5; fill:none\" points=\"\n",
       "  126.969,623.147 409.686,1411.88 1049.75,1486.45 2266.15,1189.02 2301.3,1154.25 2352.76,1045.29 2070.04,256.557 1429.97,181.988 213.572,479.415 178.425,514.185 \n",
       "  126.969,623.147 \n",
       "  \"/>\n",
       "<path clip-path=\"url(#clip062)\" d=\"\n",
       "M861.642 155879 L861.642 -154210 L861.642 155879 L861.642 155879  Z\n",
       "  \" fill=\"#e26f46\" fill-rule=\"evenodd\" fill-opacity=\"0.5\"/>\n",
       "<polyline clip-path=\"url(#clip062)\" style=\"stroke:#000000; stroke-width:4; stroke-opacity:0.5; fill:none\" points=\"\n",
       "  861.642,155879 861.642,-154210 861.642,155879 \n",
       "  \"/>\n",
       "<circle clip-path=\"url(#clip062)\" cx=\"861.642\" cy=\"115.778\" r=\"14\" fill=\"#3da44d\" fill-rule=\"evenodd\" fill-opacity=\"0.5\" stroke=\"#000000\" stroke-opacity=\"0.5\" stroke-width=\"3.2\"/>\n",
       "</svg>\n"
      ]
     },
     "execution_count": 10,
     "metadata": {},
     "output_type": "execute_result"
    }
   ],
   "source": [
    "Z = rand(Zonotope, num_generators=5)\n",
    "L = Line2D([0, 0.], [0, 1.])\n",
    "i = BOUND_INTERSECT_2D(Z, L)\n",
    "plot(Z)\n",
    "plot!(L)\n",
    "plot!(i)"
   ]
  },
  {
   "cell_type": "code",
   "execution_count": 4,
   "metadata": {},
   "outputs": [
    {
     "data": {
      "text/plain": [
       "intersec (generic function with 1 method)"
      ]
     },
     "execution_count": 4,
     "metadata": {},
     "output_type": "execute_result"
    }
   ],
   "source": [
    "function intersec(Z::AbstractZonotope{N}, L::Line2D) where {N} # 8.3\n",
    "    c = center(Z)\n",
    "    P = copy(c)\n",
    "    gens = genmat(Z)\n",
    "    r = ngens(Z)\n",
    "    for gi in [gens[:, x] for x in 1:r]\n",
    "        if(gi[2] > 0 || (gi[2] == 0 && gi[1] > 0))\n",
    "            gi = -gi\n",
    "        end\n",
    "        P = P - gi\n",
    "    end\n",
    "    G = Vector{Vector{N}}(undef, 0)\n",
    "    if(P[1] < L.b)\n",
    "        for gi in [gens[:, x] for x in 1:r]\n",
    "            if(gi[1] >= 0)\n",
    "                push!(G, gi)\n",
    "            end\n",
    "        end\n",
    "    else\n",
    "        for gi in [gens[:, x] for x in 1:r]\n",
    "            if(gi[1] <= 0)\n",
    "                push!(G, gi)\n",
    "            end\n",
    "        end\n",
    "    end\n",
    "    s = sum(G)\n",
    "    \n",
    "    while length(G) > 1\n",
    "        G1 = Vector{Vector{N}}(undef, 0)\n",
    "        G2 = copy(G1)\n",
    "        for gi in G\n",
    "            if _above(gi, s, [0, 1])\n",
    "                push!(G1, gi)\n",
    "            else\n",
    "                push!(G2, gi)\n",
    "            end\n",
    "        end\n",
    "        s1 = 2 * sum(G1)\n",
    "        if !isempty(intersection(Line2D(P, P.+s1), L))\n",
    "            G = G1\n",
    "            s = s1\n",
    "        else\n",
    "            G = G2\n",
    "            s = s - s1\n",
    "            P = P + s1\n",
    "        end\n",
    "        break\n",
    "    end\n",
    "    vec = intersection(Line2D(P, P.+s), L)\n",
    "end"
   ]
  },
  {
   "cell_type": "code",
   "execution_count": 5,
   "metadata": {},
   "outputs": [
    {
     "data": {
      "text/plain": [
       "Singleton{Float64,Array{Float64,1}}([-0.0, 6.321168731156943])"
      ]
     },
     "execution_count": 5,
     "metadata": {},
     "output_type": "execute_result"
    }
   ],
   "source": [
    "i2 = intersec(Z, L)"
   ]
  },
  {
   "cell_type": "code",
   "execution_count": 6,
   "metadata": {
    "scrolled": false
   },
   "outputs": [
    {
     "data": {
      "image/svg+xml": [
       "<?xml version=\"1.0\" encoding=\"utf-8\"?>\n",
       "<svg xmlns=\"http://www.w3.org/2000/svg\" xmlns:xlink=\"http://www.w3.org/1999/xlink\" width=\"600\" height=\"400\" viewBox=\"0 0 2400 1600\">\n",
       "<defs>\n",
       "  <clipPath id=\"clip020\">\n",
       "    <rect x=\"0\" y=\"0\" width=\"2400\" height=\"1600\"/>\n",
       "  </clipPath>\n",
       "</defs>\n",
       "<path clip-path=\"url(#clip020)\" d=\"\n",
       "M0 1600 L2400 1600 L2400 0 L0 0  Z\n",
       "  \" fill=\"#ffffff\" fill-rule=\"evenodd\" fill-opacity=\"1\"/>\n",
       "<defs>\n",
       "  <clipPath id=\"clip021\">\n",
       "    <rect x=\"480\" y=\"0\" width=\"1681\" height=\"1600\"/>\n",
       "  </clipPath>\n",
       "</defs>\n",
       "<path clip-path=\"url(#clip020)\" d=\"\n",
       "M160.857 1486.45 L2352.76 1486.45 L2352.76 47.2441 L160.857 47.2441  Z\n",
       "  \" fill=\"#ffffff\" fill-rule=\"evenodd\" fill-opacity=\"1\"/>\n",
       "<defs>\n",
       "  <clipPath id=\"clip022\">\n",
       "    <rect x=\"160\" y=\"47\" width=\"2193\" height=\"1440\"/>\n",
       "  </clipPath>\n",
       "</defs>\n",
       "<polyline clip-path=\"url(#clip022)\" style=\"stroke:#000000; stroke-width:2; stroke-opacity:0.1; fill:none\" points=\"\n",
       "  442.694,1486.45 442.694,47.2441 \n",
       "  \"/>\n",
       "<polyline clip-path=\"url(#clip022)\" style=\"stroke:#000000; stroke-width:2; stroke-opacity:0.1; fill:none\" points=\"\n",
       "  984.81,1486.45 984.81,47.2441 \n",
       "  \"/>\n",
       "<polyline clip-path=\"url(#clip022)\" style=\"stroke:#000000; stroke-width:2; stroke-opacity:0.1; fill:none\" points=\"\n",
       "  1526.93,1486.45 1526.93,47.2441 \n",
       "  \"/>\n",
       "<polyline clip-path=\"url(#clip022)\" style=\"stroke:#000000; stroke-width:2; stroke-opacity:0.1; fill:none\" points=\"\n",
       "  2069.04,1486.45 2069.04,47.2441 \n",
       "  \"/>\n",
       "<polyline clip-path=\"url(#clip022)\" style=\"stroke:#000000; stroke-width:2; stroke-opacity:0.1; fill:none\" points=\"\n",
       "  160.857,1275 2352.76,1275 \n",
       "  \"/>\n",
       "<polyline clip-path=\"url(#clip022)\" style=\"stroke:#000000; stroke-width:2; stroke-opacity:0.1; fill:none\" points=\"\n",
       "  160.857,946.465 2352.76,946.465 \n",
       "  \"/>\n",
       "<polyline clip-path=\"url(#clip022)\" style=\"stroke:#000000; stroke-width:2; stroke-opacity:0.1; fill:none\" points=\"\n",
       "  160.857,617.931 2352.76,617.931 \n",
       "  \"/>\n",
       "<polyline clip-path=\"url(#clip022)\" style=\"stroke:#000000; stroke-width:2; stroke-opacity:0.1; fill:none\" points=\"\n",
       "  160.857,289.397 2352.76,289.397 \n",
       "  \"/>\n",
       "<polyline clip-path=\"url(#clip020)\" style=\"stroke:#000000; stroke-width:4; stroke-opacity:1; fill:none\" points=\"\n",
       "  160.857,1486.45 2352.76,1486.45 \n",
       "  \"/>\n",
       "<polyline clip-path=\"url(#clip020)\" style=\"stroke:#000000; stroke-width:4; stroke-opacity:1; fill:none\" points=\"\n",
       "  160.857,1486.45 160.857,47.2441 \n",
       "  \"/>\n",
       "<polyline clip-path=\"url(#clip020)\" style=\"stroke:#000000; stroke-width:4; stroke-opacity:1; fill:none\" points=\"\n",
       "  442.694,1486.45 442.694,1469.18 \n",
       "  \"/>\n",
       "<polyline clip-path=\"url(#clip020)\" style=\"stroke:#000000; stroke-width:4; stroke-opacity:1; fill:none\" points=\"\n",
       "  984.81,1486.45 984.81,1469.18 \n",
       "  \"/>\n",
       "<polyline clip-path=\"url(#clip020)\" style=\"stroke:#000000; stroke-width:4; stroke-opacity:1; fill:none\" points=\"\n",
       "  1526.93,1486.45 1526.93,1469.18 \n",
       "  \"/>\n",
       "<polyline clip-path=\"url(#clip020)\" style=\"stroke:#000000; stroke-width:4; stroke-opacity:1; fill:none\" points=\"\n",
       "  2069.04,1486.45 2069.04,1469.18 \n",
       "  \"/>\n",
       "<polyline clip-path=\"url(#clip020)\" style=\"stroke:#000000; stroke-width:4; stroke-opacity:1; fill:none\" points=\"\n",
       "  160.857,1275 187.16,1275 \n",
       "  \"/>\n",
       "<polyline clip-path=\"url(#clip020)\" style=\"stroke:#000000; stroke-width:4; stroke-opacity:1; fill:none\" points=\"\n",
       "  160.857,946.465 187.16,946.465 \n",
       "  \"/>\n",
       "<polyline clip-path=\"url(#clip020)\" style=\"stroke:#000000; stroke-width:4; stroke-opacity:1; fill:none\" points=\"\n",
       "  160.857,617.931 187.16,617.931 \n",
       "  \"/>\n",
       "<polyline clip-path=\"url(#clip020)\" style=\"stroke:#000000; stroke-width:4; stroke-opacity:1; fill:none\" points=\"\n",
       "  160.857,289.397 187.16,289.397 \n",
       "  \"/>\n",
       "<path clip-path=\"url(#clip020)\" d=\"M 0 0 M422.706 1525.04 L435.183 1525.04 L435.183 1528.83 L422.706 1528.83 L422.706 1525.04 Z\" fill=\"#000000\" fill-rule=\"evenodd\" fill-opacity=\"1\" /><path clip-path=\"url(#clip020)\" d=\"M 0 0 M453.1 1509.43 L441.294 1527.88 L453.1 1527.88 L453.1 1509.43 M451.873 1505.36 L457.752 1505.36 L457.752 1527.88 L462.683 1527.88 L462.683 1531.77 L457.752 1531.77 L457.752 1539.92 L453.1 1539.92 L453.1 1531.77 L437.498 1531.77 L437.498 1527.26 L451.873 1505.36 Z\" fill=\"#000000\" fill-rule=\"evenodd\" fill-opacity=\"1\" /><path clip-path=\"url(#clip020)\" d=\"M 0 0 M965.864 1525.04 L978.34 1525.04 L978.34 1528.83 L965.864 1528.83 L965.864 1525.04 Z\" fill=\"#000000\" fill-rule=\"evenodd\" fill-opacity=\"1\" /><path clip-path=\"url(#clip020)\" d=\"M 0 0 M987.437 1535.98 L1003.76 1535.98 L1003.76 1539.92 L981.813 1539.92 L981.813 1535.98 Q984.475 1533.23 989.058 1528.6 Q993.664 1523.95 994.845 1522.61 Q997.09 1520.08 997.97 1518.35 Q998.873 1516.59 998.873 1514.9 Q998.873 1512.14 996.928 1510.41 Q995.007 1508.67 991.905 1508.67 Q989.706 1508.67 987.252 1509.43 Q984.822 1510.2 982.044 1511.75 L982.044 1507.03 Q984.868 1505.89 987.322 1505.31 Q989.775 1504.73 991.812 1504.73 Q997.183 1504.73 1000.38 1507.42 Q1003.57 1510.11 1003.57 1514.6 Q1003.57 1516.73 1002.76 1518.65 Q1001.97 1520.54 999.868 1523.14 Q999.289 1523.81 996.187 1527.03 Q993.086 1530.22 987.437 1535.98 Z\" fill=\"#000000\" fill-rule=\"evenodd\" fill-opacity=\"1\" /><path clip-path=\"url(#clip020)\" d=\"M 0 0 M1526.93 1508.44 Q1523.31 1508.44 1521.49 1512 Q1519.68 1515.55 1519.68 1522.67 Q1519.68 1529.78 1521.49 1533.35 Q1523.31 1536.89 1526.93 1536.89 Q1530.56 1536.89 1532.37 1533.35 Q1534.19 1529.78 1534.19 1522.67 Q1534.19 1515.55 1532.37 1512 Q1530.56 1508.44 1526.93 1508.44 M1526.93 1504.73 Q1532.74 1504.73 1535.79 1509.34 Q1538.87 1513.92 1538.87 1522.67 Q1538.87 1531.4 1535.79 1536.01 Q1532.74 1540.59 1526.93 1540.59 Q1521.12 1540.59 1518.04 1536.01 Q1514.98 1531.4 1514.98 1522.67 Q1514.98 1513.92 1518.04 1509.34 Q1521.12 1504.73 1526.93 1504.73 Z\" fill=\"#000000\" fill-rule=\"evenodd\" fill-opacity=\"1\" /><path clip-path=\"url(#clip020)\" d=\"M 0 0 M2063.69 1535.98 L2080.01 1535.98 L2080.01 1539.92 L2058.07 1539.92 L2058.07 1535.98 Q2060.73 1533.23 2065.31 1528.6 Q2069.92 1523.95 2071.1 1522.61 Q2073.35 1520.08 2074.23 1518.35 Q2075.13 1516.59 2075.13 1514.9 Q2075.13 1512.14 2073.19 1510.41 Q2071.26 1508.67 2068.16 1508.67 Q2065.96 1508.67 2063.51 1509.43 Q2061.08 1510.2 2058.3 1511.75 L2058.3 1507.03 Q2061.13 1505.89 2063.58 1505.31 Q2066.03 1504.73 2068.07 1504.73 Q2073.44 1504.73 2076.63 1507.42 Q2079.83 1510.11 2079.83 1514.6 Q2079.83 1516.73 2079.02 1518.65 Q2078.23 1520.54 2076.12 1523.14 Q2075.55 1523.81 2072.44 1527.03 Q2069.34 1530.22 2063.69 1535.98 Z\" fill=\"#000000\" fill-rule=\"evenodd\" fill-opacity=\"1\" /><path clip-path=\"url(#clip020)\" d=\"M 0 0 M62.9921 1277.39 L75.4689 1277.39 L75.4689 1281.19 L62.9921 1281.19 L62.9921 1277.39 Z\" fill=\"#000000\" fill-rule=\"evenodd\" fill-opacity=\"1\" /><path clip-path=\"url(#clip020)\" d=\"M 0 0 M84.5661 1288.34 L100.885 1288.34 L100.885 1292.28 L78.9411 1292.28 L78.9411 1288.34 Q81.6031 1285.59 86.1864 1280.96 Q90.7929 1276.31 91.9735 1274.96 Q94.2188 1272.44 95.0984 1270.7 Q96.0012 1268.95 96.0012 1267.26 Q96.0012 1264.5 94.0568 1262.76 Q92.1355 1261.03 89.0337 1261.03 Q86.8346 1261.03 84.3809 1261.79 Q81.9504 1262.56 79.1726 1264.11 L79.1726 1259.39 Q81.9967 1258.25 84.4503 1257.67 Q86.904 1257.09 88.9411 1257.09 Q94.3114 1257.09 97.5058 1259.78 Q100.7 1262.46 100.7 1266.95 Q100.7 1269.08 99.8901 1271.01 Q99.103 1272.9 96.9966 1275.5 Q96.4179 1276.17 93.316 1279.39 Q90.2142 1282.58 84.5661 1288.34 Z\" fill=\"#000000\" fill-rule=\"evenodd\" fill-opacity=\"1\" /><path clip-path=\"url(#clip020)\" d=\"M 0 0 M105.955 1286.4 L110.839 1286.4 L110.839 1292.28 L105.955 1292.28 L105.955 1286.4 Z\" fill=\"#000000\" fill-rule=\"evenodd\" fill-opacity=\"1\" /><path clip-path=\"url(#clip020)\" d=\"M 0 0 M115.955 1257.72 L134.311 1257.72 L134.311 1261.65 L120.237 1261.65 L120.237 1270.13 Q121.256 1269.78 122.274 1269.62 Q123.293 1269.43 124.311 1269.43 Q130.098 1269.43 133.478 1272.6 Q136.857 1275.77 136.857 1281.19 Q136.857 1286.77 133.385 1289.87 Q129.913 1292.95 123.594 1292.95 Q121.418 1292.95 119.149 1292.58 Q116.904 1292.21 114.496 1291.47 L114.496 1286.77 Q116.58 1287.9 118.802 1288.46 Q121.024 1289.01 123.501 1289.01 Q127.506 1289.01 129.844 1286.91 Q132.182 1284.8 132.182 1281.19 Q132.182 1277.58 129.844 1275.47 Q127.506 1273.37 123.501 1273.37 Q121.626 1273.37 119.751 1273.78 Q117.899 1274.2 115.955 1275.08 L115.955 1257.72 Z\" fill=\"#000000\" fill-rule=\"evenodd\" fill-opacity=\"1\" /><path clip-path=\"url(#clip020)\" d=\"M 0 0 M87.9457 932.263 Q84.3346 932.263 82.5059 935.828 Q80.7004 939.37 80.7004 946.499 Q80.7004 953.606 82.5059 957.171 Q84.3346 960.712 87.9457 960.712 Q91.5799 960.712 93.3855 957.171 Q95.2142 953.606 95.2142 946.499 Q95.2142 939.37 93.3855 935.828 Q91.5799 932.263 87.9457 932.263 M87.9457 928.56 Q93.7559 928.56 96.8114 933.166 Q99.8901 937.749 99.8901 946.499 Q99.8901 955.226 96.8114 959.833 Q93.7559 964.416 87.9457 964.416 Q82.1355 964.416 79.0569 959.833 Q76.0013 955.226 76.0013 946.499 Q76.0013 937.749 79.0569 933.166 Q82.1355 928.56 87.9457 928.56 Z\" fill=\"#000000\" fill-rule=\"evenodd\" fill-opacity=\"1\" /><path clip-path=\"url(#clip020)\" d=\"M 0 0 M104.959 957.865 L109.844 957.865 L109.844 963.745 L104.959 963.745 L104.959 957.865 Z\" fill=\"#000000\" fill-rule=\"evenodd\" fill-opacity=\"1\" /><path clip-path=\"url(#clip020)\" d=\"M 0 0 M124.913 932.263 Q121.302 932.263 119.473 935.828 Q117.668 939.37 117.668 946.499 Q117.668 953.606 119.473 957.171 Q121.302 960.712 124.913 960.712 Q128.547 960.712 130.353 957.171 Q132.182 953.606 132.182 946.499 Q132.182 939.37 130.353 935.828 Q128.547 932.263 124.913 932.263 M124.913 928.56 Q130.723 928.56 133.779 933.166 Q136.857 937.749 136.857 946.499 Q136.857 955.226 133.779 959.833 Q130.723 964.416 124.913 964.416 Q119.103 964.416 116.024 959.833 Q112.969 955.226 112.969 946.499 Q112.969 937.749 116.024 933.166 Q119.103 928.56 124.913 928.56 Z\" fill=\"#000000\" fill-rule=\"evenodd\" fill-opacity=\"1\" /><path clip-path=\"url(#clip020)\" d=\"M 0 0 M84.5661 631.276 L100.885 631.276 L100.885 635.211 L78.9411 635.211 L78.9411 631.276 Q81.6031 628.521 86.1864 623.891 Q90.7929 619.239 91.9735 617.896 Q94.2188 615.373 95.0984 613.637 Q96.0012 611.878 96.0012 610.188 Q96.0012 607.433 94.0568 605.697 Q92.1355 603.961 89.0337 603.961 Q86.8346 603.961 84.3809 604.725 Q81.9504 605.489 79.1726 607.04 L79.1726 602.318 Q81.9967 601.183 84.4503 600.605 Q86.904 600.026 88.9411 600.026 Q94.3114 600.026 97.5058 602.711 Q100.7 605.396 100.7 609.887 Q100.7 612.017 99.8901 613.938 Q99.103 615.836 96.9966 618.429 Q96.4179 619.1 93.316 622.317 Q90.2142 625.512 84.5661 631.276 Z\" fill=\"#000000\" fill-rule=\"evenodd\" fill-opacity=\"1\" /><path clip-path=\"url(#clip020)\" d=\"M 0 0 M105.955 629.331 L110.839 629.331 L110.839 635.211 L105.955 635.211 L105.955 629.331 Z\" fill=\"#000000\" fill-rule=\"evenodd\" fill-opacity=\"1\" /><path clip-path=\"url(#clip020)\" d=\"M 0 0 M115.955 600.651 L134.311 600.651 L134.311 604.586 L120.237 604.586 L120.237 613.058 Q121.256 612.711 122.274 612.549 Q123.293 612.364 124.311 612.364 Q130.098 612.364 133.478 615.535 Q136.857 618.706 136.857 624.123 Q136.857 629.702 133.385 632.803 Q129.913 635.882 123.594 635.882 Q121.418 635.882 119.149 635.512 Q116.904 635.141 114.496 634.401 L114.496 629.702 Q116.58 630.836 118.802 631.391 Q121.024 631.947 123.501 631.947 Q127.506 631.947 129.844 629.841 Q132.182 627.734 132.182 624.123 Q132.182 620.512 129.844 618.405 Q127.506 616.299 123.501 616.299 Q121.626 616.299 119.751 616.716 Q117.899 617.132 115.955 618.012 L115.955 600.651 Z\" fill=\"#000000\" fill-rule=\"evenodd\" fill-opacity=\"1\" /><path clip-path=\"url(#clip020)\" d=\"M 0 0 M78.9874 272.117 L97.3438 272.117 L97.3438 276.052 L83.2698 276.052 L83.2698 284.524 Q84.2883 284.177 85.3068 284.015 Q86.3253 283.83 87.3438 283.83 Q93.1309 283.83 96.5105 287.001 Q99.8901 290.173 99.8901 295.589 Q99.8901 301.168 96.4179 304.27 Q92.9457 307.348 86.6263 307.348 Q84.4503 307.348 82.1818 306.978 Q79.9365 306.608 77.5291 305.867 L77.5291 301.168 Q79.6124 302.302 81.8346 302.858 Q84.0568 303.413 86.5337 303.413 Q90.5383 303.413 92.8762 301.307 Q95.2142 299.2 95.2142 295.589 Q95.2142 291.978 92.8762 289.872 Q90.5383 287.765 86.5337 287.765 Q84.6587 287.765 82.7837 288.182 Q80.9318 288.598 78.9874 289.478 L78.9874 272.117 Z\" fill=\"#000000\" fill-rule=\"evenodd\" fill-opacity=\"1\" /><path clip-path=\"url(#clip020)\" d=\"M 0 0 M104.959 300.797 L109.844 300.797 L109.844 306.677 L104.959 306.677 L104.959 300.797 Z\" fill=\"#000000\" fill-rule=\"evenodd\" fill-opacity=\"1\" /><path clip-path=\"url(#clip020)\" d=\"M 0 0 M124.913 275.196 Q121.302 275.196 119.473 278.761 Q117.668 282.302 117.668 289.432 Q117.668 296.538 119.473 300.103 Q121.302 303.645 124.913 303.645 Q128.547 303.645 130.353 300.103 Q132.182 296.538 132.182 289.432 Q132.182 282.302 130.353 278.761 Q128.547 275.196 124.913 275.196 M124.913 271.492 Q130.723 271.492 133.779 276.099 Q136.857 280.682 136.857 289.432 Q136.857 298.159 133.779 302.765 Q130.723 307.348 124.913 307.348 Q119.103 307.348 116.024 302.765 Q112.969 298.159 112.969 289.432 Q112.969 280.682 116.024 276.099 Q119.103 271.492 124.913 271.492 Z\" fill=\"#000000\" fill-rule=\"evenodd\" fill-opacity=\"1\" /><path clip-path=\"url(#clip022)\" d=\"\n",
       "M160.857 1082.6 L851.06 1448.33 L1224.11 1486.45 L1855.12 1410.16 L2269.59 919.956 L2352.76 702.266 L1662.55 336.535 L1289.5 298.415 L658.498 374.705 L244.024 864.906 \n",
       "  L160.857 1082.6 L160.857 1082.6  Z\n",
       "  \" fill=\"#009af9\" fill-rule=\"evenodd\" fill-opacity=\"0.5\"/>\n",
       "<polyline clip-path=\"url(#clip022)\" style=\"stroke:#000000; stroke-width:4; stroke-opacity:0.5; fill:none\" points=\"\n",
       "  160.857,1082.6 851.06,1448.33 1224.11,1486.45 1855.12,1410.16 2269.59,919.956 2352.76,702.266 1662.55,336.535 1289.5,298.415 658.498,374.705 244.024,864.906 \n",
       "  160.857,1082.6 \n",
       "  \"/>\n",
       "<path clip-path=\"url(#clip022)\" d=\"\n",
       "M1526.93 132900 L1526.93 -131115 L1526.93 132900 L1526.93 132900  Z\n",
       "  \" fill=\"#e26f46\" fill-rule=\"evenodd\" fill-opacity=\"0.5\"/>\n",
       "<polyline clip-path=\"url(#clip022)\" style=\"stroke:#000000; stroke-width:4; stroke-opacity:0.5; fill:none\" points=\"\n",
       "  1526.93,132900 1526.93,-131115 1526.93,132900 \n",
       "  \"/>\n",
       "<circle clip-path=\"url(#clip022)\" cx=\"1526.93\" cy=\"115.778\" r=\"14\" fill=\"#3da44d\" fill-rule=\"evenodd\" fill-opacity=\"0.5\" stroke=\"#000000\" stroke-opacity=\"0.5\" stroke-width=\"3.2\"/>\n",
       "</svg>\n"
      ]
     },
     "execution_count": 6,
     "metadata": {},
     "output_type": "execute_result"
    }
   ],
   "source": [
    "plot(Z)\n",
    "plot!(L)\n",
    "plot!(i2)"
   ]
  },
  {
   "cell_type": "code",
   "execution_count": null,
   "metadata": {},
   "outputs": [],
   "source": []
  },
  {
   "cell_type": "code",
   "execution_count": null,
   "metadata": {},
   "outputs": [],
   "source": []
  },
  {
   "cell_type": "code",
   "execution_count": null,
   "metadata": {},
   "outputs": [],
   "source": []
  },
  {
   "cell_type": "code",
   "execution_count": null,
   "metadata": {},
   "outputs": [],
   "source": []
  },
  {
   "cell_type": "code",
   "execution_count": null,
   "metadata": {},
   "outputs": [],
   "source": []
  },
  {
   "cell_type": "code",
   "execution_count": null,
   "metadata": {},
   "outputs": [],
   "source": []
  },
  {
   "cell_type": "code",
   "execution_count": null,
   "metadata": {},
   "outputs": [],
   "source": [
    "using ModelingToolkit"
   ]
  },
  {
   "cell_type": "code",
   "execution_count": null,
   "metadata": {},
   "outputs": [],
   "source": [
    "Z = rand(Zonotope)"
   ]
  },
  {
   "cell_type": "code",
   "execution_count": null,
   "metadata": {},
   "outputs": [],
   "source": [
    "ρ([0, 1.], Z)"
   ]
  },
  {
   "cell_type": "code",
   "execution_count": null,
   "metadata": {},
   "outputs": [],
   "source": [
    "σ([0, 1.], Z)"
   ]
  },
  {
   "cell_type": "code",
   "execution_count": null,
   "metadata": {},
   "outputs": [],
   "source": [
    "vars = @variables x y"
   ]
  },
  {
   "cell_type": "code",
   "execution_count": null,
   "metadata": {
    "scrolled": true
   },
   "outputs": [],
   "source": [
    "H = HalfSpace(x >= y, vars)"
   ]
  },
  {
   "cell_type": "code",
   "execution_count": null,
   "metadata": {},
   "outputs": [],
   "source": [
    "plot(Z, ratio=1)\n",
    "plot!(H)\n",
    "plot!(LineSegment([0, 0.], -H.a))"
   ]
  },
  {
   "cell_type": "code",
   "execution_count": null,
   "metadata": {},
   "outputs": [],
   "source": [
    "dirs = collect(BoxDirections(2))"
   ]
  },
  {
   "cell_type": "code",
   "execution_count": null,
   "metadata": {},
   "outputs": [],
   "source": []
  },
  {
   "cell_type": "code",
   "execution_count": null,
   "metadata": {},
   "outputs": [],
   "source": []
  },
  {
   "cell_type": "code",
   "execution_count": null,
   "metadata": {},
   "outputs": [],
   "source": [
    "function inter(Z::Zonotope{N}, H::HalfSpace{N}) where {N}\n",
    "    n = dim(Z)\n",
    "    if ρ(-H.a, Z) < H.b\n",
    "        return false\n",
    "    end\n",
    "    gens = Vector{Vector{N}}(undef, 2n)#Matrix{N}(undef, n, 2n)\n",
    "    dirs = [H.a, -H.a, [-1 0; 0 1.] * H.a, [1 0; 0 -1.] * -H.a]\n",
    "    for i=1:2n\n",
    "        gens[i] = σ(dirs[i], Z)\n",
    "    end\n",
    "    return gens\n",
    "end"
   ]
  },
  {
   "cell_type": "code",
   "execution_count": null,
   "metadata": {},
   "outputs": [],
   "source": [
    "inter(Z, H)"
   ]
  },
  {
   "cell_type": "code",
   "execution_count": null,
   "metadata": {},
   "outputs": [],
   "source": [
    "plot(Z, ratio=1)\n",
    "plot!(H)\n",
    "plot!(LineSegment([0, 0.], -H.a))\n",
    "plot!([Singleton(inter(Z, H)[i]) for i in 1:4])"
   ]
  },
  {
   "cell_type": "code",
   "execution_count": null,
   "metadata": {},
   "outputs": [],
   "source": [
    "Z = rand(Zonotope)"
   ]
  },
  {
   "cell_type": "code",
   "execution_count": null,
   "metadata": {},
   "outputs": [],
   "source": [
    "constraints_list(Z)"
   ]
  },
  {
   "cell_type": "code",
   "execution_count": null,
   "metadata": {},
   "outputs": [],
   "source": [
    "function inters(Z, H)\n",
    "    constraints = constraints_list(Z)\n",
    "    push!(constraints, H)\n",
    "    return overapproximate(HPolyhedron(constraints), Zonotope, BoxDirections(dim(Z)))\n",
    "end\n",
    "\n",
    "function inters_v2(Z, H)\n",
    "    n = dim(Z)\n",
    "    for i = 1:n\n",
    "        high = max(intersection())\n",
    "    end\n",
    "    return \n",
    "end"
   ]
  },
  {
   "cell_type": "code",
   "execution_count": null,
   "metadata": {},
   "outputs": [],
   "source": [
    "plot(Z, ratio=1)\n",
    "plot!(H)\n",
    "plot!(inters(Z, H), label=\"intersection\")"
   ]
  },
  {
   "cell_type": "code",
   "execution_count": null,
   "metadata": {},
   "outputs": [],
   "source": [
    "using BenchmarkTools\n",
    "@btime constraints_list(Z)\n",
    "@btime inters($Z, $H)"
   ]
  },
  {
   "cell_type": "code",
   "execution_count": null,
   "metadata": {},
   "outputs": [],
   "source": [
    "using LazySets: set\n",
    "function _overapproximate(P::Poly, ::Type{<:Zonotope}) where {Poly<:AbstractPolytope}\n",
    "    n = dim(P)\n",
    "    j = 1\n",
    "    p = Vector{Poly}(undef, Int(floor(n/2)))\n",
    "    for i=1:2:n-1\n",
    "        p[j] = set(Projection(P, [i, i+1]))\n",
    "        j += 1\n",
    "    end\n",
    "    dirs = OctDirections(n)\n",
    "    if !iseven(n)\n",
    "        push!(p, set(Projection(P, [n])))\n",
    "    end\n",
    "    Z = [overapproximate(poly, Zonotope, dirs) for poly in p]\n",
    "    Z = reduce(×, Z)\n",
    "    return Z\n",
    "end"
   ]
  },
  {
   "cell_type": "code",
   "execution_count": null,
   "metadata": {},
   "outputs": [],
   "source": [
    "P = rand(VPolytope, dim=10);"
   ]
  },
  {
   "cell_type": "code",
   "execution_count": null,
   "metadata": {},
   "outputs": [],
   "source": [
    "Z = _overapproximate(P, Zonotope);"
   ]
  },
  {
   "cell_type": "code",
   "execution_count": null,
   "metadata": {},
   "outputs": [],
   "source": [
    "plot(Projection(P, vars=(1, 2)))\n",
    "plot!(Projection(_overapproximate(P, Zonotope), vars=(1, 2)))"
   ]
  },
  {
   "cell_type": "code",
   "execution_count": null,
   "metadata": {},
   "outputs": [],
   "source": [
    "using BenchmarkTools"
   ]
  },
  {
   "cell_type": "code",
   "execution_count": null,
   "metadata": {},
   "outputs": [],
   "source": [
    "@btime _overapproximate($P, Zonotope);"
   ]
  },
  {
   "cell_type": "code",
   "execution_count": null,
   "metadata": {},
   "outputs": [],
   "source": [
    "@btime overapproximate($P, Zonotope, $OctDirections(10));"
   ]
  },
  {
   "cell_type": "code",
   "execution_count": null,
   "metadata": {},
   "outputs": [],
   "source": []
  }
 ],
 "metadata": {
  "kernelspec": {
   "display_name": "Julia 1.4.0",
   "language": "julia",
   "name": "julia-1.4"
  },
  "language_info": {
   "file_extension": ".jl",
   "mimetype": "application/julia",
   "name": "julia",
   "version": "1.4.0"
  }
 },
 "nbformat": 4,
 "nbformat_minor": 4
}
